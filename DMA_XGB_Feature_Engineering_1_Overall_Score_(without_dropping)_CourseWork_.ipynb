{
  "cells": [
    {
      "cell_type": "code",
      "execution_count": 5,
      "id": "4e2a8611",
      "metadata": {
        "id": "4e2a8611"
      },
      "outputs": [],
      "source": [
        "import numpy as np\n",
        "import pandas as pd\n",
        "import matplotlib.pyplot as plt\n",
        "import seaborn as sns\n",
        "%matplotlib inline"
      ]
    },
    {
      "cell_type": "code",
      "execution_count": 9,
      "id": "68fe3775",
      "metadata": {
        "id": "68fe3775"
      },
      "outputs": [],
      "source": [
        "training_data = pd.read_csv('training_set_features.csv')\n",
        "labels = pd.read_csv('training_set_labels.csv')"
      ]
    },
    {
      "cell_type": "markdown",
      "source": [
        "# New section"
      ],
      "metadata": {
        "id": "_fYzf3yqmroG"
      },
      "id": "_fYzf3yqmroG"
    },
    {
      "cell_type": "code",
      "execution_count": null,
      "id": "2a13712f",
      "metadata": {
        "id": "2a13712f"
      },
      "outputs": [],
      "source": []
    },
    {
      "cell_type": "code",
      "execution_count": null,
      "id": "77ca3fb0",
      "metadata": {
        "id": "77ca3fb0"
      },
      "outputs": [],
      "source": []
    },
    {
      "cell_type": "code",
      "execution_count": 10,
      "id": "ba54b853",
      "metadata": {
        "id": "ba54b853"
      },
      "outputs": [],
      "source": [
        "numeric_columns = training_data.select_dtypes('number').columns"
      ]
    },
    {
      "cell_type": "code",
      "execution_count": 11,
      "id": "7d86cec8",
      "metadata": {
        "id": "7d86cec8"
      },
      "outputs": [],
      "source": [
        "category_columns = ['race', 'sex', \n",
        "       'marital_status', 'rent_or_own',  'hhs_geo_region',\n",
        "       'census_msa', 'employment_industry', 'employment_occupation']"
      ]
    },
    {
      "cell_type": "code",
      "execution_count": 12,
      "id": "de764f21",
      "metadata": {
        "id": "de764f21"
      },
      "outputs": [],
      "source": [
        "ordinal_columns = ['age_group', 'education',  'income_poverty',\n",
        "        'employment_status']"
      ]
    },
    {
      "cell_type": "code",
      "execution_count": 13,
      "id": "59478f3e",
      "metadata": {
        "id": "59478f3e"
      },
      "outputs": [],
      "source": []
    },
    {
      "cell_type": "code",
      "execution_count": 14,
      "id": "73226a26",
      "metadata": {
        "colab": {
          "base_uri": "https://localhost:8080/"
        },
        "id": "73226a26",
        "outputId": "21b08cb0-d1a1-4bdc-93cc-0d959b9d55eb"
      },
      "outputs": [
        {
          "output_type": "execute_result",
          "data": {
            "text/plain": [
              "array(['55 - 64 Years', '35 - 44 Years', '18 - 34 Years', '65+ Years',\n",
              "       '45 - 54 Years'], dtype=object)"
            ]
          },
          "metadata": {},
          "execution_count": 14
        }
      ],
      "source": [
        "training_data['age_group'].unique()"
      ]
    },
    {
      "cell_type": "code",
      "execution_count": 16,
      "id": "7b94d9e3",
      "metadata": {
        "id": "7b94d9e3"
      },
      "outputs": [],
      "source": [
        "# IMPUTING THE MISSING VALUES"
      ]
    },
    {
      "cell_type": "code",
      "execution_count": 17,
      "id": "b97ec3e4",
      "metadata": {
        "id": "b97ec3e4"
      },
      "outputs": [],
      "source": [
        "for i, row in training_data[training_data['employment_occupation'].isna()].iterrows():\n",
        "    conditions = (training_data[\"employment_status\"]==\"Unemployed\")\n",
        "    if conditions.any():\n",
        "        training_data.loc[i, 'employment_occupation'] = 'unemployed_occupation'\n"
      ]
    },
    {
      "cell_type": "code",
      "execution_count": 18,
      "id": "3c3481a7",
      "metadata": {
        "id": "3c3481a7"
      },
      "outputs": [],
      "source": [
        "for i, row in training_data[training_data['employment_industry'].isna()].iterrows():\n",
        "    conditions = (training_data[\"employment_status\"]==\"Unemployed\")\n",
        "    if conditions.any():\n",
        "        training_data.loc[i, 'employment_industry'] = 'unemployed_in_industry'\n",
        "        "
      ]
    },
    {
      "cell_type": "code",
      "execution_count": 19,
      "id": "54f8e915",
      "metadata": {
        "id": "54f8e915"
      },
      "outputs": [],
      "source": [
        "for i, row in training_data[training_data['employment_industry'].isna()].iterrows():\n",
        "    conditions = (training_data[\"employment_status\"]==\"Not in Labor Force\")\n",
        "    if conditions.any():\n",
        "       training_data.loc[i, 'employment_industry'] = 'Not_in_laborforce'\n"
      ]
    },
    {
      "cell_type": "code",
      "execution_count": 20,
      "id": "c2724b63",
      "metadata": {
        "id": "c2724b63"
      },
      "outputs": [],
      "source": [
        "for i, row in training_data[training_data['employment_occupation'].isna()].iterrows():\n",
        "    conditions = (training_data[\"employment_status\"]==\"Not in Labor Force\")\n",
        "    if conditions.any():\n",
        "        training_data.loc[i, 'employment_occupation'] = 'Not_in_laborforce'\n",
        "        "
      ]
    },
    {
      "cell_type": "code",
      "execution_count": 21,
      "id": "832d05cb",
      "metadata": {
        "id": "832d05cb"
      },
      "outputs": [],
      "source": [
        "for i, row in training_data[training_data['employment_industry'].isna()].iterrows():\n",
        "    conditions = (training_data[\"employment_status\"]==\"Employed\")\n",
        "    if conditions.any():\n",
        "        training_data.loc[i, 'employment_industry'] = 'other_industry'\n",
        "        "
      ]
    },
    {
      "cell_type": "code",
      "execution_count": 22,
      "id": "0a6cb57c",
      "metadata": {
        "id": "0a6cb57c"
      },
      "outputs": [],
      "source": [
        "for i, row in training_data[training_data['employment_occupation'].isna()].iterrows():\n",
        "    conditions = (training_data[\"employment_status\"]==\"Employed\")\n",
        "    if conditions.any():\n",
        "        training_data.loc[i, 'employment_occupation'] = 'other_occupation'\n",
        "        "
      ]
    },
    {
      "cell_type": "code",
      "execution_count": 22,
      "id": "302b5940",
      "metadata": {
        "id": "302b5940"
      },
      "outputs": [],
      "source": []
    },
    {
      "cell_type": "code",
      "execution_count": 23,
      "id": "4ec06ef4",
      "metadata": {
        "id": "4ec06ef4"
      },
      "outputs": [],
      "source": [
        "income_poverty_nan = 'refused_or_unknown'\n",
        "marital_status_nan = 'refused_or_other_category'\n",
        "employment_status_nan = 'refused_or_other_category'\n",
        "rent_or_own_nan = 'other_refused'\n",
        "education_nan = 'refused_or_unknown'\n",
        "\n",
        "\n",
        "training_data['income_poverty'].fillna(income_poverty_nan, inplace=True)\n",
        "training_data['marital_status'].fillna(marital_status_nan, inplace=True)\n",
        "training_data['employment_status'].fillna(employment_status_nan, inplace=True)\n",
        "training_data['rent_or_own'].fillna(rent_or_own_nan, inplace=True)\n",
        "training_data['education'].fillna(education_nan, inplace=True)"
      ]
    },
    {
      "cell_type": "code",
      "execution_count": 23,
      "id": "2a88b4b3",
      "metadata": {
        "id": "2a88b4b3"
      },
      "outputs": [],
      "source": []
    },
    {
      "cell_type": "code",
      "execution_count": 24,
      "id": "9ab6404e",
      "metadata": {
        "id": "9ab6404e"
      },
      "outputs": [],
      "source": [
        "def missing_count(training_data): # Creating a function which returns the values which is above zero\n",
        "    \n",
        "    count_nan = training_data.isnull().sum()\n",
        "    count_nan = count_nan[count_nan > 0].sort_values()    # To sort down the values\n",
        "    \n",
        "    return count_nan"
      ]
    },
    {
      "cell_type": "code",
      "execution_count": 25,
      "id": "95bfd082",
      "metadata": {
        "id": "95bfd082"
      },
      "outputs": [],
      "source": [
        "missing_counts_as_nan = missing_count(training_data)"
      ]
    },
    {
      "cell_type": "code",
      "execution_count": 26,
      "id": "ba7803af",
      "metadata": {
        "colab": {
          "base_uri": "https://localhost:8080/"
        },
        "id": "ba7803af",
        "outputId": "1530bff3-db15-4f5e-a0fd-8fd85ae148d1"
      },
      "outputs": [
        {
          "output_type": "execute_result",
          "data": {
            "text/plain": [
              "behavioral_face_mask              19\n",
              "behavioral_wash_hands             42\n",
              "behavioral_antiviral_meds         71\n",
              "behavioral_outside_home           82\n",
              "behavioral_large_gatherings       87\n",
              "h1n1_concern                      92\n",
              "h1n1_knowledge                   116\n",
              "behavioral_touch_face            128\n",
              "behavioral_avoidance             208\n",
              "household_adults                 249\n",
              "household_children               249\n",
              "opinion_h1n1_risk                388\n",
              "opinion_h1n1_vacc_effective      391\n",
              "opinion_h1n1_sick_from_vacc      395\n",
              "opinion_seas_vacc_effective      462\n",
              "opinion_seas_risk                514\n",
              "opinion_seas_sick_from_vacc      537\n",
              "health_worker                    804\n",
              "child_under_6_months             820\n",
              "chronic_med_condition            971\n",
              "doctor_recc_h1n1                2160\n",
              "doctor_recc_seasonal            2160\n",
              "health_insurance               12274\n",
              "dtype: int64"
            ]
          },
          "metadata": {},
          "execution_count": 26
        }
      ],
      "source": [
        "missing_counts_as_nan"
      ]
    },
    {
      "cell_type": "code",
      "execution_count": 26,
      "id": "2a73d2ca",
      "metadata": {
        "id": "2a73d2ca"
      },
      "outputs": [],
      "source": []
    },
    {
      "cell_type": "code",
      "execution_count": 27,
      "id": "5d6f9a9d",
      "metadata": {
        "colab": {
          "base_uri": "https://localhost:8080/"
        },
        "id": "5d6f9a9d",
        "outputId": "dcbfed8e-86f4-485b-a8be-7fa07200e0db"
      },
      "outputs": [
        {
          "output_type": "execute_result",
          "data": {
            "text/plain": [
              "race                     0\n",
              "sex                      0\n",
              "marital_status           0\n",
              "rent_or_own              0\n",
              "hhs_geo_region           0\n",
              "census_msa               0\n",
              "employment_industry      0\n",
              "employment_occupation    0\n",
              "dtype: int64"
            ]
          },
          "metadata": {},
          "execution_count": 27
        }
      ],
      "source": [
        "training_data[category_columns].isna().sum()"
      ]
    },
    {
      "cell_type": "code",
      "execution_count": 28,
      "id": "2e8bc68b",
      "metadata": {
        "colab": {
          "base_uri": "https://localhost:8080/"
        },
        "id": "2e8bc68b",
        "outputId": "8f5bffde-1186-4d64-deea-03f9da35390b"
      },
      "outputs": [
        {
          "output_type": "execute_result",
          "data": {
            "text/plain": [
              "age_group            0\n",
              "education            0\n",
              "income_poverty       0\n",
              "employment_status    0\n",
              "dtype: int64"
            ]
          },
          "metadata": {},
          "execution_count": 28
        }
      ],
      "source": [
        "training_data[ordinal_columns].isna().sum()"
      ]
    },
    {
      "cell_type": "code",
      "execution_count": 29,
      "id": "b45ac6c1",
      "metadata": {
        "colab": {
          "base_uri": "https://localhost:8080/"
        },
        "id": "b45ac6c1",
        "outputId": "4fadfb29-b141-49d6-b4a3-7a206ba11b3e"
      },
      "outputs": [
        {
          "output_type": "execute_result",
          "data": {
            "text/plain": [
              "respondent_id                      0\n",
              "h1n1_concern                      92\n",
              "h1n1_knowledge                   116\n",
              "behavioral_antiviral_meds         71\n",
              "behavioral_avoidance             208\n",
              "behavioral_face_mask              19\n",
              "behavioral_wash_hands             42\n",
              "behavioral_large_gatherings       87\n",
              "behavioral_outside_home           82\n",
              "behavioral_touch_face            128\n",
              "doctor_recc_h1n1                2160\n",
              "doctor_recc_seasonal            2160\n",
              "chronic_med_condition            971\n",
              "child_under_6_months             820\n",
              "health_worker                    804\n",
              "health_insurance               12274\n",
              "opinion_h1n1_vacc_effective      391\n",
              "opinion_h1n1_risk                388\n",
              "opinion_h1n1_sick_from_vacc      395\n",
              "opinion_seas_vacc_effective      462\n",
              "opinion_seas_risk                514\n",
              "opinion_seas_sick_from_vacc      537\n",
              "household_adults                 249\n",
              "household_children               249\n",
              "dtype: int64"
            ]
          },
          "metadata": {},
          "execution_count": 29
        }
      ],
      "source": [
        "training_data[numeric_columns].isna().sum()"
      ]
    },
    {
      "cell_type": "code",
      "execution_count": 29,
      "id": "33217e8e",
      "metadata": {
        "id": "33217e8e"
      },
      "outputs": [],
      "source": []
    },
    {
      "cell_type": "code",
      "execution_count": 29,
      "id": "d53f20c1",
      "metadata": {
        "id": "d53f20c1"
      },
      "outputs": [],
      "source": []
    },
    {
      "cell_type": "code",
      "execution_count": 30,
      "id": "c09916ff",
      "metadata": {
        "id": "c09916ff"
      },
      "outputs": [],
      "source": [
        "# GOOD TO GO - Now start encoding the columns"
      ]
    },
    {
      "cell_type": "code",
      "execution_count": 30,
      "id": "4597d6b8",
      "metadata": {
        "id": "4597d6b8"
      },
      "outputs": [],
      "source": []
    },
    {
      "cell_type": "code",
      "execution_count": 31,
      "id": "54add351",
      "metadata": {
        "colab": {
          "base_uri": "https://localhost:8080/",
          "height": 424
        },
        "id": "54add351",
        "outputId": "d407c877-539c-412c-9f9f-8a356139bc11"
      },
      "outputs": [
        {
          "output_type": "execute_result",
          "data": {
            "text/plain": [
              "           age_group         education             income_poverty  \\\n",
              "0      55 - 64 Years        < 12 Years              Below Poverty   \n",
              "1      35 - 44 Years          12 Years              Below Poverty   \n",
              "2      18 - 34 Years  College Graduate  <= $75,000, Above Poverty   \n",
              "3          65+ Years          12 Years              Below Poverty   \n",
              "4      45 - 54 Years      Some College  <= $75,000, Above Poverty   \n",
              "...              ...               ...                        ...   \n",
              "26702      65+ Years      Some College  <= $75,000, Above Poverty   \n",
              "26703  18 - 34 Years  College Graduate  <= $75,000, Above Poverty   \n",
              "26704  55 - 64 Years      Some College         refused_or_unknown   \n",
              "26705  18 - 34 Years      Some College  <= $75,000, Above Poverty   \n",
              "26706      65+ Years      Some College  <= $75,000, Above Poverty   \n",
              "\n",
              "               employment_status  \n",
              "0             Not in Labor Force  \n",
              "1                       Employed  \n",
              "2                       Employed  \n",
              "3             Not in Labor Force  \n",
              "4                       Employed  \n",
              "...                          ...  \n",
              "26702         Not in Labor Force  \n",
              "26703                   Employed  \n",
              "26704  refused_or_other_category  \n",
              "26705                   Employed  \n",
              "26706         Not in Labor Force  \n",
              "\n",
              "[26707 rows x 4 columns]"
            ],
            "text/html": [
              "\n",
              "  <div id=\"df-308ade7f-b569-42f9-8112-722846e9d59c\">\n",
              "    <div class=\"colab-df-container\">\n",
              "      <div>\n",
              "<style scoped>\n",
              "    .dataframe tbody tr th:only-of-type {\n",
              "        vertical-align: middle;\n",
              "    }\n",
              "\n",
              "    .dataframe tbody tr th {\n",
              "        vertical-align: top;\n",
              "    }\n",
              "\n",
              "    .dataframe thead th {\n",
              "        text-align: right;\n",
              "    }\n",
              "</style>\n",
              "<table border=\"1\" class=\"dataframe\">\n",
              "  <thead>\n",
              "    <tr style=\"text-align: right;\">\n",
              "      <th></th>\n",
              "      <th>age_group</th>\n",
              "      <th>education</th>\n",
              "      <th>income_poverty</th>\n",
              "      <th>employment_status</th>\n",
              "    </tr>\n",
              "  </thead>\n",
              "  <tbody>\n",
              "    <tr>\n",
              "      <th>0</th>\n",
              "      <td>55 - 64 Years</td>\n",
              "      <td>&lt; 12 Years</td>\n",
              "      <td>Below Poverty</td>\n",
              "      <td>Not in Labor Force</td>\n",
              "    </tr>\n",
              "    <tr>\n",
              "      <th>1</th>\n",
              "      <td>35 - 44 Years</td>\n",
              "      <td>12 Years</td>\n",
              "      <td>Below Poverty</td>\n",
              "      <td>Employed</td>\n",
              "    </tr>\n",
              "    <tr>\n",
              "      <th>2</th>\n",
              "      <td>18 - 34 Years</td>\n",
              "      <td>College Graduate</td>\n",
              "      <td>&lt;= $75,000, Above Poverty</td>\n",
              "      <td>Employed</td>\n",
              "    </tr>\n",
              "    <tr>\n",
              "      <th>3</th>\n",
              "      <td>65+ Years</td>\n",
              "      <td>12 Years</td>\n",
              "      <td>Below Poverty</td>\n",
              "      <td>Not in Labor Force</td>\n",
              "    </tr>\n",
              "    <tr>\n",
              "      <th>4</th>\n",
              "      <td>45 - 54 Years</td>\n",
              "      <td>Some College</td>\n",
              "      <td>&lt;= $75,000, Above Poverty</td>\n",
              "      <td>Employed</td>\n",
              "    </tr>\n",
              "    <tr>\n",
              "      <th>...</th>\n",
              "      <td>...</td>\n",
              "      <td>...</td>\n",
              "      <td>...</td>\n",
              "      <td>...</td>\n",
              "    </tr>\n",
              "    <tr>\n",
              "      <th>26702</th>\n",
              "      <td>65+ Years</td>\n",
              "      <td>Some College</td>\n",
              "      <td>&lt;= $75,000, Above Poverty</td>\n",
              "      <td>Not in Labor Force</td>\n",
              "    </tr>\n",
              "    <tr>\n",
              "      <th>26703</th>\n",
              "      <td>18 - 34 Years</td>\n",
              "      <td>College Graduate</td>\n",
              "      <td>&lt;= $75,000, Above Poverty</td>\n",
              "      <td>Employed</td>\n",
              "    </tr>\n",
              "    <tr>\n",
              "      <th>26704</th>\n",
              "      <td>55 - 64 Years</td>\n",
              "      <td>Some College</td>\n",
              "      <td>refused_or_unknown</td>\n",
              "      <td>refused_or_other_category</td>\n",
              "    </tr>\n",
              "    <tr>\n",
              "      <th>26705</th>\n",
              "      <td>18 - 34 Years</td>\n",
              "      <td>Some College</td>\n",
              "      <td>&lt;= $75,000, Above Poverty</td>\n",
              "      <td>Employed</td>\n",
              "    </tr>\n",
              "    <tr>\n",
              "      <th>26706</th>\n",
              "      <td>65+ Years</td>\n",
              "      <td>Some College</td>\n",
              "      <td>&lt;= $75,000, Above Poverty</td>\n",
              "      <td>Not in Labor Force</td>\n",
              "    </tr>\n",
              "  </tbody>\n",
              "</table>\n",
              "<p>26707 rows × 4 columns</p>\n",
              "</div>\n",
              "      <button class=\"colab-df-convert\" onclick=\"convertToInteractive('df-308ade7f-b569-42f9-8112-722846e9d59c')\"\n",
              "              title=\"Convert this dataframe to an interactive table.\"\n",
              "              style=\"display:none;\">\n",
              "        \n",
              "  <svg xmlns=\"http://www.w3.org/2000/svg\" height=\"24px\"viewBox=\"0 0 24 24\"\n",
              "       width=\"24px\">\n",
              "    <path d=\"M0 0h24v24H0V0z\" fill=\"none\"/>\n",
              "    <path d=\"M18.56 5.44l.94 2.06.94-2.06 2.06-.94-2.06-.94-.94-2.06-.94 2.06-2.06.94zm-11 1L8.5 8.5l.94-2.06 2.06-.94-2.06-.94L8.5 2.5l-.94 2.06-2.06.94zm10 10l.94 2.06.94-2.06 2.06-.94-2.06-.94-.94-2.06-.94 2.06-2.06.94z\"/><path d=\"M17.41 7.96l-1.37-1.37c-.4-.4-.92-.59-1.43-.59-.52 0-1.04.2-1.43.59L10.3 9.45l-7.72 7.72c-.78.78-.78 2.05 0 2.83L4 21.41c.39.39.9.59 1.41.59.51 0 1.02-.2 1.41-.59l7.78-7.78 2.81-2.81c.8-.78.8-2.07 0-2.86zM5.41 20L4 18.59l7.72-7.72 1.47 1.35L5.41 20z\"/>\n",
              "  </svg>\n",
              "      </button>\n",
              "      \n",
              "  <style>\n",
              "    .colab-df-container {\n",
              "      display:flex;\n",
              "      flex-wrap:wrap;\n",
              "      gap: 12px;\n",
              "    }\n",
              "\n",
              "    .colab-df-convert {\n",
              "      background-color: #E8F0FE;\n",
              "      border: none;\n",
              "      border-radius: 50%;\n",
              "      cursor: pointer;\n",
              "      display: none;\n",
              "      fill: #1967D2;\n",
              "      height: 32px;\n",
              "      padding: 0 0 0 0;\n",
              "      width: 32px;\n",
              "    }\n",
              "\n",
              "    .colab-df-convert:hover {\n",
              "      background-color: #E2EBFA;\n",
              "      box-shadow: 0px 1px 2px rgba(60, 64, 67, 0.3), 0px 1px 3px 1px rgba(60, 64, 67, 0.15);\n",
              "      fill: #174EA6;\n",
              "    }\n",
              "\n",
              "    [theme=dark] .colab-df-convert {\n",
              "      background-color: #3B4455;\n",
              "      fill: #D2E3FC;\n",
              "    }\n",
              "\n",
              "    [theme=dark] .colab-df-convert:hover {\n",
              "      background-color: #434B5C;\n",
              "      box-shadow: 0px 1px 3px 1px rgba(0, 0, 0, 0.15);\n",
              "      filter: drop-shadow(0px 1px 2px rgba(0, 0, 0, 0.3));\n",
              "      fill: #FFFFFF;\n",
              "    }\n",
              "  </style>\n",
              "\n",
              "      <script>\n",
              "        const buttonEl =\n",
              "          document.querySelector('#df-308ade7f-b569-42f9-8112-722846e9d59c button.colab-df-convert');\n",
              "        buttonEl.style.display =\n",
              "          google.colab.kernel.accessAllowed ? 'block' : 'none';\n",
              "\n",
              "        async function convertToInteractive(key) {\n",
              "          const element = document.querySelector('#df-308ade7f-b569-42f9-8112-722846e9d59c');\n",
              "          const dataTable =\n",
              "            await google.colab.kernel.invokeFunction('convertToInteractive',\n",
              "                                                     [key], {});\n",
              "          if (!dataTable) return;\n",
              "\n",
              "          const docLinkHtml = 'Like what you see? Visit the ' +\n",
              "            '<a target=\"_blank\" href=https://colab.research.google.com/notebooks/data_table.ipynb>data table notebook</a>'\n",
              "            + ' to learn more about interactive tables.';\n",
              "          element.innerHTML = '';\n",
              "          dataTable['output_type'] = 'display_data';\n",
              "          await google.colab.output.renderOutput(dataTable, element);\n",
              "          const docLink = document.createElement('div');\n",
              "          docLink.innerHTML = docLinkHtml;\n",
              "          element.appendChild(docLink);\n",
              "        }\n",
              "      </script>\n",
              "    </div>\n",
              "  </div>\n",
              "  "
            ]
          },
          "metadata": {},
          "execution_count": 31
        }
      ],
      "source": [
        "training_data[ordinal_columns]"
      ]
    },
    {
      "cell_type": "code",
      "execution_count": 32,
      "id": "aa57da3b",
      "metadata": {
        "id": "aa57da3b"
      },
      "outputs": [],
      "source": [
        "training_data['overall_behaviour_of_respondent'] = training_data['behavioral_antiviral_meds'] + \\\n",
        "training_data['behavioral_avoidance'] + training_data['behavioral_face_mask'] + \\\n",
        "training_data['behavioral_wash_hands'] + training_data['behavioral_large_gatherings'] + \\\n",
        "training_data['behavioral_outside_home'] + training_data['behavioral_touch_face']"
      ]
    },
    {
      "cell_type": "code",
      "execution_count": 32,
      "id": "8e07c970",
      "metadata": {
        "id": "8e07c970"
      },
      "outputs": [],
      "source": []
    },
    {
      "cell_type": "code",
      "execution_count": 32,
      "id": "feeb042d",
      "metadata": {
        "id": "feeb042d"
      },
      "outputs": [],
      "source": []
    },
    {
      "cell_type": "code",
      "execution_count": 33,
      "id": "eed81a1c",
      "metadata": {
        "id": "eed81a1c"
      },
      "outputs": [],
      "source": [
        "from sklearn.preprocessing import LabelEncoder\n",
        "\n",
        "le = LabelEncoder()\n",
        "\n",
        "for features in ordinal_columns:\n",
        "    training_data[features] = le.fit_transform(training_data[features])"
      ]
    },
    {
      "cell_type": "code",
      "execution_count": 33,
      "id": "6933897d",
      "metadata": {
        "id": "6933897d"
      },
      "outputs": [],
      "source": []
    },
    {
      "cell_type": "code",
      "execution_count": 34,
      "id": "5e7efb06",
      "metadata": {
        "id": "5e7efb06"
      },
      "outputs": [],
      "source": [
        "training_data = pd.get_dummies(training_data, columns=category_columns, drop_first=True)"
      ]
    },
    {
      "cell_type": "code",
      "execution_count": 35,
      "id": "8c1f9c03",
      "metadata": {
        "colab": {
          "base_uri": "https://localhost:8080/",
          "height": 300
        },
        "id": "8c1f9c03",
        "outputId": "1da72330-5039-46f0-ca01-41e1931e80bd"
      },
      "outputs": [
        {
          "output_type": "execute_result",
          "data": {
            "text/plain": [
              "   respondent_id  h1n1_concern  h1n1_knowledge  behavioral_antiviral_meds  \\\n",
              "0              0           1.0             0.0                        0.0   \n",
              "1              1           3.0             2.0                        0.0   \n",
              "2              2           1.0             1.0                        0.0   \n",
              "3              3           1.0             1.0                        0.0   \n",
              "4              4           2.0             1.0                        0.0   \n",
              "\n",
              "   behavioral_avoidance  behavioral_face_mask  behavioral_wash_hands  \\\n",
              "0                   0.0                   0.0                    0.0   \n",
              "1                   1.0                   0.0                    1.0   \n",
              "2                   1.0                   0.0                    0.0   \n",
              "3                   1.0                   0.0                    1.0   \n",
              "4                   1.0                   0.0                    1.0   \n",
              "\n",
              "   behavioral_large_gatherings  behavioral_outside_home  \\\n",
              "0                          0.0                      1.0   \n",
              "1                          0.0                      1.0   \n",
              "2                          0.0                      0.0   \n",
              "3                          1.0                      0.0   \n",
              "4                          1.0                      0.0   \n",
              "\n",
              "   behavioral_touch_face  ...  employment_occupation_rcertsgn  \\\n",
              "0                    1.0  ...                               0   \n",
              "1                    1.0  ...                               0   \n",
              "2                    0.0  ...                               0   \n",
              "3                    0.0  ...                               0   \n",
              "4                    1.0  ...                               0   \n",
              "\n",
              "   employment_occupation_tfqavkke  employment_occupation_ukymxvdu  \\\n",
              "0                               0                               0   \n",
              "1                               0                               0   \n",
              "2                               0                               0   \n",
              "3                               0                               0   \n",
              "4                               0                               0   \n",
              "\n",
              "   employment_occupation_unemployed_occupation  \\\n",
              "0                                            1   \n",
              "1                                            0   \n",
              "2                                            0   \n",
              "3                                            1   \n",
              "4                                            0   \n",
              "\n",
              "   employment_occupation_uqqtjvyb  employment_occupation_vlluhbov  \\\n",
              "0                               0                               0   \n",
              "1                               0                               0   \n",
              "2                               0                               0   \n",
              "3                               0                               0   \n",
              "4                               0                               0   \n",
              "\n",
              "   employment_occupation_xgwztkwe  employment_occupation_xqwwgdyp  \\\n",
              "0                               0                               0   \n",
              "1                               1                               0   \n",
              "2                               0                               0   \n",
              "3                               0                               0   \n",
              "4                               0                               0   \n",
              "\n",
              "   employment_occupation_xtkaffoo  employment_occupation_xzmlyyjv  \n",
              "0                               0                               0  \n",
              "1                               0                               0  \n",
              "2                               1                               0  \n",
              "3                               0                               0  \n",
              "4                               0                               0  \n",
              "\n",
              "[5 rows x 92 columns]"
            ],
            "text/html": [
              "\n",
              "  <div id=\"df-e23ce6ca-93c2-4957-8ad2-5b3f080c601e\">\n",
              "    <div class=\"colab-df-container\">\n",
              "      <div>\n",
              "<style scoped>\n",
              "    .dataframe tbody tr th:only-of-type {\n",
              "        vertical-align: middle;\n",
              "    }\n",
              "\n",
              "    .dataframe tbody tr th {\n",
              "        vertical-align: top;\n",
              "    }\n",
              "\n",
              "    .dataframe thead th {\n",
              "        text-align: right;\n",
              "    }\n",
              "</style>\n",
              "<table border=\"1\" class=\"dataframe\">\n",
              "  <thead>\n",
              "    <tr style=\"text-align: right;\">\n",
              "      <th></th>\n",
              "      <th>respondent_id</th>\n",
              "      <th>h1n1_concern</th>\n",
              "      <th>h1n1_knowledge</th>\n",
              "      <th>behavioral_antiviral_meds</th>\n",
              "      <th>behavioral_avoidance</th>\n",
              "      <th>behavioral_face_mask</th>\n",
              "      <th>behavioral_wash_hands</th>\n",
              "      <th>behavioral_large_gatherings</th>\n",
              "      <th>behavioral_outside_home</th>\n",
              "      <th>behavioral_touch_face</th>\n",
              "      <th>...</th>\n",
              "      <th>employment_occupation_rcertsgn</th>\n",
              "      <th>employment_occupation_tfqavkke</th>\n",
              "      <th>employment_occupation_ukymxvdu</th>\n",
              "      <th>employment_occupation_unemployed_occupation</th>\n",
              "      <th>employment_occupation_uqqtjvyb</th>\n",
              "      <th>employment_occupation_vlluhbov</th>\n",
              "      <th>employment_occupation_xgwztkwe</th>\n",
              "      <th>employment_occupation_xqwwgdyp</th>\n",
              "      <th>employment_occupation_xtkaffoo</th>\n",
              "      <th>employment_occupation_xzmlyyjv</th>\n",
              "    </tr>\n",
              "  </thead>\n",
              "  <tbody>\n",
              "    <tr>\n",
              "      <th>0</th>\n",
              "      <td>0</td>\n",
              "      <td>1.0</td>\n",
              "      <td>0.0</td>\n",
              "      <td>0.0</td>\n",
              "      <td>0.0</td>\n",
              "      <td>0.0</td>\n",
              "      <td>0.0</td>\n",
              "      <td>0.0</td>\n",
              "      <td>1.0</td>\n",
              "      <td>1.0</td>\n",
              "      <td>...</td>\n",
              "      <td>0</td>\n",
              "      <td>0</td>\n",
              "      <td>0</td>\n",
              "      <td>1</td>\n",
              "      <td>0</td>\n",
              "      <td>0</td>\n",
              "      <td>0</td>\n",
              "      <td>0</td>\n",
              "      <td>0</td>\n",
              "      <td>0</td>\n",
              "    </tr>\n",
              "    <tr>\n",
              "      <th>1</th>\n",
              "      <td>1</td>\n",
              "      <td>3.0</td>\n",
              "      <td>2.0</td>\n",
              "      <td>0.0</td>\n",
              "      <td>1.0</td>\n",
              "      <td>0.0</td>\n",
              "      <td>1.0</td>\n",
              "      <td>0.0</td>\n",
              "      <td>1.0</td>\n",
              "      <td>1.0</td>\n",
              "      <td>...</td>\n",
              "      <td>0</td>\n",
              "      <td>0</td>\n",
              "      <td>0</td>\n",
              "      <td>0</td>\n",
              "      <td>0</td>\n",
              "      <td>0</td>\n",
              "      <td>1</td>\n",
              "      <td>0</td>\n",
              "      <td>0</td>\n",
              "      <td>0</td>\n",
              "    </tr>\n",
              "    <tr>\n",
              "      <th>2</th>\n",
              "      <td>2</td>\n",
              "      <td>1.0</td>\n",
              "      <td>1.0</td>\n",
              "      <td>0.0</td>\n",
              "      <td>1.0</td>\n",
              "      <td>0.0</td>\n",
              "      <td>0.0</td>\n",
              "      <td>0.0</td>\n",
              "      <td>0.0</td>\n",
              "      <td>0.0</td>\n",
              "      <td>...</td>\n",
              "      <td>0</td>\n",
              "      <td>0</td>\n",
              "      <td>0</td>\n",
              "      <td>0</td>\n",
              "      <td>0</td>\n",
              "      <td>0</td>\n",
              "      <td>0</td>\n",
              "      <td>0</td>\n",
              "      <td>1</td>\n",
              "      <td>0</td>\n",
              "    </tr>\n",
              "    <tr>\n",
              "      <th>3</th>\n",
              "      <td>3</td>\n",
              "      <td>1.0</td>\n",
              "      <td>1.0</td>\n",
              "      <td>0.0</td>\n",
              "      <td>1.0</td>\n",
              "      <td>0.0</td>\n",
              "      <td>1.0</td>\n",
              "      <td>1.0</td>\n",
              "      <td>0.0</td>\n",
              "      <td>0.0</td>\n",
              "      <td>...</td>\n",
              "      <td>0</td>\n",
              "      <td>0</td>\n",
              "      <td>0</td>\n",
              "      <td>1</td>\n",
              "      <td>0</td>\n",
              "      <td>0</td>\n",
              "      <td>0</td>\n",
              "      <td>0</td>\n",
              "      <td>0</td>\n",
              "      <td>0</td>\n",
              "    </tr>\n",
              "    <tr>\n",
              "      <th>4</th>\n",
              "      <td>4</td>\n",
              "      <td>2.0</td>\n",
              "      <td>1.0</td>\n",
              "      <td>0.0</td>\n",
              "      <td>1.0</td>\n",
              "      <td>0.0</td>\n",
              "      <td>1.0</td>\n",
              "      <td>1.0</td>\n",
              "      <td>0.0</td>\n",
              "      <td>1.0</td>\n",
              "      <td>...</td>\n",
              "      <td>0</td>\n",
              "      <td>0</td>\n",
              "      <td>0</td>\n",
              "      <td>0</td>\n",
              "      <td>0</td>\n",
              "      <td>0</td>\n",
              "      <td>0</td>\n",
              "      <td>0</td>\n",
              "      <td>0</td>\n",
              "      <td>0</td>\n",
              "    </tr>\n",
              "  </tbody>\n",
              "</table>\n",
              "<p>5 rows × 92 columns</p>\n",
              "</div>\n",
              "      <button class=\"colab-df-convert\" onclick=\"convertToInteractive('df-e23ce6ca-93c2-4957-8ad2-5b3f080c601e')\"\n",
              "              title=\"Convert this dataframe to an interactive table.\"\n",
              "              style=\"display:none;\">\n",
              "        \n",
              "  <svg xmlns=\"http://www.w3.org/2000/svg\" height=\"24px\"viewBox=\"0 0 24 24\"\n",
              "       width=\"24px\">\n",
              "    <path d=\"M0 0h24v24H0V0z\" fill=\"none\"/>\n",
              "    <path d=\"M18.56 5.44l.94 2.06.94-2.06 2.06-.94-2.06-.94-.94-2.06-.94 2.06-2.06.94zm-11 1L8.5 8.5l.94-2.06 2.06-.94-2.06-.94L8.5 2.5l-.94 2.06-2.06.94zm10 10l.94 2.06.94-2.06 2.06-.94-2.06-.94-.94-2.06-.94 2.06-2.06.94z\"/><path d=\"M17.41 7.96l-1.37-1.37c-.4-.4-.92-.59-1.43-.59-.52 0-1.04.2-1.43.59L10.3 9.45l-7.72 7.72c-.78.78-.78 2.05 0 2.83L4 21.41c.39.39.9.59 1.41.59.51 0 1.02-.2 1.41-.59l7.78-7.78 2.81-2.81c.8-.78.8-2.07 0-2.86zM5.41 20L4 18.59l7.72-7.72 1.47 1.35L5.41 20z\"/>\n",
              "  </svg>\n",
              "      </button>\n",
              "      \n",
              "  <style>\n",
              "    .colab-df-container {\n",
              "      display:flex;\n",
              "      flex-wrap:wrap;\n",
              "      gap: 12px;\n",
              "    }\n",
              "\n",
              "    .colab-df-convert {\n",
              "      background-color: #E8F0FE;\n",
              "      border: none;\n",
              "      border-radius: 50%;\n",
              "      cursor: pointer;\n",
              "      display: none;\n",
              "      fill: #1967D2;\n",
              "      height: 32px;\n",
              "      padding: 0 0 0 0;\n",
              "      width: 32px;\n",
              "    }\n",
              "\n",
              "    .colab-df-convert:hover {\n",
              "      background-color: #E2EBFA;\n",
              "      box-shadow: 0px 1px 2px rgba(60, 64, 67, 0.3), 0px 1px 3px 1px rgba(60, 64, 67, 0.15);\n",
              "      fill: #174EA6;\n",
              "    }\n",
              "\n",
              "    [theme=dark] .colab-df-convert {\n",
              "      background-color: #3B4455;\n",
              "      fill: #D2E3FC;\n",
              "    }\n",
              "\n",
              "    [theme=dark] .colab-df-convert:hover {\n",
              "      background-color: #434B5C;\n",
              "      box-shadow: 0px 1px 3px 1px rgba(0, 0, 0, 0.15);\n",
              "      filter: drop-shadow(0px 1px 2px rgba(0, 0, 0, 0.3));\n",
              "      fill: #FFFFFF;\n",
              "    }\n",
              "  </style>\n",
              "\n",
              "      <script>\n",
              "        const buttonEl =\n",
              "          document.querySelector('#df-e23ce6ca-93c2-4957-8ad2-5b3f080c601e button.colab-df-convert');\n",
              "        buttonEl.style.display =\n",
              "          google.colab.kernel.accessAllowed ? 'block' : 'none';\n",
              "\n",
              "        async function convertToInteractive(key) {\n",
              "          const element = document.querySelector('#df-e23ce6ca-93c2-4957-8ad2-5b3f080c601e');\n",
              "          const dataTable =\n",
              "            await google.colab.kernel.invokeFunction('convertToInteractive',\n",
              "                                                     [key], {});\n",
              "          if (!dataTable) return;\n",
              "\n",
              "          const docLinkHtml = 'Like what you see? Visit the ' +\n",
              "            '<a target=\"_blank\" href=https://colab.research.google.com/notebooks/data_table.ipynb>data table notebook</a>'\n",
              "            + ' to learn more about interactive tables.';\n",
              "          element.innerHTML = '';\n",
              "          dataTable['output_type'] = 'display_data';\n",
              "          await google.colab.output.renderOutput(dataTable, element);\n",
              "          const docLink = document.createElement('div');\n",
              "          docLink.innerHTML = docLinkHtml;\n",
              "          element.appendChild(docLink);\n",
              "        }\n",
              "      </script>\n",
              "    </div>\n",
              "  </div>\n",
              "  "
            ]
          },
          "metadata": {},
          "execution_count": 35
        }
      ],
      "source": [
        "training_data.head()"
      ]
    },
    {
      "cell_type": "code",
      "execution_count": 35,
      "id": "4cfafebb",
      "metadata": {
        "id": "4cfafebb"
      },
      "outputs": [],
      "source": []
    },
    {
      "cell_type": "code",
      "execution_count": 36,
      "id": "9b1c2ee8",
      "metadata": {
        "colab": {
          "base_uri": "https://localhost:8080/",
          "height": 300
        },
        "id": "9b1c2ee8",
        "outputId": "a6258e70-a94c-42cf-b194-83a3a946f2a2"
      },
      "outputs": [
        {
          "output_type": "execute_result",
          "data": {
            "text/plain": [
              "   respondent_id  h1n1_concern  h1n1_knowledge  behavioral_antiviral_meds  \\\n",
              "0              0           1.0             0.0                        0.0   \n",
              "1              1           3.0             2.0                        0.0   \n",
              "2              2           1.0             1.0                        0.0   \n",
              "3              3           1.0             1.0                        0.0   \n",
              "4              4           2.0             1.0                        0.0   \n",
              "\n",
              "   behavioral_avoidance  behavioral_face_mask  behavioral_wash_hands  \\\n",
              "0                   0.0                   0.0                    0.0   \n",
              "1                   1.0                   0.0                    1.0   \n",
              "2                   1.0                   0.0                    0.0   \n",
              "3                   1.0                   0.0                    1.0   \n",
              "4                   1.0                   0.0                    1.0   \n",
              "\n",
              "   behavioral_large_gatherings  behavioral_outside_home  \\\n",
              "0                          0.0                      1.0   \n",
              "1                          0.0                      1.0   \n",
              "2                          0.0                      0.0   \n",
              "3                          1.0                      0.0   \n",
              "4                          1.0                      0.0   \n",
              "\n",
              "   behavioral_touch_face  ...  employment_occupation_rcertsgn  \\\n",
              "0                    1.0  ...                               0   \n",
              "1                    1.0  ...                               0   \n",
              "2                    0.0  ...                               0   \n",
              "3                    0.0  ...                               0   \n",
              "4                    1.0  ...                               0   \n",
              "\n",
              "   employment_occupation_tfqavkke  employment_occupation_ukymxvdu  \\\n",
              "0                               0                               0   \n",
              "1                               0                               0   \n",
              "2                               0                               0   \n",
              "3                               0                               0   \n",
              "4                               0                               0   \n",
              "\n",
              "   employment_occupation_unemployed_occupation  \\\n",
              "0                                            1   \n",
              "1                                            0   \n",
              "2                                            0   \n",
              "3                                            1   \n",
              "4                                            0   \n",
              "\n",
              "   employment_occupation_uqqtjvyb  employment_occupation_vlluhbov  \\\n",
              "0                               0                               0   \n",
              "1                               0                               0   \n",
              "2                               0                               0   \n",
              "3                               0                               0   \n",
              "4                               0                               0   \n",
              "\n",
              "   employment_occupation_xgwztkwe  employment_occupation_xqwwgdyp  \\\n",
              "0                               0                               0   \n",
              "1                               1                               0   \n",
              "2                               0                               0   \n",
              "3                               0                               0   \n",
              "4                               0                               0   \n",
              "\n",
              "   employment_occupation_xtkaffoo  employment_occupation_xzmlyyjv  \n",
              "0                               0                               0  \n",
              "1                               0                               0  \n",
              "2                               1                               0  \n",
              "3                               0                               0  \n",
              "4                               0                               0  \n",
              "\n",
              "[5 rows x 92 columns]"
            ],
            "text/html": [
              "\n",
              "  <div id=\"df-27459eea-6dd3-40ca-945d-2eb6251521ed\">\n",
              "    <div class=\"colab-df-container\">\n",
              "      <div>\n",
              "<style scoped>\n",
              "    .dataframe tbody tr th:only-of-type {\n",
              "        vertical-align: middle;\n",
              "    }\n",
              "\n",
              "    .dataframe tbody tr th {\n",
              "        vertical-align: top;\n",
              "    }\n",
              "\n",
              "    .dataframe thead th {\n",
              "        text-align: right;\n",
              "    }\n",
              "</style>\n",
              "<table border=\"1\" class=\"dataframe\">\n",
              "  <thead>\n",
              "    <tr style=\"text-align: right;\">\n",
              "      <th></th>\n",
              "      <th>respondent_id</th>\n",
              "      <th>h1n1_concern</th>\n",
              "      <th>h1n1_knowledge</th>\n",
              "      <th>behavioral_antiviral_meds</th>\n",
              "      <th>behavioral_avoidance</th>\n",
              "      <th>behavioral_face_mask</th>\n",
              "      <th>behavioral_wash_hands</th>\n",
              "      <th>behavioral_large_gatherings</th>\n",
              "      <th>behavioral_outside_home</th>\n",
              "      <th>behavioral_touch_face</th>\n",
              "      <th>...</th>\n",
              "      <th>employment_occupation_rcertsgn</th>\n",
              "      <th>employment_occupation_tfqavkke</th>\n",
              "      <th>employment_occupation_ukymxvdu</th>\n",
              "      <th>employment_occupation_unemployed_occupation</th>\n",
              "      <th>employment_occupation_uqqtjvyb</th>\n",
              "      <th>employment_occupation_vlluhbov</th>\n",
              "      <th>employment_occupation_xgwztkwe</th>\n",
              "      <th>employment_occupation_xqwwgdyp</th>\n",
              "      <th>employment_occupation_xtkaffoo</th>\n",
              "      <th>employment_occupation_xzmlyyjv</th>\n",
              "    </tr>\n",
              "  </thead>\n",
              "  <tbody>\n",
              "    <tr>\n",
              "      <th>0</th>\n",
              "      <td>0</td>\n",
              "      <td>1.0</td>\n",
              "      <td>0.0</td>\n",
              "      <td>0.0</td>\n",
              "      <td>0.0</td>\n",
              "      <td>0.0</td>\n",
              "      <td>0.0</td>\n",
              "      <td>0.0</td>\n",
              "      <td>1.0</td>\n",
              "      <td>1.0</td>\n",
              "      <td>...</td>\n",
              "      <td>0</td>\n",
              "      <td>0</td>\n",
              "      <td>0</td>\n",
              "      <td>1</td>\n",
              "      <td>0</td>\n",
              "      <td>0</td>\n",
              "      <td>0</td>\n",
              "      <td>0</td>\n",
              "      <td>0</td>\n",
              "      <td>0</td>\n",
              "    </tr>\n",
              "    <tr>\n",
              "      <th>1</th>\n",
              "      <td>1</td>\n",
              "      <td>3.0</td>\n",
              "      <td>2.0</td>\n",
              "      <td>0.0</td>\n",
              "      <td>1.0</td>\n",
              "      <td>0.0</td>\n",
              "      <td>1.0</td>\n",
              "      <td>0.0</td>\n",
              "      <td>1.0</td>\n",
              "      <td>1.0</td>\n",
              "      <td>...</td>\n",
              "      <td>0</td>\n",
              "      <td>0</td>\n",
              "      <td>0</td>\n",
              "      <td>0</td>\n",
              "      <td>0</td>\n",
              "      <td>0</td>\n",
              "      <td>1</td>\n",
              "      <td>0</td>\n",
              "      <td>0</td>\n",
              "      <td>0</td>\n",
              "    </tr>\n",
              "    <tr>\n",
              "      <th>2</th>\n",
              "      <td>2</td>\n",
              "      <td>1.0</td>\n",
              "      <td>1.0</td>\n",
              "      <td>0.0</td>\n",
              "      <td>1.0</td>\n",
              "      <td>0.0</td>\n",
              "      <td>0.0</td>\n",
              "      <td>0.0</td>\n",
              "      <td>0.0</td>\n",
              "      <td>0.0</td>\n",
              "      <td>...</td>\n",
              "      <td>0</td>\n",
              "      <td>0</td>\n",
              "      <td>0</td>\n",
              "      <td>0</td>\n",
              "      <td>0</td>\n",
              "      <td>0</td>\n",
              "      <td>0</td>\n",
              "      <td>0</td>\n",
              "      <td>1</td>\n",
              "      <td>0</td>\n",
              "    </tr>\n",
              "    <tr>\n",
              "      <th>3</th>\n",
              "      <td>3</td>\n",
              "      <td>1.0</td>\n",
              "      <td>1.0</td>\n",
              "      <td>0.0</td>\n",
              "      <td>1.0</td>\n",
              "      <td>0.0</td>\n",
              "      <td>1.0</td>\n",
              "      <td>1.0</td>\n",
              "      <td>0.0</td>\n",
              "      <td>0.0</td>\n",
              "      <td>...</td>\n",
              "      <td>0</td>\n",
              "      <td>0</td>\n",
              "      <td>0</td>\n",
              "      <td>1</td>\n",
              "      <td>0</td>\n",
              "      <td>0</td>\n",
              "      <td>0</td>\n",
              "      <td>0</td>\n",
              "      <td>0</td>\n",
              "      <td>0</td>\n",
              "    </tr>\n",
              "    <tr>\n",
              "      <th>4</th>\n",
              "      <td>4</td>\n",
              "      <td>2.0</td>\n",
              "      <td>1.0</td>\n",
              "      <td>0.0</td>\n",
              "      <td>1.0</td>\n",
              "      <td>0.0</td>\n",
              "      <td>1.0</td>\n",
              "      <td>1.0</td>\n",
              "      <td>0.0</td>\n",
              "      <td>1.0</td>\n",
              "      <td>...</td>\n",
              "      <td>0</td>\n",
              "      <td>0</td>\n",
              "      <td>0</td>\n",
              "      <td>0</td>\n",
              "      <td>0</td>\n",
              "      <td>0</td>\n",
              "      <td>0</td>\n",
              "      <td>0</td>\n",
              "      <td>0</td>\n",
              "      <td>0</td>\n",
              "    </tr>\n",
              "  </tbody>\n",
              "</table>\n",
              "<p>5 rows × 92 columns</p>\n",
              "</div>\n",
              "      <button class=\"colab-df-convert\" onclick=\"convertToInteractive('df-27459eea-6dd3-40ca-945d-2eb6251521ed')\"\n",
              "              title=\"Convert this dataframe to an interactive table.\"\n",
              "              style=\"display:none;\">\n",
              "        \n",
              "  <svg xmlns=\"http://www.w3.org/2000/svg\" height=\"24px\"viewBox=\"0 0 24 24\"\n",
              "       width=\"24px\">\n",
              "    <path d=\"M0 0h24v24H0V0z\" fill=\"none\"/>\n",
              "    <path d=\"M18.56 5.44l.94 2.06.94-2.06 2.06-.94-2.06-.94-.94-2.06-.94 2.06-2.06.94zm-11 1L8.5 8.5l.94-2.06 2.06-.94-2.06-.94L8.5 2.5l-.94 2.06-2.06.94zm10 10l.94 2.06.94-2.06 2.06-.94-2.06-.94-.94-2.06-.94 2.06-2.06.94z\"/><path d=\"M17.41 7.96l-1.37-1.37c-.4-.4-.92-.59-1.43-.59-.52 0-1.04.2-1.43.59L10.3 9.45l-7.72 7.72c-.78.78-.78 2.05 0 2.83L4 21.41c.39.39.9.59 1.41.59.51 0 1.02-.2 1.41-.59l7.78-7.78 2.81-2.81c.8-.78.8-2.07 0-2.86zM5.41 20L4 18.59l7.72-7.72 1.47 1.35L5.41 20z\"/>\n",
              "  </svg>\n",
              "      </button>\n",
              "      \n",
              "  <style>\n",
              "    .colab-df-container {\n",
              "      display:flex;\n",
              "      flex-wrap:wrap;\n",
              "      gap: 12px;\n",
              "    }\n",
              "\n",
              "    .colab-df-convert {\n",
              "      background-color: #E8F0FE;\n",
              "      border: none;\n",
              "      border-radius: 50%;\n",
              "      cursor: pointer;\n",
              "      display: none;\n",
              "      fill: #1967D2;\n",
              "      height: 32px;\n",
              "      padding: 0 0 0 0;\n",
              "      width: 32px;\n",
              "    }\n",
              "\n",
              "    .colab-df-convert:hover {\n",
              "      background-color: #E2EBFA;\n",
              "      box-shadow: 0px 1px 2px rgba(60, 64, 67, 0.3), 0px 1px 3px 1px rgba(60, 64, 67, 0.15);\n",
              "      fill: #174EA6;\n",
              "    }\n",
              "\n",
              "    [theme=dark] .colab-df-convert {\n",
              "      background-color: #3B4455;\n",
              "      fill: #D2E3FC;\n",
              "    }\n",
              "\n",
              "    [theme=dark] .colab-df-convert:hover {\n",
              "      background-color: #434B5C;\n",
              "      box-shadow: 0px 1px 3px 1px rgba(0, 0, 0, 0.15);\n",
              "      filter: drop-shadow(0px 1px 2px rgba(0, 0, 0, 0.3));\n",
              "      fill: #FFFFFF;\n",
              "    }\n",
              "  </style>\n",
              "\n",
              "      <script>\n",
              "        const buttonEl =\n",
              "          document.querySelector('#df-27459eea-6dd3-40ca-945d-2eb6251521ed button.colab-df-convert');\n",
              "        buttonEl.style.display =\n",
              "          google.colab.kernel.accessAllowed ? 'block' : 'none';\n",
              "\n",
              "        async function convertToInteractive(key) {\n",
              "          const element = document.querySelector('#df-27459eea-6dd3-40ca-945d-2eb6251521ed');\n",
              "          const dataTable =\n",
              "            await google.colab.kernel.invokeFunction('convertToInteractive',\n",
              "                                                     [key], {});\n",
              "          if (!dataTable) return;\n",
              "\n",
              "          const docLinkHtml = 'Like what you see? Visit the ' +\n",
              "            '<a target=\"_blank\" href=https://colab.research.google.com/notebooks/data_table.ipynb>data table notebook</a>'\n",
              "            + ' to learn more about interactive tables.';\n",
              "          element.innerHTML = '';\n",
              "          dataTable['output_type'] = 'display_data';\n",
              "          await google.colab.output.renderOutput(dataTable, element);\n",
              "          const docLink = document.createElement('div');\n",
              "          docLink.innerHTML = docLinkHtml;\n",
              "          element.appendChild(docLink);\n",
              "        }\n",
              "      </script>\n",
              "    </div>\n",
              "  </div>\n",
              "  "
            ]
          },
          "metadata": {},
          "execution_count": 36
        }
      ],
      "source": [
        "training_data.head()"
      ]
    },
    {
      "cell_type": "code",
      "execution_count": 36,
      "id": "3db8487e",
      "metadata": {
        "id": "3db8487e"
      },
      "outputs": [],
      "source": []
    },
    {
      "cell_type": "code",
      "execution_count": 37,
      "id": "271af494",
      "metadata": {
        "id": "271af494"
      },
      "outputs": [],
      "source": [
        "final_training_data = pd.merge(training_data, labels, on='respondent_id')"
      ]
    },
    {
      "cell_type": "code",
      "execution_count": 38,
      "id": "088a9e24",
      "metadata": {
        "id": "088a9e24"
      },
      "outputs": [],
      "source": [
        "label1 = final_training_data['h1n1_vaccine']\n",
        "label2 = final_training_data['seasonal_vaccine']"
      ]
    },
    {
      "cell_type": "code",
      "execution_count": 38,
      "id": "8606a7f9",
      "metadata": {
        "id": "8606a7f9"
      },
      "outputs": [],
      "source": []
    },
    {
      "cell_type": "code",
      "execution_count": 39,
      "id": "7f6fe904",
      "metadata": {
        "id": "7f6fe904"
      },
      "outputs": [],
      "source": [
        "final_training_data.drop('respondent_id', axis=1, inplace=True)"
      ]
    },
    {
      "cell_type": "code",
      "execution_count": 39,
      "id": "4fe7b15a",
      "metadata": {
        "id": "4fe7b15a"
      },
      "outputs": [],
      "source": []
    },
    {
      "cell_type": "code",
      "execution_count": 40,
      "id": "316c34ce",
      "metadata": {
        "id": "316c34ce"
      },
      "outputs": [],
      "source": [
        "data = final_training_data.drop(['h1n1_vaccine','seasonal_vaccine'], axis=1)"
      ]
    },
    {
      "cell_type": "code",
      "execution_count": 40,
      "id": "271d8894",
      "metadata": {
        "id": "271d8894"
      },
      "outputs": [],
      "source": []
    },
    {
      "cell_type": "code",
      "execution_count": 40,
      "id": "2cc35b96",
      "metadata": {
        "id": "2cc35b96"
      },
      "outputs": [],
      "source": []
    },
    {
      "cell_type": "code",
      "execution_count": 41,
      "id": "1414e65b",
      "metadata": {
        "id": "1414e65b"
      },
      "outputs": [],
      "source": [
        "from sklearn.metrics import classification_report"
      ]
    },
    {
      "cell_type": "code",
      "execution_count": 46,
      "id": "48848676",
      "metadata": {
        "colab": {
          "base_uri": "https://localhost:8080/"
        },
        "id": "48848676",
        "outputId": "52621566-e800-4053-dcff-9908f3e94713"
      },
      "outputs": [
        {
          "output_type": "stream",
          "name": "stdout",
          "text": [
            "Looking in indexes: https://pypi.org/simple, https://us-python.pkg.dev/colab-wheels/public/simple/\n",
            "Collecting optuna\n",
            "  Downloading optuna-3.1.1-py3-none-any.whl (365 kB)\n",
            "\u001b[2K     \u001b[90m━━━━━━━━━━━━━━━━━━━━━━━━━━━━━━━━━━━━━━\u001b[0m \u001b[32m365.7/365.7 kB\u001b[0m \u001b[31m27.0 MB/s\u001b[0m eta \u001b[36m0:00:00\u001b[0m\n",
            "\u001b[?25hCollecting alembic>=1.5.0 (from optuna)\n",
            "  Downloading alembic-1.11.0-py3-none-any.whl (224 kB)\n",
            "\u001b[2K     \u001b[90m━━━━━━━━━━━━━━━━━━━━━━━━━━━━━━━━━━━━━━\u001b[0m \u001b[32m224.3/224.3 kB\u001b[0m \u001b[31m26.1 MB/s\u001b[0m eta \u001b[36m0:00:00\u001b[0m\n",
            "\u001b[?25hCollecting cmaes>=0.9.1 (from optuna)\n",
            "  Downloading cmaes-0.9.1-py3-none-any.whl (21 kB)\n",
            "Collecting colorlog (from optuna)\n",
            "  Downloading colorlog-6.7.0-py2.py3-none-any.whl (11 kB)\n",
            "Requirement already satisfied: numpy in /usr/local/lib/python3.10/dist-packages (from optuna) (1.22.4)\n",
            "Requirement already satisfied: packaging>=20.0 in /usr/local/lib/python3.10/dist-packages (from optuna) (23.1)\n",
            "Requirement already satisfied: sqlalchemy>=1.3.0 in /usr/local/lib/python3.10/dist-packages (from optuna) (2.0.10)\n",
            "Requirement already satisfied: tqdm in /usr/local/lib/python3.10/dist-packages (from optuna) (4.65.0)\n",
            "Requirement already satisfied: PyYAML in /usr/local/lib/python3.10/dist-packages (from optuna) (6.0)\n",
            "Collecting Mako (from alembic>=1.5.0->optuna)\n",
            "  Downloading Mako-1.2.4-py3-none-any.whl (78 kB)\n",
            "\u001b[2K     \u001b[90m━━━━━━━━━━━━━━━━━━━━━━━━━━━━━━━━━━━━━━━━\u001b[0m \u001b[32m78.7/78.7 kB\u001b[0m \u001b[31m10.3 MB/s\u001b[0m eta \u001b[36m0:00:00\u001b[0m\n",
            "\u001b[?25hRequirement already satisfied: typing-extensions>=4 in /usr/local/lib/python3.10/dist-packages (from alembic>=1.5.0->optuna) (4.5.0)\n",
            "Requirement already satisfied: greenlet!=0.4.17 in /usr/local/lib/python3.10/dist-packages (from sqlalchemy>=1.3.0->optuna) (2.0.2)\n",
            "Requirement already satisfied: MarkupSafe>=0.9.2 in /usr/local/lib/python3.10/dist-packages (from Mako->alembic>=1.5.0->optuna) (2.1.2)\n",
            "Installing collected packages: Mako, colorlog, cmaes, alembic, optuna\n",
            "Successfully installed Mako-1.2.4 alembic-1.11.0 cmaes-0.9.1 colorlog-6.7.0 optuna-3.1.1\n"
          ]
        }
      ],
      "source": [
        "pip install optuna"
      ]
    },
    {
      "cell_type": "code",
      "execution_count": 47,
      "id": "78899bc5",
      "metadata": {
        "id": "78899bc5"
      },
      "outputs": [],
      "source": [
        "import optuna\n",
        "from optuna import visualization"
      ]
    },
    {
      "cell_type": "code",
      "execution_count": 50,
      "id": "b654f5e9",
      "metadata": {
        "id": "b654f5e9"
      },
      "outputs": [],
      "source": [
        "from optuna.samplers import TPESampler"
      ]
    },
    {
      "cell_type": "code",
      "execution_count": 48,
      "id": "ce8a8f82",
      "metadata": {
        "id": "ce8a8f82"
      },
      "outputs": [],
      "source": [
        "from xgboost import XGBClassifier\n",
        "from sklearn.model_selection import train_test_split\n",
        "from sklearn.metrics import roc_curve, roc_auc_score"
      ]
    },
    {
      "cell_type": "code",
      "execution_count": 51,
      "id": "989e36e0",
      "metadata": {
        "id": "989e36e0"
      },
      "outputs": [],
      "source": [
        "X_train, X_test, y_train, y_test = train_test_split(data, label1, test_size=0.2, random_state=101)\n",
        "\n",
        "# Define the objective function\n",
        "def objective(trial):\n",
        "    param = {\n",
        "        'n_estimators': trial.suggest_int('n_estimators', 50, 500),\n",
        "        'max_depth': trial.suggest_int('max_depth', 3, 10),\n",
        "        'reg_alpha': trial.suggest_float('reg_alpha', 1e-8, 1.0),\n",
        "        'reg_lambda': trial.suggest_float('reg_lambda', 1e-8, 1.0),\n",
        "        'min_child_weight': trial.suggest_int('min_child_weight', 0, 6),\n",
        "        'gamma': trial.suggest_float('gamma',1e-8, 1.0),\n",
        "        'learning_rate': trial.suggest_float('learning_rate', 0.01, 1),\n",
        "        'colsample_bytree': trial.suggest_float('colsample_bytree', 0.3, 0.8),\n",
        "        'subsample': trial.suggest_float('subsample', 0.3, 0.8),\n",
        "    }\n",
        "    \n",
        "    xgb = XGBClassifier(**param, missing= np.nan, tree_method=\"gpu_hist\")\n",
        "    #early_stopping_rounds=10,\n",
        "    \n",
        "    from sklearn.model_selection import cross_val_score\n",
        "    scores = cross_val_score(xgb, data, label1, cv=5, scoring='roc_auc')\n",
        "    AUC = np.mean(scores).max() #scores['test-AUC-mean'].max()\n",
        "    return AUC"
      ]
    },
    {
      "cell_type": "code",
      "execution_count": 52,
      "id": "4322f521",
      "metadata": {
        "colab": {
          "base_uri": "https://localhost:8080/",
          "height": 1000,
          "referenced_widgets": [
            "592feca36e014620b4002cbce3df6cc7",
            "33fdcfa9f9af4abdb0a6ab508fe70c45",
            "447a567b77af4650bea268db38084ed1",
            "9be2515e38c043818c4b530b26fe2061",
            "aaabee914eb0468fadeebf2f5ffcbb09",
            "5986fa11fe914151b3f87390af6844b9",
            "e0a0127ba1a748118af94aefb18d3e6f",
            "ac4d76d5df614798a7b839287694b95d",
            "e62ee311f1f84454a9657ed332711e90",
            "36a59b73c05a4e0a804376beeedf9186",
            "07eb239c08ab4c9db569e2ccd4902e6c"
          ]
        },
        "id": "4322f521",
        "outputId": "b76423bf-0fcc-4afa-eba3-1d0c2985d72d"
      },
      "outputs": [
        {
          "output_type": "stream",
          "name": "stderr",
          "text": [
            "\u001b[32m[I 2023-05-17 03:07:20,659]\u001b[0m A new study created in memory with name: no-name-3da696e0-e316-42c8-b370-68c1f1b5c8f6\u001b[0m\n",
            "/usr/local/lib/python3.10/dist-packages/optuna/progress_bar.py:56: ExperimentalWarning: Progress bar is experimental (supported from v1.2.0). The interface can change in the future.\n",
            "  self._init_valid()\n"
          ]
        },
        {
          "output_type": "display_data",
          "data": {
            "text/plain": [
              "  0%|          | 0/120 [00:00<?, ?it/s]"
            ],
            "application/vnd.jupyter.widget-view+json": {
              "version_major": 2,
              "version_minor": 0,
              "model_id": "592feca36e014620b4002cbce3df6cc7"
            }
          },
          "metadata": {}
        },
        {
          "output_type": "stream",
          "name": "stdout",
          "text": [
            "\u001b[32m[I 2023-05-17 03:07:25,229]\u001b[0m Trial 0 finished with value: 0.8690151864194938 and parameters: {'n_estimators': 316, 'max_depth': 3, 'reg_alpha': 0.7225879702024371, 'reg_lambda': 0.18528140695085546, 'min_child_weight': 5, 'gamma': 0.7350157837124667, 'learning_rate': 0.03586854362379052, 'colsample_bytree': 0.7585793432871033, 'subsample': 0.5279006400592365}. Best is trial 0 with value: 0.8690151864194938.\u001b[0m\n",
            "\u001b[32m[I 2023-05-17 03:07:28,713]\u001b[0m Trial 1 finished with value: 0.837078323834956 and parameters: {'n_estimators': 197, 'max_depth': 6, 'reg_alpha': 0.17899984544314246, 'reg_lambda': 0.438339376189665, 'min_child_weight': 6, 'gamma': 0.6789799526611687, 'learning_rate': 0.35670832963033294, 'colsample_bytree': 0.5547383160834962, 'subsample': 0.49970963125505113}. Best is trial 0 with value: 0.8690151864194938.\u001b[0m\n",
            "\u001b[32m[I 2023-05-17 03:07:32,463]\u001b[0m Trial 2 finished with value: 0.8486362257135246 and parameters: {'n_estimators': 91, 'max_depth': 9, 'reg_alpha': 0.21348602573868208, 'reg_lambda': 0.21492345489528777, 'min_child_weight': 6, 'gamma': 0.7790969411199271, 'learning_rate': 0.25043916412008554, 'colsample_bytree': 0.5264880515552464, 'subsample': 0.3751515734972276}. Best is trial 0 with value: 0.8690151864194938.\u001b[0m\n",
            "\u001b[32m[I 2023-05-17 03:07:38,381]\u001b[0m Trial 3 finished with value: 0.793782795247868 and parameters: {'n_estimators': 439, 'max_depth': 6, 'reg_alpha': 0.792728899644216, 'reg_lambda': 0.43522523420082215, 'min_child_weight': 3, 'gamma': 0.9601780025706744, 'learning_rate': 0.8658154474104727, 'colsample_bytree': 0.5701961983954638, 'subsample': 0.5956422217048253}. Best is trial 0 with value: 0.8690151864194938.\u001b[0m\n",
            "\u001b[32m[I 2023-05-17 03:07:40,987]\u001b[0m Trial 4 finished with value: 0.8372179706810833 and parameters: {'n_estimators': 76, 'max_depth': 8, 'reg_alpha': 0.6097904228385594, 'reg_lambda': 0.6842438734925165, 'min_child_weight': 0, 'gamma': 0.7949946384264672, 'learning_rate': 0.3816031101851277, 'colsample_bytree': 0.5634462785749881, 'subsample': 0.507422980391901}. Best is trial 0 with value: 0.8690151864194938.\u001b[0m\n",
            "\u001b[32m[I 2023-05-17 03:07:46,921]\u001b[0m Trial 5 finished with value: 0.8704046571551695 and parameters: {'n_estimators': 198, 'max_depth': 9, 'reg_alpha': 0.6781995123206157, 'reg_lambda': 0.9943654250670861, 'min_child_weight': 5, 'gamma': 0.8494955139705193, 'learning_rate': 0.0464930976747895, 'colsample_bytree': 0.5483078568756705, 'subsample': 0.6821856634121968}. Best is trial 5 with value: 0.8704046571551695.\u001b[0m\n",
            "\u001b[32m[I 2023-05-17 03:07:51,787]\u001b[0m Trial 6 finished with value: 0.8385880457540373 and parameters: {'n_estimators': 375, 'max_depth': 10, 'reg_alpha': 0.6724622743114327, 'reg_lambda': 0.14043578027649836, 'min_child_weight': 3, 'gamma': 0.7618696323057672, 'learning_rate': 0.40674738200454036, 'colsample_bytree': 0.3947750781733267, 'subsample': 0.7837983281192331}. Best is trial 5 with value: 0.8704046571551695.\u001b[0m\n",
            "\u001b[32m[I 2023-05-17 03:07:57,400]\u001b[0m Trial 7 finished with value: 0.8700249852155235 and parameters: {'n_estimators': 498, 'max_depth': 3, 'reg_alpha': 0.6614760775613827, 'reg_lambda': 0.7917364379928074, 'min_child_weight': 3, 'gamma': 0.5616535394071197, 'learning_rate': 0.09726928605642458, 'colsample_bytree': 0.7052448856876686, 'subsample': 0.6521985953125866}. Best is trial 5 with value: 0.8704046571551695.\u001b[0m\n",
            "\u001b[32m[I 2023-05-17 03:08:03,077]\u001b[0m Trial 8 finished with value: 0.787298214312139 and parameters: {'n_estimators': 320, 'max_depth': 6, 'reg_alpha': 0.41216215914137, 'reg_lambda': 0.2273740609110824, 'min_child_weight': 3, 'gamma': 0.5314279685910787, 'learning_rate': 0.9921476597729563, 'colsample_bytree': 0.6574955346617822, 'subsample': 0.5951345286982237}. Best is trial 5 with value: 0.8704046571551695.\u001b[0m\n",
            "\u001b[32m[I 2023-05-17 03:08:08,569]\u001b[0m Trial 9 finished with value: 0.807978227010269 and parameters: {'n_estimators': 331, 'max_depth': 8, 'reg_alpha': 0.07417224922350807, 'reg_lambda': 0.7851414388611208, 'min_child_weight': 1, 'gamma': 0.9334709696146865, 'learning_rate': 0.6923675501067659, 'colsample_bytree': 0.5205749205274182, 'subsample': 0.61707200634043}. Best is trial 5 with value: 0.8704046571551695.\u001b[0m\n",
            "\u001b[32m[I 2023-05-17 03:08:13,978]\u001b[0m Trial 10 finished with value: 0.8305468901173974 and parameters: {'n_estimators': 201, 'max_depth': 10, 'reg_alpha': 0.9293370427660262, 'reg_lambda': 0.9968176127288885, 'min_child_weight': 5, 'gamma': 0.25509425950994524, 'learning_rate': 0.5285976179848628, 'colsample_bytree': 0.3063647125045351, 'subsample': 0.7580333147684574}. Best is trial 5 with value: 0.8704046571551695.\u001b[0m\n",
            "\u001b[32m[I 2023-05-17 03:08:18,560]\u001b[0m Trial 11 finished with value: 0.8656632155009664 and parameters: {'n_estimators': 493, 'max_depth': 3, 'reg_alpha': 0.49003063454223394, 'reg_lambda': 0.9573298848600962, 'min_child_weight': 4, 'gamma': 0.41885363529851993, 'learning_rate': 0.013869753868897765, 'colsample_bytree': 0.7657826008121841, 'subsample': 0.7002783672007798}. Best is trial 5 with value: 0.8704046571551695.\u001b[0m\n",
            "\u001b[32m[I 2023-05-17 03:08:22,621]\u001b[0m Trial 12 finished with value: 0.8684091837955308 and parameters: {'n_estimators': 209, 'max_depth': 4, 'reg_alpha': 0.9124330108878594, 'reg_lambda': 0.8196737265448197, 'min_child_weight': 2, 'gamma': 0.01526225418924293, 'learning_rate': 0.1609538461403252, 'colsample_bytree': 0.6715771981509192, 'subsample': 0.6975194384570332}. Best is trial 5 with value: 0.8704046571551695.\u001b[0m\n",
            "\u001b[32m[I 2023-05-17 03:08:25,313]\u001b[0m Trial 13 finished with value: 0.8676384228219206 and parameters: {'n_estimators': 140, 'max_depth': 5, 'reg_alpha': 0.5658231415825549, 'reg_lambda': 0.6566550371268577, 'min_child_weight': 4, 'gamma': 0.5796578723060689, 'learning_rate': 0.17065397303352597, 'colsample_bytree': 0.6557376448381509, 'subsample': 0.6776429987588548}. Best is trial 5 with value: 0.8704046571551695.\u001b[0m\n",
            "\u001b[32m[I 2023-05-17 03:08:29,659]\u001b[0m Trial 14 finished with value: 0.8671743346208288 and parameters: {'n_estimators': 255, 'max_depth': 8, 'reg_alpha': 0.8045636377950701, 'reg_lambda': 0.8941743684205716, 'min_child_weight': 2, 'gamma': 0.9954617440037292, 'learning_rate': 0.12634794485718837, 'colsample_bytree': 0.4560237695346152, 'subsample': 0.7911959700225695}. Best is trial 5 with value: 0.8704046571551695.\u001b[0m\n",
            "\u001b[32m[I 2023-05-17 03:08:37,853]\u001b[0m Trial 15 finished with value: 0.8712470501784597 and parameters: {'n_estimators': 410, 'max_depth': 7, 'reg_alpha': 0.41720929162716663, 'reg_lambda': 0.983924203866372, 'min_child_weight': 4, 'gamma': 0.6201655294631421, 'learning_rate': 0.025649950498948457, 'colsample_bytree': 0.7057011701568341, 'subsample': 0.6520787645159916}. Best is trial 15 with value: 0.8712470501784597.\u001b[0m\n",
            "\u001b[32m[I 2023-05-17 03:08:46,457]\u001b[0m Trial 16 finished with value: 0.871544639885655 and parameters: {'n_estimators': 398, 'max_depth': 7, 'reg_alpha': 0.38300912154452915, 'reg_lambda': 0.9942248757773158, 'min_child_weight': 5, 'gamma': 0.8695086395827232, 'learning_rate': 0.013208507771992332, 'colsample_bytree': 0.6138293349801043, 'subsample': 0.7378852889649337}. Best is trial 16 with value: 0.871544639885655.\u001b[0m\n",
            "\u001b[32m[I 2023-05-17 03:08:53,268]\u001b[0m Trial 17 finished with value: 0.8434928520202811 and parameters: {'n_estimators': 402, 'max_depth': 7, 'reg_alpha': 0.3667773593290761, 'reg_lambda': 0.8792711296983498, 'min_child_weight': 4, 'gamma': 0.6530451089795809, 'learning_rate': 0.23130129784012093, 'colsample_bytree': 0.7956746905497293, 'subsample': 0.7427134991621617}. Best is trial 16 with value: 0.871544639885655.\u001b[0m\n",
            "\u001b[32m[I 2023-05-17 03:09:00,111]\u001b[0m Trial 18 finished with value: 0.8498938805546892 and parameters: {'n_estimators': 436, 'max_depth': 7, 'reg_alpha': 0.3649686823391613, 'reg_lambda': 0.6570743791712067, 'min_child_weight': 6, 'gamma': 0.8772202401813964, 'learning_rate': 0.22646112405566227, 'colsample_bytree': 0.6191438483789189, 'subsample': 0.7255975316324219}. Best is trial 16 with value: 0.871544639885655.\u001b[0m\n",
            "\u001b[32m[I 2023-05-17 03:09:05,096]\u001b[0m Trial 19 finished with value: 0.87128721764738 and parameters: {'n_estimators': 377, 'max_depth': 5, 'reg_alpha': 0.49002762103849784, 'reg_lambda': 0.8999820289824088, 'min_child_weight': 5, 'gamma': 0.8864724991081907, 'learning_rate': 0.02027227108523305, 'colsample_bytree': 0.7175898905967929, 'subsample': 0.6359775257289274}. Best is trial 16 with value: 0.871544639885655.\u001b[0m\n",
            "\u001b[32m[I 2023-05-17 03:09:09,652]\u001b[0m Trial 20 finished with value: 0.8522511523744442 and parameters: {'n_estimators': 361, 'max_depth': 5, 'reg_alpha': 0.530864168213417, 'reg_lambda': 0.5608467033751959, 'min_child_weight': 5, 'gamma': 0.9086392129734321, 'learning_rate': 0.2853985723151257, 'colsample_bytree': 0.6062671872642584, 'subsample': 0.7988293388783055}. Best is trial 16 with value: 0.871544639885655.\u001b[0m\n",
            "\u001b[32m[I 2023-05-17 03:09:15,641]\u001b[0m Trial 21 finished with value: 0.8716953501165055 and parameters: {'n_estimators': 430, 'max_depth': 5, 'reg_alpha': 0.45041876457284435, 'reg_lambda': 0.9051675245470171, 'min_child_weight': 4, 'gamma': 0.8498038154686556, 'learning_rate': 0.026953777354808826, 'colsample_bytree': 0.7175551085966682, 'subsample': 0.6394243408576074}. Best is trial 21 with value: 0.8716953501165055.\u001b[0m\n",
            "\u001b[32m[I 2023-05-17 03:09:21,487]\u001b[0m Trial 22 finished with value: 0.8636276201939685 and parameters: {'n_estimators': 465, 'max_depth': 5, 'reg_alpha': 0.2910829695100966, 'reg_lambda': 0.885443861967898, 'min_child_weight': 5, 'gamma': 0.8500619583726458, 'learning_rate': 0.10102339417263184, 'colsample_bytree': 0.7146478333561319, 'subsample': 0.7261642233874548}. Best is trial 21 with value: 0.8716953501165055.\u001b[0m\n",
            "\u001b[32m[I 2023-05-17 03:09:26,796]\u001b[0m Trial 23 finished with value: 0.8645029867288396 and parameters: {'n_estimators': 374, 'max_depth': 4, 'reg_alpha': 0.4771428877685999, 'reg_lambda': 0.879225290411576, 'min_child_weight': 4, 'gamma': 0.9516439409732167, 'learning_rate': 0.010667487421636979, 'colsample_bytree': 0.7309413416500643, 'subsample': 0.5662168377261478}. Best is trial 21 with value: 0.8716953501165055.\u001b[0m\n",
            "\u001b[32m[I 2023-05-17 03:09:31,395]\u001b[0m Trial 24 finished with value: 0.8640586962730131 and parameters: {'n_estimators': 425, 'max_depth': 4, 'reg_alpha': 0.4798704585798848, 'reg_lambda': 0.7447195269487039, 'min_child_weight': 6, 'gamma': 0.9926060994562624, 'learning_rate': 0.16060755527883663, 'colsample_bytree': 0.6218979169780147, 'subsample': 0.6341456929825311}. Best is trial 21 with value: 0.8716953501165055.\u001b[0m\n",
            "\u001b[32m[I 2023-05-17 03:09:36,316]\u001b[0m Trial 25 finished with value: 0.8686319053424467 and parameters: {'n_estimators': 267, 'max_depth': 5, 'reg_alpha': 0.5706569447135136, 'reg_lambda': 0.9048852570063902, 'min_child_weight': 5, 'gamma': 0.8356609996748783, 'learning_rate': 0.10264138499214104, 'colsample_bytree': 0.6766390298182678, 'subsample': 0.6570752269860475}. Best is trial 21 with value: 0.8716953501165055.\u001b[0m\n",
            "\u001b[32m[I 2023-05-17 03:09:42,812]\u001b[0m Trial 26 finished with value: 0.8495877895412738 and parameters: {'n_estimators': 460, 'max_depth': 6, 'reg_alpha': 0.2903800543995583, 'reg_lambda': 0.8037610814977507, 'min_child_weight': 4, 'gamma': 0.7053242373971915, 'learning_rate': 0.17771702934010192, 'colsample_bytree': 0.7421118377071702, 'subsample': 0.7129817755221037}. Best is trial 21 with value: 0.8716953501165055.\u001b[0m\n",
            "\u001b[32m[I 2023-05-17 03:09:46,747]\u001b[0m Trial 27 finished with value: 0.8704149771634293 and parameters: {'n_estimators': 299, 'max_depth': 4, 'reg_alpha': 0.43927688759319417, 'reg_lambda': 0.9557962111921017, 'min_child_weight': 5, 'gamma': 0.8822452501242637, 'learning_rate': 0.09467866687458718, 'colsample_bytree': 0.7978927455652316, 'subsample': 0.7551523522250116}. Best is trial 21 with value: 0.8716953501165055.\u001b[0m\n",
            "\u001b[32m[I 2023-05-17 03:09:51,997]\u001b[0m Trial 28 finished with value: 0.8423808014507632 and parameters: {'n_estimators': 345, 'max_depth': 5, 'reg_alpha': 0.5451194307619176, 'reg_lambda': 0.8357219189088468, 'min_child_weight': 6, 'gamma': 0.8061679236917927, 'learning_rate': 0.3122458966274764, 'colsample_bytree': 0.6873920311755743, 'subsample': 0.6168886004291169}. Best is trial 21 with value: 0.8716953501165055.\u001b[0m\n",
            "\u001b[32m[I 2023-05-17 03:09:59,517]\u001b[0m Trial 29 finished with value: 0.8627515701784214 and parameters: {'n_estimators': 398, 'max_depth': 7, 'reg_alpha': 0.3406239958671533, 'reg_lambda': 0.9253897430176542, 'min_child_weight': 2, 'gamma': 0.7151181865738394, 'learning_rate': 0.07002124223302798, 'colsample_bytree': 0.7549647530577497, 'subsample': 0.6980719066164112}. Best is trial 21 with value: 0.8716953501165055.\u001b[0m\n",
            "\u001b[32m[I 2023-05-17 03:10:06,060]\u001b[0m Trial 30 finished with value: 0.8713221122419128 and parameters: {'n_estimators': 382, 'max_depth': 6, 'reg_alpha': 0.45390652957539035, 'reg_lambda': 0.7496381015125058, 'min_child_weight': 4, 'gamma': 0.7530185202417542, 'learning_rate': 0.016450424425146173, 'colsample_bytree': 0.6369485319668347, 'subsample': 0.5566398496063025}. Best is trial 21 with value: 0.8716953501165055.\u001b[0m\n",
            "\u001b[32m[I 2023-05-17 03:10:12,393]\u001b[0m Trial 31 finished with value: 0.8693554527741721 and parameters: {'n_estimators': 386, 'max_depth': 6, 'reg_alpha': 0.43692827068725115, 'reg_lambda': 0.7406532326705001, 'min_child_weight': 4, 'gamma': 0.748054874542438, 'learning_rate': 0.057355116010021155, 'colsample_bytree': 0.6348698343181385, 'subsample': 0.5482425179219679}. Best is trial 21 with value: 0.8716953501165055.\u001b[0m\n",
            "\u001b[32m[I 2023-05-17 03:10:17,965]\u001b[0m Trial 32 finished with value: 0.8708295708911435 and parameters: {'n_estimators': 297, 'max_depth': 6, 'reg_alpha': 0.4954519884181701, 'reg_lambda': 0.8596742343326155, 'min_child_weight': 5, 'gamma': 0.9041185947847331, 'learning_rate': 0.018504262341225194, 'colsample_bytree': 0.6870254222779689, 'subsample': 0.5682080543465184}. Best is trial 21 with value: 0.8716953501165055.\u001b[0m\n",
            "\u001b[32m[I 2023-05-17 03:10:24,653]\u001b[0m Trial 33 finished with value: 0.8491044479664698 and parameters: {'n_estimators': 461, 'max_depth': 5, 'reg_alpha': 0.2809187416945168, 'reg_lambda': 0.9336642761876756, 'min_child_weight': 3, 'gamma': 0.7991884011574502, 'learning_rate': 0.20101640310206398, 'colsample_bytree': 0.6009875428506478, 'subsample': 0.5063643374972936}. Best is trial 21 with value: 0.8716953501165055.\u001b[0m\n",
            "\u001b[32m[I 2023-05-17 03:10:30,416]\u001b[0m Trial 34 finished with value: 0.858519942299678 and parameters: {'n_estimators': 345, 'max_depth': 6, 'reg_alpha': 0.19809051412051593, 'reg_lambda': 0.9351613942575623, 'min_child_weight': 6, 'gamma': 0.7527941168278716, 'learning_rate': 0.13094681140582345, 'colsample_bytree': 0.6479814248436049, 'subsample': 0.47226121802296067}. Best is trial 21 with value: 0.8716953501165055.\u001b[0m\n",
            "\u001b[32m[I 2023-05-17 03:10:38,593]\u001b[0m Trial 35 finished with value: 0.8609919577301142 and parameters: {'n_estimators': 424, 'max_depth': 7, 'reg_alpha': 0.5882476770211386, 'reg_lambda': 0.8395703571359749, 'min_child_weight': 4, 'gamma': 0.6674841803280457, 'learning_rate': 0.08086321721929798, 'colsample_bytree': 0.7261123421323687, 'subsample': 0.5991572862943366}. Best is trial 21 with value: 0.8716953501165055.\u001b[0m\n",
            "\u001b[32m[I 2023-05-17 03:10:43,434]\u001b[0m Trial 36 finished with value: 0.8432098307541928 and parameters: {'n_estimators': 240, 'max_depth': 8, 'reg_alpha': 0.38886798392839894, 'reg_lambda': 0.9971205199055897, 'min_child_weight': 5, 'gamma': 0.8299340642181414, 'learning_rate': 0.25709412434162804, 'colsample_bytree': 0.5902292986961499, 'subsample': 0.6363289130323552}. Best is trial 21 with value: 0.8716953501165055.\u001b[0m\n",
            "\u001b[32m[I 2023-05-17 03:10:47,531]\u001b[0m Trial 37 finished with value: 0.8649471525290936 and parameters: {'n_estimators': 357, 'max_depth': 4, 'reg_alpha': 0.45952131829060655, 'reg_lambda': 0.7393280347744715, 'min_child_weight': 6, 'gamma': 0.9227586156694423, 'learning_rate': 0.011579453606222591, 'colsample_bytree': 0.6518339602446884, 'subsample': 0.672346091358824}. Best is trial 21 with value: 0.8716953501165055.\u001b[0m\n",
            "\u001b[32m[I 2023-05-17 03:10:53,212]\u001b[0m Trial 38 finished with value: 0.8596780430174865 and parameters: {'n_estimators': 299, 'max_depth': 6, 'reg_alpha': 0.631282690553539, 'reg_lambda': 0.9279697522535473, 'min_child_weight': 5, 'gamma': 0.7798655183128537, 'learning_rate': 0.12898540381152296, 'colsample_bytree': 0.7014730480453192, 'subsample': 0.531630342383623}. Best is trial 21 with value: 0.8716953501165055.\u001b[0m\n",
            "\u001b[32m[I 2023-05-17 03:11:03,598]\u001b[0m Trial 39 finished with value: 0.8580855129286844 and parameters: {'n_estimators': 442, 'max_depth': 9, 'reg_alpha': 0.5262628794049713, 'reg_lambda': 0.8533883153220143, 'min_child_weight': 3, 'gamma': 0.8576427445209162, 'learning_rate': 0.07664708717621646, 'colsample_bytree': 0.6363855640915895, 'subsample': 0.4872218621004301}. Best is trial 21 with value: 0.8716953501165055.\u001b[0m\n",
            "\u001b[32m[I 2023-05-17 03:11:08,647]\u001b[0m Trial 40 finished with value: 0.8501605900785357 and parameters: {'n_estimators': 385, 'max_depth': 5, 'reg_alpha': 0.3248213856009046, 'reg_lambda': 0.7769665572662898, 'min_child_weight': 0, 'gamma': 0.9557832548235515, 'learning_rate': 0.2058781236849517, 'colsample_bytree': 0.6861356328924083, 'subsample': 0.5824953063189597}. Best is trial 21 with value: 0.8716953501165055.\u001b[0m\n",
            "\u001b[32m[I 2023-05-17 03:11:16,783]\u001b[0m Trial 41 finished with value: 0.8678610326524436 and parameters: {'n_estimators': 410, 'max_depth': 7, 'reg_alpha': 0.39690339764716526, 'reg_lambda': 0.999997150097957, 'min_child_weight': 4, 'gamma': 0.6413123091367311, 'learning_rate': 0.049179947340922514, 'colsample_bytree': 0.7088182151913488, 'subsample': 0.6584496887536931}. Best is trial 21 with value: 0.8716953501165055.\u001b[0m\n",
            "\u001b[32m[I 2023-05-17 03:11:25,197]\u001b[0m Trial 42 finished with value: 0.8649490800027188 and parameters: {'n_estimators': 487, 'max_depth': 7, 'reg_alpha': 0.4121155846449792, 'reg_lambda': 0.9479977484233437, 'min_child_weight': 4, 'gamma': 0.685131340476754, 'learning_rate': 0.05225541100283437, 'colsample_bytree': 0.7343071392839252, 'subsample': 0.633019356739838}. Best is trial 21 with value: 0.8716953501165055.\u001b[0m\n",
            "\u001b[32m[I 2023-05-17 03:11:33,125]\u001b[0m Trial 43 finished with value: 0.854182140253575 and parameters: {'n_estimators': 408, 'max_depth': 8, 'reg_alpha': 0.44047739747933173, 'reg_lambda': 0.9616486779844472, 'min_child_weight': 4, 'gamma': 0.7884341443323327, 'learning_rate': 0.133649539584482, 'colsample_bytree': 0.5840250128251878, 'subsample': 0.6784255544269063}. Best is trial 21 with value: 0.8716953501165055.\u001b[0m\n",
            "\u001b[32m[I 2023-05-17 03:11:38,855]\u001b[0m Trial 44 finished with value: 0.8687000606600384 and parameters: {'n_estimators': 328, 'max_depth': 6, 'reg_alpha': 0.5287721783126604, 'reg_lambda': 0.8946996195282404, 'min_child_weight': 3, 'gamma': 0.7391310739534657, 'learning_rate': 0.011168444655002246, 'colsample_bytree': 0.6658899218920145, 'subsample': 0.6144510486002851}. Best is trial 21 with value: 0.8716953501165055.\u001b[0m\n",
            "\u001b[32m[I 2023-05-17 03:11:45,849]\u001b[0m Trial 45 finished with value: 0.8671107195587263 and parameters: {'n_estimators': 452, 'max_depth': 6, 'reg_alpha': 0.2369912770531524, 'reg_lambda': 0.8476718811624709, 'min_child_weight': 5, 'gamma': 0.8938814767299451, 'learning_rate': 0.06038072105563812, 'colsample_bytree': 0.764119390425138, 'subsample': 0.764859007562993}. Best is trial 21 with value: 0.8716953501165055.\u001b[0m\n",
            "\u001b[32m[I 2023-05-17 03:11:52,851]\u001b[0m Trial 46 finished with value: 0.8513727951412488 and parameters: {'n_estimators': 366, 'max_depth': 7, 'reg_alpha': 0.3943043748188494, 'reg_lambda': 0.9873352825816588, 'min_child_weight': 3, 'gamma': 0.8187647819198184, 'learning_rate': 0.15578957460574377, 'colsample_bytree': 0.7046101825679766, 'subsample': 0.6473498655177667}. Best is trial 21 with value: 0.8716953501165055.\u001b[0m\n",
            "\u001b[32m[I 2023-05-17 03:11:57,002]\u001b[0m Trial 47 finished with value: 0.8671304925006981 and parameters: {'n_estimators': 136, 'max_depth': 9, 'reg_alpha': 0.5948438582681121, 'reg_lambda': 0.8103201388100288, 'min_child_weight': 4, 'gamma': 0.6165135825878203, 'learning_rate': 0.09728224623903314, 'colsample_bytree': 0.5668382946133448, 'subsample': 0.6860101299511552}. Best is trial 21 with value: 0.8716953501165055.\u001b[0m\n",
            "\u001b[32m[I 2023-05-17 03:12:01,394]\u001b[0m Trial 48 finished with value: 0.8705466497810412 and parameters: {'n_estimators': 479, 'max_depth': 3, 'reg_alpha': 0.341864986577713, 'reg_lambda': 0.9127619376494847, 'min_child_weight': 5, 'gamma': 0.7123398730007455, 'learning_rate': 0.05648243973229696, 'colsample_bytree': 0.6634121398099697, 'subsample': 0.6014089660460327}. Best is trial 21 with value: 0.8716953501165055.\u001b[0m\n",
            "\u001b[32m[I 2023-05-17 03:12:07,456]\u001b[0m Trial 49 finished with value: 0.8409084650528363 and parameters: {'n_estimators': 427, 'max_depth': 5, 'reg_alpha': 0.506240736464148, 'reg_lambda': 0.9660598757001704, 'min_child_weight': 4, 'gamma': 0.8553279786015697, 'learning_rate': 0.3479143759997451, 'colsample_bytree': 0.6260089086363528, 'subsample': 0.7167863301394991}. Best is trial 21 with value: 0.8716953501165055.\u001b[0m\n",
            "\u001b[32m[I 2023-05-17 03:12:13,781]\u001b[0m Trial 50 finished with value: 0.8459610263488667 and parameters: {'n_estimators': 386, 'max_depth': 8, 'reg_alpha': 0.4446295929893081, 'reg_lambda': 0.8658179572383813, 'min_child_weight': 5, 'gamma': 0.9370932810546044, 'learning_rate': 0.2011291763941317, 'colsample_bytree': 0.747589430460074, 'subsample': 0.6613565618341138}. Best is trial 21 with value: 0.8716953501165055.\u001b[0m\n",
            "\u001b[32m[I 2023-05-17 03:12:19,995]\u001b[0m Trial 51 finished with value: 0.8680061049644194 and parameters: {'n_estimators': 317, 'max_depth': 6, 'reg_alpha': 0.4801909438448971, 'reg_lambda': 0.8807425025093343, 'min_child_weight': 5, 'gamma': 0.885869699224787, 'learning_rate': 0.010945396014343784, 'colsample_bytree': 0.6902256855271234, 'subsample': 0.5881996512545848}. Best is trial 21 with value: 0.8716953501165055.\u001b[0m\n",
            "\u001b[32m[I 2023-05-17 03:12:24,164]\u001b[0m Trial 52 finished with value: 0.8715993542158751 and parameters: {'n_estimators': 230, 'max_depth': 6, 'reg_alpha': 0.5026152763151482, 'reg_lambda': 0.8396787354384839, 'min_child_weight': 5, 'gamma': 0.9109138757078966, 'learning_rate': 0.04062610017167628, 'colsample_bytree': 0.7182694510501052, 'subsample': 0.5750910442952207}. Best is trial 21 with value: 0.8716953501165055.\u001b[0m\n",
            "\u001b[32m[I 2023-05-17 03:12:28,052]\u001b[0m Trial 53 finished with value: 0.8649710132120838 and parameters: {'n_estimators': 172, 'max_depth': 7, 'reg_alpha': 0.6383168776063981, 'reg_lambda': 0.7776104682044204, 'min_child_weight': 6, 'gamma': 0.77578936440837, 'learning_rate': 0.11896293195803304, 'colsample_bytree': 0.7184020250070093, 'subsample': 0.5718746885746862}. Best is trial 21 with value: 0.8716953501165055.\u001b[0m\n",
            "\u001b[32m[I 2023-05-17 03:12:35,012]\u001b[0m Trial 54 finished with value: 0.8704639198474633 and parameters: {'n_estimators': 419, 'max_depth': 6, 'reg_alpha': 0.550463465725551, 'reg_lambda': 0.9106816435954123, 'min_child_weight': 3, 'gamma': 0.9910517592426897, 'learning_rate': 0.038350013964816645, 'colsample_bytree': 0.7727137817881604, 'subsample': 0.6246677708907574}. Best is trial 21 with value: 0.8716953501165055.\u001b[0m\n",
            "\u001b[32m[I 2023-05-17 03:12:38,507]\u001b[0m Trial 55 finished with value: 0.8691584282095238 and parameters: {'n_estimators': 226, 'max_depth': 5, 'reg_alpha': 0.4151293122298324, 'reg_lambda': 0.9638572714375018, 'min_child_weight': 4, 'gamma': 0.9244003112291621, 'learning_rate': 0.09857339522686158, 'colsample_bytree': 0.7248630783736345, 'subsample': 0.6100438490284329}. Best is trial 21 with value: 0.8716953501165055.\u001b[0m\n",
            "\u001b[32m[I 2023-05-17 03:12:43,321]\u001b[0m Trial 56 finished with value: 0.8715114449115365 and parameters: {'n_estimators': 179, 'max_depth': 7, 'reg_alpha': 0.5073910876126544, 'reg_lambda': 0.826985044941073, 'min_child_weight': 6, 'gamma': 0.8128693512201489, 'learning_rate': 0.049302758759314724, 'colsample_bytree': 0.6675025736164284, 'subsample': 0.6445952344023206}. Best is trial 21 with value: 0.8716953501165055.\u001b[0m\n",
            "\u001b[32m[I 2023-05-17 03:12:45,628]\u001b[0m Trial 57 finished with value: 0.8700594959464432 and parameters: {'n_estimators': 135, 'max_depth': 4, 'reg_alpha': 0.5048800088099151, 'reg_lambda': 0.8257810265674332, 'min_child_weight': 6, 'gamma': 0.8323390281409702, 'learning_rate': 0.13893324377332228, 'colsample_bytree': 0.6733100105014297, 'subsample': 0.5880172958777948}. Best is trial 21 with value: 0.8716953501165055.\u001b[0m\n",
            "\u001b[32m[I 2023-05-17 03:12:49,563]\u001b[0m Trial 58 finished with value: 0.8550181650480597 and parameters: {'n_estimators': 161, 'max_depth': 8, 'reg_alpha': 0.566983149870806, 'reg_lambda': 0.7161941640926688, 'min_child_weight': 6, 'gamma': 0.8629529546246847, 'learning_rate': 0.17414474830353793, 'colsample_bytree': 0.6436700162868487, 'subsample': 0.5516873108067134}. Best is trial 21 with value: 0.8716953501165055.\u001b[0m\n",
            "\u001b[32m[I 2023-05-17 03:12:52,817]\u001b[0m Trial 59 finished with value: 0.8709802402218187 and parameters: {'n_estimators': 185, 'max_depth': 5, 'reg_alpha': 0.6970027842402926, 'reg_lambda': 0.7997786982415654, 'min_child_weight': 5, 'gamma': 0.9676888664040941, 'learning_rate': 0.07959598852712642, 'colsample_bytree': 0.6649870846439807, 'subsample': 0.6412718749395201}. Best is trial 21 with value: 0.8716953501165055.\u001b[0m\n",
            "\u001b[32m[I 2023-05-17 03:12:57,488]\u001b[0m Trial 60 finished with value: 0.871491616167312 and parameters: {'n_estimators': 223, 'max_depth': 6, 'reg_alpha': 0.4669941657023354, 'reg_lambda': 0.6586989614331932, 'min_child_weight': 6, 'gamma': 0.8779714760491736, 'learning_rate': 0.05001327090656722, 'colsample_bytree': 0.6112262547208808, 'subsample': 0.6952051731942808}. Best is trial 21 with value: 0.8716953501165055.\u001b[0m\n",
            "\u001b[32m[I 2023-05-17 03:13:01,441]\u001b[0m Trial 61 finished with value: 0.8711869965869911 and parameters: {'n_estimators': 216, 'max_depth': 6, 'reg_alpha': 0.47153420880671365, 'reg_lambda': 0.6857207317821129, 'min_child_weight': 6, 'gamma': 0.892347198870501, 'learning_rate': 0.041338123593805336, 'colsample_bytree': 0.6100580831360267, 'subsample': 0.6994397123173297}. Best is trial 21 with value: 0.8716953501165055.\u001b[0m\n",
            "\u001b[32m[I 2023-05-17 03:13:04,699]\u001b[0m Trial 62 finished with value: 0.8702580307666778 and parameters: {'n_estimators': 113, 'max_depth': 7, 'reg_alpha': 0.5126332099386002, 'reg_lambda': 0.6089126323334878, 'min_child_weight': 6, 'gamma': 0.8172526884425988, 'learning_rate': 0.0389175612353574, 'colsample_bytree': 0.6212291220897386, 'subsample': 0.7351347940091945}. Best is trial 21 with value: 0.8716953501165055.\u001b[0m\n",
            "\u001b[32m[I 2023-05-17 03:13:09,571]\u001b[0m Trial 63 finished with value: 0.8686930243214193 and parameters: {'n_estimators': 239, 'max_depth': 6, 'reg_alpha': 0.45762093736861525, 'reg_lambda': 0.7604964262032783, 'min_child_weight': 6, 'gamma': 0.9242396407541921, 'learning_rate': 0.10837972132145246, 'colsample_bytree': 0.5435111788454532, 'subsample': 0.7126351393464851}. Best is trial 21 with value: 0.8716953501165055.\u001b[0m\n",
            "\u001b[32m[I 2023-05-17 03:13:13,476]\u001b[0m Trial 64 finished with value: 0.8702838703207167 and parameters: {'n_estimators': 271, 'max_depth': 5, 'reg_alpha': 0.3697270041872238, 'reg_lambda': 0.8172813888257202, 'min_child_weight': 5, 'gamma': 0.8590139872917284, 'learning_rate': 0.07447161794954428, 'colsample_bytree': 0.6432731962933477, 'subsample': 0.6680388268664519}. Best is trial 21 with value: 0.8716953501165055.\u001b[0m\n",
            "\u001b[32m[I 2023-05-17 03:13:17,885]\u001b[0m Trial 65 finished with value: 0.8715737218229922 and parameters: {'n_estimators': 191, 'max_depth': 7, 'reg_alpha': 0.5493876026233063, 'reg_lambda': 0.7770740157052847, 'min_child_weight': 6, 'gamma': 0.7620948558229201, 'learning_rate': 0.039498946986163005, 'colsample_bytree': 0.6949956858493878, 'subsample': 0.6887493063581658}. Best is trial 21 with value: 0.8716953501165055.\u001b[0m\n",
            "\u001b[32m[I 2023-05-17 03:13:22,486]\u001b[0m Trial 66 finished with value: 0.8595769157261067 and parameters: {'n_estimators': 200, 'max_depth': 7, 'reg_alpha': 0.599537246165259, 'reg_lambda': 0.707252031250462, 'min_child_weight': 6, 'gamma': 0.7551315754159588, 'learning_rate': 0.1618465984241942, 'colsample_bytree': 0.5814440272707146, 'subsample': 0.6879743989818514}. Best is trial 21 with value: 0.8716953501165055.\u001b[0m\n",
            "\u001b[32m[I 2023-05-17 03:13:26,571]\u001b[0m Trial 67 finished with value: 0.8717974499310268 and parameters: {'n_estimators': 184, 'max_depth': 7, 'reg_alpha': 0.5493094541049338, 'reg_lambda': 0.7527589054094346, 'min_child_weight': 6, 'gamma': 0.7966347603688273, 'learning_rate': 0.044548270394761336, 'colsample_bytree': 0.6526871250918982, 'subsample': 0.7455168100717638}. Best is trial 67 with value: 0.8717974499310268.\u001b[0m\n",
            "\u001b[32m[I 2023-05-17 03:13:28,835]\u001b[0m Trial 68 finished with value: 0.8692040855604581 and parameters: {'n_estimators': 54, 'max_depth': 8, 'reg_alpha': 0.5424581438069209, 'reg_lambda': 0.7901303761959723, 'min_child_weight': 6, 'gamma': 0.8028041397068197, 'learning_rate': 0.10708779855106618, 'colsample_bytree': 0.6832525654265518, 'subsample': 0.7714812182897693}. Best is trial 67 with value: 0.8717974499310268.\u001b[0m\n",
            "\u001b[32m[I 2023-05-17 03:13:33,731]\u001b[0m Trial 69 finished with value: 0.8704065183506595 and parameters: {'n_estimators': 185, 'max_depth': 7, 'reg_alpha': 0.5555606081159402, 'reg_lambda': 0.6280391533148254, 'min_child_weight': 6, 'gamma': 0.8308406326845038, 'learning_rate': 0.07081171041861849, 'colsample_bytree': 0.654968204048817, 'subsample': 0.7254617281858757}. Best is trial 67 with value: 0.8717974499310268.\u001b[0m\n",
            "\u001b[32m[I 2023-05-17 03:13:37,288]\u001b[0m Trial 70 finished with value: 0.864216947621896 and parameters: {'n_estimators': 154, 'max_depth': 7, 'reg_alpha': 0.6181883356712949, 'reg_lambda': 0.8349241295673643, 'min_child_weight': 6, 'gamma': 0.7778401851156709, 'learning_rate': 0.13941262067042426, 'colsample_bytree': 0.6930069862342851, 'subsample': 0.7076140993771175}. Best is trial 67 with value: 0.8717974499310268.\u001b[0m\n",
            "\u001b[32m[I 2023-05-17 03:13:41,656]\u001b[0m Trial 71 finished with value: 0.8718988970034627 and parameters: {'n_estimators': 253, 'max_depth': 6, 'reg_alpha': 0.49574439772360035, 'reg_lambda': 0.758435070919812, 'min_child_weight': 6, 'gamma': 0.7208519193509244, 'learning_rate': 0.03768602163712393, 'colsample_bytree': 0.6021219661031073, 'subsample': 0.75424628266973}. Best is trial 71 with value: 0.8718988970034627.\u001b[0m\n",
            "\u001b[32m[I 2023-05-17 03:13:47,331]\u001b[0m Trial 72 finished with value: 0.8710487782089296 and parameters: {'n_estimators': 245, 'max_depth': 7, 'reg_alpha': 0.5149850500035743, 'reg_lambda': 0.7158265784171294, 'min_child_weight': 6, 'gamma': 0.7266615275959295, 'learning_rate': 0.0463402185403698, 'colsample_bytree': 0.5943568500249748, 'subsample': 0.7434542271429827}. Best is trial 71 with value: 0.8718988970034627.\u001b[0m\n",
            "\u001b[32m[I 2023-05-17 03:13:51,169]\u001b[0m Trial 73 finished with value: 0.8695118718469969 and parameters: {'n_estimators': 219, 'max_depth': 6, 'reg_alpha': 0.581015848506166, 'reg_lambda': 0.7724698679514086, 'min_child_weight': 6, 'gamma': 0.8780392505233083, 'learning_rate': 0.08642984609586932, 'colsample_bytree': 0.6120622069410577, 'subsample': 0.7463976907260832}. Best is trial 71 with value: 0.8718988970034627.\u001b[0m\n",
            "\u001b[32m[I 2023-05-17 03:13:56,066]\u001b[0m Trial 74 finished with value: 0.8717215388645819 and parameters: {'n_estimators': 191, 'max_depth': 7, 'reg_alpha': 0.42783704938484884, 'reg_lambda': 0.8664091569149543, 'min_child_weight': 6, 'gamma': 0.8077283422902864, 'learning_rate': 0.034670375634112516, 'colsample_bytree': 0.6723082043545906, 'subsample': 0.7754159797509812}. Best is trial 71 with value: 0.8718988970034627.\u001b[0m\n",
            "\u001b[32m[I 2023-05-17 03:14:00,931]\u001b[0m Trial 75 finished with value: 0.8716237588409127 and parameters: {'n_estimators': 188, 'max_depth': 8, 'reg_alpha': 0.49113690749274647, 'reg_lambda': 0.8584644009614909, 'min_child_weight': 6, 'gamma': 0.6921943953711004, 'learning_rate': 0.041854265590122716, 'colsample_bytree': 0.6973240190893059, 'subsample': 0.7814221966598632}. Best is trial 71 with value: 0.8718988970034627.\u001b[0m\n",
            "\u001b[32m[I 2023-05-17 03:14:07,334]\u001b[0m Trial 76 finished with value: 0.8709431114728587 and parameters: {'n_estimators': 258, 'max_depth': 8, 'reg_alpha': 0.4274272186382176, 'reg_lambda': 0.8566701193648528, 'min_child_weight': 5, 'gamma': 0.6862065670559615, 'learning_rate': 0.029036112342815123, 'colsample_bytree': 0.7092801666951004, 'subsample': 0.7816057868967738}. Best is trial 71 with value: 0.8718988970034627.\u001b[0m\n",
            "\u001b[32m[I 2023-05-17 03:14:12,980]\u001b[0m Trial 77 finished with value: 0.8614894827353972 and parameters: {'n_estimators': 192, 'max_depth': 10, 'reg_alpha': 0.47754255730754247, 'reg_lambda': 0.8880341030068609, 'min_child_weight': 6, 'gamma': 0.7215146088185411, 'learning_rate': 0.1189220907338035, 'colsample_bytree': 0.6984566155064442, 'subsample': 0.7981956842984671}. Best is trial 71 with value: 0.8718988970034627.\u001b[0m\n",
            "\u001b[32m[I 2023-05-17 03:14:17,856]\u001b[0m Trial 78 finished with value: 0.8667340372327749 and parameters: {'n_estimators': 206, 'max_depth': 8, 'reg_alpha': 0.5385697651662587, 'reg_lambda': 0.9312919284258749, 'min_child_weight': 5, 'gamma': 0.7686090592484566, 'learning_rate': 0.0875823185299972, 'colsample_bytree': 0.73716458653924, 'subsample': 0.7607542808126383}. Best is trial 71 with value: 0.8718988970034627.\u001b[0m\n",
            "\u001b[32m[I 2023-05-17 03:14:25,616]\u001b[0m Trial 79 finished with value: 0.8692620001749395 and parameters: {'n_estimators': 286, 'max_depth': 8, 'reg_alpha': 0.4186548477612571, 'reg_lambda': 0.8731791029702337, 'min_child_weight': 6, 'gamma': 0.7912184073782463, 'learning_rate': 0.01134371899909697, 'colsample_bytree': 0.6811970463356778, 'subsample': 0.7782535056085014}. Best is trial 71 with value: 0.8718988970034627.\u001b[0m\n",
            "\u001b[32m[I 2023-05-17 03:14:32,156]\u001b[0m Trial 80 finished with value: 0.8658367366223894 and parameters: {'n_estimators': 234, 'max_depth': 9, 'reg_alpha': 0.575697428648712, 'reg_lambda': 0.7987946345211112, 'min_child_weight': 1, 'gamma': 0.7323792488257507, 'learning_rate': 0.07003776057388224, 'colsample_bytree': 0.6539260255213422, 'subsample': 0.7541824374882615}. Best is trial 71 with value: 0.8718988970034627.\u001b[0m\n",
            "\u001b[32m[I 2023-05-17 03:14:36,608]\u001b[0m Trial 81 finished with value: 0.8718548762569945 and parameters: {'n_estimators': 180, 'max_depth': 7, 'reg_alpha': 0.4982302512547335, 'reg_lambda': 0.8268656340873456, 'min_child_weight': 6, 'gamma': 0.815735260724591, 'learning_rate': 0.03790988375133668, 'colsample_bytree': 0.6704601882936855, 'subsample': 0.7834974648432601}. Best is trial 71 with value: 0.8718988970034627.\u001b[0m\n",
            "\u001b[32m[I 2023-05-17 03:14:40,296]\u001b[0m Trial 82 finished with value: 0.8713032964501123 and parameters: {'n_estimators': 155, 'max_depth': 7, 'reg_alpha': 0.4907007122194697, 'reg_lambda': 0.9055979042649992, 'min_child_weight': 6, 'gamma': 0.8365646763009884, 'learning_rate': 0.04064878140434705, 'colsample_bytree': 0.7149145267526598, 'subsample': 0.7689548071014185}. Best is trial 71 with value: 0.8718988970034627.\u001b[0m\n",
            "\u001b[32m[I 2023-05-17 03:14:45,228]\u001b[0m Trial 83 finished with value: 0.865319040265973 and parameters: {'n_estimators': 208, 'max_depth': 7, 'reg_alpha': 0.44141395677918016, 'reg_lambda': 0.7515234200079204, 'min_child_weight': 6, 'gamma': 0.7599088974150475, 'learning_rate': 0.11285149187847193, 'colsample_bytree': 0.6707477755432709, 'subsample': 0.7907856437449181}. Best is trial 71 with value: 0.8718988970034627.\u001b[0m\n",
            "\u001b[32m[I 2023-05-17 03:14:48,414]\u001b[0m Trial 84 finished with value: 0.8712436203820081 and parameters: {'n_estimators': 117, 'max_depth': 7, 'reg_alpha': 0.38253006024197467, 'reg_lambda': 0.8544796664253972, 'min_child_weight': 6, 'gamma': 0.9064523455727905, 'learning_rate': 0.06965928385012882, 'colsample_bytree': 0.6306485760961271, 'subsample': 0.7822652461927514}. Best is trial 71 with value: 0.8718988970034627.\u001b[0m\n",
            "\u001b[32m[I 2023-05-17 03:14:52,451]\u001b[0m Trial 85 finished with value: 0.8702529711962118 and parameters: {'n_estimators': 170, 'max_depth': 7, 'reg_alpha': 0.5352103007043714, 'reg_lambda': 0.8107336235398198, 'min_child_weight': 5, 'gamma': 0.6974089733276416, 'learning_rate': 0.026870458576129293, 'colsample_bytree': 0.6957786452434073, 'subsample': 0.7335720528610588}. Best is trial 71 with value: 0.8718988970034627.\u001b[0m\n",
            "\u001b[32m[I 2023-05-17 03:14:56,117]\u001b[0m Trial 86 finished with value: 0.8694679922892856 and parameters: {'n_estimators': 186, 'max_depth': 6, 'reg_alpha': 0.4577438345420067, 'reg_lambda': 0.9405237723507411, 'min_child_weight': 6, 'gamma': 0.8470403863198859, 'learning_rate': 0.09590952565341788, 'colsample_bytree': 0.6790378141755156, 'subsample': 0.7487073308216854}. Best is trial 71 with value: 0.8718988970034627.\u001b[0m\n",
            "\u001b[32m[I 2023-05-17 03:15:02,819]\u001b[0m Trial 87 finished with value: 0.8710951412795025 and parameters: {'n_estimators': 260, 'max_depth': 8, 'reg_alpha': 0.4923769458866025, 'reg_lambda': 0.7794987809268696, 'min_child_weight': 5, 'gamma': 0.8057347028373502, 'learning_rate': 0.03368331194820316, 'colsample_bytree': 0.7203437757177069, 'subsample': 0.7629192775811223}. Best is trial 71 with value: 0.8718988970034627.\u001b[0m\n",
            "\u001b[32m[I 2023-05-17 03:15:06,191]\u001b[0m Trial 88 finished with value: 0.863549193082837 and parameters: {'n_estimators': 146, 'max_depth': 7, 'reg_alpha': 0.40593593179355886, 'reg_lambda': 0.8809510442669041, 'min_child_weight': 6, 'gamma': 0.7439081033159096, 'learning_rate': 0.14989321893120117, 'colsample_bytree': 0.6561447056150203, 'subsample': 0.7762788348725345}. Best is trial 71 with value: 0.8718988970034627.\u001b[0m\n",
            "\u001b[32m[I 2023-05-17 03:15:11,107]\u001b[0m Trial 89 finished with value: 0.863731092879453 and parameters: {'n_estimators': 168, 'max_depth': 8, 'reg_alpha': 0.5558789611799253, 'reg_lambda': 0.8440707711102202, 'min_child_weight': 5, 'gamma': 0.6716626655896388, 'learning_rate': 0.12465200540421605, 'colsample_bytree': 0.6393248333499404, 'subsample': 0.798967854588624}. Best is trial 71 with value: 0.8718988970034627.\u001b[0m\n",
            "\u001b[32m[I 2023-05-17 03:15:15,088]\u001b[0m Trial 90 finished with value: 0.8561663005960138 and parameters: {'n_estimators': 196, 'max_depth': 7, 'reg_alpha': 0.523961098199613, 'reg_lambda': 0.9118141051032552, 'min_child_weight': 6, 'gamma': 0.7887643079544978, 'learning_rate': 0.18695293084076123, 'colsample_bytree': 0.6990720113414142, 'subsample': 0.7310386409793687}. Best is trial 71 with value: 0.8718988970034627.\u001b[0m\n",
            "\u001b[32m[I 2023-05-17 03:15:19,034]\u001b[0m Trial 91 finished with value: 0.8709930089805509 and parameters: {'n_estimators': 181, 'max_depth': 7, 'reg_alpha': 0.5070956696164632, 'reg_lambda': 0.8266430913322256, 'min_child_weight': 6, 'gamma': 0.8135269680007834, 'learning_rate': 0.05672620545306875, 'colsample_bytree': 0.6698770894809262, 'subsample': 0.7525777652652831}. Best is trial 71 with value: 0.8718988970034627.\u001b[0m\n",
            "\u001b[32m[I 2023-05-17 03:15:24,077]\u001b[0m Trial 92 finished with value: 0.8651765154083642 and parameters: {'n_estimators': 174, 'max_depth': 7, 'reg_alpha': 0.43107559147915, 'reg_lambda': 0.8181956521871243, 'min_child_weight': 6, 'gamma': 0.8648810783186958, 'learning_rate': 0.010132974627892543, 'colsample_bytree': 0.6783184179181199, 'subsample': 0.7186436559692867}. Best is trial 71 with value: 0.8718988970034627.\u001b[0m\n",
            "\u001b[32m[I 2023-05-17 03:15:27,890]\u001b[0m Trial 93 finished with value: 0.8709402774459628 and parameters: {'n_estimators': 212, 'max_depth': 6, 'reg_alpha': 0.47734698745244813, 'reg_lambda': 0.8580809612466987, 'min_child_weight': 6, 'gamma': 0.8342836166438078, 'learning_rate': 0.06118292376372159, 'colsample_bytree': 0.7291428821042926, 'subsample': 0.7388105779997268}. Best is trial 71 with value: 0.8718988970034627.\u001b[0m\n",
            "\u001b[32m[I 2023-05-17 03:15:33,058]\u001b[0m Trial 94 finished with value: 0.871835545350265 and parameters: {'n_estimators': 247, 'max_depth': 7, 'reg_alpha': 0.6121824338023911, 'reg_lambda': 0.981298187394188, 'min_child_weight': 6, 'gamma': 0.7676638934626514, 'learning_rate': 0.03256199220237106, 'colsample_bytree': 0.6302143915079643, 'subsample': 0.7678662799952525}. Best is trial 71 with value: 0.8718988970034627.\u001b[0m\n",
            "\u001b[32m[I 2023-05-17 03:15:38,400]\u001b[0m Trial 95 finished with value: 0.8684983035133523 and parameters: {'n_estimators': 279, 'max_depth': 6, 'reg_alpha': 0.605023762198975, 'reg_lambda': 0.966658715314023, 'min_child_weight': 5, 'gamma': 0.7190409612380877, 'learning_rate': 0.08657769557641298, 'colsample_bytree': 0.621337521524295, 'subsample': 0.7665458000198864}. Best is trial 71 with value: 0.8718988970034627.\u001b[0m\n",
            "\u001b[32m[I 2023-05-17 03:15:43,581]\u001b[0m Trial 96 finished with value: 0.8714911739253923 and parameters: {'n_estimators': 249, 'max_depth': 7, 'reg_alpha': 0.6376541581111448, 'reg_lambda': 0.9794255824986818, 'min_child_weight': 6, 'gamma': 0.7714252484160206, 'learning_rate': 0.024596525325148676, 'colsample_bytree': 0.6322259573897657, 'subsample': 0.7905649132041404}. Best is trial 71 with value: 0.8718988970034627.\u001b[0m\n",
            "\u001b[32m[I 2023-05-17 03:15:49,748]\u001b[0m Trial 97 finished with value: 0.8718933771873069 and parameters: {'n_estimators': 228, 'max_depth': 8, 'reg_alpha': 0.5715548194977785, 'reg_lambda': 0.9429288266552482, 'min_child_weight': 6, 'gamma': 0.7005249584232265, 'learning_rate': 0.034317649229151787, 'colsample_bytree': 0.6504596304793602, 'subsample': 0.7544084801450871}. Best is trial 71 with value: 0.8718988970034627.\u001b[0m\n",
            "\u001b[32m[I 2023-05-17 03:15:55,080]\u001b[0m Trial 98 finished with value: 0.8585585580964455 and parameters: {'n_estimators': 234, 'max_depth': 9, 'reg_alpha': 0.5808352784003684, 'reg_lambda': 0.9490515188844065, 'min_child_weight': 6, 'gamma': 0.7066489210709412, 'learning_rate': 0.14189842839178984, 'colsample_bytree': 0.6453066903356495, 'subsample': 0.773729015921543}. Best is trial 71 with value: 0.8718988970034627.\u001b[0m\n",
            "\u001b[32m[I 2023-05-17 03:16:01,118]\u001b[0m Trial 99 finished with value: 0.8689218166760508 and parameters: {'n_estimators': 230, 'max_depth': 8, 'reg_alpha': 0.6644987658690391, 'reg_lambda': 0.9224849356013465, 'min_child_weight': 6, 'gamma': 0.6906674943486673, 'learning_rate': 0.06622709472920917, 'colsample_bytree': 0.662266933699292, 'subsample': 0.7553069757229445}. Best is trial 71 with value: 0.8718988970034627.\u001b[0m\n",
            "\u001b[32m[I 2023-05-17 03:16:06,131]\u001b[0m Trial 100 finished with value: 0.8712128392718868 and parameters: {'n_estimators': 194, 'max_depth': 8, 'reg_alpha': 0.5659099559063291, 'reg_lambda': 0.8938030197236853, 'min_child_weight': 6, 'gamma': 0.6646798348495981, 'learning_rate': 0.029082933798847136, 'colsample_bytree': 0.6923277482754834, 'subsample': 0.7835034454380952}. Best is trial 71 with value: 0.8718988970034627.\u001b[0m\n",
            "\u001b[32m[I 2023-05-17 03:16:11,827]\u001b[0m Trial 101 finished with value: 0.8720637379617819 and parameters: {'n_estimators': 249, 'max_depth': 7, 'reg_alpha': 0.5266205396452577, 'reg_lambda': 0.9796610520222887, 'min_child_weight': 6, 'gamma': 0.7378430168803662, 'learning_rate': 0.03629153080933058, 'colsample_bytree': 0.6490131080056952, 'subsample': 0.744702773264524}. Best is trial 101 with value: 0.8720637379617819.\u001b[0m\n",
            "\u001b[32m[I 2023-05-17 03:16:17,037]\u001b[0m Trial 102 finished with value: 0.8718031218726245 and parameters: {'n_estimators': 247, 'max_depth': 7, 'reg_alpha': 0.5283594224718609, 'reg_lambda': 0.978476318102393, 'min_child_weight': 6, 'gamma': 0.7489513508231512, 'learning_rate': 0.03792619144936622, 'colsample_bytree': 0.6330999101887023, 'subsample': 0.7653700388867488}. Best is trial 101 with value: 0.8720637379617819.\u001b[0m\n",
            "\u001b[32m[I 2023-05-17 03:16:21,884]\u001b[0m Trial 103 finished with value: 0.866097122932796 and parameters: {'n_estimators': 252, 'max_depth': 7, 'reg_alpha': 0.5312078302144757, 'reg_lambda': 0.9758948805201997, 'min_child_weight': 6, 'gamma': 0.7411121395897238, 'learning_rate': 0.09098517986897256, 'colsample_bytree': 0.6521710757169149, 'subsample': 0.7639054042356509}. Best is trial 101 with value: 0.8720637379617819.\u001b[0m\n",
            "\u001b[32m[I 2023-05-17 03:16:28,273]\u001b[0m Trial 104 finished with value: 0.8614857112397057 and parameters: {'n_estimators': 265, 'max_depth': 8, 'reg_alpha': 0.6192689915685977, 'reg_lambda': 0.9988513804280975, 'min_child_weight': 6, 'gamma': 0.651362375967185, 'learning_rate': 0.11198655271723723, 'colsample_bytree': 0.6264457991701963, 'subsample': 0.7463559678078894}. Best is trial 101 with value: 0.8720637379617819.\u001b[0m\n",
            "\u001b[32m[I 2023-05-17 03:16:33,005]\u001b[0m Trial 105 finished with value: 0.8707784303878243 and parameters: {'n_estimators': 288, 'max_depth': 6, 'reg_alpha': 0.5973609787725381, 'reg_lambda': 0.9480985451033709, 'min_child_weight': 6, 'gamma': 0.7883055797438377, 'learning_rate': 0.0582125990760743, 'colsample_bytree': 0.6470762515908146, 'subsample': 0.7256435374773712}. Best is trial 101 with value: 0.8720637379617819.\u001b[0m\n",
            "\u001b[32m[I 2023-05-17 03:16:39,580]\u001b[0m Trial 106 finished with value: 0.8715742606795052 and parameters: {'n_estimators': 242, 'max_depth': 8, 'reg_alpha': 0.49306863822209945, 'reg_lambda': 0.917633981389433, 'min_child_weight': 6, 'gamma': 0.7337445185424123, 'learning_rate': 0.03114179858616494, 'colsample_bytree': 0.605563402810749, 'subsample': 0.7882977844705382}. Best is trial 101 with value: 0.8720637379617819.\u001b[0m\n",
            "\u001b[32m[I 2023-05-17 03:16:44,125]\u001b[0m Trial 107 finished with value: 0.8669489021468824 and parameters: {'n_estimators': 221, 'max_depth': 7, 'reg_alpha': 0.45569169040524365, 'reg_lambda': 0.9368027570857772, 'min_child_weight': 2, 'gamma': 0.7057920064615084, 'learning_rate': 0.08002624161555297, 'colsample_bytree': 0.6601490160743173, 'subsample': 0.7754887377517278}. Best is trial 101 with value: 0.8720637379617819.\u001b[0m\n",
            "\u001b[32m[I 2023-05-17 03:16:52,314]\u001b[0m Trial 108 finished with value: 0.8677759627909039 and parameters: {'n_estimators': 310, 'max_depth': 9, 'reg_alpha': 0.5142374067766741, 'reg_lambda': 0.9738460593049081, 'min_child_weight': 6, 'gamma': 0.6194925519635248, 'learning_rate': 0.05289488783347275, 'colsample_bytree': 0.6364374021308553, 'subsample': 0.7543521608883873}. Best is trial 101 with value: 0.8720637379617819.\u001b[0m\n",
            "\u001b[32m[I 2023-05-17 03:16:56,759]\u001b[0m Trial 109 finished with value: 0.8671072970117726 and parameters: {'n_estimators': 277, 'max_depth': 6, 'reg_alpha': 0.5498721717806885, 'reg_lambda': 0.8967508732927691, 'min_child_weight': 6, 'gamma': 0.7555016256764789, 'learning_rate': 0.10082075439998289, 'colsample_bytree': 0.6186708881101926, 'subsample': 0.7423629002815061}. Best is trial 101 with value: 0.8720637379617819.\u001b[0m\n",
            "\u001b[32m[I 2023-05-17 03:17:02,263]\u001b[0m Trial 110 finished with value: 0.8710986251820803 and parameters: {'n_estimators': 206, 'max_depth': 7, 'reg_alpha': 0.5727780766745483, 'reg_lambda': 0.869777587580274, 'min_child_weight': 5, 'gamma': 0.8026694951054907, 'learning_rate': 0.029209635068382225, 'colsample_bytree': 0.6775017645353595, 'subsample': 0.7665775332289879}. Best is trial 101 with value: 0.8720637379617819.\u001b[0m\n",
            "\u001b[32m[I 2023-05-17 03:17:08,092]\u001b[0m Trial 111 finished with value: 0.8717263321136872 and parameters: {'n_estimators': 247, 'max_depth': 8, 'reg_alpha': 0.4947967531887459, 'reg_lambda': 0.9188988217160103, 'min_child_weight': 6, 'gamma': 0.7393734824957728, 'learning_rate': 0.03444001607340257, 'colsample_bytree': 0.6010326995476786, 'subsample': 0.7913369850367835}. Best is trial 101 with value: 0.8720637379617819.\u001b[0m\n",
            "\u001b[32m[I 2023-05-17 03:17:15,238]\u001b[0m Trial 112 finished with value: 0.868053281011397 and parameters: {'n_estimators': 252, 'max_depth': 8, 'reg_alpha': 0.521975757194921, 'reg_lambda': 0.9229449542174105, 'min_child_weight': 6, 'gamma': 0.7697198111833217, 'learning_rate': 0.010265551539257577, 'colsample_bytree': 0.5918532203574263, 'subsample': 0.789865903408259}. Best is trial 101 with value: 0.8720637379617819.\u001b[0m\n",
            "\u001b[32m[I 2023-05-17 03:17:20,903]\u001b[0m Trial 113 finished with value: 0.8663828245955039 and parameters: {'n_estimators': 264, 'max_depth': 8, 'reg_alpha': 0.5008239585652162, 'reg_lambda': 0.9426878306378357, 'min_child_weight': 6, 'gamma': 0.6942035348570041, 'learning_rate': 0.07645025754289354, 'colsample_bytree': 0.6347901357035105, 'subsample': 0.773220419691188}. Best is trial 101 with value: 0.8720637379617819.\u001b[0m\n",
            "\u001b[32m[I 2023-05-17 03:17:26,905]\u001b[0m Trial 114 finished with value: 0.870430384638816 and parameters: {'n_estimators': 224, 'max_depth': 8, 'reg_alpha': 0.46172690051924703, 'reg_lambda': 0.954738826491659, 'min_child_weight': 6, 'gamma': 0.7394051072036255, 'learning_rate': 0.046371124851684695, 'colsample_bytree': 0.6059415043280327, 'subsample': 0.7617781778567765}. Best is trial 101 with value: 0.8720637379617819.\u001b[0m\n",
            "\u001b[32m[I 2023-05-17 03:17:31,814]\u001b[0m Trial 115 finished with value: 0.862351887413101 and parameters: {'n_estimators': 239, 'max_depth': 9, 'reg_alpha': 0.4771099897263357, 'reg_lambda': 0.8834915290007566, 'min_child_weight': 6, 'gamma': 0.8471772000534193, 'learning_rate': 0.12548252496114684, 'colsample_bytree': 0.6011063782870484, 'subsample': 0.7968230194855468}. Best is trial 101 with value: 0.8720637379617819.\u001b[0m\n",
            "\u001b[32m[I 2023-05-17 03:17:36,386]\u001b[0m Trial 116 finished with value: 0.8704793550634156 and parameters: {'n_estimators': 231, 'max_depth': 7, 'reg_alpha': 0.43357061139917297, 'reg_lambda': 0.9877463005407109, 'min_child_weight': 6, 'gamma': 0.8199100292812161, 'learning_rate': 0.06300618772298297, 'colsample_bytree': 0.580215350313195, 'subsample': 0.7836422430386853}. Best is trial 101 with value: 0.8720637379617819.\u001b[0m\n",
            "\u001b[32m[I 2023-05-17 03:17:41,718]\u001b[0m Trial 117 finished with value: 0.8719090306281372 and parameters: {'n_estimators': 214, 'max_depth': 7, 'reg_alpha': 0.5257278776927088, 'reg_lambda': 0.9069667749379003, 'min_child_weight': 6, 'gamma': 0.676474637280664, 'learning_rate': 0.03203135832929052, 'colsample_bytree': 0.7050541831167887, 'subsample': 0.7414029871245191}. Best is trial 101 with value: 0.8720637379617819.\u001b[0m\n",
            "\u001b[32m[I 2023-05-17 03:17:45,970]\u001b[0m Trial 118 finished with value: 0.8681896197791353 and parameters: {'n_estimators': 203, 'max_depth': 7, 'reg_alpha': 0.5411005454396138, 'reg_lambda': 0.9049850747840433, 'min_child_weight': 6, 'gamma': 0.638036041644234, 'learning_rate': 0.09285943063908308, 'colsample_bytree': 0.7086868818195412, 'subsample': 0.7394871282187585}. Best is trial 101 with value: 0.8720637379617819.\u001b[0m\n",
            "\u001b[32m[I 2023-05-17 03:17:52,210]\u001b[0m Trial 119 finished with value: 0.8714309612599237 and parameters: {'n_estimators': 219, 'max_depth': 8, 'reg_alpha': 0.5626115255576003, 'reg_lambda': 0.9598144834844493, 'min_child_weight': 6, 'gamma': 0.6780231366075891, 'learning_rate': 0.027401405886962996, 'colsample_bytree': 0.6649821259960229, 'subsample': 0.7511785824396916}. Best is trial 101 with value: 0.8720637379617819.\u001b[0m\n"
          ]
        }
      ],
      "source": [
        "study1 = optuna.create_study(direction='maximize', sampler=TPESampler())\n",
        "study1.optimize(objective, n_trials=120, show_progress_bar=True)"
      ]
    },
    {
      "cell_type": "code",
      "execution_count": 53,
      "id": "d20bf5c2",
      "metadata": {
        "colab": {
          "base_uri": "https://localhost:8080/"
        },
        "id": "d20bf5c2",
        "outputId": "e7b19c12-b725-4437-8bc4-afe7c820a959"
      },
      "outputs": [
        {
          "output_type": "execute_result",
          "data": {
            "text/plain": [
              "FrozenTrial(number=101, state=TrialState.COMPLETE, values=[0.8720637379617819], datetime_start=datetime.datetime(2023, 5, 17, 3, 16, 6, 143648), datetime_complete=datetime.datetime(2023, 5, 17, 3, 16, 11, 827135), params={'n_estimators': 249, 'max_depth': 7, 'reg_alpha': 0.5266205396452577, 'reg_lambda': 0.9796610520222887, 'min_child_weight': 6, 'gamma': 0.7378430168803662, 'learning_rate': 0.03629153080933058, 'colsample_bytree': 0.6490131080056952, 'subsample': 0.744702773264524}, user_attrs={}, system_attrs={}, intermediate_values={}, distributions={'n_estimators': IntDistribution(high=500, log=False, low=50, step=1), 'max_depth': IntDistribution(high=10, log=False, low=3, step=1), 'reg_alpha': FloatDistribution(high=1.0, log=False, low=1e-08, step=None), 'reg_lambda': FloatDistribution(high=1.0, log=False, low=1e-08, step=None), 'min_child_weight': IntDistribution(high=6, log=False, low=0, step=1), 'gamma': FloatDistribution(high=1.0, log=False, low=1e-08, step=None), 'learning_rate': FloatDistribution(high=1.0, log=False, low=0.01, step=None), 'colsample_bytree': FloatDistribution(high=0.8, log=False, low=0.3, step=None), 'subsample': FloatDistribution(high=0.8, log=False, low=0.3, step=None)}, trial_id=101, value=None)"
            ]
          },
          "metadata": {},
          "execution_count": 53
        }
      ],
      "source": [
        "study1.best_trial"
      ]
    },
    {
      "cell_type": "code",
      "execution_count": 53,
      "id": "c57d17b2",
      "metadata": {
        "id": "c57d17b2"
      },
      "outputs": [],
      "source": []
    },
    {
      "cell_type": "code",
      "execution_count": 54,
      "id": "2e873a7a",
      "metadata": {
        "id": "2e873a7a"
      },
      "outputs": [],
      "source": [
        "param_h1n1 = study1.best_params"
      ]
    },
    {
      "cell_type": "code",
      "execution_count": 55,
      "id": "4156a56d",
      "metadata": {
        "colab": {
          "base_uri": "https://localhost:8080/"
        },
        "id": "4156a56d",
        "outputId": "7312c5e7-d43b-4c05-ebcc-5a7636649301"
      },
      "outputs": [
        {
          "output_type": "execute_result",
          "data": {
            "text/plain": [
              "{'n_estimators': 249,\n",
              " 'max_depth': 7,\n",
              " 'reg_alpha': 0.5266205396452577,\n",
              " 'reg_lambda': 0.9796610520222887,\n",
              " 'min_child_weight': 6,\n",
              " 'gamma': 0.7378430168803662,\n",
              " 'learning_rate': 0.03629153080933058,\n",
              " 'colsample_bytree': 0.6490131080056952,\n",
              " 'subsample': 0.744702773264524}"
            ]
          },
          "metadata": {},
          "execution_count": 55
        }
      ],
      "source": [
        "param_h1n1"
      ]
    },
    {
      "cell_type": "code",
      "execution_count": 56,
      "id": "a9973207",
      "metadata": {
        "colab": {
          "base_uri": "https://localhost:8080/"
        },
        "id": "a9973207",
        "outputId": "854fceec-aedb-4220-a5df-35c1cf8b3c83"
      },
      "outputs": [
        {
          "output_type": "execute_result",
          "data": {
            "text/plain": [
              "<optuna.pruners._median.MedianPruner at 0x7f1490d2dc90>"
            ]
          },
          "metadata": {},
          "execution_count": 56
        }
      ],
      "source": [
        "study1.pruner"
      ]
    },
    {
      "cell_type": "code",
      "execution_count": 56,
      "id": "ef244fe6",
      "metadata": {
        "id": "ef244fe6"
      },
      "outputs": [],
      "source": []
    },
    {
      "cell_type": "code",
      "execution_count": 57,
      "id": "9a0c7f72",
      "metadata": {
        "id": "9a0c7f72"
      },
      "outputs": [],
      "source": [
        "X_train_h1, X_test_h1, y_train_h1, y_test_h1 = train_test_split(data, label1, test_size=0.2, random_state=101)"
      ]
    },
    {
      "cell_type": "code",
      "execution_count": 58,
      "id": "952112dd",
      "metadata": {
        "id": "952112dd"
      },
      "outputs": [],
      "source": [
        "h1n1_model = XGBClassifier(**param_h1n1,missing= np.nan)"
      ]
    },
    {
      "cell_type": "code",
      "execution_count": 59,
      "id": "63b63f7d",
      "metadata": {
        "colab": {
          "base_uri": "https://localhost:8080/",
          "height": 252
        },
        "id": "63b63f7d",
        "outputId": "9c3fdd83-c758-4322-88f2-026def1b5a86"
      },
      "outputs": [
        {
          "output_type": "execute_result",
          "data": {
            "text/plain": [
              "XGBClassifier(base_score=None, booster=None, callbacks=None,\n",
              "              colsample_bylevel=None, colsample_bynode=None,\n",
              "              colsample_bytree=0.6490131080056952, early_stopping_rounds=None,\n",
              "              enable_categorical=False, eval_metric=None, feature_types=None,\n",
              "              gamma=0.7378430168803662, gpu_id=None, grow_policy=None,\n",
              "              importance_type=None, interaction_constraints=None,\n",
              "              learning_rate=0.03629153080933058, max_bin=None,\n",
              "              max_cat_threshold=None, max_cat_to_onehot=None,\n",
              "              max_delta_step=None, max_depth=7, max_leaves=None,\n",
              "              min_child_weight=6, missing=nan, monotone_constraints=None,\n",
              "              n_estimators=249, n_jobs=None, num_parallel_tree=None,\n",
              "              predictor=None, random_state=None, ...)"
            ],
            "text/html": [
              "<style>#sk-container-id-1 {color: black;background-color: white;}#sk-container-id-1 pre{padding: 0;}#sk-container-id-1 div.sk-toggleable {background-color: white;}#sk-container-id-1 label.sk-toggleable__label {cursor: pointer;display: block;width: 100%;margin-bottom: 0;padding: 0.3em;box-sizing: border-box;text-align: center;}#sk-container-id-1 label.sk-toggleable__label-arrow:before {content: \"▸\";float: left;margin-right: 0.25em;color: #696969;}#sk-container-id-1 label.sk-toggleable__label-arrow:hover:before {color: black;}#sk-container-id-1 div.sk-estimator:hover label.sk-toggleable__label-arrow:before {color: black;}#sk-container-id-1 div.sk-toggleable__content {max-height: 0;max-width: 0;overflow: hidden;text-align: left;background-color: #f0f8ff;}#sk-container-id-1 div.sk-toggleable__content pre {margin: 0.2em;color: black;border-radius: 0.25em;background-color: #f0f8ff;}#sk-container-id-1 input.sk-toggleable__control:checked~div.sk-toggleable__content {max-height: 200px;max-width: 100%;overflow: auto;}#sk-container-id-1 input.sk-toggleable__control:checked~label.sk-toggleable__label-arrow:before {content: \"▾\";}#sk-container-id-1 div.sk-estimator input.sk-toggleable__control:checked~label.sk-toggleable__label {background-color: #d4ebff;}#sk-container-id-1 div.sk-label input.sk-toggleable__control:checked~label.sk-toggleable__label {background-color: #d4ebff;}#sk-container-id-1 input.sk-hidden--visually {border: 0;clip: rect(1px 1px 1px 1px);clip: rect(1px, 1px, 1px, 1px);height: 1px;margin: -1px;overflow: hidden;padding: 0;position: absolute;width: 1px;}#sk-container-id-1 div.sk-estimator {font-family: monospace;background-color: #f0f8ff;border: 1px dotted black;border-radius: 0.25em;box-sizing: border-box;margin-bottom: 0.5em;}#sk-container-id-1 div.sk-estimator:hover {background-color: #d4ebff;}#sk-container-id-1 div.sk-parallel-item::after {content: \"\";width: 100%;border-bottom: 1px solid gray;flex-grow: 1;}#sk-container-id-1 div.sk-label:hover label.sk-toggleable__label {background-color: #d4ebff;}#sk-container-id-1 div.sk-serial::before {content: \"\";position: absolute;border-left: 1px solid gray;box-sizing: border-box;top: 0;bottom: 0;left: 50%;z-index: 0;}#sk-container-id-1 div.sk-serial {display: flex;flex-direction: column;align-items: center;background-color: white;padding-right: 0.2em;padding-left: 0.2em;position: relative;}#sk-container-id-1 div.sk-item {position: relative;z-index: 1;}#sk-container-id-1 div.sk-parallel {display: flex;align-items: stretch;justify-content: center;background-color: white;position: relative;}#sk-container-id-1 div.sk-item::before, #sk-container-id-1 div.sk-parallel-item::before {content: \"\";position: absolute;border-left: 1px solid gray;box-sizing: border-box;top: 0;bottom: 0;left: 50%;z-index: -1;}#sk-container-id-1 div.sk-parallel-item {display: flex;flex-direction: column;z-index: 1;position: relative;background-color: white;}#sk-container-id-1 div.sk-parallel-item:first-child::after {align-self: flex-end;width: 50%;}#sk-container-id-1 div.sk-parallel-item:last-child::after {align-self: flex-start;width: 50%;}#sk-container-id-1 div.sk-parallel-item:only-child::after {width: 0;}#sk-container-id-1 div.sk-dashed-wrapped {border: 1px dashed gray;margin: 0 0.4em 0.5em 0.4em;box-sizing: border-box;padding-bottom: 0.4em;background-color: white;}#sk-container-id-1 div.sk-label label {font-family: monospace;font-weight: bold;display: inline-block;line-height: 1.2em;}#sk-container-id-1 div.sk-label-container {text-align: center;}#sk-container-id-1 div.sk-container {/* jupyter's `normalize.less` sets `[hidden] { display: none; }` but bootstrap.min.css set `[hidden] { display: none !important; }` so we also need the `!important` here to be able to override the default hidden behavior on the sphinx rendered scikit-learn.org. See: https://github.com/scikit-learn/scikit-learn/issues/21755 */display: inline-block !important;position: relative;}#sk-container-id-1 div.sk-text-repr-fallback {display: none;}</style><div id=\"sk-container-id-1\" class=\"sk-top-container\"><div class=\"sk-text-repr-fallback\"><pre>XGBClassifier(base_score=None, booster=None, callbacks=None,\n",
              "              colsample_bylevel=None, colsample_bynode=None,\n",
              "              colsample_bytree=0.6490131080056952, early_stopping_rounds=None,\n",
              "              enable_categorical=False, eval_metric=None, feature_types=None,\n",
              "              gamma=0.7378430168803662, gpu_id=None, grow_policy=None,\n",
              "              importance_type=None, interaction_constraints=None,\n",
              "              learning_rate=0.03629153080933058, max_bin=None,\n",
              "              max_cat_threshold=None, max_cat_to_onehot=None,\n",
              "              max_delta_step=None, max_depth=7, max_leaves=None,\n",
              "              min_child_weight=6, missing=nan, monotone_constraints=None,\n",
              "              n_estimators=249, n_jobs=None, num_parallel_tree=None,\n",
              "              predictor=None, random_state=None, ...)</pre><b>In a Jupyter environment, please rerun this cell to show the HTML representation or trust the notebook. <br />On GitHub, the HTML representation is unable to render, please try loading this page with nbviewer.org.</b></div><div class=\"sk-container\" hidden><div class=\"sk-item\"><div class=\"sk-estimator sk-toggleable\"><input class=\"sk-toggleable__control sk-hidden--visually\" id=\"sk-estimator-id-1\" type=\"checkbox\" checked><label for=\"sk-estimator-id-1\" class=\"sk-toggleable__label sk-toggleable__label-arrow\">XGBClassifier</label><div class=\"sk-toggleable__content\"><pre>XGBClassifier(base_score=None, booster=None, callbacks=None,\n",
              "              colsample_bylevel=None, colsample_bynode=None,\n",
              "              colsample_bytree=0.6490131080056952, early_stopping_rounds=None,\n",
              "              enable_categorical=False, eval_metric=None, feature_types=None,\n",
              "              gamma=0.7378430168803662, gpu_id=None, grow_policy=None,\n",
              "              importance_type=None, interaction_constraints=None,\n",
              "              learning_rate=0.03629153080933058, max_bin=None,\n",
              "              max_cat_threshold=None, max_cat_to_onehot=None,\n",
              "              max_delta_step=None, max_depth=7, max_leaves=None,\n",
              "              min_child_weight=6, missing=nan, monotone_constraints=None,\n",
              "              n_estimators=249, n_jobs=None, num_parallel_tree=None,\n",
              "              predictor=None, random_state=None, ...)</pre></div></div></div></div></div>"
            ]
          },
          "metadata": {},
          "execution_count": 59
        }
      ],
      "source": [
        "h1n1_model.fit(X_train_h1, y_train_h1)"
      ]
    },
    {
      "cell_type": "code",
      "execution_count": 59,
      "id": "6b2f4a77",
      "metadata": {
        "id": "6b2f4a77"
      },
      "outputs": [],
      "source": []
    },
    {
      "cell_type": "code",
      "execution_count": 60,
      "id": "76e8bea0",
      "metadata": {
        "id": "76e8bea0"
      },
      "outputs": [],
      "source": [
        "h1n1_predict = h1n1_model.predict(X_test_h1)"
      ]
    },
    {
      "cell_type": "code",
      "execution_count": 61,
      "id": "4ff72da2",
      "metadata": {
        "colab": {
          "base_uri": "https://localhost:8080/"
        },
        "id": "4ff72da2",
        "outputId": "1a46e99c-0518-4959-be6f-94e0114afa1d"
      },
      "outputs": [
        {
          "output_type": "stream",
          "name": "stdout",
          "text": [
            "              precision    recall  f1-score   support\n",
            "\n",
            "           0       0.88      0.95      0.91      4199\n",
            "           1       0.74      0.51      0.60      1143\n",
            "\n",
            "    accuracy                           0.86      5342\n",
            "   macro avg       0.81      0.73      0.76      5342\n",
            "weighted avg       0.85      0.86      0.85      5342\n",
            "\n"
          ]
        }
      ],
      "source": [
        "print(classification_report(y_test_h1, h1n1_predict))"
      ]
    },
    {
      "cell_type": "code",
      "execution_count": 64,
      "id": "e63e1fb6",
      "metadata": {
        "id": "e63e1fb6"
      },
      "outputs": [],
      "source": [
        "from sklearn.metrics import roc_auc_score"
      ]
    },
    {
      "cell_type": "code",
      "execution_count": 75,
      "id": "905f92cd",
      "metadata": {
        "colab": {
          "base_uri": "https://localhost:8080/"
        },
        "id": "905f92cd",
        "outputId": "b7ebef7b-e82e-4815-8515-3f3652a18cef"
      },
      "outputs": [
        {
          "output_type": "stream",
          "name": "stdout",
          "text": [
            "ROC - AUC score : 0.8666316835425341\n"
          ]
        }
      ],
      "source": [
        "from sklearn.metrics import roc_curve, roc_auc_score, auc\n",
        "\n",
        "h1_prediction_roc = h1n1_model.predict_proba(X_test_h1)[:, 1]\n",
        "\n",
        "roc_auc = roc_auc_score(y_test_h1, h1_prediction_roc)\n",
        "\n",
        "print('ROC - AUC score :' , roc_auc)"
      ]
    },
    {
      "cell_type": "code",
      "source": [],
      "metadata": {
        "id": "C3PmFhSCwBFR"
      },
      "id": "C3PmFhSCwBFR",
      "execution_count": 72,
      "outputs": []
    },
    {
      "cell_type": "code",
      "source": [
        "import matplotlib.pyplot as plt\n",
        "from sklearn.metrics import roc_curve, auc\n",
        "\n",
        "h1_prediction_roc = h1n1_model.predict_proba(X_test_h1)[:, 1]\n",
        "\n",
        "fpr, tpr, thresholds = roc_curve(y_test_h1, h1_prediction_roc)\n",
        "roc_auc = auc(fpr, tpr)\n",
        "\n",
        "plt.plot(fpr, tpr, label='ROC curve (area = %0.6f)' % roc_auc)\n",
        "plt.plot([0, 1], [0, 1], 'k--')\n",
        "plt.xlabel('False Positive Rate')\n",
        "plt.ylabel('True Positive Rate')\n",
        "plt.title('H1 Roc - Auc Score')\n",
        "plt.legend(loc=\"lower right\")\n",
        "plt.show()"
      ],
      "metadata": {
        "colab": {
          "base_uri": "https://localhost:8080/",
          "height": 472
        },
        "id": "w_DnVZdDwUvF",
        "outputId": "cfa8ec54-82ce-4edb-cfe8-8a1720767024"
      },
      "id": "w_DnVZdDwUvF",
      "execution_count": 109,
      "outputs": [
        {
          "output_type": "display_data",
          "data": {
            "text/plain": [
              "<Figure size 640x480 with 1 Axes>"
            ],
            "image/png": "[encoded data removed]"
          },
          "metadata": {}
        }
      ]
    },
    {
      "cell_type": "code",
      "execution_count": 83,
      "id": "03e8f4e0",
      "metadata": {
        "colab": {
          "base_uri": "https://localhost:8080/"
        },
        "id": "03e8f4e0",
        "outputId": "65b96eae-22f2-4822-a539-c4123f634c06"
      },
      "outputs": [
        {
          "output_type": "execute_result",
          "data": {
            "text/plain": [
              "(26707,)"
            ]
          },
          "metadata": {},
          "execution_count": 83
        }
      ],
      "source": [
        "label1.shape"
      ]
    },
    {
      "cell_type": "code",
      "execution_count": 84,
      "id": "5d135088",
      "metadata": {
        "colab": {
          "base_uri": "https://localhost:8080/"
        },
        "id": "5d135088",
        "outputId": "0d8b5946-091a-4e8e-dbcb-193a694f6f58"
      },
      "outputs": [
        {
          "output_type": "execute_result",
          "data": {
            "text/plain": [
              "(21365, 91)"
            ]
          },
          "metadata": {},
          "execution_count": 84
        }
      ],
      "source": [
        "X_train.shape"
      ]
    },
    {
      "cell_type": "code",
      "execution_count": 84,
      "id": "622773a7",
      "metadata": {
        "id": "622773a7"
      },
      "outputs": [],
      "source": []
    },
    {
      "cell_type": "code",
      "execution_count": 87,
      "id": "e0aea0f8",
      "metadata": {
        "id": "e0aea0f8"
      },
      "outputs": [],
      "source": [
        "X_train, X_test, y_train, y_test = train_test_split(data, label2, test_size=0.2, random_state=101)\n",
        "\n",
        "# Define the objective function\n",
        "def objective(trial):\n",
        "    param = {\n",
        "        'n_estimators': trial.suggest_int('n_estimators', 50, 500),\n",
        "        'max_depth': trial.suggest_int('max_depth', 3, 10),\n",
        "        'reg_alpha': trial.suggest_float('reg_alpha', 1e-8, 1.0),\n",
        "        'reg_lambda': trial.suggest_float('reg_lambda', 1e-8, 1.0),\n",
        "        'min_child_weight': trial.suggest_int('min_child_weight', 0, 6),\n",
        "        'gamma': trial.suggest_float('gamma',1e-8, 1.0),\n",
        "        'learning_rate': trial.suggest_float('learning_rate', 0.01, 1),\n",
        "        'colsample_bytree': trial.suggest_float('colsample_bytree', 0.3, 0.8),\n",
        "        'subsample': trial.suggest_float('subsample', 0.3, 0.8),\n",
        "        #'scale_pos_weight': trial.suggest_float('scale_pos_weight', 0, 10)\n",
        "      #'custom_metric' : ['AUC'],\n",
        "    }\n",
        "    \n",
        "    xgb = XGBClassifier(**param, missing= np.nan, tree_method=\"gpu_hist\")\n",
        "    #early_stopping_rounds=10,\n",
        "    \n",
        "    from sklearn.model_selection import cross_val_score\n",
        "    scores = cross_val_score(xgb, data, label2, cv=5, scoring='roc_auc')\n",
        "    AUC = np.mean(scores).max() #scores['test-AUC-mean'].max()\n",
        "    return AUC"
      ]
    },
    {
      "cell_type": "code",
      "execution_count": 89,
      "id": "ee03b151",
      "metadata": {
        "scrolled": true,
        "colab": {
          "base_uri": "https://localhost:8080/",
          "height": 1000,
          "referenced_widgets": [
            "46bf9cea650943f3a4f6ff6ddb8ae660",
            "4596f11770ba446a912c54da1f9080c1",
            "f63481ee11b74750b68cff9cfbac19ac",
            "0a03870e39d04f908c7a21004abb1994",
            "6fe912857e4b4853ad0cfa89424b7858",
            "db7b70408f2a4a16af173ee904813cda",
            "3a9fc9a4f5e046e59a1b0a70fc85aed6",
            "286dca34e36148d8beaa25cbe3f3ca4b",
            "addd615a618f4d7b9a5dfb2e523ab30b",
            "ead5490da8c040a18c290f888b9493a0",
            "c33c0e334b34484e864e3abf15ff5bfe"
          ]
        },
        "id": "ee03b151",
        "outputId": "2a826793-a230-48f5-e0c9-b6bb0adfefac"
      },
      "outputs": [
        {
          "output_type": "stream",
          "name": "stderr",
          "text": [
            "\u001b[32m[I 2023-05-17 04:07:55,630]\u001b[0m A new study created in memory with name: no-name-9f7e0964-ddb9-4023-b078-0dca5f47e5c9\u001b[0m\n",
            "/usr/local/lib/python3.10/dist-packages/optuna/progress_bar.py:56: ExperimentalWarning: Progress bar is experimental (supported from v1.2.0). The interface can change in the future.\n",
            "  self._init_valid()\n"
          ]
        },
        {
          "output_type": "display_data",
          "data": {
            "text/plain": [
              "  0%|          | 0/120 [00:00<?, ?it/s]"
            ],
            "application/vnd.jupyter.widget-view+json": {
              "version_major": 2,
              "version_minor": 0,
              "model_id": "46bf9cea650943f3a4f6ff6ddb8ae660"
            }
          },
          "metadata": {}
        },
        {
          "output_type": "stream",
          "name": "stdout",
          "text": [
            "\u001b[32m[I 2023-05-17 04:08:04,949]\u001b[0m Trial 0 finished with value: 0.8302967404850381 and parameters: {'n_estimators': 430, 'max_depth': 9, 'reg_alpha': 0.25947053958181127, 'reg_lambda': 0.17762549170371947, 'min_child_weight': 0, 'gamma': 0.9874206350817255, 'learning_rate': 0.17938324843938677, 'colsample_bytree': 0.6367163538144109, 'subsample': 0.3480301751878964}. Best is trial 0 with value: 0.8302967404850381.\u001b[0m\n",
            "\u001b[32m[I 2023-05-17 04:08:06,986]\u001b[0m Trial 1 finished with value: 0.8241355263344265 and parameters: {'n_estimators': 101, 'max_depth': 4, 'reg_alpha': 0.025993279326083526, 'reg_lambda': 0.8073538168158932, 'min_child_weight': 1, 'gamma': 0.13427087301521126, 'learning_rate': 0.8245544246713644, 'colsample_bytree': 0.5965078814991375, 'subsample': 0.4398749203550743}. Best is trial 0 with value: 0.8302967404850381.\u001b[0m\n",
            "\u001b[32m[I 2023-05-17 04:08:16,775]\u001b[0m Trial 2 finished with value: 0.6935715189578593 and parameters: {'n_estimators': 263, 'max_depth': 9, 'reg_alpha': 0.9230849890490368, 'reg_lambda': 0.1780348548712214, 'min_child_weight': 0, 'gamma': 0.2948510013830289, 'learning_rate': 0.9438180230688024, 'colsample_bytree': 0.6853528808970151, 'subsample': 0.3931154725132915}. Best is trial 0 with value: 0.8302967404850381.\u001b[0m\n",
            "\u001b[32m[I 2023-05-17 04:08:18,766]\u001b[0m Trial 3 finished with value: 0.8230435776299799 and parameters: {'n_estimators': 53, 'max_depth': 6, 'reg_alpha': 0.38748403288971, 'reg_lambda': 0.9129316633702285, 'min_child_weight': 0, 'gamma': 0.2507415437591883, 'learning_rate': 0.588532095885023, 'colsample_bytree': 0.7812931518357707, 'subsample': 0.4156925576077196}. Best is trial 0 with value: 0.8302967404850381.\u001b[0m\n",
            "\u001b[32m[I 2023-05-17 04:08:28,143]\u001b[0m Trial 4 finished with value: 0.8053129991773165 and parameters: {'n_estimators': 461, 'max_depth': 8, 'reg_alpha': 0.3876788477377638, 'reg_lambda': 0.8845209668258456, 'min_child_weight': 6, 'gamma': 0.35270667008376394, 'learning_rate': 0.41691216996259656, 'colsample_bytree': 0.6060361990629881, 'subsample': 0.40972732534899886}. Best is trial 0 with value: 0.8302967404850381.\u001b[0m\n",
            "\u001b[32m[I 2023-05-17 04:08:34,992]\u001b[0m Trial 5 finished with value: 0.79125085092223 and parameters: {'n_estimators': 316, 'max_depth': 10, 'reg_alpha': 0.13982037788907267, 'reg_lambda': 0.6605832350246866, 'min_child_weight': 4, 'gamma': 0.500780973642666, 'learning_rate': 0.9121977009762033, 'colsample_bytree': 0.38897748676146876, 'subsample': 0.6683342613701015}. Best is trial 0 with value: 0.8302967404850381.\u001b[0m\n",
            "\u001b[32m[I 2023-05-17 04:08:39,826]\u001b[0m Trial 6 finished with value: 0.8129556028017607 and parameters: {'n_estimators': 169, 'max_depth': 9, 'reg_alpha': 0.8093306344894156, 'reg_lambda': 0.3910971228991635, 'min_child_weight': 3, 'gamma': 0.5810829764202192, 'learning_rate': 0.6967924067022188, 'colsample_bytree': 0.631554496376771, 'subsample': 0.7651126197411643}. Best is trial 0 with value: 0.8302967404850381.\u001b[0m\n",
            "\u001b[32m[I 2023-05-17 04:08:42,770]\u001b[0m Trial 7 finished with value: 0.8191583214183211 and parameters: {'n_estimators': 118, 'max_depth': 4, 'reg_alpha': 0.047678136788623385, 'reg_lambda': 0.38239501892591404, 'min_child_weight': 5, 'gamma': 0.2215655614775675, 'learning_rate': 0.9979165084094038, 'colsample_bytree': 0.3593231020846062, 'subsample': 0.5479280701948741}. Best is trial 0 with value: 0.8302967404850381.\u001b[0m\n",
            "\u001b[32m[I 2023-05-17 04:08:46,826]\u001b[0m Trial 8 finished with value: 0.8419753800088928 and parameters: {'n_estimators': 334, 'max_depth': 4, 'reg_alpha': 0.1530314241773555, 'reg_lambda': 0.17076993682492533, 'min_child_weight': 6, 'gamma': 0.8323896573925894, 'learning_rate': 0.4826627161252066, 'colsample_bytree': 0.38817381332213075, 'subsample': 0.7483706779956836}. Best is trial 8 with value: 0.8419753800088928.\u001b[0m\n",
            "\u001b[32m[I 2023-05-17 04:08:57,837]\u001b[0m Trial 9 finished with value: 0.8552004493766214 and parameters: {'n_estimators': 333, 'max_depth': 10, 'reg_alpha': 0.98321911563512, 'reg_lambda': 0.5144427357501465, 'min_child_weight': 2, 'gamma': 0.8686644381586287, 'learning_rate': 0.0727809359947171, 'colsample_bytree': 0.4836266168702894, 'subsample': 0.37305644740673}. Best is trial 9 with value: 0.8552004493766214.\u001b[0m\n",
            "\u001b[32m[I 2023-05-17 04:09:02,717]\u001b[0m Trial 10 finished with value: 0.8629441870395256 and parameters: {'n_estimators': 220, 'max_depth': 6, 'reg_alpha': 0.6420076279991727, 'reg_lambda': 0.6030091500357849, 'min_child_weight': 2, 'gamma': 0.7222000557686128, 'learning_rate': 0.06425676333245735, 'colsample_bytree': 0.4887682174472424, 'subsample': 0.3242831464492423}. Best is trial 10 with value: 0.8629441870395256.\u001b[0m\n",
            "\u001b[32m[I 2023-05-17 04:09:06,794]\u001b[0m Trial 11 finished with value: 0.862814904942438 and parameters: {'n_estimators': 221, 'max_depth': 6, 'reg_alpha': 0.655258185619381, 'reg_lambda': 0.6499787030712156, 'min_child_weight': 2, 'gamma': 0.7254325976704912, 'learning_rate': 0.02073110748242761, 'colsample_bytree': 0.4936829592665878, 'subsample': 0.30722490936101315}. Best is trial 10 with value: 0.8629441870395256.\u001b[0m\n",
            "\u001b[32m[I 2023-05-17 04:09:11,564]\u001b[0m Trial 12 finished with value: 0.8602666403228618 and parameters: {'n_estimators': 229, 'max_depth': 6, 'reg_alpha': 0.6389704209593853, 'reg_lambda': 0.6628846980720122, 'min_child_weight': 2, 'gamma': 0.6910825612624274, 'learning_rate': 0.011123886556838235, 'colsample_bytree': 0.5003734440435476, 'subsample': 0.3179384754346802}. Best is trial 10 with value: 0.8629441870395256.\u001b[0m\n",
            "\u001b[32m[I 2023-05-17 04:09:16,621]\u001b[0m Trial 13 finished with value: 0.8383247162857661 and parameters: {'n_estimators': 198, 'max_depth': 7, 'reg_alpha': 0.6217461404208559, 'reg_lambda': 0.7028778760156827, 'min_child_weight': 2, 'gamma': 0.6904438761790792, 'learning_rate': 0.23764446480976847, 'colsample_bytree': 0.47922221210478344, 'subsample': 0.3025189151664732}. Best is trial 10 with value: 0.8629441870395256.\u001b[0m\n",
            "\u001b[32m[I 2023-05-17 04:09:21,639]\u001b[0m Trial 14 finished with value: 0.8402765377943997 and parameters: {'n_estimators': 394, 'max_depth': 5, 'reg_alpha': 0.6471181781946596, 'reg_lambda': 0.5230304865825235, 'min_child_weight': 3, 'gamma': 0.028765047609515815, 'learning_rate': 0.2663237571546141, 'colsample_bytree': 0.5291308571638491, 'subsample': 0.48140279635765826}. Best is trial 10 with value: 0.8629441870395256.\u001b[0m\n",
            "\u001b[32m[I 2023-05-17 04:09:25,856]\u001b[0m Trial 15 finished with value: 0.8579765669447381 and parameters: {'n_estimators': 152, 'max_depth': 7, 'reg_alpha': 0.7457482718305357, 'reg_lambda': 0.7702941409840705, 'min_child_weight': 4, 'gamma': 0.6594780581089112, 'learning_rate': 0.01323718411884808, 'colsample_bytree': 0.4379681515007605, 'subsample': 0.31248379716027674}. Best is trial 10 with value: 0.8629441870395256.\u001b[0m\n",
            "\u001b[32m[I 2023-05-17 04:09:29,224]\u001b[0m Trial 16 finished with value: 0.8628801714221919 and parameters: {'n_estimators': 252, 'max_depth': 3, 'reg_alpha': 0.5010570704910696, 'reg_lambda': 0.9764829617574158, 'min_child_weight': 1, 'gamma': 0.40600624757181164, 'learning_rate': 0.15523478744427582, 'colsample_bytree': 0.3028240863541529, 'subsample': 0.48432098538605095}. Best is trial 10 with value: 0.8629441870395256.\u001b[0m\n",
            "\u001b[32m[I 2023-05-17 04:09:32,336]\u001b[0m Trial 17 finished with value: 0.8561668908318458 and parameters: {'n_estimators': 271, 'max_depth': 3, 'reg_alpha': 0.513382174457585, 'reg_lambda': 0.9683783473849689, 'min_child_weight': 1, 'gamma': 0.4272384394369644, 'learning_rate': 0.35667667690292526, 'colsample_bytree': 0.31523472830550536, 'subsample': 0.49081068083487656}. Best is trial 10 with value: 0.8629441870395256.\u001b[0m\n",
            "\u001b[32m[I 2023-05-17 04:09:35,651]\u001b[0m Trial 18 finished with value: 0.8638073816628553 and parameters: {'n_estimators': 300, 'max_depth': 3, 'reg_alpha': 0.5009431042816688, 'reg_lambda': 0.9743908410666036, 'min_child_weight': 1, 'gamma': 0.40519522008220754, 'learning_rate': 0.12732055221589414, 'colsample_bytree': 0.310110344883185, 'subsample': 0.5874068649834552}. Best is trial 18 with value: 0.8638073816628553.\u001b[0m\n",
            "\u001b[32m[I 2023-05-17 04:09:41,610]\u001b[0m Trial 19 finished with value: 0.8368706211460166 and parameters: {'n_estimators': 380, 'max_depth': 5, 'reg_alpha': 0.4057390910626344, 'reg_lambda': 0.8223521568275467, 'min_child_weight': 3, 'gamma': 0.5373681226299142, 'learning_rate': 0.3221018023199045, 'colsample_bytree': 0.4444561650041464, 'subsample': 0.6025952281261902}. Best is trial 18 with value: 0.8638073816628553.\u001b[0m\n",
            "\u001b[32m[I 2023-05-17 04:09:45,829]\u001b[0m Trial 20 finished with value: 0.8574114490299714 and parameters: {'n_estimators': 303, 'max_depth': 5, 'reg_alpha': 0.7788693514658588, 'reg_lambda': 0.8823666580615339, 'min_child_weight': 1, 'gamma': 0.4510718840650971, 'learning_rate': 0.14826495259343192, 'colsample_bytree': 0.5547066140409042, 'subsample': 0.584108367268895}. Best is trial 18 with value: 0.8638073816628553.\u001b[0m\n",
            "\u001b[32m[I 2023-05-17 04:09:48,715]\u001b[0m Trial 21 finished with value: 0.8630649869579132 and parameters: {'n_estimators': 249, 'max_depth': 3, 'reg_alpha': 0.5378313324193897, 'reg_lambda': 0.9993079587097388, 'min_child_weight': 1, 'gamma': 0.393987812214699, 'learning_rate': 0.13493657541490828, 'colsample_bytree': 0.3057470951912924, 'subsample': 0.47559856125559785}. Best is trial 18 with value: 0.8638073816628553.\u001b[0m\n",
            "\u001b[32m[I 2023-05-17 04:09:52,426]\u001b[0m Trial 22 finished with value: 0.8630362548088464 and parameters: {'n_estimators': 185, 'max_depth': 3, 'reg_alpha': 0.566504849341282, 'reg_lambda': 0.9888226529267135, 'min_child_weight': 1, 'gamma': 0.35266779678998694, 'learning_rate': 0.08718642268411647, 'colsample_bytree': 0.3378786049732782, 'subsample': 0.3626974047180844}. Best is trial 18 with value: 0.8638073816628553.\u001b[0m\n",
            "\u001b[32m[I 2023-05-17 04:09:54,900]\u001b[0m Trial 23 finished with value: 0.8628754783330121 and parameters: {'n_estimators': 179, 'max_depth': 3, 'reg_alpha': 0.5411336632847222, 'reg_lambda': 0.9972227890358936, 'min_child_weight': 1, 'gamma': 0.36247457615472745, 'learning_rate': 0.1199785996006889, 'colsample_bytree': 0.3402776308730994, 'subsample': 0.52605801897}. Best is trial 18 with value: 0.8638073816628553.\u001b[0m\n",
            "\u001b[32m[I 2023-05-17 04:09:58,663]\u001b[0m Trial 24 finished with value: 0.8606854939341927 and parameters: {'n_estimators': 375, 'max_depth': 3, 'reg_alpha': 0.43656316436993836, 'reg_lambda': 0.994553265332926, 'min_child_weight': 0, 'gamma': 0.31811564494675837, 'learning_rate': 0.19827681309896228, 'colsample_bytree': 0.3055597324894037, 'subsample': 0.44526066259979186}. Best is trial 18 with value: 0.8638073816628553.\u001b[0m\n",
            "\u001b[32m[I 2023-05-17 04:10:02,926]\u001b[0m Trial 25 finished with value: 0.8505855138004133 and parameters: {'n_estimators': 293, 'max_depth': 4, 'reg_alpha': 0.5588663197377356, 'reg_lambda': 0.871593982692572, 'min_child_weight': 1, 'gamma': 0.44814661588827726, 'learning_rate': 0.28051854660198244, 'colsample_bytree': 0.35330643578044674, 'subsample': 0.3850576747426286}. Best is trial 18 with value: 0.8638073816628553.\u001b[0m\n",
            "\u001b[32m[I 2023-05-17 04:10:05,657]\u001b[0m Trial 26 finished with value: 0.862690884732215 and parameters: {'n_estimators': 150, 'max_depth': 3, 'reg_alpha': 0.3112397941072324, 'reg_lambda': 0.7800872522917819, 'min_child_weight': 0, 'gamma': 0.5579995350934022, 'learning_rate': 0.10228158512919772, 'colsample_bytree': 0.3924100478307332, 'subsample': 0.5215523494233401}. Best is trial 18 with value: 0.8638073816628553.\u001b[0m\n",
            "\u001b[32m[I 2023-05-17 04:10:07,852]\u001b[0m Trial 27 finished with value: 0.8617304175920356 and parameters: {'n_estimators': 116, 'max_depth': 4, 'reg_alpha': 0.4782053312955765, 'reg_lambda': 0.9329311384700352, 'min_child_weight': 2, 'gamma': 0.2328403719982498, 'learning_rate': 0.2335508252478751, 'colsample_bytree': 0.3356025294007439, 'subsample': 0.5942141378718575}. Best is trial 18 with value: 0.8638073816628553.\u001b[0m\n",
            "\u001b[32m[I 2023-05-17 04:10:12,525]\u001b[0m Trial 28 finished with value: 0.854328140000348 and parameters: {'n_estimators': 353, 'max_depth': 5, 'reg_alpha': 0.5717925149410622, 'reg_lambda': 0.9210959223227343, 'min_child_weight': 4, 'gamma': 0.3531416601588733, 'learning_rate': 0.17264040354464205, 'colsample_bytree': 0.37155978820486935, 'subsample': 0.44636760976000817}. Best is trial 18 with value: 0.8638073816628553.\u001b[0m\n",
            "\u001b[32m[I 2023-05-17 04:10:17,650]\u001b[0m Trial 29 finished with value: 0.8589989017734794 and parameters: {'n_estimators': 422, 'max_depth': 3, 'reg_alpha': 0.3153073319128401, 'reg_lambda': 0.8520848833148398, 'min_child_weight': 0, 'gamma': 0.48365523142976635, 'learning_rate': 0.1921543608347003, 'colsample_bytree': 0.30328430790097766, 'subsample': 0.35041923139531306}. Best is trial 18 with value: 0.8638073816628553.\u001b[0m\n",
            "\u001b[32m[I 2023-05-17 04:10:20,892]\u001b[0m Trial 30 finished with value: 0.8632610081347094 and parameters: {'n_estimators': 242, 'max_depth': 4, 'reg_alpha': 0.48584572518331726, 'reg_lambda': 0.7574060091681241, 'min_child_weight': 1, 'gamma': 0.39819076139987164, 'learning_rate': 0.10623473904367192, 'colsample_bytree': 0.43213183002619704, 'subsample': 0.3771839844933038}. Best is trial 18 with value: 0.8638073816628553.\u001b[0m\n",
            "\u001b[32m[I 2023-05-17 04:10:24,083]\u001b[0m Trial 31 finished with value: 0.8630503687034443 and parameters: {'n_estimators': 244, 'max_depth': 4, 'reg_alpha': 0.4657022705995768, 'reg_lambda': 0.9324420067603969, 'min_child_weight': 1, 'gamma': 0.4030039215470309, 'learning_rate': 0.11049993423093156, 'colsample_bytree': 0.332905363900987, 'subsample': 0.36036549518315525}. Best is trial 18 with value: 0.8638073816628553.\u001b[0m\n",
            "\u001b[32m[I 2023-05-17 04:10:28,339]\u001b[0m Trial 32 finished with value: 0.8619802807173202 and parameters: {'n_estimators': 236, 'max_depth': 4, 'reg_alpha': 0.44122016925034946, 'reg_lambda': 0.8183068056870327, 'min_child_weight': 1, 'gamma': 0.39173649668253874, 'learning_rate': 0.139357269981808, 'colsample_bytree': 0.42869381369599385, 'subsample': 0.4260340810729579}. Best is trial 18 with value: 0.8638073816628553.\u001b[0m\n",
            "\u001b[32m[I 2023-05-17 04:10:31,906]\u001b[0m Trial 33 finished with value: 0.854342015033869 and parameters: {'n_estimators': 283, 'max_depth': 4, 'reg_alpha': 0.4750887404181356, 'reg_lambda': 0.9065713876577117, 'min_child_weight': 0, 'gamma': 0.4224825304566056, 'learning_rate': 0.2137195100691831, 'colsample_bytree': 0.41194611295917827, 'subsample': 0.3554717326902244}. Best is trial 18 with value: 0.8638073816628553.\u001b[0m\n",
            "\u001b[32m[I 2023-05-17 04:10:35,174]\u001b[0m Trial 34 finished with value: 0.8483415991657004 and parameters: {'n_estimators': 259, 'max_depth': 4, 'reg_alpha': 0.3408679508169399, 'reg_lambda': 0.7811089503219423, 'min_child_weight': 1, 'gamma': 0.2972527264110312, 'learning_rate': 0.3109904965062451, 'colsample_bytree': 0.36282775364313746, 'subsample': 0.38851790970022093}. Best is trial 18 with value: 0.8638073816628553.\u001b[0m\n",
            "\u001b[32m[I 2023-05-17 04:10:39,875]\u001b[0m Trial 35 finished with value: 0.8632679598289734 and parameters: {'n_estimators': 251, 'max_depth': 5, 'reg_alpha': 0.3732819012351917, 'reg_lambda': 0.9365519531174848, 'min_child_weight': 0, 'gamma': 0.2693827184947438, 'learning_rate': 0.09065722933227276, 'colsample_bytree': 0.3301204371564004, 'subsample': 0.42780995111687564}. Best is trial 18 with value: 0.8638073816628553.\u001b[0m\n",
            "\u001b[32m[I 2023-05-17 04:10:46,701]\u001b[0m Trial 36 finished with value: 0.8456567855483584 and parameters: {'n_estimators': 498, 'max_depth': 5, 'reg_alpha': 0.3623277356182394, 'reg_lambda': 0.8577695867986179, 'min_child_weight': 0, 'gamma': 0.17544179663788467, 'learning_rate': 0.1907234913838368, 'colsample_bytree': 0.401797215938831, 'subsample': 0.46250475798884055}. Best is trial 18 with value: 0.8638073816628553.\u001b[0m\n",
            "\u001b[32m[I 2023-05-17 04:10:50,355]\u001b[0m Trial 37 finished with value: 0.8314889974192153 and parameters: {'n_estimators': 202, 'max_depth': 5, 'reg_alpha': 0.2800981475234485, 'reg_lambda': 0.7381177576570446, 'min_child_weight': 0, 'gamma': 0.27873516540974486, 'learning_rate': 0.39168519658975937, 'colsample_bytree': 0.3705992004997637, 'subsample': 0.4090389045760765}. Best is trial 18 with value: 0.8638073816628553.\u001b[0m\n",
            "\u001b[32m[I 2023-05-17 04:10:53,292]\u001b[0m Trial 38 finished with value: 0.8526097839156079 and parameters: {'n_estimators': 59, 'max_depth': 3, 'reg_alpha': 0.39848735382407807, 'reg_lambda': 0.935415150240669, 'min_child_weight': 0, 'gamma': 0.30955576461805645, 'learning_rate': 0.05918691236785055, 'colsample_bytree': 0.33426866921265275, 'subsample': 0.41778887535100173}. Best is trial 18 with value: 0.8638073816628553.\u001b[0m\n",
            "\u001b[32m[I 2023-05-17 04:10:56,964]\u001b[0m Trial 39 finished with value: 0.8585250596123922 and parameters: {'n_estimators': 323, 'max_depth': 3, 'reg_alpha': 0.23641923516612248, 'reg_lambda': 0.8429171860519632, 'min_child_weight': 3, 'gamma': 0.18806501302571807, 'learning_rate': 0.24413046739175098, 'colsample_bytree': 0.37684696701620585, 'subsample': 0.43058807838584684}. Best is trial 18 with value: 0.8638073816628553.\u001b[0m\n",
            "\u001b[32m[I 2023-05-17 04:11:03,294]\u001b[0m Trial 40 finished with value: 0.8475605620197033 and parameters: {'n_estimators': 286, 'max_depth': 8, 'reg_alpha': 0.41084888331252206, 'reg_lambda': 0.8924120323382251, 'min_child_weight': 2, 'gamma': 0.26441002125613067, 'learning_rate': 0.14128725456182448, 'colsample_bytree': 0.3001396177305858, 'subsample': 0.4002028980030399}. Best is trial 18 with value: 0.8638073816628553.\u001b[0m\n",
            "\u001b[32m[I 2023-05-17 04:11:07,431]\u001b[0m Trial 41 finished with value: 0.8634676366451599 and parameters: {'n_estimators': 248, 'max_depth': 4, 'reg_alpha': 0.5234259058527616, 'reg_lambda': 0.9427762057418887, 'min_child_weight': 1, 'gamma': 0.3945201702303418, 'learning_rate': 0.1009831397280106, 'colsample_bytree': 0.32753870595718987, 'subsample': 0.38581522723288914}. Best is trial 18 with value: 0.8638073816628553.\u001b[0m\n",
            "\u001b[32m[I 2023-05-17 04:11:10,791]\u001b[0m Trial 42 finished with value: 0.8645200824579586 and parameters: {'n_estimators': 266, 'max_depth': 4, 'reg_alpha': 0.5094055605340589, 'reg_lambda': 0.9521778867825088, 'min_child_weight': 1, 'gamma': 0.4837955446103664, 'learning_rate': 0.06322715014794944, 'colsample_bytree': 0.3243221707953122, 'subsample': 0.38169929794403645}. Best is trial 42 with value: 0.8645200824579586.\u001b[0m\n",
            "\u001b[32m[I 2023-05-17 04:11:14,470]\u001b[0m Trial 43 finished with value: 0.8648298457323949 and parameters: {'n_estimators': 305, 'max_depth': 4, 'reg_alpha': 0.43624228470411247, 'reg_lambda': 0.8166208419810828, 'min_child_weight': 0, 'gamma': 0.4957766097393269, 'learning_rate': 0.061881701455788, 'colsample_bytree': 0.35260422970297456, 'subsample': 0.33650197129858594}. Best is trial 43 with value: 0.8648298457323949.\u001b[0m\n",
            "\u001b[32m[I 2023-05-17 04:11:19,539]\u001b[0m Trial 44 finished with value: 0.8650290648417265 and parameters: {'n_estimators': 345, 'max_depth': 4, 'reg_alpha': 0.4024786945791097, 'reg_lambda': 0.9463540704057589, 'min_child_weight': 0, 'gamma': 0.5040853545203602, 'learning_rate': 0.048216001785353235, 'colsample_bytree': 0.3510358881732967, 'subsample': 0.33654357454766115}. Best is trial 44 with value: 0.8650290648417265.\u001b[0m\n",
            "\u001b[32m[I 2023-05-17 04:11:23,602]\u001b[0m Trial 45 finished with value: 0.8644787293355012 and parameters: {'n_estimators': 353, 'max_depth': 4, 'reg_alpha': 0.43806967243237116, 'reg_lambda': 0.8248114775168066, 'min_child_weight': 0, 'gamma': 0.508840041698092, 'learning_rate': 0.056678896819202726, 'colsample_bytree': 0.35218768192881694, 'subsample': 0.3310935631673061}. Best is trial 44 with value: 0.8650290648417265.\u001b[0m\n",
            "\u001b[32m[I 2023-05-17 04:11:27,680]\u001b[0m Trial 46 finished with value: 0.8647740202707477 and parameters: {'n_estimators': 346, 'max_depth': 4, 'reg_alpha': 0.4371127829202675, 'reg_lambda': 0.8133009207320141, 'min_child_weight': 0, 'gamma': 0.5069377986611964, 'learning_rate': 0.04489637003077267, 'colsample_bytree': 0.3708839461286426, 'subsample': 0.32958790318745257}. Best is trial 44 with value: 0.8650290648417265.\u001b[0m\n",
            "\u001b[32m[I 2023-05-17 04:11:33,828]\u001b[0m Trial 47 finished with value: 0.8642293285655944 and parameters: {'n_estimators': 414, 'max_depth': 5, 'reg_alpha': 0.4481430927458378, 'reg_lambda': 0.8102863231283387, 'min_child_weight': 0, 'gamma': 0.5066373615178658, 'learning_rate': 0.04812308240618218, 'colsample_bytree': 0.3530348576837659, 'subsample': 0.33203394808238945}. Best is trial 44 with value: 0.8650290648417265.\u001b[0m\n",
            "\u001b[32m[I 2023-05-17 04:11:39,322]\u001b[0m Trial 48 finished with value: 0.8645809205478997 and parameters: {'n_estimators': 346, 'max_depth': 6, 'reg_alpha': 0.358282351813529, 'reg_lambda': 0.7309240558362838, 'min_child_weight': 0, 'gamma': 0.6267771321341232, 'learning_rate': 0.028830695865833266, 'colsample_bytree': 0.38729394687019686, 'subsample': 0.3339422774981446}. Best is trial 44 with value: 0.8650290648417265.\u001b[0m\n",
            "\u001b[32m[I 2023-05-17 04:11:48,566]\u001b[0m Trial 49 finished with value: 0.8617690999353851 and parameters: {'n_estimators': 346, 'max_depth': 8, 'reg_alpha': 0.24482496304874032, 'reg_lambda': 0.7480941395412118, 'min_child_weight': 0, 'gamma': 0.6004080839925386, 'learning_rate': 0.01033914813839485, 'colsample_bytree': 0.4095834748325708, 'subsample': 0.34013069771363236}. Best is trial 44 with value: 0.8650290648417265.\u001b[0m\n",
            "\u001b[32m[I 2023-05-17 04:11:54,918]\u001b[0m Trial 50 finished with value: 0.8633707896458663 and parameters: {'n_estimators': 319, 'max_depth': 7, 'reg_alpha': 0.35740795406074727, 'reg_lambda': 0.7285873597697254, 'min_child_weight': 5, 'gamma': 0.6126361060088619, 'learning_rate': 0.04798433976295392, 'colsample_bytree': 0.3848457373735669, 'subsample': 0.300681770943002}. Best is trial 44 with value: 0.8650290648417265.\u001b[0m\n",
            "\u001b[32m[I 2023-05-17 04:12:00,440]\u001b[0m Trial 51 finished with value: 0.8627296639592832 and parameters: {'n_estimators': 358, 'max_depth': 6, 'reg_alpha': 0.44056169406516826, 'reg_lambda': 0.807254493094045, 'min_child_weight': 0, 'gamma': 0.4928197129299692, 'learning_rate': 0.04950068619503333, 'colsample_bytree': 0.3557153435465159, 'subsample': 0.32903473222907664}. Best is trial 44 with value: 0.8650290648417265.\u001b[0m\n",
            "\u001b[32m[I 2023-05-17 04:12:05,455]\u001b[0m Trial 52 finished with value: 0.8598804891931898 and parameters: {'n_estimators': 453, 'max_depth': 4, 'reg_alpha': 0.40353318111868075, 'reg_lambda': 0.867386586695547, 'min_child_weight': 0, 'gamma': 0.5411055838189981, 'learning_rate': 0.010159359028500053, 'colsample_bytree': 0.38186378619549033, 'subsample': 0.3410075200908232}. Best is trial 44 with value: 0.8650290648417265.\u001b[0m\n",
            "\u001b[32m[I 2023-05-17 04:12:11,669]\u001b[0m Trial 53 finished with value: 0.8602094788745575 and parameters: {'n_estimators': 372, 'max_depth': 6, 'reg_alpha': 0.3832862293874643, 'reg_lambda': 0.6812705371717354, 'min_child_weight': 0, 'gamma': 0.6246434986701733, 'learning_rate': 0.06608475631056658, 'colsample_bytree': 0.35632110017167085, 'subsample': 0.3279053615354104}. Best is trial 44 with value: 0.8650290648417265.\u001b[0m\n",
            "\u001b[32m[I 2023-05-17 04:12:15,478]\u001b[0m Trial 54 finished with value: 0.8645751558950845 and parameters: {'n_estimators': 329, 'max_depth': 4, 'reg_alpha': 0.32379884904744993, 'reg_lambda': 0.7116574972326399, 'min_child_weight': 0, 'gamma': 0.5692746514663538, 'learning_rate': 0.0515934376267584, 'colsample_bytree': 0.3991798026049431, 'subsample': 0.3190377464052539}. Best is trial 44 with value: 0.8650290648417265.\u001b[0m\n",
            "\u001b[32m[I 2023-05-17 04:12:24,224]\u001b[0m Trial 55 finished with value: 0.8337046541628281 and parameters: {'n_estimators': 332, 'max_depth': 9, 'reg_alpha': 0.31992492645010695, 'reg_lambda': 0.7063034318638324, 'min_child_weight': 0, 'gamma': 0.5765120305984855, 'learning_rate': 0.18295540845469727, 'colsample_bytree': 0.4037932362124939, 'subsample': 0.36612610914017624}. Best is trial 44 with value: 0.8650290648417265.\u001b[0m\n",
            "\u001b[32m[I 2023-05-17 04:12:29,354]\u001b[0m Trial 56 finished with value: 0.8644220970095852 and parameters: {'n_estimators': 402, 'max_depth': 5, 'reg_alpha': 0.2822993884756338, 'reg_lambda': 0.6025754764923701, 'min_child_weight': 0, 'gamma': 0.5423371678395249, 'learning_rate': 0.035691192449583645, 'colsample_bytree': 0.4616827635325309, 'subsample': 0.3149883685623468}. Best is trial 44 with value: 0.8650290648417265.\u001b[0m\n",
            "\u001b[32m[I 2023-05-17 04:12:35,203]\u001b[0m Trial 57 finished with value: 0.8599494344463873 and parameters: {'n_estimators': 388, 'max_depth': 5, 'reg_alpha': 0.22570263345235486, 'reg_lambda': 0.8945263962586832, 'min_child_weight': 0, 'gamma': 0.4660154978308444, 'learning_rate': 0.08505528097844314, 'colsample_bytree': 0.4203122894383613, 'subsample': 0.3451281800786401}. Best is trial 44 with value: 0.8650290648417265.\u001b[0m\n",
            "\u001b[32m[I 2023-05-17 04:12:43,415]\u001b[0m Trial 58 finished with value: 0.8371266327381987 and parameters: {'n_estimators': 302, 'max_depth': 10, 'reg_alpha': 0.35020401592145944, 'reg_lambda': 0.7902623348669333, 'min_child_weight': 1, 'gamma': 0.6382033634417053, 'learning_rate': 0.15002362327019259, 'colsample_bytree': 0.39135715728139364, 'subsample': 0.3038165018594609}. Best is trial 44 with value: 0.8650290648417265.\u001b[0m\n",
            "\u001b[32m[I 2023-05-17 04:12:47,561]\u001b[0m Trial 59 finished with value: 0.8644062186005834 and parameters: {'n_estimators': 313, 'max_depth': 4, 'reg_alpha': 0.19758871735454708, 'reg_lambda': 0.6319343074096759, 'min_child_weight': 0, 'gamma': 0.595920797812562, 'learning_rate': 0.0745906221082866, 'colsample_bytree': 0.3191178055767276, 'subsample': 0.36905771367641105}. Best is trial 44 with value: 0.8650290648417265.\u001b[0m\n",
            "\u001b[32m[I 2023-05-17 04:12:51,020]\u001b[0m Trial 60 finished with value: 0.8638465901480114 and parameters: {'n_estimators': 273, 'max_depth': 4, 'reg_alpha': 0.5037132880233663, 'reg_lambda': 0.8547812407752005, 'min_child_weight': 0, 'gamma': 0.5720697334080506, 'learning_rate': 0.03454409267862982, 'colsample_bytree': 0.41829354335894553, 'subsample': 0.31721052576778735}. Best is trial 44 with value: 0.8650290648417265.\u001b[0m\n",
            "\u001b[32m[I 2023-05-17 04:12:55,210]\u001b[0m Trial 61 finished with value: 0.8637903160989062 and parameters: {'n_estimators': 341, 'max_depth': 4, 'reg_alpha': 0.4335520711510098, 'reg_lambda': 0.8169732399809722, 'min_child_weight': 0, 'gamma': 0.5112737719727001, 'learning_rate': 0.07202146358202632, 'colsample_bytree': 0.34613555619689707, 'subsample': 0.34404005476986615}. Best is trial 44 with value: 0.8650290648417265.\u001b[0m\n",
            "\u001b[32m[I 2023-05-17 04:13:00,128]\u001b[0m Trial 62 finished with value: 0.8586439568585057 and parameters: {'n_estimators': 369, 'max_depth': 4, 'reg_alpha': 0.41304733924788595, 'reg_lambda': 0.7160121497002447, 'min_child_weight': 0, 'gamma': 0.4758056144943476, 'learning_rate': 0.010737747248047366, 'colsample_bytree': 0.3696371557555059, 'subsample': 0.3235840170887522}. Best is trial 44 with value: 0.8650290648417265.\u001b[0m\n",
            "\u001b[32m[I 2023-05-17 04:13:04,900]\u001b[0m Trial 63 finished with value: 0.8534131148673725 and parameters: {'n_estimators': 359, 'max_depth': 5, 'reg_alpha': 0.3818764298081204, 'reg_lambda': 0.8350485864718149, 'min_child_weight': 0, 'gamma': 0.45392440963183783, 'learning_rate': 0.1594969286769276, 'colsample_bytree': 0.3897015743949412, 'subsample': 0.40058668192747166}. Best is trial 44 with value: 0.8650290648417265.\u001b[0m\n",
            "\u001b[32m[I 2023-05-17 04:13:11,040]\u001b[0m Trial 64 finished with value: 0.8638675258101461 and parameters: {'n_estimators': 331, 'max_depth': 6, 'reg_alpha': 0.33562883162903256, 'reg_lambda': 0.7673429557035027, 'min_child_weight': 1, 'gamma': 0.5239373896890448, 'learning_rate': 0.051377664770272745, 'colsample_bytree': 0.3234093012604208, 'subsample': 0.37504172897886723}. Best is trial 44 with value: 0.8650290648417265.\u001b[0m\n",
            "\u001b[32m[I 2023-05-17 04:13:14,828]\u001b[0m Trial 65 finished with value: 0.8622730640257794 and parameters: {'n_estimators': 314, 'max_depth': 4, 'reg_alpha': 0.29212354020134945, 'reg_lambda': 0.901326859363309, 'min_child_weight': 1, 'gamma': 0.5598224605397955, 'learning_rate': 0.1186546587421383, 'colsample_bytree': 0.34502746120028543, 'subsample': 0.3600168407466798}. Best is trial 44 with value: 0.8650290648417265.\u001b[0m\n",
            "\u001b[32m[I 2023-05-17 04:13:19,045]\u001b[0m Trial 66 finished with value: 0.8636348003354687 and parameters: {'n_estimators': 440, 'max_depth': 3, 'reg_alpha': 0.46299674644187677, 'reg_lambda': 0.6865831256732056, 'min_child_weight': 0, 'gamma': 0.5188072790640851, 'learning_rate': 0.08640194278631198, 'colsample_bytree': 0.45008984457243456, 'subsample': 0.3159031754613895}. Best is trial 44 with value: 0.8650290648417265.\u001b[0m\n",
            "\u001b[32m[I 2023-05-17 04:13:26,224]\u001b[0m Trial 67 finished with value: 0.8465043863737229 and parameters: {'n_estimators': 346, 'max_depth': 7, 'reg_alpha': 0.4269079788365392, 'reg_lambda': 0.7982576633019836, 'min_child_weight': 0, 'gamma': 0.6632369566300059, 'learning_rate': 0.12048802770333816, 'colsample_bytree': 0.36607487353807405, 'subsample': 0.30127858003043473}. Best is trial 44 with value: 0.8650290648417265.\u001b[0m\n",
            "\u001b[32m[I 2023-05-17 04:13:30,378]\u001b[0m Trial 68 finished with value: 0.8554385513326579 and parameters: {'n_estimators': 305, 'max_depth': 5, 'reg_alpha': 0.5980510530836137, 'reg_lambda': 0.9522577668546581, 'min_child_weight': 1, 'gamma': 0.49386827679744816, 'learning_rate': 0.15718248973656407, 'colsample_bytree': 0.314905622874513, 'subsample': 0.3343134248140087}. Best is trial 44 with value: 0.8650290648417265.\u001b[0m\n",
            "\u001b[32m[I 2023-05-17 04:13:35,769]\u001b[0m Trial 69 finished with value: 0.8647574758349107 and parameters: {'n_estimators': 404, 'max_depth': 4, 'reg_alpha': 0.5130369700858715, 'reg_lambda': 0.87655621380969, 'min_child_weight': 2, 'gamma': 0.44858059527728866, 'learning_rate': 0.03466977082349971, 'colsample_bytree': 0.3953280598909235, 'subsample': 0.3508925774725662}. Best is trial 44 with value: 0.8650290648417265.\u001b[0m\n",
            "\u001b[32m[I 2023-05-17 04:13:39,707]\u001b[0m Trial 70 finished with value: 0.8632371179608139 and parameters: {'n_estimators': 404, 'max_depth': 3, 'reg_alpha': 0.5406271078408048, 'reg_lambda': 0.9607047138461973, 'min_child_weight': 2, 'gamma': 0.4462715506143243, 'learning_rate': 0.03362978542992323, 'colsample_bytree': 0.39908682462532197, 'subsample': 0.35191227153530014}. Best is trial 44 with value: 0.8650290648417265.\u001b[0m\n",
            "\u001b[32m[I 2023-05-17 04:13:44,072]\u001b[0m Trial 71 finished with value: 0.8640096864048814 and parameters: {'n_estimators': 389, 'max_depth': 4, 'reg_alpha': 0.499253665830414, 'reg_lambda': 0.8641992434633627, 'min_child_weight': 2, 'gamma': 0.5530735661783079, 'learning_rate': 0.07441448972244961, 'colsample_bytree': 0.3774484240119093, 'subsample': 0.3745938367309537}. Best is trial 44 with value: 0.8650290648417265.\u001b[0m\n",
            "\u001b[32m[I 2023-05-17 04:13:49,227]\u001b[0m Trial 72 finished with value: 0.8609569780087316 and parameters: {'n_estimators': 362, 'max_depth': 4, 'reg_alpha': 0.45818255045855905, 'reg_lambda': 0.9097788501129769, 'min_child_weight': 1, 'gamma': 0.47714307074907797, 'learning_rate': 0.1117565725961839, 'colsample_bytree': 0.35250856801003966, 'subsample': 0.3254050192218013}. Best is trial 44 with value: 0.8650290648417265.\u001b[0m\n",
            "\u001b[32m[I 2023-05-17 04:13:52,747]\u001b[0m Trial 73 finished with value: 0.8646818255059344 and parameters: {'n_estimators': 289, 'max_depth': 4, 'reg_alpha': 0.48193594445337024, 'reg_lambda': 0.8289981515672152, 'min_child_weight': 0, 'gamma': 0.5251682171101455, 'learning_rate': 0.054825882953627225, 'colsample_bytree': 0.34194588853166846, 'subsample': 0.3550234298003784}. Best is trial 44 with value: 0.8650290648417265.\u001b[0m\n",
            "\u001b[32m[I 2023-05-17 04:13:56,130]\u001b[0m Trial 74 finished with value: 0.8639386537474781 and parameters: {'n_estimators': 273, 'max_depth': 4, 'reg_alpha': 0.5110173631427777, 'reg_lambda': 0.7643332114229849, 'min_child_weight': 2, 'gamma': 0.5812035733301933, 'learning_rate': 0.03462930840607422, 'colsample_bytree': 0.4251281137259766, 'subsample': 0.35523162216571436}. Best is trial 44 with value: 0.8650290648417265.\u001b[0m\n",
            "\u001b[32m[I 2023-05-17 04:14:01,390]\u001b[0m Trial 75 finished with value: 0.8617851695803033 and parameters: {'n_estimators': 328, 'max_depth': 5, 'reg_alpha': 0.48012966376639066, 'reg_lambda': 0.8725755656312466, 'min_child_weight': 1, 'gamma': 0.42611078278129494, 'learning_rate': 0.09236388492444783, 'colsample_bytree': 0.31955563239322293, 'subsample': 0.3959770146255001}. Best is trial 44 with value: 0.8650290648417265.\u001b[0m\n",
            "\u001b[32m[I 2023-05-17 04:14:04,536]\u001b[0m Trial 76 finished with value: 0.8627372371986507 and parameters: {'n_estimators': 284, 'max_depth': 3, 'reg_alpha': 0.36130921258306475, 'reg_lambda': 0.969033094800893, 'min_child_weight': 3, 'gamma': 0.5326148683431229, 'learning_rate': 0.13390238705609556, 'colsample_bytree': 0.33910537463960705, 'subsample': 0.3839011486262864}. Best is trial 44 with value: 0.8650290648417265.\u001b[0m\n",
            "\u001b[32m[I 2023-05-17 04:14:07,892]\u001b[0m Trial 77 finished with value: 0.8631600067173435 and parameters: {'n_estimators': 265, 'max_depth': 4, 'reg_alpha': 0.39699789194831003, 'reg_lambda': 0.8368396263471307, 'min_child_weight': 0, 'gamma': 0.4428242309214476, 'learning_rate': 0.03251352719459834, 'colsample_bytree': 0.3686829942693245, 'subsample': 0.3525281644291504}. Best is trial 44 with value: 0.8650290648417265.\u001b[0m\n",
            "\u001b[32m[I 2023-05-17 04:14:12,866]\u001b[0m Trial 78 finished with value: 0.8466032223291915 and parameters: {'n_estimators': 295, 'max_depth': 5, 'reg_alpha': 0.5354092073856054, 'reg_lambda': 0.9192370030602501, 'min_child_weight': 1, 'gamma': 0.47329367690089763, 'learning_rate': 0.2110545741413632, 'colsample_bytree': 0.40271917106385646, 'subsample': 0.3172483085775136}. Best is trial 44 with value: 0.8650290648417265.\u001b[0m\n",
            "\u001b[32m[I 2023-05-17 04:14:17,425]\u001b[0m Trial 79 finished with value: 0.8593553826455137 and parameters: {'n_estimators': 489, 'max_depth': 3, 'reg_alpha': 0.573500450877643, 'reg_lambda': 0.7386559828583841, 'min_child_weight': 0, 'gamma': 0.5959627557943198, 'learning_rate': 0.16568958504201214, 'colsample_bytree': 0.3853544158048992, 'subsample': 0.36968875400169887}. Best is trial 44 with value: 0.8650290648417265.\u001b[0m\n",
            "\u001b[32m[I 2023-05-17 04:14:20,388]\u001b[0m Trial 80 finished with value: 0.8639282117374293 and parameters: {'n_estimators': 213, 'max_depth': 4, 'reg_alpha': 0.46820848755539823, 'reg_lambda': 0.789000769441002, 'min_child_weight': 1, 'gamma': 0.5579181961809511, 'learning_rate': 0.09620764059354542, 'colsample_bytree': 0.3412132339129515, 'subsample': 0.34134412888227456}. Best is trial 44 with value: 0.8650290648417265.\u001b[0m\n",
            "\u001b[32m[I 2023-05-17 04:14:25,338]\u001b[0m Trial 81 finished with value: 0.8646192995726197 and parameters: {'n_estimators': 340, 'max_depth': 4, 'reg_alpha': 0.4173059426930861, 'reg_lambda': 0.8259421743353175, 'min_child_weight': 0, 'gamma': 0.5050656606261127, 'learning_rate': 0.059363044473774135, 'colsample_bytree': 0.36123691468747193, 'subsample': 0.33428722427064994}. Best is trial 44 with value: 0.8650290648417265.\u001b[0m\n",
            "\u001b[32m[I 2023-05-17 04:14:29,231]\u001b[0m Trial 82 finished with value: 0.8640252346058641 and parameters: {'n_estimators': 339, 'max_depth': 4, 'reg_alpha': 0.4202436113857117, 'reg_lambda': 0.8865132536454601, 'min_child_weight': 0, 'gamma': 0.4921674694198891, 'learning_rate': 0.05699922080245387, 'colsample_bytree': 0.3644324893943404, 'subsample': 0.31200517978314035}. Best is trial 44 with value: 0.8650290648417265.\u001b[0m\n",
            "\u001b[32m[I 2023-05-17 04:14:32,924]\u001b[0m Trial 83 finished with value: 0.8608447025696211 and parameters: {'n_estimators': 313, 'max_depth': 4, 'reg_alpha': 0.3786875346542952, 'reg_lambda': 0.8401444494446272, 'min_child_weight': 0, 'gamma': 0.5263719644765537, 'learning_rate': 0.12854964007232766, 'colsample_bytree': 0.32751337405893216, 'subsample': 0.33928968797660947}. Best is trial 44 with value: 0.8650290648417265.\u001b[0m\n",
            "\u001b[32m[I 2023-05-17 04:14:38,231]\u001b[0m Trial 84 finished with value: 0.8587367439449016 and parameters: {'n_estimators': 377, 'max_depth': 4, 'reg_alpha': 0.49435856743179024, 'reg_lambda': 0.88109822160103, 'min_child_weight': 0, 'gamma': 0.43511004781846196, 'learning_rate': 0.010313412129348897, 'colsample_bytree': 0.37874905975219386, 'subsample': 0.3626336737925959}. Best is trial 44 with value: 0.8650290648417265.\u001b[0m\n",
            "\u001b[32m[I 2023-05-17 04:14:41,349]\u001b[0m Trial 85 finished with value: 0.8635835671216222 and parameters: {'n_estimators': 288, 'max_depth': 3, 'reg_alpha': 0.34241590533534694, 'reg_lambda': 0.7642753841340164, 'min_child_weight': 0, 'gamma': 0.46009289464201014, 'learning_rate': 0.07269228427914928, 'colsample_bytree': 0.3972864926563279, 'subsample': 0.38251929092778286}. Best is trial 44 with value: 0.8650290648417265.\u001b[0m\n",
            "\u001b[32m[I 2023-05-17 04:14:46,067]\u001b[0m Trial 86 finished with value: 0.8611272506187655 and parameters: {'n_estimators': 431, 'max_depth': 4, 'reg_alpha': 0.3992349861207765, 'reg_lambda': 0.9176173554106062, 'min_child_weight': 0, 'gamma': 0.5069253202595339, 'learning_rate': 0.10553496617767581, 'colsample_bytree': 0.41270237269237003, 'subsample': 0.32813116564627454}. Best is trial 44 with value: 0.8650290648417265.\u001b[0m\n",
            "\u001b[32m[I 2023-05-17 04:14:51,261]\u001b[0m Trial 87 finished with value: 0.8645519226779751 and parameters: {'n_estimators': 321, 'max_depth': 5, 'reg_alpha': 0.4560620368075803, 'reg_lambda': 0.79238683315662, 'min_child_weight': 0, 'gamma': 0.5429311054297122, 'learning_rate': 0.033356116994211316, 'colsample_bytree': 0.36245426175900775, 'subsample': 0.3482762781981692}. Best is trial 44 with value: 0.8650290648417265.\u001b[0m\n",
            "\u001b[32m[I 2023-05-17 04:14:55,537]\u001b[0m Trial 88 finished with value: 0.8645421135826672 and parameters: {'n_estimators': 322, 'max_depth': 5, 'reg_alpha': 0.4567456537772969, 'reg_lambda': 0.7920134869288856, 'min_child_weight': 5, 'gamma': 0.586405371910984, 'learning_rate': 0.03322583756971964, 'colsample_bytree': 0.3784616928294679, 'subsample': 0.30055339946427106}. Best is trial 44 with value: 0.8650290648417265.\u001b[0m\n",
            "\u001b[32m[I 2023-05-17 04:15:01,685]\u001b[0m Trial 89 finished with value: 0.8645914283676195 and parameters: {'n_estimators': 347, 'max_depth': 6, 'reg_alpha': 0.4158946866139257, 'reg_lambda': 0.7465038731523979, 'min_child_weight': 4, 'gamma': 0.6191852054930624, 'learning_rate': 0.03437722471380297, 'colsample_bytree': 0.36188783693512383, 'subsample': 0.3599306284240029}. Best is trial 44 with value: 0.8650290648417265.\u001b[0m\n",
            "\u001b[32m[I 2023-05-17 04:15:06,874]\u001b[0m Trial 90 finished with value: 0.8471459667273615 and parameters: {'n_estimators': 350, 'max_depth': 6, 'reg_alpha': 0.31016982289941086, 'reg_lambda': 0.7338359759304254, 'min_child_weight': 4, 'gamma': 0.6987444363140485, 'learning_rate': 0.17256795359421329, 'colsample_bytree': 0.432326598304144, 'subsample': 0.35975574989271947}. Best is trial 44 with value: 0.8650290648417265.\u001b[0m\n",
            "\u001b[32m[I 2023-05-17 04:15:13,096]\u001b[0m Trial 91 finished with value: 0.8641272379379682 and parameters: {'n_estimators': 364, 'max_depth': 6, 'reg_alpha': 0.4241797460132987, 'reg_lambda': 0.8110008916007881, 'min_child_weight': 4, 'gamma': 0.6274575651207546, 'learning_rate': 0.047562759005839186, 'colsample_bytree': 0.36037107859929435, 'subsample': 0.3493542303714115}. Best is trial 44 with value: 0.8650290648417265.\u001b[0m\n",
            "\u001b[32m[I 2023-05-17 04:15:18,933]\u001b[0m Trial 92 finished with value: 0.8596807074940737 and parameters: {'n_estimators': 338, 'max_depth': 7, 'reg_alpha': 0.37365206234336656, 'reg_lambda': 0.7782267292670579, 'min_child_weight': 5, 'gamma': 0.5671660193225412, 'learning_rate': 0.07386467147608633, 'colsample_bytree': 0.35086325491753756, 'subsample': 0.33635034830001914}. Best is trial 44 with value: 0.8650290648417265.\u001b[0m\n",
            "\u001b[32m[I 2023-05-17 04:15:24,046]\u001b[0m Trial 93 finished with value: 0.8638796442939313 and parameters: {'n_estimators': 305, 'max_depth': 6, 'reg_alpha': 0.48454183538542517, 'reg_lambda': 0.7478899740212439, 'min_child_weight': 3, 'gamma': 0.5428694815326902, 'learning_rate': 0.028369480243834316, 'colsample_bytree': 0.3625785587323355, 'subsample': 0.3139310206926358}. Best is trial 44 with value: 0.8650290648417265.\u001b[0m\n",
            "\u001b[32m[I 2023-05-17 04:15:29,373]\u001b[0m Trial 94 finished with value: 0.860348879376355 and parameters: {'n_estimators': 383, 'max_depth': 5, 'reg_alpha': 0.4472285611890832, 'reg_lambda': 0.8202902687363814, 'min_child_weight': 6, 'gamma': 0.651960353765999, 'learning_rate': 0.10916925378441207, 'colsample_bytree': 0.39175913459990214, 'subsample': 0.34734103376106257}. Best is trial 44 with value: 0.8650290648417265.\u001b[0m\n",
            "\u001b[32m[I 2023-05-17 04:15:34,490]\u001b[0m Trial 95 finished with value: 0.8590540104742456 and parameters: {'n_estimators': 400, 'max_depth': 5, 'reg_alpha': 0.39629265687380294, 'reg_lambda': 0.8465453062737838, 'min_child_weight': 0, 'gamma': 0.6077686420601809, 'learning_rate': 0.08978073104550187, 'colsample_bytree': 0.37321184366666105, 'subsample': 0.321345864059214}. Best is trial 44 with value: 0.8650290648417265.\u001b[0m\n",
            "\u001b[32m[I 2023-05-17 04:15:41,503]\u001b[0m Trial 96 finished with value: 0.8594774599406708 and parameters: {'n_estimators': 328, 'max_depth': 7, 'reg_alpha': 0.42299831647895436, 'reg_lambda': 0.7109340323351407, 'min_child_weight': 4, 'gamma': 0.5337798491371911, 'learning_rate': 0.010618942483365486, 'colsample_bytree': 0.34050179962013083, 'subsample': 0.3707411545052601}. Best is trial 44 with value: 0.8650290648417265.\u001b[0m\n",
            "\u001b[32m[I 2023-05-17 04:15:46,859]\u001b[0m Trial 97 finished with value: 0.862354305847601 and parameters: {'n_estimators': 352, 'max_depth': 6, 'reg_alpha': 0.4818303403067764, 'reg_lambda': 0.8009943703162705, 'min_child_weight': 0, 'gamma': 0.6158922533050228, 'learning_rate': 0.056828742224047935, 'colsample_bytree': 0.3095232651757815, 'subsample': 0.33267353688465906}. Best is trial 44 with value: 0.8650290648417265.\u001b[0m\n",
            "\u001b[32m[I 2023-05-17 04:15:52,011]\u001b[0m Trial 98 finished with value: 0.8639900649770771 and parameters: {'n_estimators': 309, 'max_depth': 5, 'reg_alpha': 0.3635865736616195, 'reg_lambda': 0.7635305440691217, 'min_child_weight': 0, 'gamma': 0.5721183206734747, 'learning_rate': 0.028844767604399697, 'colsample_bytree': 0.33403449035445376, 'subsample': 0.3991444036165469}. Best is trial 44 with value: 0.8650290648417265.\u001b[0m\n",
            "\u001b[32m[I 2023-05-17 04:15:55,582]\u001b[0m Trial 99 finished with value: 0.8610205606274459 and parameters: {'n_estimators': 295, 'max_depth': 4, 'reg_alpha': 0.515925819741338, 'reg_lambda': 0.8585895783635367, 'min_child_weight': 3, 'gamma': 0.516367532214288, 'learning_rate': 0.12709105897806358, 'colsample_bytree': 0.40325729426562235, 'subsample': 0.30703245719898037}. Best is trial 44 with value: 0.8650290648417265.\u001b[0m\n",
            "\u001b[32m[I 2023-05-17 04:15:59,266]\u001b[0m Trial 100 finished with value: 0.8634795061269808 and parameters: {'n_estimators': 321, 'max_depth': 4, 'reg_alpha': 0.3310754892552785, 'reg_lambda': 0.8229537599979019, 'min_child_weight': 0, 'gamma': 0.49299503905506203, 'learning_rate': 0.08423718686647624, 'colsample_bytree': 0.4178018216924487, 'subsample': 0.36114225455149135}. Best is trial 44 with value: 0.8650290648417265.\u001b[0m\n",
            "\u001b[32m[I 2023-05-17 04:16:05,340]\u001b[0m Trial 101 finished with value: 0.8640862270050746 and parameters: {'n_estimators': 340, 'max_depth': 6, 'reg_alpha': 0.4558818147709347, 'reg_lambda': 0.7870272786375575, 'min_child_weight': 5, 'gamma': 0.5919362604561442, 'learning_rate': 0.03884354956271163, 'colsample_bytree': 0.3732116615962655, 'subsample': 0.30683697583362346}. Best is trial 44 with value: 0.8650290648417265.\u001b[0m\n",
            "\u001b[32m[I 2023-05-17 04:16:09,609]\u001b[0m Trial 102 finished with value: 0.8637938879415039 and parameters: {'n_estimators': 324, 'max_depth': 5, 'reg_alpha': 0.45702697443210033, 'reg_lambda': 0.7284918585154188, 'min_child_weight': 6, 'gamma': 0.5482237054987528, 'learning_rate': 0.06339976949726997, 'colsample_bytree': 0.3855093894895975, 'subsample': 0.32832498775530033}. Best is trial 44 with value: 0.8650290648417265.\u001b[0m\n",
            "\u001b[32m[I 2023-05-17 04:16:15,315]\u001b[0m Trial 103 finished with value: 0.8644421296540736 and parameters: {'n_estimators': 372, 'max_depth': 5, 'reg_alpha': 0.41822093332937793, 'reg_lambda': 0.7949389580150328, 'min_child_weight': 5, 'gamma': 0.5858801745507346, 'learning_rate': 0.027873276334637376, 'colsample_bytree': 0.3577855644157786, 'subsample': 0.34687924445737583}. Best is trial 44 with value: 0.8650290648417265.\u001b[0m\n",
            "\u001b[32m[I 2023-05-17 04:16:18,818]\u001b[0m Trial 104 finished with value: 0.8638948150466443 and parameters: {'n_estimators': 279, 'max_depth': 4, 'reg_alpha': 0.44047132192095945, 'reg_lambda': 0.8369710534176116, 'min_child_weight': 4, 'gamma': 0.6346102303028123, 'learning_rate': 0.046196882568145275, 'colsample_bytree': 0.3469006799140796, 'subsample': 0.31769448842754694}. Best is trial 44 with value: 0.8650290648417265.\u001b[0m\n",
            "\u001b[32m[I 2023-05-17 04:16:22,530]\u001b[0m Trial 105 finished with value: 0.8598394868664798 and parameters: {'n_estimators': 322, 'max_depth': 4, 'reg_alpha': 0.3816378532593365, 'reg_lambda': 0.7528739927361624, 'min_child_weight': 5, 'gamma': 0.4630407562293925, 'learning_rate': 0.14109703389141925, 'colsample_bytree': 0.37641765741478855, 'subsample': 0.3011267593887141}. Best is trial 44 with value: 0.8650290648417265.\u001b[0m\n",
            "\u001b[32m[I 2023-05-17 04:16:27,959]\u001b[0m Trial 106 finished with value: 0.8594754037684245 and parameters: {'n_estimators': 347, 'max_depth': 5, 'reg_alpha': 0.4061094695889322, 'reg_lambda': 0.6896040651097942, 'min_child_weight': 0, 'gamma': 0.5632812429374444, 'learning_rate': 0.0991608910508122, 'colsample_bytree': 0.38952916573047, 'subsample': 0.3388016826205083}. Best is trial 44 with value: 0.8650290648417265.\u001b[0m\n",
            "\u001b[32m[I 2023-05-17 04:16:31,891]\u001b[0m Trial 107 finished with value: 0.8619262558134062 and parameters: {'n_estimators': 334, 'max_depth': 4, 'reg_alpha': 0.3533458963852249, 'reg_lambda': 0.8757194499993672, 'min_child_weight': 3, 'gamma': 0.5070963714837501, 'learning_rate': 0.020932201958878426, 'colsample_bytree': 0.3612097097392394, 'subsample': 0.3228310963534922}. Best is trial 44 with value: 0.8650290648417265.\u001b[0m\n",
            "\u001b[32m[I 2023-05-17 04:16:38,265]\u001b[0m Trial 108 finished with value: 0.8607516387233577 and parameters: {'n_estimators': 415, 'max_depth': 6, 'reg_alpha': 0.4625767831934275, 'reg_lambda': 0.8958206096885133, 'min_child_weight': 0, 'gamma': 0.6091710704821338, 'learning_rate': 0.0649450741637439, 'colsample_bytree': 0.3290689197427572, 'subsample': 0.3565150113008489}. Best is trial 44 with value: 0.8650290648417265.\u001b[0m\n",
            "\u001b[32m[I 2023-05-17 04:16:42,451]\u001b[0m Trial 109 finished with value: 0.8647121920107456 and parameters: {'n_estimators': 300, 'max_depth': 4, 'reg_alpha': 0.5239587819995428, 'reg_lambda': 0.7799885664632177, 'min_child_weight': 0, 'gamma': 0.4155507254683741, 'learning_rate': 0.04486325857889808, 'colsample_bytree': 0.40921945071080573, 'subsample': 0.3895464743936257}. Best is trial 44 with value: 0.8650290648417265.\u001b[0m\n",
            "\u001b[32m[I 2023-05-17 04:16:46,043]\u001b[0m Trial 110 finished with value: 0.8646696674504823 and parameters: {'n_estimators': 296, 'max_depth': 4, 'reg_alpha': 0.5199884890660946, 'reg_lambda': 0.8548398850046088, 'min_child_weight': 0, 'gamma': 0.40534275822189436, 'learning_rate': 0.04858981910074331, 'colsample_bytree': 0.40713462917619464, 'subsample': 0.39220686389534865}. Best is trial 44 with value: 0.8650290648417265.\u001b[0m\n",
            "\u001b[32m[I 2023-05-17 04:16:49,777]\u001b[0m Trial 111 finished with value: 0.8637169107008542 and parameters: {'n_estimators': 298, 'max_depth': 4, 'reg_alpha': 0.5501220306942602, 'reg_lambda': 0.7722954671142593, 'min_child_weight': 0, 'gamma': 0.41286808904197514, 'learning_rate': 0.08256886455283209, 'colsample_bytree': 0.40367743282463997, 'subsample': 0.37437313839669606}. Best is trial 44 with value: 0.8650290648417265.\u001b[0m\n",
            "\u001b[32m[I 2023-05-17 04:16:54,164]\u001b[0m Trial 112 finished with value: 0.8644309350224002 and parameters: {'n_estimators': 262, 'max_depth': 4, 'reg_alpha': 0.5187656054236229, 'reg_lambda': 0.8558761380076285, 'min_child_weight': 0, 'gamma': 0.3822131527892537, 'learning_rate': 0.05095809205138216, 'colsample_bytree': 0.3959206389118829, 'subsample': 0.3498252623493461}. Best is trial 44 with value: 0.8650290648417265.\u001b[0m\n",
            "\u001b[32m[I 2023-05-17 04:16:57,848]\u001b[0m Trial 113 finished with value: 0.8617960881232335 and parameters: {'n_estimators': 316, 'max_depth': 4, 'reg_alpha': 0.49063981815059227, 'reg_lambda': 0.8110167642535255, 'min_child_weight': 0, 'gamma': 0.4247948742334448, 'learning_rate': 0.11681723739951948, 'colsample_bytree': 0.41236793825101176, 'subsample': 0.3855351151899239}. Best is trial 44 with value: 0.8650290648417265.\u001b[0m\n",
            "\u001b[32m[I 2023-05-17 04:17:01,349]\u001b[0m Trial 114 finished with value: 0.8644183380318383 and parameters: {'n_estimators': 289, 'max_depth': 4, 'reg_alpha': 0.5376075058938764, 'reg_lambda': 0.8263594789656602, 'min_child_weight': 0, 'gamma': 0.4742278412186785, 'learning_rate': 0.07168237059015908, 'colsample_bytree': 0.439148032918423, 'subsample': 0.39066008284815584}. Best is trial 44 with value: 0.8650290648417265.\u001b[0m\n",
            "\u001b[32m[I 2023-05-17 04:17:06,161]\u001b[0m Trial 115 finished with value: 0.8603647989361398 and parameters: {'n_estimators': 362, 'max_depth': 3, 'reg_alpha': 0.5666261228401552, 'reg_lambda': 0.7222276680686619, 'min_child_weight': 0, 'gamma': 0.45483349683854446, 'learning_rate': 0.01937972590853453, 'colsample_bytree': 0.4244099945209812, 'subsample': 0.36547422280444347}. Best is trial 44 with value: 0.8650290648417265.\u001b[0m\n",
            "\u001b[32m[I 2023-05-17 04:17:09,640]\u001b[0m Trial 116 finished with value: 0.8641157508736983 and parameters: {'n_estimators': 279, 'max_depth': 4, 'reg_alpha': 0.5232985858487244, 'reg_lambda': 0.9322935746790509, 'min_child_weight': 0, 'gamma': 0.3645255120077444, 'learning_rate': 0.0432325036614329, 'colsample_bytree': 0.3489685312575609, 'subsample': 0.4104994563540108}. Best is trial 44 with value: 0.8650290648417265.\u001b[0m\n",
            "\u001b[32m[I 2023-05-17 04:17:13,278]\u001b[0m Trial 117 finished with value: 0.8630358180598258 and parameters: {'n_estimators': 306, 'max_depth': 4, 'reg_alpha': 0.47449656954793346, 'reg_lambda': 0.7468217642728227, 'min_child_weight': 0, 'gamma': 0.4332837108120154, 'learning_rate': 0.09686931393683063, 'colsample_bytree': 0.3846997929363705, 'subsample': 0.37468555398812114}. Best is trial 44 with value: 0.8650290648417265.\u001b[0m\n",
            "\u001b[32m[I 2023-05-17 04:17:21,469]\u001b[0m Trial 118 finished with value: 0.8583905585458599 and parameters: {'n_estimators': 336, 'max_depth': 8, 'reg_alpha': 0.4281381556469343, 'reg_lambda': 0.8746339249455687, 'min_child_weight': 0, 'gamma': 0.5294881666711551, 'learning_rate': 0.05998583383475204, 'colsample_bytree': 0.36897054063472906, 'subsample': 0.3368506855417131}. Best is trial 44 with value: 0.8650290648417265.\u001b[0m\n",
            "\u001b[32m[I 2023-05-17 04:17:24,671]\u001b[0m Trial 119 finished with value: 0.8623846098391461 and parameters: {'n_estimators': 297, 'max_depth': 3, 'reg_alpha': 0.4990573713133157, 'reg_lambda': 0.8467620877507687, 'min_child_weight': 0, 'gamma': 0.49466808327241485, 'learning_rate': 0.14654171118814086, 'colsample_bytree': 0.40811994565378734, 'subsample': 0.3564960145644983}. Best is trial 44 with value: 0.8650290648417265.\u001b[0m\n"
          ]
        }
      ],
      "source": [
        "study2 = optuna.create_study(direction='maximize', sampler=TPESampler())\n",
        "study2.optimize(objective, n_trials=120, show_progress_bar=True)"
      ]
    },
    {
      "cell_type": "code",
      "execution_count": 90,
      "id": "574b54c6",
      "metadata": {
        "colab": {
          "base_uri": "https://localhost:8080/"
        },
        "id": "574b54c6",
        "outputId": "25ce1d0a-a8c6-4849-8d16-ecb24ad260e4"
      },
      "outputs": [
        {
          "output_type": "execute_result",
          "data": {
            "text/plain": [
              "FrozenTrial(number=44, state=TrialState.COMPLETE, values=[0.8650290648417265], datetime_start=datetime.datetime(2023, 5, 17, 4, 11, 14, 484494), datetime_complete=datetime.datetime(2023, 5, 17, 4, 11, 19, 538933), params={'n_estimators': 345, 'max_depth': 4, 'reg_alpha': 0.4024786945791097, 'reg_lambda': 0.9463540704057589, 'min_child_weight': 0, 'gamma': 0.5040853545203602, 'learning_rate': 0.048216001785353235, 'colsample_bytree': 0.3510358881732967, 'subsample': 0.33654357454766115}, user_attrs={}, system_attrs={}, intermediate_values={}, distributions={'n_estimators': IntDistribution(high=500, log=False, low=50, step=1), 'max_depth': IntDistribution(high=10, log=False, low=3, step=1), 'reg_alpha': FloatDistribution(high=1.0, log=False, low=1e-08, step=None), 'reg_lambda': FloatDistribution(high=1.0, log=False, low=1e-08, step=None), 'min_child_weight': IntDistribution(high=6, log=False, low=0, step=1), 'gamma': FloatDistribution(high=1.0, log=False, low=1e-08, step=None), 'learning_rate': FloatDistribution(high=1.0, log=False, low=0.01, step=None), 'colsample_bytree': FloatDistribution(high=0.8, log=False, low=0.3, step=None), 'subsample': FloatDistribution(high=0.8, log=False, low=0.3, step=None)}, trial_id=44, value=None)"
            ]
          },
          "metadata": {},
          "execution_count": 90
        }
      ],
      "source": [
        "study2.best_trial"
      ]
    },
    {
      "cell_type": "code",
      "execution_count": null,
      "id": "d3c8729e",
      "metadata": {
        "id": "d3c8729e"
      },
      "outputs": [],
      "source": []
    },
    {
      "cell_type": "code",
      "execution_count": 91,
      "id": "f218a92a",
      "metadata": {
        "id": "f218a92a"
      },
      "outputs": [],
      "source": [
        "param_seasonal = study2.best_params"
      ]
    },
    {
      "cell_type": "code",
      "execution_count": 92,
      "id": "60fba4b1",
      "metadata": {
        "colab": {
          "base_uri": "https://localhost:8080/"
        },
        "id": "60fba4b1",
        "outputId": "911b21ca-c466-41ff-9550-2f38e809422c"
      },
      "outputs": [
        {
          "output_type": "execute_result",
          "data": {
            "text/plain": [
              "{'n_estimators': 345,\n",
              " 'max_depth': 4,\n",
              " 'reg_alpha': 0.4024786945791097,\n",
              " 'reg_lambda': 0.9463540704057589,\n",
              " 'min_child_weight': 0,\n",
              " 'gamma': 0.5040853545203602,\n",
              " 'learning_rate': 0.048216001785353235,\n",
              " 'colsample_bytree': 0.3510358881732967,\n",
              " 'subsample': 0.33654357454766115}"
            ]
          },
          "metadata": {},
          "execution_count": 92
        }
      ],
      "source": [
        "param_seasonal"
      ]
    },
    {
      "cell_type": "code",
      "execution_count": 93,
      "id": "70f59c9e",
      "metadata": {
        "id": "70f59c9e"
      },
      "outputs": [],
      "source": [
        "X_train_seas, X_test_seas, y_train_seas, y_test_seas = train_test_split(data, label2, test_size=0.2, random_state=101)"
      ]
    },
    {
      "cell_type": "code",
      "execution_count": 94,
      "id": "7a1e129f",
      "metadata": {
        "id": "7a1e129f"
      },
      "outputs": [],
      "source": [
        "seasonal_model = XGBClassifier(**param_seasonal, missing= np.nan)"
      ]
    },
    {
      "cell_type": "code",
      "execution_count": 95,
      "id": "b160232d",
      "metadata": {
        "colab": {
          "base_uri": "https://localhost:8080/",
          "height": 252
        },
        "id": "b160232d",
        "outputId": "d563cb23-1dcb-4d93-ca52-06c2d1968135"
      },
      "outputs": [
        {
          "output_type": "execute_result",
          "data": {
            "text/plain": [
              "XGBClassifier(base_score=None, booster=None, callbacks=None,\n",
              "              colsample_bylevel=None, colsample_bynode=None,\n",
              "              colsample_bytree=0.3510358881732967, early_stopping_rounds=None,\n",
              "              enable_categorical=False, eval_metric=None, feature_types=None,\n",
              "              gamma=0.5040853545203602, gpu_id=None, grow_policy=None,\n",
              "              importance_type=None, interaction_constraints=None,\n",
              "              learning_rate=0.048216001785353235, max_bin=None,\n",
              "              max_cat_threshold=None, max_cat_to_onehot=None,\n",
              "              max_delta_step=None, max_depth=4, max_leaves=None,\n",
              "              min_child_weight=0, missing=nan, monotone_constraints=None,\n",
              "              n_estimators=345, n_jobs=None, num_parallel_tree=None,\n",
              "              predictor=None, random_state=None, ...)"
            ],
            "text/html": [
              "<style>#sk-container-id-2 {color: black;background-color: white;}#sk-container-id-2 pre{padding: 0;}#sk-container-id-2 div.sk-toggleable {background-color: white;}#sk-container-id-2 label.sk-toggleable__label {cursor: pointer;display: block;width: 100%;margin-bottom: 0;padding: 0.3em;box-sizing: border-box;text-align: center;}#sk-container-id-2 label.sk-toggleable__label-arrow:before {content: \"▸\";float: left;margin-right: 0.25em;color: #696969;}#sk-container-id-2 label.sk-toggleable__label-arrow:hover:before {color: black;}#sk-container-id-2 div.sk-estimator:hover label.sk-toggleable__label-arrow:before {color: black;}#sk-container-id-2 div.sk-toggleable__content {max-height: 0;max-width: 0;overflow: hidden;text-align: left;background-color: #f0f8ff;}#sk-container-id-2 div.sk-toggleable__content pre {margin: 0.2em;color: black;border-radius: 0.25em;background-color: #f0f8ff;}#sk-container-id-2 input.sk-toggleable__control:checked~div.sk-toggleable__content {max-height: 200px;max-width: 100%;overflow: auto;}#sk-container-id-2 input.sk-toggleable__control:checked~label.sk-toggleable__label-arrow:before {content: \"▾\";}#sk-container-id-2 div.sk-estimator input.sk-toggleable__control:checked~label.sk-toggleable__label {background-color: #d4ebff;}#sk-container-id-2 div.sk-label input.sk-toggleable__control:checked~label.sk-toggleable__label {background-color: #d4ebff;}#sk-container-id-2 input.sk-hidden--visually {border: 0;clip: rect(1px 1px 1px 1px);clip: rect(1px, 1px, 1px, 1px);height: 1px;margin: -1px;overflow: hidden;padding: 0;position: absolute;width: 1px;}#sk-container-id-2 div.sk-estimator {font-family: monospace;background-color: #f0f8ff;border: 1px dotted black;border-radius: 0.25em;box-sizing: border-box;margin-bottom: 0.5em;}#sk-container-id-2 div.sk-estimator:hover {background-color: #d4ebff;}#sk-container-id-2 div.sk-parallel-item::after {content: \"\";width: 100%;border-bottom: 1px solid gray;flex-grow: 1;}#sk-container-id-2 div.sk-label:hover label.sk-toggleable__label {background-color: #d4ebff;}#sk-container-id-2 div.sk-serial::before {content: \"\";position: absolute;border-left: 1px solid gray;box-sizing: border-box;top: 0;bottom: 0;left: 50%;z-index: 0;}#sk-container-id-2 div.sk-serial {display: flex;flex-direction: column;align-items: center;background-color: white;padding-right: 0.2em;padding-left: 0.2em;position: relative;}#sk-container-id-2 div.sk-item {position: relative;z-index: 1;}#sk-container-id-2 div.sk-parallel {display: flex;align-items: stretch;justify-content: center;background-color: white;position: relative;}#sk-container-id-2 div.sk-item::before, #sk-container-id-2 div.sk-parallel-item::before {content: \"\";position: absolute;border-left: 1px solid gray;box-sizing: border-box;top: 0;bottom: 0;left: 50%;z-index: -1;}#sk-container-id-2 div.sk-parallel-item {display: flex;flex-direction: column;z-index: 1;position: relative;background-color: white;}#sk-container-id-2 div.sk-parallel-item:first-child::after {align-self: flex-end;width: 50%;}#sk-container-id-2 div.sk-parallel-item:last-child::after {align-self: flex-start;width: 50%;}#sk-container-id-2 div.sk-parallel-item:only-child::after {width: 0;}#sk-container-id-2 div.sk-dashed-wrapped {border: 1px dashed gray;margin: 0 0.4em 0.5em 0.4em;box-sizing: border-box;padding-bottom: 0.4em;background-color: white;}#sk-container-id-2 div.sk-label label {font-family: monospace;font-weight: bold;display: inline-block;line-height: 1.2em;}#sk-container-id-2 div.sk-label-container {text-align: center;}#sk-container-id-2 div.sk-container {/* jupyter's `normalize.less` sets `[hidden] { display: none; }` but bootstrap.min.css set `[hidden] { display: none !important; }` so we also need the `!important` here to be able to override the default hidden behavior on the sphinx rendered scikit-learn.org. See: https://github.com/scikit-learn/scikit-learn/issues/21755 */display: inline-block !important;position: relative;}#sk-container-id-2 div.sk-text-repr-fallback {display: none;}</style><div id=\"sk-container-id-2\" class=\"sk-top-container\"><div class=\"sk-text-repr-fallback\"><pre>XGBClassifier(base_score=None, booster=None, callbacks=None,\n",
              "              colsample_bylevel=None, colsample_bynode=None,\n",
              "              colsample_bytree=0.3510358881732967, early_stopping_rounds=None,\n",
              "              enable_categorical=False, eval_metric=None, feature_types=None,\n",
              "              gamma=0.5040853545203602, gpu_id=None, grow_policy=None,\n",
              "              importance_type=None, interaction_constraints=None,\n",
              "              learning_rate=0.048216001785353235, max_bin=None,\n",
              "              max_cat_threshold=None, max_cat_to_onehot=None,\n",
              "              max_delta_step=None, max_depth=4, max_leaves=None,\n",
              "              min_child_weight=0, missing=nan, monotone_constraints=None,\n",
              "              n_estimators=345, n_jobs=None, num_parallel_tree=None,\n",
              "              predictor=None, random_state=None, ...)</pre><b>In a Jupyter environment, please rerun this cell to show the HTML representation or trust the notebook. <br />On GitHub, the HTML representation is unable to render, please try loading this page with nbviewer.org.</b></div><div class=\"sk-container\" hidden><div class=\"sk-item\"><div class=\"sk-estimator sk-toggleable\"><input class=\"sk-toggleable__control sk-hidden--visually\" id=\"sk-estimator-id-2\" type=\"checkbox\" checked><label for=\"sk-estimator-id-2\" class=\"sk-toggleable__label sk-toggleable__label-arrow\">XGBClassifier</label><div class=\"sk-toggleable__content\"><pre>XGBClassifier(base_score=None, booster=None, callbacks=None,\n",
              "              colsample_bylevel=None, colsample_bynode=None,\n",
              "              colsample_bytree=0.3510358881732967, early_stopping_rounds=None,\n",
              "              enable_categorical=False, eval_metric=None, feature_types=None,\n",
              "              gamma=0.5040853545203602, gpu_id=None, grow_policy=None,\n",
              "              importance_type=None, interaction_constraints=None,\n",
              "              learning_rate=0.048216001785353235, max_bin=None,\n",
              "              max_cat_threshold=None, max_cat_to_onehot=None,\n",
              "              max_delta_step=None, max_depth=4, max_leaves=None,\n",
              "              min_child_weight=0, missing=nan, monotone_constraints=None,\n",
              "              n_estimators=345, n_jobs=None, num_parallel_tree=None,\n",
              "              predictor=None, random_state=None, ...)</pre></div></div></div></div></div>"
            ]
          },
          "metadata": {},
          "execution_count": 95
        }
      ],
      "source": [
        "seasonal_model.fit(X_train_seas, y_train_seas)"
      ]
    },
    {
      "cell_type": "code",
      "execution_count": 96,
      "id": "14449b2e",
      "metadata": {
        "id": "14449b2e"
      },
      "outputs": [],
      "source": [
        "seas_predict = seasonal_model.predict(X_test_seas)"
      ]
    },
    {
      "cell_type": "code",
      "execution_count": 97,
      "id": "126c081e",
      "metadata": {
        "colab": {
          "base_uri": "https://localhost:8080/"
        },
        "id": "126c081e",
        "outputId": "818d12dc-ff54-4d5e-a333-e96faf3388ec"
      },
      "outputs": [
        {
          "output_type": "stream",
          "name": "stdout",
          "text": [
            "              precision    recall  f1-score   support\n",
            "\n",
            "           0       0.78      0.83      0.80      2823\n",
            "           1       0.79      0.75      0.77      2519\n",
            "\n",
            "    accuracy                           0.79      5342\n",
            "   macro avg       0.79      0.79      0.79      5342\n",
            "weighted avg       0.79      0.79      0.79      5342\n",
            "\n"
          ]
        }
      ],
      "source": [
        "print(classification_report(y_test_seas, seas_predict))"
      ]
    },
    {
      "cell_type": "code",
      "execution_count": 101,
      "id": "5d2a830b",
      "metadata": {
        "colab": {
          "base_uri": "https://localhost:8080/"
        },
        "id": "5d2a830b",
        "outputId": "2023be53-1487-424c-8c3f-73e5a6948696"
      },
      "outputs": [
        {
          "output_type": "stream",
          "name": "stdout",
          "text": [
            "ROC - AUC score : 0.8660576360714187\n"
          ]
        }
      ],
      "source": [
        "seasonal_prediction_roc = seasonal_model.predict_proba(X_test_seas)[:, 1]\n",
        "\n",
        "roc_auc = roc_auc_score(y_test_seas, seasonal_prediction_roc)\n",
        "\n",
        "print('ROC - AUC score :' , roc_auc)"
      ]
    },
    {
      "cell_type": "code",
      "execution_count": 101,
      "id": "dd7eac8f",
      "metadata": {
        "id": "dd7eac8f"
      },
      "outputs": [],
      "source": []
    },
    {
      "cell_type": "code",
      "execution_count": 105,
      "id": "7771a563",
      "metadata": {
        "colab": {
          "base_uri": "https://localhost:8080/",
          "height": 472
        },
        "id": "7771a563",
        "outputId": "f46ad25d-a22d-4730-c38b-af905591eb69"
      },
      "outputs": [
        {
          "output_type": "display_data",
          "data": {
            "text/plain": [
              "<Figure size 640x480 with 1 Axes>"
            ],
            "image/png": "[encoded data removed]"
          },
          "metadata": {}
        }
      ],
      "source": [
        "seasonal_prediction_roc = seasonal_model.predict_proba(X_test_seas)[:, 1]\n",
        "\n",
        "fpr, tpr, thresholds = roc_curve(y_test_seas, seasonal_prediction_roc)\n",
        "roc_auc = auc(fpr, tpr)\n",
        "\n",
        "plt.plot(fpr, tpr, label='ROC curve (area = %0.6f)' % roc_auc)\n",
        "plt.plot([0, 1], [0, 1], 'k--')\n",
        "plt.xlabel('False Positive Rate')\n",
        "plt.ylabel('True Positive Rate')\n",
        "plt.title('Seasonal Roc - Auc Score')\n",
        "plt.legend(loc=\"lower right\")\n",
        "plt.show()"
      ]
    },
    {
      "cell_type": "code",
      "execution_count": 106,
      "id": "96b7ad58",
      "metadata": {
        "colab": {
          "base_uri": "https://localhost:8080/"
        },
        "id": "96b7ad58",
        "outputId": "1f72cb5b-dc4b-4ce1-f883-1de21f4c859a"
      },
      "outputs": [
        {
          "output_type": "execute_result",
          "data": {
            "text/plain": [
              "['H1N1_joblib_FE_without_dropping.joblib']"
            ]
          },
          "metadata": {},
          "execution_count": 106
        }
      ],
      "source": [
        "from joblib import dump\n",
        "\n",
        "dump(h1n1_model, 'H1N1_joblib_FE_without_dropping.joblib')"
      ]
    },
    {
      "cell_type": "code",
      "source": [
        "dump(seasonal_model, 'Seasonal_joblib_FE_without_dropping.joblib')"
      ],
      "metadata": {
        "colab": {
          "base_uri": "https://localhost:8080/"
        },
        "id": "GbRdpNFMrJMp",
        "outputId": "851d8c47-872f-4b51-b514-8a5017bb585f"
      },
      "id": "GbRdpNFMrJMp",
      "execution_count": 107,
      "outputs": [
        {
          "output_type": "execute_result",
          "data": {
            "text/plain": [
              "['Seasonal_joblib_FE_without_dropping.joblib']"
            ]
          },
          "metadata": {},
          "execution_count": 107
        }
      ]
    },
    {
      "cell_type": "code",
      "execution_count": 107,
      "id": "fbb518a0",
      "metadata": {
        "id": "fbb518a0"
      },
      "outputs": [],
      "source": []
    },
    {
      "cell_type": "code",
      "execution_count": null,
      "id": "a8e89613",
      "metadata": {
        "id": "a8e89613"
      },
      "outputs": [],
      "source": []
    }
  ],
  "metadata": {
    "kernelspec": {
      "display_name": "Python 3 (ipykernel)",
      "language": "python",
      "name": "python3"
    },
    "language_info": {
      "codemirror_mode": {
        "name": "ipython",
        "version": 3
      },
      "file_extension": ".py",
      "mimetype": "text/x-python",
      "name": "python",
      "nbconvert_exporter": "python",
      "pygments_lexer": "ipython3",
      "version": "3.9.13"
    },
    "colab": {
      "provenance": [],
      "gpuType": "T4"
    },
    "accelerator": "GPU",
    "gpuClass": "standard",
    "widgets": {
      "application/vnd.jupyter.widget-state+json": {
        "592feca36e014620b4002cbce3df6cc7": {
          "model_module": "@jupyter-widgets/controls",
          "model_name": "HBoxModel",
          "model_module_version": "1.5.0",
          "state": {
            "_dom_classes": [],
            "_model_module": "@jupyter-widgets/controls",
            "_model_module_version": "1.5.0",
            "_model_name": "HBoxModel",
            "_view_count": null,
            "_view_module": "@jupyter-widgets/controls",
            "_view_module_version": "1.5.0",
            "_view_name": "HBoxView",
            "box_style": "",
            "children": [
              "IPY_MODEL_33fdcfa9f9af4abdb0a6ab508fe70c45",
              "IPY_MODEL_447a567b77af4650bea268db38084ed1",
              "IPY_MODEL_9be2515e38c043818c4b530b26fe2061"
            ],
            "layout": "IPY_MODEL_aaabee914eb0468fadeebf2f5ffcbb09"
          }
        },
        "33fdcfa9f9af4abdb0a6ab508fe70c45": {
          "model_module": "@jupyter-widgets/controls",
          "model_name": "HTMLModel",
          "model_module_version": "1.5.0",
          "state": {
            "_dom_classes": [],
            "_model_module": "@jupyter-widgets/controls",
            "_model_module_version": "1.5.0",
            "_model_name": "HTMLModel",
            "_view_count": null,
            "_view_module": "@jupyter-widgets/controls",
            "_view_module_version": "1.5.0",
            "_view_name": "HTMLView",
            "description": "",
            "description_tooltip": null,
            "layout": "IPY_MODEL_5986fa11fe914151b3f87390af6844b9",
            "placeholder": "​",
            "style": "IPY_MODEL_e0a0127ba1a748118af94aefb18d3e6f",
            "value": "Best trial: 101. Best value: 0.872064: 100%"
          }
        },
        "447a567b77af4650bea268db38084ed1": {
          "model_module": "@jupyter-widgets/controls",
          "model_name": "FloatProgressModel",
          "model_module_version": "1.5.0",
          "state": {
            "_dom_classes": [],
            "_model_module": "@jupyter-widgets/controls",
            "_model_module_version": "1.5.0",
            "_model_name": "FloatProgressModel",
            "_view_count": null,
            "_view_module": "@jupyter-widgets/controls",
            "_view_module_version": "1.5.0",
            "_view_name": "ProgressView",
            "bar_style": "success",
            "description": "",
            "description_tooltip": null,
            "layout": "IPY_MODEL_ac4d76d5df614798a7b839287694b95d",
            "max": 120,
            "min": 0,
            "orientation": "horizontal",
            "style": "IPY_MODEL_e62ee311f1f84454a9657ed332711e90",
            "value": 120
          }
        },
        "9be2515e38c043818c4b530b26fe2061": {
          "model_module": "@jupyter-widgets/controls",
          "model_name": "HTMLModel",
          "model_module_version": "1.5.0",
          "state": {
            "_dom_classes": [],
            "_model_module": "@jupyter-widgets/controls",
            "_model_module_version": "1.5.0",
            "_model_name": "HTMLModel",
            "_view_count": null,
            "_view_module": "@jupyter-widgets/controls",
            "_view_module_version": "1.5.0",
            "_view_name": "HTMLView",
            "description": "",
            "description_tooltip": null,
            "layout": "IPY_MODEL_36a59b73c05a4e0a804376beeedf9186",
            "placeholder": "​",
            "style": "IPY_MODEL_07eb239c08ab4c9db569e2ccd4902e6c",
            "value": " 120/120 [10:31&lt;00:00,  5.38s/it]"
          }
        },
        "aaabee914eb0468fadeebf2f5ffcbb09": {
          "model_module": "@jupyter-widgets/base",
          "model_name": "LayoutModel",
          "model_module_version": "1.2.0",
          "state": {
            "_model_module": "@jupyter-widgets/base",
            "_model_module_version": "1.2.0",
            "_model_name": "LayoutModel",
            "_view_count": null,
            "_view_module": "@jupyter-widgets/base",
            "_view_module_version": "1.2.0",
            "_view_name": "LayoutView",
            "align_content": null,
            "align_items": null,
            "align_self": null,
            "border": null,
            "bottom": null,
            "display": null,
            "flex": null,
            "flex_flow": null,
            "grid_area": null,
            "grid_auto_columns": null,
            "grid_auto_flow": null,
            "grid_auto_rows": null,
            "grid_column": null,
            "grid_gap": null,
            "grid_row": null,
            "grid_template_areas": null,
            "grid_template_columns": null,
            "grid_template_rows": null,
            "height": null,
            "justify_content": null,
            "justify_items": null,
            "left": null,
            "margin": null,
            "max_height": null,
            "max_width": null,
            "min_height": null,
            "min_width": null,
            "object_fit": null,
            "object_position": null,
            "order": null,
            "overflow": null,
            "overflow_x": null,
            "overflow_y": null,
            "padding": null,
            "right": null,
            "top": null,
            "visibility": null,
            "width": null
          }
        },
        "5986fa11fe914151b3f87390af6844b9": {
          "model_module": "@jupyter-widgets/base",
          "model_name": "LayoutModel",
          "model_module_version": "1.2.0",
          "state": {
            "_model_module": "@jupyter-widgets/base",
            "_model_module_version": "1.2.0",
            "_model_name": "LayoutModel",
            "_view_count": null,
            "_view_module": "@jupyter-widgets/base",
            "_view_module_version": "1.2.0",
            "_view_name": "LayoutView",
            "align_content": null,
            "align_items": null,
            "align_self": null,
            "border": null,
            "bottom": null,
            "display": null,
            "flex": null,
            "flex_flow": null,
            "grid_area": null,
            "grid_auto_columns": null,
            "grid_auto_flow": null,
            "grid_auto_rows": null,
            "grid_column": null,
            "grid_gap": null,
            "grid_row": null,
            "grid_template_areas": null,
            "grid_template_columns": null,
            "grid_template_rows": null,
            "height": null,
            "justify_content": null,
            "justify_items": null,
            "left": null,
            "margin": null,
            "max_height": null,
            "max_width": null,
            "min_height": null,
            "min_width": null,
            "object_fit": null,
            "object_position": null,
            "order": null,
            "overflow": null,
            "overflow_x": null,
            "overflow_y": null,
            "padding": null,
            "right": null,
            "top": null,
            "visibility": null,
            "width": null
          }
        },
        "e0a0127ba1a748118af94aefb18d3e6f": {
          "model_module": "@jupyter-widgets/controls",
          "model_name": "DescriptionStyleModel",
          "model_module_version": "1.5.0",
          "state": {
            "_model_module": "@jupyter-widgets/controls",
            "_model_module_version": "1.5.0",
            "_model_name": "DescriptionStyleModel",
            "_view_count": null,
            "_view_module": "@jupyter-widgets/base",
            "_view_module_version": "1.2.0",
            "_view_name": "StyleView",
            "description_width": ""
          }
        },
        "ac4d76d5df614798a7b839287694b95d": {
          "model_module": "@jupyter-widgets/base",
          "model_name": "LayoutModel",
          "model_module_version": "1.2.0",
          "state": {
            "_model_module": "@jupyter-widgets/base",
            "_model_module_version": "1.2.0",
            "_model_name": "LayoutModel",
            "_view_count": null,
            "_view_module": "@jupyter-widgets/base",
            "_view_module_version": "1.2.0",
            "_view_name": "LayoutView",
            "align_content": null,
            "align_items": null,
            "align_self": null,
            "border": null,
            "bottom": null,
            "display": null,
            "flex": null,
            "flex_flow": null,
            "grid_area": null,
            "grid_auto_columns": null,
            "grid_auto_flow": null,
            "grid_auto_rows": null,
            "grid_column": null,
            "grid_gap": null,
            "grid_row": null,
            "grid_template_areas": null,
            "grid_template_columns": null,
            "grid_template_rows": null,
            "height": null,
            "justify_content": null,
            "justify_items": null,
            "left": null,
            "margin": null,
            "max_height": null,
            "max_width": null,
            "min_height": null,
            "min_width": null,
            "object_fit": null,
            "object_position": null,
            "order": null,
            "overflow": null,
            "overflow_x": null,
            "overflow_y": null,
            "padding": null,
            "right": null,
            "top": null,
            "visibility": null,
            "width": null
          }
        },
        "e62ee311f1f84454a9657ed332711e90": {
          "model_module": "@jupyter-widgets/controls",
          "model_name": "ProgressStyleModel",
          "model_module_version": "1.5.0",
          "state": {
            "_model_module": "@jupyter-widgets/controls",
            "_model_module_version": "1.5.0",
            "_model_name": "ProgressStyleModel",
            "_view_count": null,
            "_view_module": "@jupyter-widgets/base",
            "_view_module_version": "1.2.0",
            "_view_name": "StyleView",
            "bar_color": null,
            "description_width": ""
          }
        },
        "36a59b73c05a4e0a804376beeedf9186": {
          "model_module": "@jupyter-widgets/base",
          "model_name": "LayoutModel",
          "model_module_version": "1.2.0",
          "state": {
            "_model_module": "@jupyter-widgets/base",
            "_model_module_version": "1.2.0",
            "_model_name": "LayoutModel",
            "_view_count": null,
            "_view_module": "@jupyter-widgets/base",
            "_view_module_version": "1.2.0",
            "_view_name": "LayoutView",
            "align_content": null,
            "align_items": null,
            "align_self": null,
            "border": null,
            "bottom": null,
            "display": null,
            "flex": null,
            "flex_flow": null,
            "grid_area": null,
            "grid_auto_columns": null,
            "grid_auto_flow": null,
            "grid_auto_rows": null,
            "grid_column": null,
            "grid_gap": null,
            "grid_row": null,
            "grid_template_areas": null,
            "grid_template_columns": null,
            "grid_template_rows": null,
            "height": null,
            "justify_content": null,
            "justify_items": null,
            "left": null,
            "margin": null,
            "max_height": null,
            "max_width": null,
            "min_height": null,
            "min_width": null,
            "object_fit": null,
            "object_position": null,
            "order": null,
            "overflow": null,
            "overflow_x": null,
            "overflow_y": null,
            "padding": null,
            "right": null,
            "top": null,
            "visibility": null,
            "width": null
          }
        },
        "07eb239c08ab4c9db569e2ccd4902e6c": {
          "model_module": "@jupyter-widgets/controls",
          "model_name": "DescriptionStyleModel",
          "model_module_version": "1.5.0",
          "state": {
            "_model_module": "@jupyter-widgets/controls",
            "_model_module_version": "1.5.0",
            "_model_name": "DescriptionStyleModel",
            "_view_count": null,
            "_view_module": "@jupyter-widgets/base",
            "_view_module_version": "1.2.0",
            "_view_name": "StyleView",
            "description_width": ""
          }
        },
        "46bf9cea650943f3a4f6ff6ddb8ae660": {
          "model_module": "@jupyter-widgets/controls",
          "model_name": "HBoxModel",
          "model_module_version": "1.5.0",
          "state": {
            "_dom_classes": [],
            "_model_module": "@jupyter-widgets/controls",
            "_model_module_version": "1.5.0",
            "_model_name": "HBoxModel",
            "_view_count": null,
            "_view_module": "@jupyter-widgets/controls",
            "_view_module_version": "1.5.0",
            "_view_name": "HBoxView",
            "box_style": "",
            "children": [
              "IPY_MODEL_4596f11770ba446a912c54da1f9080c1",
              "IPY_MODEL_f63481ee11b74750b68cff9cfbac19ac",
              "IPY_MODEL_0a03870e39d04f908c7a21004abb1994"
            ],
            "layout": "IPY_MODEL_6fe912857e4b4853ad0cfa89424b7858"
          }
        },
        "4596f11770ba446a912c54da1f9080c1": {
          "model_module": "@jupyter-widgets/controls",
          "model_name": "HTMLModel",
          "model_module_version": "1.5.0",
          "state": {
            "_dom_classes": [],
            "_model_module": "@jupyter-widgets/controls",
            "_model_module_version": "1.5.0",
            "_model_name": "HTMLModel",
            "_view_count": null,
            "_view_module": "@jupyter-widgets/controls",
            "_view_module_version": "1.5.0",
            "_view_name": "HTMLView",
            "description": "",
            "description_tooltip": null,
            "layout": "IPY_MODEL_db7b70408f2a4a16af173ee904813cda",
            "placeholder": "​",
            "style": "IPY_MODEL_3a9fc9a4f5e046e59a1b0a70fc85aed6",
            "value": "Best trial: 44. Best value: 0.865029: 100%"
          }
        },
        "f63481ee11b74750b68cff9cfbac19ac": {
          "model_module": "@jupyter-widgets/controls",
          "model_name": "FloatProgressModel",
          "model_module_version": "1.5.0",
          "state": {
            "_dom_classes": [],
            "_model_module": "@jupyter-widgets/controls",
            "_model_module_version": "1.5.0",
            "_model_name": "FloatProgressModel",
            "_view_count": null,
            "_view_module": "@jupyter-widgets/controls",
            "_view_module_version": "1.5.0",
            "_view_name": "ProgressView",
            "bar_style": "success",
            "description": "",
            "description_tooltip": null,
            "layout": "IPY_MODEL_286dca34e36148d8beaa25cbe3f3ca4b",
            "max": 120,
            "min": 0,
            "orientation": "horizontal",
            "style": "IPY_MODEL_addd615a618f4d7b9a5dfb2e523ab30b",
            "value": 120
          }
        },
        "0a03870e39d04f908c7a21004abb1994": {
          "model_module": "@jupyter-widgets/controls",
          "model_name": "HTMLModel",
          "model_module_version": "1.5.0",
          "state": {
            "_dom_classes": [],
            "_model_module": "@jupyter-widgets/controls",
            "_model_module_version": "1.5.0",
            "_model_name": "HTMLModel",
            "_view_count": null,
            "_view_module": "@jupyter-widgets/controls",
            "_view_module_version": "1.5.0",
            "_view_name": "HTMLView",
            "description": "",
            "description_tooltip": null,
            "layout": "IPY_MODEL_ead5490da8c040a18c290f888b9493a0",
            "placeholder": "​",
            "style": "IPY_MODEL_c33c0e334b34484e864e3abf15ff5bfe",
            "value": " 120/120 [09:29&lt;00:00,  4.58s/it]"
          }
        },
        "6fe912857e4b4853ad0cfa89424b7858": {
          "model_module": "@jupyter-widgets/base",
          "model_name": "LayoutModel",
          "model_module_version": "1.2.0",
          "state": {
            "_model_module": "@jupyter-widgets/base",
            "_model_module_version": "1.2.0",
            "_model_name": "LayoutModel",
            "_view_count": null,
            "_view_module": "@jupyter-widgets/base",
            "_view_module_version": "1.2.0",
            "_view_name": "LayoutView",
            "align_content": null,
            "align_items": null,
            "align_self": null,
            "border": null,
            "bottom": null,
            "display": null,
            "flex": null,
            "flex_flow": null,
            "grid_area": null,
            "grid_auto_columns": null,
            "grid_auto_flow": null,
            "grid_auto_rows": null,
            "grid_column": null,
            "grid_gap": null,
            "grid_row": null,
            "grid_template_areas": null,
            "grid_template_columns": null,
            "grid_template_rows": null,
            "height": null,
            "justify_content": null,
            "justify_items": null,
            "left": null,
            "margin": null,
            "max_height": null,
            "max_width": null,
            "min_height": null,
            "min_width": null,
            "object_fit": null,
            "object_position": null,
            "order": null,
            "overflow": null,
            "overflow_x": null,
            "overflow_y": null,
            "padding": null,
            "right": null,
            "top": null,
            "visibility": null,
            "width": null
          }
        },
        "db7b70408f2a4a16af173ee904813cda": {
          "model_module": "@jupyter-widgets/base",
          "model_name": "LayoutModel",
          "model_module_version": "1.2.0",
          "state": {
            "_model_module": "@jupyter-widgets/base",
            "_model_module_version": "1.2.0",
            "_model_name": "LayoutModel",
            "_view_count": null,
            "_view_module": "@jupyter-widgets/base",
            "_view_module_version": "1.2.0",
            "_view_name": "LayoutView",
            "align_content": null,
            "align_items": null,
            "align_self": null,
            "border": null,
            "bottom": null,
            "display": null,
            "flex": null,
            "flex_flow": null,
            "grid_area": null,
            "grid_auto_columns": null,
            "grid_auto_flow": null,
            "grid_auto_rows": null,
            "grid_column": null,
            "grid_gap": null,
            "grid_row": null,
            "grid_template_areas": null,
            "grid_template_columns": null,
            "grid_template_rows": null,
            "height": null,
            "justify_content": null,
            "justify_items": null,
            "left": null,
            "margin": null,
            "max_height": null,
            "max_width": null,
            "min_height": null,
            "min_width": null,
            "object_fit": null,
            "object_position": null,
            "order": null,
            "overflow": null,
            "overflow_x": null,
            "overflow_y": null,
            "padding": null,
            "right": null,
            "top": null,
            "visibility": null,
            "width": null
          }
        },
        "3a9fc9a4f5e046e59a1b0a70fc85aed6": {
          "model_module": "@jupyter-widgets/controls",
          "model_name": "DescriptionStyleModel",
          "model_module_version": "1.5.0",
          "state": {
            "_model_module": "@jupyter-widgets/controls",
            "_model_module_version": "1.5.0",
            "_model_name": "DescriptionStyleModel",
            "_view_count": null,
            "_view_module": "@jupyter-widgets/base",
            "_view_module_version": "1.2.0",
            "_view_name": "StyleView",
            "description_width": ""
          }
        },
        "286dca34e36148d8beaa25cbe3f3ca4b": {
          "model_module": "@jupyter-widgets/base",
          "model_name": "LayoutModel",
          "model_module_version": "1.2.0",
          "state": {
            "_model_module": "@jupyter-widgets/base",
            "_model_module_version": "1.2.0",
            "_model_name": "LayoutModel",
            "_view_count": null,
            "_view_module": "@jupyter-widgets/base",
            "_view_module_version": "1.2.0",
            "_view_name": "LayoutView",
            "align_content": null,
            "align_items": null,
            "align_self": null,
            "border": null,
            "bottom": null,
            "display": null,
            "flex": null,
            "flex_flow": null,
            "grid_area": null,
            "grid_auto_columns": null,
            "grid_auto_flow": null,
            "grid_auto_rows": null,
            "grid_column": null,
            "grid_gap": null,
            "grid_row": null,
            "grid_template_areas": null,
            "grid_template_columns": null,
            "grid_template_rows": null,
            "height": null,
            "justify_content": null,
            "justify_items": null,
            "left": null,
            "margin": null,
            "max_height": null,
            "max_width": null,
            "min_height": null,
            "min_width": null,
            "object_fit": null,
            "object_position": null,
            "order": null,
            "overflow": null,
            "overflow_x": null,
            "overflow_y": null,
            "padding": null,
            "right": null,
            "top": null,
            "visibility": null,
            "width": null
          }
        },
        "addd615a618f4d7b9a5dfb2e523ab30b": {
          "model_module": "@jupyter-widgets/controls",
          "model_name": "ProgressStyleModel",
          "model_module_version": "1.5.0",
          "state": {
            "_model_module": "@jupyter-widgets/controls",
            "_model_module_version": "1.5.0",
            "_model_name": "ProgressStyleModel",
            "_view_count": null,
            "_view_module": "@jupyter-widgets/base",
            "_view_module_version": "1.2.0",
            "_view_name": "StyleView",
            "bar_color": null,
            "description_width": ""
          }
        },
        "ead5490da8c040a18c290f888b9493a0": {
          "model_module": "@jupyter-widgets/base",
          "model_name": "LayoutModel",
          "model_module_version": "1.2.0",
          "state": {
            "_model_module": "@jupyter-widgets/base",
            "_model_module_version": "1.2.0",
            "_model_name": "LayoutModel",
            "_view_count": null,
            "_view_module": "@jupyter-widgets/base",
            "_view_module_version": "1.2.0",
            "_view_name": "LayoutView",
            "align_content": null,
            "align_items": null,
            "align_self": null,
            "border": null,
            "bottom": null,
            "display": null,
            "flex": null,
            "flex_flow": null,
            "grid_area": null,
            "grid_auto_columns": null,
            "grid_auto_flow": null,
            "grid_auto_rows": null,
            "grid_column": null,
            "grid_gap": null,
            "grid_row": null,
            "grid_template_areas": null,
            "grid_template_columns": null,
            "grid_template_rows": null,
            "height": null,
            "justify_content": null,
            "justify_items": null,
            "left": null,
            "margin": null,
            "max_height": null,
            "max_width": null,
            "min_height": null,
            "min_width": null,
            "object_fit": null,
            "object_position": null,
            "order": null,
            "overflow": null,
            "overflow_x": null,
            "overflow_y": null,
            "padding": null,
            "right": null,
            "top": null,
            "visibility": null,
            "width": null
          }
        },
        "c33c0e334b34484e864e3abf15ff5bfe": {
          "model_module": "@jupyter-widgets/controls",
          "model_name": "DescriptionStyleModel",
          "model_module_version": "1.5.0",
          "state": {
            "_model_module": "@jupyter-widgets/controls",
            "_model_module_version": "1.5.0",
            "_model_name": "DescriptionStyleModel",
            "_view_count": null,
            "_view_module": "@jupyter-widgets/base",
            "_view_module_version": "1.2.0",
            "_view_name": "StyleView",
            "description_width": ""
          }
        }
      }
    }
  },
  "nbformat": 4,
  "nbformat_minor": 5
}