{
  "cells": [
    {
      "cell_type": "code",
      "execution_count": 1,
      "id": "4e2a8611",
      "metadata": {
        "id": "4e2a8611"
      },
      "outputs": [],
      "source": [
        "import numpy as np\n",
        "import pandas as pd\n",
        "import matplotlib.pyplot as plt\n",
        "import seaborn as sns\n",
        "%matplotlib inline"
      ]
    },
    {
      "cell_type": "code",
      "execution_count": 6,
      "id": "68fe3775",
      "metadata": {
        "id": "68fe3775"
      },
      "outputs": [],
      "source": [
        "training_data = pd.read_csv('training_set_features.csv')\n",
        "labels = pd.read_csv('training_set_labels.csv')"
      ]
    },
    {
      "cell_type": "code",
      "execution_count": 6,
      "id": "ad999857",
      "metadata": {
        "id": "ad999857"
      },
      "outputs": [],
      "source": []
    },
    {
      "cell_type": "code",
      "execution_count": 6,
      "id": "77ca3fb0",
      "metadata": {
        "id": "77ca3fb0"
      },
      "outputs": [],
      "source": []
    },
    {
      "cell_type": "code",
      "execution_count": 7,
      "id": "ba54b853",
      "metadata": {
        "id": "ba54b853"
      },
      "outputs": [],
      "source": [
        "numeric_columns = training_data.select_dtypes('number').columns"
      ]
    },
    {
      "cell_type": "code",
      "execution_count": 8,
      "id": "7d86cec8",
      "metadata": {
        "id": "7d86cec8"
      },
      "outputs": [],
      "source": [
        "category_columns = ['race', 'sex', \n",
        "       'marital_status', 'rent_or_own',  'hhs_geo_region',\n",
        "       'census_msa', 'employment_industry', 'employment_occupation']"
      ]
    },
    {
      "cell_type": "code",
      "execution_count": 9,
      "id": "de764f21",
      "metadata": {
        "id": "de764f21"
      },
      "outputs": [],
      "source": [
        "ordinal_columns = ['age_group', 'education',  'income_poverty',\n",
        "        'employment_status']"
      ]
    },
    {
      "cell_type": "code",
      "execution_count": 9,
      "id": "06034e1b",
      "metadata": {
        "id": "06034e1b"
      },
      "outputs": [],
      "source": []
    },
    {
      "cell_type": "code",
      "execution_count": 10,
      "id": "7b94d9e3",
      "metadata": {
        "id": "7b94d9e3"
      },
      "outputs": [],
      "source": [
        "# IMPUTING THE MISSING VALUES"
      ]
    },
    {
      "cell_type": "code",
      "execution_count": 11,
      "id": "b97ec3e4",
      "metadata": {
        "id": "b97ec3e4"
      },
      "outputs": [],
      "source": [
        "for i, row in training_data[training_data['employment_occupation'].isna()].iterrows():\n",
        "    conditions = (training_data[\"employment_status\"]==\"Unemployed\")\n",
        "    if conditions.any():\n",
        "        training_data.loc[i, 'employment_occupation'] = 'unemployed_occupation'\n"
      ]
    },
    {
      "cell_type": "code",
      "execution_count": 12,
      "id": "3c3481a7",
      "metadata": {
        "id": "3c3481a7"
      },
      "outputs": [],
      "source": [
        "for i, row in training_data[training_data['employment_industry'].isna()].iterrows():\n",
        "    conditions = (training_data[\"employment_status\"]==\"Unemployed\")\n",
        "    if conditions.any():\n",
        "        training_data.loc[i, 'employment_industry'] = 'unemployed_in_industry'\n",
        "        "
      ]
    },
    {
      "cell_type": "code",
      "execution_count": 13,
      "id": "54f8e915",
      "metadata": {
        "id": "54f8e915"
      },
      "outputs": [],
      "source": [
        "for i, row in training_data[training_data['employment_industry'].isna()].iterrows():\n",
        "    conditions = (training_data[\"employment_status\"]==\"Not in Labor Force\")\n",
        "    if conditions.any():\n",
        "       training_data.loc[i, 'employment_industry'] = 'Not_in_laborforce'\n"
      ]
    },
    {
      "cell_type": "code",
      "execution_count": 14,
      "id": "c2724b63",
      "metadata": {
        "id": "c2724b63"
      },
      "outputs": [],
      "source": [
        "for i, row in training_data[training_data['employment_occupation'].isna()].iterrows():\n",
        "    conditions = (training_data[\"employment_status\"]==\"Not in Labor Force\")\n",
        "    if conditions.any():\n",
        "        training_data.loc[i, 'employment_occupation'] = 'Not_in_laborforce'\n",
        "        "
      ]
    },
    {
      "cell_type": "code",
      "execution_count": 15,
      "id": "832d05cb",
      "metadata": {
        "id": "832d05cb"
      },
      "outputs": [],
      "source": [
        "for i, row in training_data[training_data['employment_industry'].isna()].iterrows():\n",
        "    conditions = (training_data[\"employment_status\"]==\"Employed\")\n",
        "    if conditions.any():\n",
        "        training_data.loc[i, 'employment_industry'] = 'other_industry'\n",
        "        "
      ]
    },
    {
      "cell_type": "code",
      "execution_count": 16,
      "id": "0a6cb57c",
      "metadata": {
        "id": "0a6cb57c"
      },
      "outputs": [],
      "source": [
        "for i, row in training_data[training_data['employment_occupation'].isna()].iterrows():\n",
        "    conditions = (training_data[\"employment_status\"]==\"Employed\")\n",
        "    if conditions.any():\n",
        "        training_data.loc[i, 'employment_occupation'] = 'other_occupation'\n",
        "        "
      ]
    },
    {
      "cell_type": "code",
      "execution_count": 16,
      "id": "302b5940",
      "metadata": {
        "id": "302b5940"
      },
      "outputs": [],
      "source": []
    },
    {
      "cell_type": "code",
      "execution_count": 17,
      "id": "4ec06ef4",
      "metadata": {
        "id": "4ec06ef4"
      },
      "outputs": [],
      "source": [
        "income_poverty_nan = 'refused_or_unknown'\n",
        "marital_status_nan = 'refused_or_other_category'\n",
        "employment_status_nan = 'refused_or_other_category'\n",
        "rent_or_own_nan = 'other_refused'\n",
        "education_nan = 'refused_or_unknown'\n",
        "\n",
        "\n",
        "training_data['income_poverty'].fillna(income_poverty_nan, inplace=True)\n",
        "training_data['marital_status'].fillna(marital_status_nan, inplace=True)\n",
        "training_data['employment_status'].fillna(employment_status_nan, inplace=True)\n",
        "training_data['rent_or_own'].fillna(rent_or_own_nan, inplace=True)\n",
        "training_data['education'].fillna(education_nan, inplace=True)"
      ]
    },
    {
      "cell_type": "code",
      "execution_count": 17,
      "id": "2a88b4b3",
      "metadata": {
        "id": "2a88b4b3"
      },
      "outputs": [],
      "source": []
    },
    {
      "cell_type": "code",
      "execution_count": 18,
      "id": "9ab6404e",
      "metadata": {
        "id": "9ab6404e"
      },
      "outputs": [],
      "source": [
        "def missing_count(training_data): # Creating a function which returns the values which is above zero\n",
        "    \n",
        "    count_nan = training_data.isnull().sum()\n",
        "    count_nan = count_nan[count_nan > 0].sort_values()    # To sort down the values\n",
        "    \n",
        "    return count_nan"
      ]
    },
    {
      "cell_type": "code",
      "execution_count": 19,
      "id": "95bfd082",
      "metadata": {
        "id": "95bfd082"
      },
      "outputs": [],
      "source": [
        "missing_counts_as_nan = missing_count(training_data)"
      ]
    },
    {
      "cell_type": "code",
      "execution_count": 20,
      "id": "ba7803af",
      "metadata": {
        "colab": {
          "base_uri": "https://localhost:8080/"
        },
        "id": "ba7803af",
        "outputId": "8be9f5ae-0160-4fd5-9824-294387f5c432"
      },
      "outputs": [
        {
          "output_type": "execute_result",
          "data": {
            "text/plain": [
              "behavioral_face_mask              19\n",
              "behavioral_wash_hands             42\n",
              "behavioral_antiviral_meds         71\n",
              "behavioral_outside_home           82\n",
              "behavioral_large_gatherings       87\n",
              "h1n1_concern                      92\n",
              "h1n1_knowledge                   116\n",
              "behavioral_touch_face            128\n",
              "behavioral_avoidance             208\n",
              "household_adults                 249\n",
              "household_children               249\n",
              "opinion_h1n1_risk                388\n",
              "opinion_h1n1_vacc_effective      391\n",
              "opinion_h1n1_sick_from_vacc      395\n",
              "opinion_seas_vacc_effective      462\n",
              "opinion_seas_risk                514\n",
              "opinion_seas_sick_from_vacc      537\n",
              "health_worker                    804\n",
              "child_under_6_months             820\n",
              "chronic_med_condition            971\n",
              "doctor_recc_h1n1                2160\n",
              "doctor_recc_seasonal            2160\n",
              "health_insurance               12274\n",
              "dtype: int64"
            ]
          },
          "metadata": {},
          "execution_count": 20
        }
      ],
      "source": [
        "missing_counts_as_nan"
      ]
    },
    {
      "cell_type": "code",
      "execution_count": 20,
      "id": "d53f20c1",
      "metadata": {
        "id": "d53f20c1"
      },
      "outputs": [],
      "source": []
    },
    {
      "cell_type": "code",
      "execution_count": 21,
      "id": "c09916ff",
      "metadata": {
        "id": "c09916ff"
      },
      "outputs": [],
      "source": [
        "# GOOD TO GO - Now start encoding the columns"
      ]
    },
    {
      "cell_type": "code",
      "execution_count": 21,
      "id": "4597d6b8",
      "metadata": {
        "id": "4597d6b8"
      },
      "outputs": [],
      "source": []
    },
    {
      "cell_type": "code",
      "execution_count": 22,
      "id": "54add351",
      "metadata": {
        "colab": {
          "base_uri": "https://localhost:8080/",
          "height": 424
        },
        "id": "54add351",
        "outputId": "68f79efd-ed4d-47cd-84a7-f325d3c7696b"
      },
      "outputs": [
        {
          "output_type": "execute_result",
          "data": {
            "text/plain": [
              "           age_group         education             income_poverty  \\\n",
              "0      55 - 64 Years        < 12 Years              Below Poverty   \n",
              "1      35 - 44 Years          12 Years              Below Poverty   \n",
              "2      18 - 34 Years  College Graduate  <= $75,000, Above Poverty   \n",
              "3          65+ Years          12 Years              Below Poverty   \n",
              "4      45 - 54 Years      Some College  <= $75,000, Above Poverty   \n",
              "...              ...               ...                        ...   \n",
              "26702      65+ Years      Some College  <= $75,000, Above Poverty   \n",
              "26703  18 - 34 Years  College Graduate  <= $75,000, Above Poverty   \n",
              "26704  55 - 64 Years      Some College         refused_or_unknown   \n",
              "26705  18 - 34 Years      Some College  <= $75,000, Above Poverty   \n",
              "26706      65+ Years      Some College  <= $75,000, Above Poverty   \n",
              "\n",
              "               employment_status  \n",
              "0             Not in Labor Force  \n",
              "1                       Employed  \n",
              "2                       Employed  \n",
              "3             Not in Labor Force  \n",
              "4                       Employed  \n",
              "...                          ...  \n",
              "26702         Not in Labor Force  \n",
              "26703                   Employed  \n",
              "26704  refused_or_other_category  \n",
              "26705                   Employed  \n",
              "26706         Not in Labor Force  \n",
              "\n",
              "[26707 rows x 4 columns]"
            ],
            "text/html": [
              "\n",
              "  <div id=\"df-f13dafae-585c-494d-826c-44191278fa59\">\n",
              "    <div class=\"colab-df-container\">\n",
              "      <div>\n",
              "<style scoped>\n",
              "    .dataframe tbody tr th:only-of-type {\n",
              "        vertical-align: middle;\n",
              "    }\n",
              "\n",
              "    .dataframe tbody tr th {\n",
              "        vertical-align: top;\n",
              "    }\n",
              "\n",
              "    .dataframe thead th {\n",
              "        text-align: right;\n",
              "    }\n",
              "</style>\n",
              "<table border=\"1\" class=\"dataframe\">\n",
              "  <thead>\n",
              "    <tr style=\"text-align: right;\">\n",
              "      <th></th>\n",
              "      <th>age_group</th>\n",
              "      <th>education</th>\n",
              "      <th>income_poverty</th>\n",
              "      <th>employment_status</th>\n",
              "    </tr>\n",
              "  </thead>\n",
              "  <tbody>\n",
              "    <tr>\n",
              "      <th>0</th>\n",
              "      <td>55 - 64 Years</td>\n",
              "      <td>&lt; 12 Years</td>\n",
              "      <td>Below Poverty</td>\n",
              "      <td>Not in Labor Force</td>\n",
              "    </tr>\n",
              "    <tr>\n",
              "      <th>1</th>\n",
              "      <td>35 - 44 Years</td>\n",
              "      <td>12 Years</td>\n",
              "      <td>Below Poverty</td>\n",
              "      <td>Employed</td>\n",
              "    </tr>\n",
              "    <tr>\n",
              "      <th>2</th>\n",
              "      <td>18 - 34 Years</td>\n",
              "      <td>College Graduate</td>\n",
              "      <td>&lt;= $75,000, Above Poverty</td>\n",
              "      <td>Employed</td>\n",
              "    </tr>\n",
              "    <tr>\n",
              "      <th>3</th>\n",
              "      <td>65+ Years</td>\n",
              "      <td>12 Years</td>\n",
              "      <td>Below Poverty</td>\n",
              "      <td>Not in Labor Force</td>\n",
              "    </tr>\n",
              "    <tr>\n",
              "      <th>4</th>\n",
              "      <td>45 - 54 Years</td>\n",
              "      <td>Some College</td>\n",
              "      <td>&lt;= $75,000, Above Poverty</td>\n",
              "      <td>Employed</td>\n",
              "    </tr>\n",
              "    <tr>\n",
              "      <th>...</th>\n",
              "      <td>...</td>\n",
              "      <td>...</td>\n",
              "      <td>...</td>\n",
              "      <td>...</td>\n",
              "    </tr>\n",
              "    <tr>\n",
              "      <th>26702</th>\n",
              "      <td>65+ Years</td>\n",
              "      <td>Some College</td>\n",
              "      <td>&lt;= $75,000, Above Poverty</td>\n",
              "      <td>Not in Labor Force</td>\n",
              "    </tr>\n",
              "    <tr>\n",
              "      <th>26703</th>\n",
              "      <td>18 - 34 Years</td>\n",
              "      <td>College Graduate</td>\n",
              "      <td>&lt;= $75,000, Above Poverty</td>\n",
              "      <td>Employed</td>\n",
              "    </tr>\n",
              "    <tr>\n",
              "      <th>26704</th>\n",
              "      <td>55 - 64 Years</td>\n",
              "      <td>Some College</td>\n",
              "      <td>refused_or_unknown</td>\n",
              "      <td>refused_or_other_category</td>\n",
              "    </tr>\n",
              "    <tr>\n",
              "      <th>26705</th>\n",
              "      <td>18 - 34 Years</td>\n",
              "      <td>Some College</td>\n",
              "      <td>&lt;= $75,000, Above Poverty</td>\n",
              "      <td>Employed</td>\n",
              "    </tr>\n",
              "    <tr>\n",
              "      <th>26706</th>\n",
              "      <td>65+ Years</td>\n",
              "      <td>Some College</td>\n",
              "      <td>&lt;= $75,000, Above Poverty</td>\n",
              "      <td>Not in Labor Force</td>\n",
              "    </tr>\n",
              "  </tbody>\n",
              "</table>\n",
              "<p>26707 rows × 4 columns</p>\n",
              "</div>\n",
              "      <button class=\"colab-df-convert\" onclick=\"convertToInteractive('df-f13dafae-585c-494d-826c-44191278fa59')\"\n",
              "              title=\"Convert this dataframe to an interactive table.\"\n",
              "              style=\"display:none;\">\n",
              "        \n",
              "  <svg xmlns=\"http://www.w3.org/2000/svg\" height=\"24px\"viewBox=\"0 0 24 24\"\n",
              "       width=\"24px\">\n",
              "    <path d=\"M0 0h24v24H0V0z\" fill=\"none\"/>\n",
              "    <path d=\"M18.56 5.44l.94 2.06.94-2.06 2.06-.94-2.06-.94-.94-2.06-.94 2.06-2.06.94zm-11 1L8.5 8.5l.94-2.06 2.06-.94-2.06-.94L8.5 2.5l-.94 2.06-2.06.94zm10 10l.94 2.06.94-2.06 2.06-.94-2.06-.94-.94-2.06-.94 2.06-2.06.94z\"/><path d=\"M17.41 7.96l-1.37-1.37c-.4-.4-.92-.59-1.43-.59-.52 0-1.04.2-1.43.59L10.3 9.45l-7.72 7.72c-.78.78-.78 2.05 0 2.83L4 21.41c.39.39.9.59 1.41.59.51 0 1.02-.2 1.41-.59l7.78-7.78 2.81-2.81c.8-.78.8-2.07 0-2.86zM5.41 20L4 18.59l7.72-7.72 1.47 1.35L5.41 20z\"/>\n",
              "  </svg>\n",
              "      </button>\n",
              "      \n",
              "  <style>\n",
              "    .colab-df-container {\n",
              "      display:flex;\n",
              "      flex-wrap:wrap;\n",
              "      gap: 12px;\n",
              "    }\n",
              "\n",
              "    .colab-df-convert {\n",
              "      background-color: #E8F0FE;\n",
              "      border: none;\n",
              "      border-radius: 50%;\n",
              "      cursor: pointer;\n",
              "      display: none;\n",
              "      fill: #1967D2;\n",
              "      height: 32px;\n",
              "      padding: 0 0 0 0;\n",
              "      width: 32px;\n",
              "    }\n",
              "\n",
              "    .colab-df-convert:hover {\n",
              "      background-color: #E2EBFA;\n",
              "      box-shadow: 0px 1px 2px rgba(60, 64, 67, 0.3), 0px 1px 3px 1px rgba(60, 64, 67, 0.15);\n",
              "      fill: #174EA6;\n",
              "    }\n",
              "\n",
              "    [theme=dark] .colab-df-convert {\n",
              "      background-color: #3B4455;\n",
              "      fill: #D2E3FC;\n",
              "    }\n",
              "\n",
              "    [theme=dark] .colab-df-convert:hover {\n",
              "      background-color: #434B5C;\n",
              "      box-shadow: 0px 1px 3px 1px rgba(0, 0, 0, 0.15);\n",
              "      filter: drop-shadow(0px 1px 2px rgba(0, 0, 0, 0.3));\n",
              "      fill: #FFFFFF;\n",
              "    }\n",
              "  </style>\n",
              "\n",
              "      <script>\n",
              "        const buttonEl =\n",
              "          document.querySelector('#df-f13dafae-585c-494d-826c-44191278fa59 button.colab-df-convert');\n",
              "        buttonEl.style.display =\n",
              "          google.colab.kernel.accessAllowed ? 'block' : 'none';\n",
              "\n",
              "        async function convertToInteractive(key) {\n",
              "          const element = document.querySelector('#df-f13dafae-585c-494d-826c-44191278fa59');\n",
              "          const dataTable =\n",
              "            await google.colab.kernel.invokeFunction('convertToInteractive',\n",
              "                                                     [key], {});\n",
              "          if (!dataTable) return;\n",
              "\n",
              "          const docLinkHtml = 'Like what you see? Visit the ' +\n",
              "            '<a target=\"_blank\" href=https://colab.research.google.com/notebooks/data_table.ipynb>data table notebook</a>'\n",
              "            + ' to learn more about interactive tables.';\n",
              "          element.innerHTML = '';\n",
              "          dataTable['output_type'] = 'display_data';\n",
              "          await google.colab.output.renderOutput(dataTable, element);\n",
              "          const docLink = document.createElement('div');\n",
              "          docLink.innerHTML = docLinkHtml;\n",
              "          element.appendChild(docLink);\n",
              "        }\n",
              "      </script>\n",
              "    </div>\n",
              "  </div>\n",
              "  "
            ]
          },
          "metadata": {},
          "execution_count": 22
        }
      ],
      "source": [
        "training_data[ordinal_columns]"
      ]
    },
    {
      "cell_type": "code",
      "execution_count": 23,
      "id": "aa57da3b",
      "metadata": {
        "id": "aa57da3b"
      },
      "outputs": [],
      "source": [
        "training_data['overall_behaviour_of_respondent'] = training_data['behavioral_antiviral_meds'] + \\\n",
        "training_data['behavioral_avoidance'] + training_data['behavioral_face_mask'] + \\\n",
        "training_data['behavioral_wash_hands'] + training_data['behavioral_large_gatherings'] + \\\n",
        "training_data['behavioral_outside_home'] + training_data['behavioral_touch_face']"
      ]
    },
    {
      "cell_type": "code",
      "execution_count": 23,
      "id": "8e07c970",
      "metadata": {
        "id": "8e07c970"
      },
      "outputs": [],
      "source": []
    },
    {
      "cell_type": "code",
      "execution_count": 23,
      "id": "feeb042d",
      "metadata": {
        "id": "feeb042d"
      },
      "outputs": [],
      "source": []
    },
    {
      "cell_type": "code",
      "execution_count": 24,
      "id": "eed81a1c",
      "metadata": {
        "id": "eed81a1c"
      },
      "outputs": [],
      "source": [
        "from sklearn.preprocessing import LabelEncoder\n",
        "\n",
        "le = LabelEncoder()\n",
        "\n",
        "for features in ordinal_columns:\n",
        "    training_data[features] = le.fit_transform(training_data[features])"
      ]
    },
    {
      "cell_type": "code",
      "execution_count": 24,
      "id": "6933897d",
      "metadata": {
        "id": "6933897d"
      },
      "outputs": [],
      "source": []
    },
    {
      "cell_type": "code",
      "execution_count": 25,
      "id": "5e7efb06",
      "metadata": {
        "id": "5e7efb06"
      },
      "outputs": [],
      "source": [
        "training_data = pd.get_dummies(training_data, columns=category_columns, drop_first=True)"
      ]
    },
    {
      "cell_type": "code",
      "execution_count": 25,
      "id": "3db8487e",
      "metadata": {
        "id": "3db8487e"
      },
      "outputs": [],
      "source": []
    },
    {
      "cell_type": "code",
      "execution_count": 26,
      "id": "2c9f6168",
      "metadata": {
        "id": "2c9f6168"
      },
      "outputs": [],
      "source": [
        "training_data.drop(['behavioral_antiviral_meds','behavioral_avoidance','behavioral_face_mask',\\\n",
        "                    'behavioral_wash_hands','behavioral_large_gatherings', 'behavioral_outside_home',\\\n",
        "                    'behavioral_touch_face'], axis=1, inplace=True)"
      ]
    },
    {
      "cell_type": "code",
      "execution_count": 26,
      "id": "2f104dd5",
      "metadata": {
        "id": "2f104dd5"
      },
      "outputs": [],
      "source": []
    },
    {
      "cell_type": "code",
      "execution_count": 27,
      "id": "271af494",
      "metadata": {
        "id": "271af494"
      },
      "outputs": [],
      "source": [
        "final_training_data = pd.merge(training_data, labels, on='respondent_id')"
      ]
    },
    {
      "cell_type": "code",
      "execution_count": 28,
      "id": "088a9e24",
      "metadata": {
        "id": "088a9e24"
      },
      "outputs": [],
      "source": [
        "label1 = final_training_data['h1n1_vaccine']\n",
        "label2 = final_training_data['seasonal_vaccine']"
      ]
    },
    {
      "cell_type": "code",
      "execution_count": 28,
      "id": "8606a7f9",
      "metadata": {
        "id": "8606a7f9"
      },
      "outputs": [],
      "source": []
    },
    {
      "cell_type": "code",
      "execution_count": 29,
      "id": "7f6fe904",
      "metadata": {
        "id": "7f6fe904"
      },
      "outputs": [],
      "source": [
        "final_training_data.drop('respondent_id', axis=1, inplace=True)"
      ]
    },
    {
      "cell_type": "code",
      "execution_count": 29,
      "id": "4fe7b15a",
      "metadata": {
        "id": "4fe7b15a"
      },
      "outputs": [],
      "source": []
    },
    {
      "cell_type": "code",
      "execution_count": 30,
      "id": "316c34ce",
      "metadata": {
        "id": "316c34ce"
      },
      "outputs": [],
      "source": [
        "data = final_training_data.drop(['h1n1_vaccine','seasonal_vaccine'], axis=1)"
      ]
    },
    {
      "cell_type": "code",
      "execution_count": 31,
      "id": "271d8894",
      "metadata": {
        "colab": {
          "base_uri": "https://localhost:8080/",
          "height": 300
        },
        "id": "271d8894",
        "outputId": "df63c397-3931-4808-f8b2-7e6bab150bd0"
      },
      "outputs": [
        {
          "output_type": "execute_result",
          "data": {
            "text/plain": [
              "   h1n1_concern  h1n1_knowledge  doctor_recc_h1n1  doctor_recc_seasonal  \\\n",
              "0           1.0             0.0               0.0                   0.0   \n",
              "1           3.0             2.0               0.0                   0.0   \n",
              "2           1.0             1.0               NaN                   NaN   \n",
              "3           1.0             1.0               0.0                   1.0   \n",
              "4           2.0             1.0               0.0                   0.0   \n",
              "\n",
              "   chronic_med_condition  child_under_6_months  health_worker  \\\n",
              "0                    0.0                   0.0            0.0   \n",
              "1                    0.0                   0.0            0.0   \n",
              "2                    1.0                   0.0            0.0   \n",
              "3                    1.0                   0.0            0.0   \n",
              "4                    0.0                   0.0            0.0   \n",
              "\n",
              "   health_insurance  opinion_h1n1_vacc_effective  opinion_h1n1_risk  ...  \\\n",
              "0               1.0                          3.0                1.0  ...   \n",
              "1               1.0                          5.0                4.0  ...   \n",
              "2               NaN                          3.0                1.0  ...   \n",
              "3               NaN                          3.0                3.0  ...   \n",
              "4               NaN                          3.0                3.0  ...   \n",
              "\n",
              "   employment_occupation_rcertsgn  employment_occupation_tfqavkke  \\\n",
              "0                               0                               0   \n",
              "1                               0                               0   \n",
              "2                               0                               0   \n",
              "3                               0                               0   \n",
              "4                               0                               0   \n",
              "\n",
              "   employment_occupation_ukymxvdu  \\\n",
              "0                               0   \n",
              "1                               0   \n",
              "2                               0   \n",
              "3                               0   \n",
              "4                               0   \n",
              "\n",
              "   employment_occupation_unemployed_occupation  \\\n",
              "0                                            1   \n",
              "1                                            0   \n",
              "2                                            0   \n",
              "3                                            1   \n",
              "4                                            0   \n",
              "\n",
              "   employment_occupation_uqqtjvyb  employment_occupation_vlluhbov  \\\n",
              "0                               0                               0   \n",
              "1                               0                               0   \n",
              "2                               0                               0   \n",
              "3                               0                               0   \n",
              "4                               0                               0   \n",
              "\n",
              "   employment_occupation_xgwztkwe  employment_occupation_xqwwgdyp  \\\n",
              "0                               0                               0   \n",
              "1                               1                               0   \n",
              "2                               0                               0   \n",
              "3                               0                               0   \n",
              "4                               0                               0   \n",
              "\n",
              "   employment_occupation_xtkaffoo  employment_occupation_xzmlyyjv  \n",
              "0                               0                               0  \n",
              "1                               0                               0  \n",
              "2                               1                               0  \n",
              "3                               0                               0  \n",
              "4                               0                               0  \n",
              "\n",
              "[5 rows x 84 columns]"
            ],
            "text/html": [
              "\n",
              "  <div id=\"df-f934da5b-6cc4-41a7-90a8-f568be8649ae\">\n",
              "    <div class=\"colab-df-container\">\n",
              "      <div>\n",
              "<style scoped>\n",
              "    .dataframe tbody tr th:only-of-type {\n",
              "        vertical-align: middle;\n",
              "    }\n",
              "\n",
              "    .dataframe tbody tr th {\n",
              "        vertical-align: top;\n",
              "    }\n",
              "\n",
              "    .dataframe thead th {\n",
              "        text-align: right;\n",
              "    }\n",
              "</style>\n",
              "<table border=\"1\" class=\"dataframe\">\n",
              "  <thead>\n",
              "    <tr style=\"text-align: right;\">\n",
              "      <th></th>\n",
              "      <th>h1n1_concern</th>\n",
              "      <th>h1n1_knowledge</th>\n",
              "      <th>doctor_recc_h1n1</th>\n",
              "      <th>doctor_recc_seasonal</th>\n",
              "      <th>chronic_med_condition</th>\n",
              "      <th>child_under_6_months</th>\n",
              "      <th>health_worker</th>\n",
              "      <th>health_insurance</th>\n",
              "      <th>opinion_h1n1_vacc_effective</th>\n",
              "      <th>opinion_h1n1_risk</th>\n",
              "      <th>...</th>\n",
              "      <th>employment_occupation_rcertsgn</th>\n",
              "      <th>employment_occupation_tfqavkke</th>\n",
              "      <th>employment_occupation_ukymxvdu</th>\n",
              "      <th>employment_occupation_unemployed_occupation</th>\n",
              "      <th>employment_occupation_uqqtjvyb</th>\n",
              "      <th>employment_occupation_vlluhbov</th>\n",
              "      <th>employment_occupation_xgwztkwe</th>\n",
              "      <th>employment_occupation_xqwwgdyp</th>\n",
              "      <th>employment_occupation_xtkaffoo</th>\n",
              "      <th>employment_occupation_xzmlyyjv</th>\n",
              "    </tr>\n",
              "  </thead>\n",
              "  <tbody>\n",
              "    <tr>\n",
              "      <th>0</th>\n",
              "      <td>1.0</td>\n",
              "      <td>0.0</td>\n",
              "      <td>0.0</td>\n",
              "      <td>0.0</td>\n",
              "      <td>0.0</td>\n",
              "      <td>0.0</td>\n",
              "      <td>0.0</td>\n",
              "      <td>1.0</td>\n",
              "      <td>3.0</td>\n",
              "      <td>1.0</td>\n",
              "      <td>...</td>\n",
              "      <td>0</td>\n",
              "      <td>0</td>\n",
              "      <td>0</td>\n",
              "      <td>1</td>\n",
              "      <td>0</td>\n",
              "      <td>0</td>\n",
              "      <td>0</td>\n",
              "      <td>0</td>\n",
              "      <td>0</td>\n",
              "      <td>0</td>\n",
              "    </tr>\n",
              "    <tr>\n",
              "      <th>1</th>\n",
              "      <td>3.0</td>\n",
              "      <td>2.0</td>\n",
              "      <td>0.0</td>\n",
              "      <td>0.0</td>\n",
              "      <td>0.0</td>\n",
              "      <td>0.0</td>\n",
              "      <td>0.0</td>\n",
              "      <td>1.0</td>\n",
              "      <td>5.0</td>\n",
              "      <td>4.0</td>\n",
              "      <td>...</td>\n",
              "      <td>0</td>\n",
              "      <td>0</td>\n",
              "      <td>0</td>\n",
              "      <td>0</td>\n",
              "      <td>0</td>\n",
              "      <td>0</td>\n",
              "      <td>1</td>\n",
              "      <td>0</td>\n",
              "      <td>0</td>\n",
              "      <td>0</td>\n",
              "    </tr>\n",
              "    <tr>\n",
              "      <th>2</th>\n",
              "      <td>1.0</td>\n",
              "      <td>1.0</td>\n",
              "      <td>NaN</td>\n",
              "      <td>NaN</td>\n",
              "      <td>1.0</td>\n",
              "      <td>0.0</td>\n",
              "      <td>0.0</td>\n",
              "      <td>NaN</td>\n",
              "      <td>3.0</td>\n",
              "      <td>1.0</td>\n",
              "      <td>...</td>\n",
              "      <td>0</td>\n",
              "      <td>0</td>\n",
              "      <td>0</td>\n",
              "      <td>0</td>\n",
              "      <td>0</td>\n",
              "      <td>0</td>\n",
              "      <td>0</td>\n",
              "      <td>0</td>\n",
              "      <td>1</td>\n",
              "      <td>0</td>\n",
              "    </tr>\n",
              "    <tr>\n",
              "      <th>3</th>\n",
              "      <td>1.0</td>\n",
              "      <td>1.0</td>\n",
              "      <td>0.0</td>\n",
              "      <td>1.0</td>\n",
              "      <td>1.0</td>\n",
              "      <td>0.0</td>\n",
              "      <td>0.0</td>\n",
              "      <td>NaN</td>\n",
              "      <td>3.0</td>\n",
              "      <td>3.0</td>\n",
              "      <td>...</td>\n",
              "      <td>0</td>\n",
              "      <td>0</td>\n",
              "      <td>0</td>\n",
              "      <td>1</td>\n",
              "      <td>0</td>\n",
              "      <td>0</td>\n",
              "      <td>0</td>\n",
              "      <td>0</td>\n",
              "      <td>0</td>\n",
              "      <td>0</td>\n",
              "    </tr>\n",
              "    <tr>\n",
              "      <th>4</th>\n",
              "      <td>2.0</td>\n",
              "      <td>1.0</td>\n",
              "      <td>0.0</td>\n",
              "      <td>0.0</td>\n",
              "      <td>0.0</td>\n",
              "      <td>0.0</td>\n",
              "      <td>0.0</td>\n",
              "      <td>NaN</td>\n",
              "      <td>3.0</td>\n",
              "      <td>3.0</td>\n",
              "      <td>...</td>\n",
              "      <td>0</td>\n",
              "      <td>0</td>\n",
              "      <td>0</td>\n",
              "      <td>0</td>\n",
              "      <td>0</td>\n",
              "      <td>0</td>\n",
              "      <td>0</td>\n",
              "      <td>0</td>\n",
              "      <td>0</td>\n",
              "      <td>0</td>\n",
              "    </tr>\n",
              "  </tbody>\n",
              "</table>\n",
              "<p>5 rows × 84 columns</p>\n",
              "</div>\n",
              "      <button class=\"colab-df-convert\" onclick=\"convertToInteractive('df-f934da5b-6cc4-41a7-90a8-f568be8649ae')\"\n",
              "              title=\"Convert this dataframe to an interactive table.\"\n",
              "              style=\"display:none;\">\n",
              "        \n",
              "  <svg xmlns=\"http://www.w3.org/2000/svg\" height=\"24px\"viewBox=\"0 0 24 24\"\n",
              "       width=\"24px\">\n",
              "    <path d=\"M0 0h24v24H0V0z\" fill=\"none\"/>\n",
              "    <path d=\"M18.56 5.44l.94 2.06.94-2.06 2.06-.94-2.06-.94-.94-2.06-.94 2.06-2.06.94zm-11 1L8.5 8.5l.94-2.06 2.06-.94-2.06-.94L8.5 2.5l-.94 2.06-2.06.94zm10 10l.94 2.06.94-2.06 2.06-.94-2.06-.94-.94-2.06-.94 2.06-2.06.94z\"/><path d=\"M17.41 7.96l-1.37-1.37c-.4-.4-.92-.59-1.43-.59-.52 0-1.04.2-1.43.59L10.3 9.45l-7.72 7.72c-.78.78-.78 2.05 0 2.83L4 21.41c.39.39.9.59 1.41.59.51 0 1.02-.2 1.41-.59l7.78-7.78 2.81-2.81c.8-.78.8-2.07 0-2.86zM5.41 20L4 18.59l7.72-7.72 1.47 1.35L5.41 20z\"/>\n",
              "  </svg>\n",
              "      </button>\n",
              "      \n",
              "  <style>\n",
              "    .colab-df-container {\n",
              "      display:flex;\n",
              "      flex-wrap:wrap;\n",
              "      gap: 12px;\n",
              "    }\n",
              "\n",
              "    .colab-df-convert {\n",
              "      background-color: #E8F0FE;\n",
              "      border: none;\n",
              "      border-radius: 50%;\n",
              "      cursor: pointer;\n",
              "      display: none;\n",
              "      fill: #1967D2;\n",
              "      height: 32px;\n",
              "      padding: 0 0 0 0;\n",
              "      width: 32px;\n",
              "    }\n",
              "\n",
              "    .colab-df-convert:hover {\n",
              "      background-color: #E2EBFA;\n",
              "      box-shadow: 0px 1px 2px rgba(60, 64, 67, 0.3), 0px 1px 3px 1px rgba(60, 64, 67, 0.15);\n",
              "      fill: #174EA6;\n",
              "    }\n",
              "\n",
              "    [theme=dark] .colab-df-convert {\n",
              "      background-color: #3B4455;\n",
              "      fill: #D2E3FC;\n",
              "    }\n",
              "\n",
              "    [theme=dark] .colab-df-convert:hover {\n",
              "      background-color: #434B5C;\n",
              "      box-shadow: 0px 1px 3px 1px rgba(0, 0, 0, 0.15);\n",
              "      filter: drop-shadow(0px 1px 2px rgba(0, 0, 0, 0.3));\n",
              "      fill: #FFFFFF;\n",
              "    }\n",
              "  </style>\n",
              "\n",
              "      <script>\n",
              "        const buttonEl =\n",
              "          document.querySelector('#df-f934da5b-6cc4-41a7-90a8-f568be8649ae button.colab-df-convert');\n",
              "        buttonEl.style.display =\n",
              "          google.colab.kernel.accessAllowed ? 'block' : 'none';\n",
              "\n",
              "        async function convertToInteractive(key) {\n",
              "          const element = document.querySelector('#df-f934da5b-6cc4-41a7-90a8-f568be8649ae');\n",
              "          const dataTable =\n",
              "            await google.colab.kernel.invokeFunction('convertToInteractive',\n",
              "                                                     [key], {});\n",
              "          if (!dataTable) return;\n",
              "\n",
              "          const docLinkHtml = 'Like what you see? Visit the ' +\n",
              "            '<a target=\"_blank\" href=https://colab.research.google.com/notebooks/data_table.ipynb>data table notebook</a>'\n",
              "            + ' to learn more about interactive tables.';\n",
              "          element.innerHTML = '';\n",
              "          dataTable['output_type'] = 'display_data';\n",
              "          await google.colab.output.renderOutput(dataTable, element);\n",
              "          const docLink = document.createElement('div');\n",
              "          docLink.innerHTML = docLinkHtml;\n",
              "          element.appendChild(docLink);\n",
              "        }\n",
              "      </script>\n",
              "    </div>\n",
              "  </div>\n",
              "  "
            ]
          },
          "metadata": {},
          "execution_count": 31
        }
      ],
      "source": [
        "data.head()"
      ]
    },
    {
      "cell_type": "code",
      "execution_count": 31,
      "id": "2cc35b96",
      "metadata": {
        "id": "2cc35b96"
      },
      "outputs": [],
      "source": []
    },
    {
      "cell_type": "code",
      "execution_count": 32,
      "id": "1414e65b",
      "metadata": {
        "id": "1414e65b"
      },
      "outputs": [],
      "source": [
        "from sklearn.metrics import classification_report"
      ]
    },
    {
      "cell_type": "code",
      "execution_count": 34,
      "id": "48848676",
      "metadata": {
        "colab": {
          "base_uri": "https://localhost:8080/"
        },
        "id": "48848676",
        "outputId": "6a895d4e-cb60-4fdc-e84d-4720654e9f95"
      },
      "outputs": [
        {
          "output_type": "stream",
          "name": "stdout",
          "text": [
            "Looking in indexes: https://pypi.org/simple, https://us-python.pkg.dev/colab-wheels/public/simple/\n",
            "Collecting optuna\n",
            "  Downloading optuna-3.1.1-py3-none-any.whl (365 kB)\n",
            "\u001b[2K     \u001b[90m━━━━━━━━━━━━━━━━━━━━━━━━━━━━━━━━━━━━━━\u001b[0m \u001b[32m365.7/365.7 kB\u001b[0m \u001b[31m12.4 MB/s\u001b[0m eta \u001b[36m0:00:00\u001b[0m\n",
            "\u001b[?25hCollecting alembic>=1.5.0 (from optuna)\n",
            "  Downloading alembic-1.11.0-py3-none-any.whl (224 kB)\n",
            "\u001b[2K     \u001b[90m━━━━━━━━━━━━━━━━━━━━━━━━━━━━━━━━━━━━━━\u001b[0m \u001b[32m224.3/224.3 kB\u001b[0m \u001b[31m23.2 MB/s\u001b[0m eta \u001b[36m0:00:00\u001b[0m\n",
            "\u001b[?25hCollecting cmaes>=0.9.1 (from optuna)\n",
            "  Downloading cmaes-0.9.1-py3-none-any.whl (21 kB)\n",
            "Collecting colorlog (from optuna)\n",
            "  Downloading colorlog-6.7.0-py2.py3-none-any.whl (11 kB)\n",
            "Requirement already satisfied: numpy in /usr/local/lib/python3.10/dist-packages (from optuna) (1.22.4)\n",
            "Requirement already satisfied: packaging>=20.0 in /usr/local/lib/python3.10/dist-packages (from optuna) (23.1)\n",
            "Requirement already satisfied: sqlalchemy>=1.3.0 in /usr/local/lib/python3.10/dist-packages (from optuna) (2.0.10)\n",
            "Requirement already satisfied: tqdm in /usr/local/lib/python3.10/dist-packages (from optuna) (4.65.0)\n",
            "Requirement already satisfied: PyYAML in /usr/local/lib/python3.10/dist-packages (from optuna) (6.0)\n",
            "Collecting Mako (from alembic>=1.5.0->optuna)\n",
            "  Downloading Mako-1.2.4-py3-none-any.whl (78 kB)\n",
            "\u001b[2K     \u001b[90m━━━━━━━━━━━━━━━━━━━━━━━━━━━━━━━━━━━━━━━━\u001b[0m \u001b[32m78.7/78.7 kB\u001b[0m \u001b[31m10.0 MB/s\u001b[0m eta \u001b[36m0:00:00\u001b[0m\n",
            "\u001b[?25hRequirement already satisfied: typing-extensions>=4 in /usr/local/lib/python3.10/dist-packages (from alembic>=1.5.0->optuna) (4.5.0)\n",
            "Requirement already satisfied: greenlet!=0.4.17 in /usr/local/lib/python3.10/dist-packages (from sqlalchemy>=1.3.0->optuna) (2.0.2)\n",
            "Requirement already satisfied: MarkupSafe>=0.9.2 in /usr/local/lib/python3.10/dist-packages (from Mako->alembic>=1.5.0->optuna) (2.1.2)\n",
            "Installing collected packages: Mako, colorlog, cmaes, alembic, optuna\n",
            "Successfully installed Mako-1.2.4 alembic-1.11.0 cmaes-0.9.1 colorlog-6.7.0 optuna-3.1.1\n"
          ]
        }
      ],
      "source": [
        "pip install optuna"
      ]
    },
    {
      "cell_type": "code",
      "source": [
        "import optuna"
      ],
      "metadata": {
        "id": "2dFlP_r-32ww"
      },
      "id": "2dFlP_r-32ww",
      "execution_count": 35,
      "outputs": []
    },
    {
      "cell_type": "code",
      "execution_count": 36,
      "id": "78899bc5",
      "metadata": {
        "id": "78899bc5"
      },
      "outputs": [],
      "source": [
        "from optuna import visualization"
      ]
    },
    {
      "cell_type": "code",
      "execution_count": 37,
      "id": "b654f5e9",
      "metadata": {
        "id": "b654f5e9"
      },
      "outputs": [],
      "source": [
        "from optuna.samplers import TPESampler"
      ]
    },
    {
      "cell_type": "code",
      "execution_count": 38,
      "id": "ce8a8f82",
      "metadata": {
        "id": "ce8a8f82"
      },
      "outputs": [],
      "source": [
        "from xgboost import XGBClassifier\n",
        "from sklearn.model_selection import train_test_split\n",
        "from sklearn.metrics import roc_curve, roc_auc_score"
      ]
    },
    {
      "cell_type": "code",
      "execution_count": 39,
      "id": "989e36e0",
      "metadata": {
        "id": "989e36e0"
      },
      "outputs": [],
      "source": [
        "X_train, X_test, y_train, y_test = train_test_split(data, label1, test_size=0.2, random_state=101)\n",
        "\n",
        "# Define the objective function\n",
        "def objective(trial):\n",
        "    param = {\n",
        "        'n_estimators': trial.suggest_int('n_estimators', 50, 500),\n",
        "        'max_depth': trial.suggest_int('max_depth', 3, 10),\n",
        "        'reg_alpha': trial.suggest_float('reg_alpha', 1e-8, 1.0),\n",
        "        'reg_lambda': trial.suggest_float('reg_lambda', 1e-8, 1.0),\n",
        "        'min_child_weight': trial.suggest_int('min_child_weight', 0, 6),\n",
        "        'gamma': trial.suggest_float('gamma',1e-8, 1.0),\n",
        "        'learning_rate': trial.suggest_float('learning_rate', 0.01, 1),\n",
        "        'colsample_bytree': trial.suggest_float('colsample_bytree', 0.3, 0.8),\n",
        "        'subsample': trial.suggest_float('subsample', 0.3, 0.8),\n",
        "    }\n",
        "    \n",
        "    xgb = XGBClassifier(**param, missing= np.nan, tree_method=\"gpu_hist\")\n",
        "    #early_stopping_rounds=10,\n",
        "    \n",
        "    from sklearn.model_selection import cross_val_score\n",
        "    scores = cross_val_score(xgb, data, label1, cv=5, scoring='roc_auc')\n",
        "    AUC = np.mean(scores).max() #scores['test-AUC-mean'].max()\n",
        "    return AUC"
      ]
    },
    {
      "cell_type": "code",
      "execution_count": 40,
      "id": "4322f521",
      "metadata": {
        "colab": {
          "base_uri": "https://localhost:8080/",
          "height": 1000,
          "referenced_widgets": [
            "6fc73cfb4ff14358a6cd7b49d76f9611",
            "40ebb1e9484848908b9a01e362c8cd56",
            "60455cd64a914811802d0563369bccca",
            "ae161aaea5cc4c25bae2d02bd6b77a41",
            "b4ad8c32f95243e782ae0771eaf0c1ca",
            "62635c29cd384ed8b0a1a37a0e184970",
            "9a81331368fb4016bb443e614e7ad818",
            "09cf9fc9105c425eb71519545d8e1bf4",
            "2f9e20c1765246e5958253828bb30834",
            "4822b685ed8c4b21ac62d9560c6c157e",
            "957b8cfc899c42f595d6019e62ab9b43"
          ]
        },
        "id": "4322f521",
        "outputId": "84b5cd41-da83-4658-f31d-3a215fe2cb15"
      },
      "outputs": [
        {
          "output_type": "stream",
          "name": "stderr",
          "text": [
            "\u001b[32m[I 2023-05-17 04:10:11,880]\u001b[0m A new study created in memory with name: no-name-6f9959aa-210c-48bc-853c-29d8073fa8c6\u001b[0m\n",
            "/usr/local/lib/python3.10/dist-packages/optuna/progress_bar.py:56: ExperimentalWarning: Progress bar is experimental (supported from v1.2.0). The interface can change in the future.\n",
            "  self._init_valid()\n"
          ]
        },
        {
          "output_type": "display_data",
          "data": {
            "text/plain": [
              "  0%|          | 0/120 [00:00<?, ?it/s]"
            ],
            "application/vnd.jupyter.widget-view+json": {
              "version_major": 2,
              "version_minor": 0,
              "model_id": "6fc73cfb4ff14358a6cd7b49d76f9611"
            }
          },
          "metadata": {}
        },
        {
          "output_type": "stream",
          "name": "stdout",
          "text": [
            "\u001b[32m[I 2023-05-17 04:10:19,373]\u001b[0m Trial 0 finished with value: 0.7976663283966873 and parameters: {'n_estimators': 439, 'max_depth': 5, 'reg_alpha': 0.7742972518408309, 'reg_lambda': 0.7716217145278793, 'min_child_weight': 3, 'gamma': 0.3101211270135631, 'learning_rate': 0.6533876593228859, 'colsample_bytree': 0.4717209856198398, 'subsample': 0.4005588988526428}. Best is trial 0 with value: 0.7976663283966873.\u001b[0m\n",
            "\u001b[32m[I 2023-05-17 04:10:21,883]\u001b[0m Trial 1 finished with value: 0.8665487731235885 and parameters: {'n_estimators': 161, 'max_depth': 5, 'reg_alpha': 0.0807335051174954, 'reg_lambda': 0.6799602063870129, 'min_child_weight': 5, 'gamma': 0.12682035740537445, 'learning_rate': 0.1397401497698589, 'colsample_bytree': 0.4479696435961001, 'subsample': 0.3828870127878019}. Best is trial 1 with value: 0.8665487731235885.\u001b[0m\n",
            "\u001b[32m[I 2023-05-17 04:10:25,652]\u001b[0m Trial 2 finished with value: 0.7966175461177494 and parameters: {'n_estimators': 209, 'max_depth': 5, 'reg_alpha': 0.9816550997092218, 'reg_lambda': 0.6062750567870897, 'min_child_weight': 5, 'gamma': 0.3246716897326398, 'learning_rate': 0.9005483255542092, 'colsample_bytree': 0.6890017452637643, 'subsample': 0.45675913180482847}. Best is trial 1 with value: 0.8665487731235885.\u001b[0m\n",
            "\u001b[32m[I 2023-05-17 04:10:33,014]\u001b[0m Trial 3 finished with value: 0.7992630381251361 and parameters: {'n_estimators': 441, 'max_depth': 9, 'reg_alpha': 0.22587642566835223, 'reg_lambda': 0.7394566039330167, 'min_child_weight': 4, 'gamma': 0.26910051589751854, 'learning_rate': 0.9640914060228926, 'colsample_bytree': 0.6061857626842602, 'subsample': 0.6953165533446517}. Best is trial 1 with value: 0.8665487731235885.\u001b[0m\n",
            "\u001b[32m[I 2023-05-17 04:10:40,213]\u001b[0m Trial 4 finished with value: 0.7985897139523103 and parameters: {'n_estimators': 155, 'max_depth': 10, 'reg_alpha': 0.43462333794281693, 'reg_lambda': 0.547776387183991, 'min_child_weight': 5, 'gamma': 0.3574781046577314, 'learning_rate': 0.6234311649277038, 'colsample_bytree': 0.5972483648789026, 'subsample': 0.4772366116565743}. Best is trial 1 with value: 0.8665487731235885.\u001b[0m\n",
            "\u001b[32m[I 2023-05-17 04:10:48,782]\u001b[0m Trial 5 finished with value: 0.8544476591866825 and parameters: {'n_estimators': 411, 'max_depth': 7, 'reg_alpha': 0.8012196455957072, 'reg_lambda': 0.9895282668612009, 'min_child_weight': 1, 'gamma': 0.4030294996137771, 'learning_rate': 0.12081986847578732, 'colsample_bytree': 0.5168010383019338, 'subsample': 0.5314375101163404}. Best is trial 1 with value: 0.8665487731235885.\u001b[0m\n",
            "\u001b[32m[I 2023-05-17 04:10:54,113]\u001b[0m Trial 6 finished with value: 0.870343668489468 and parameters: {'n_estimators': 281, 'max_depth': 6, 'reg_alpha': 0.06617180527427402, 'reg_lambda': 0.512956963187752, 'min_child_weight': 1, 'gamma': 0.1200732598251622, 'learning_rate': 0.04004566185322425, 'colsample_bytree': 0.5250334971392853, 'subsample': 0.7834892310028222}. Best is trial 6 with value: 0.870343668489468.\u001b[0m\n",
            "\u001b[32m[I 2023-05-17 04:10:57,227]\u001b[0m Trial 7 finished with value: 0.7981639324327351 and parameters: {'n_estimators': 144, 'max_depth': 7, 'reg_alpha': 0.18563283560980023, 'reg_lambda': 0.7983934264817689, 'min_child_weight': 3, 'gamma': 0.052057633446838406, 'learning_rate': 0.8421149957319064, 'colsample_bytree': 0.3667318785404398, 'subsample': 0.542677811349477}. Best is trial 6 with value: 0.870343668489468.\u001b[0m\n",
            "\u001b[32m[I 2023-05-17 04:11:03,119]\u001b[0m Trial 8 finished with value: 0.7797660497197649 and parameters: {'n_estimators': 200, 'max_depth': 10, 'reg_alpha': 0.39951293815721317, 'reg_lambda': 0.07403634610646949, 'min_child_weight': 2, 'gamma': 0.027237173618201653, 'learning_rate': 0.9204481879710402, 'colsample_bytree': 0.6733322303246039, 'subsample': 0.5263102532530766}. Best is trial 6 with value: 0.870343668489468.\u001b[0m\n",
            "\u001b[32m[I 2023-05-17 04:11:05,500]\u001b[0m Trial 9 finished with value: 0.8667352187991696 and parameters: {'n_estimators': 50, 'max_depth': 6, 'reg_alpha': 0.5486550366485053, 'reg_lambda': 0.45862264318763285, 'min_child_weight': 5, 'gamma': 0.52888619864319, 'learning_rate': 0.09261075790567964, 'colsample_bytree': 0.5175856817200328, 'subsample': 0.4096870986661093}. Best is trial 6 with value: 0.870343668489468.\u001b[0m\n",
            "\u001b[32m[I 2023-05-17 04:11:08,823]\u001b[0m Trial 10 finished with value: 0.8594995276856572 and parameters: {'n_estimators': 328, 'max_depth': 3, 'reg_alpha': 0.0036759019895317713, 'reg_lambda': 0.35903052293380644, 'min_child_weight': 0, 'gamma': 0.7462753316421092, 'learning_rate': 0.32611941608750905, 'colsample_bytree': 0.7364549950969015, 'subsample': 0.7801439870345858}. Best is trial 6 with value: 0.870343668489468.\u001b[0m\n",
            "\u001b[32m[I 2023-05-17 04:11:10,785]\u001b[0m Trial 11 finished with value: 0.8660871619299526 and parameters: {'n_estimators': 60, 'max_depth': 6, 'reg_alpha': 0.5464584796586787, 'reg_lambda': 0.38560506510828046, 'min_child_weight': 0, 'gamma': 0.6064054984909605, 'learning_rate': 0.06893743581162379, 'colsample_bytree': 0.5568276905625913, 'subsample': 0.3134059325465774}. Best is trial 6 with value: 0.870343668489468.\u001b[0m\n",
            "\u001b[32m[I 2023-05-17 04:11:18,274]\u001b[0m Trial 12 finished with value: 0.8712452848649835 and parameters: {'n_estimators': 334, 'max_depth': 8, 'reg_alpha': 0.24621091272851697, 'reg_lambda': 0.3884330601893137, 'min_child_weight': 6, 'gamma': 0.5635839095739783, 'learning_rate': 0.02719256967507605, 'colsample_bytree': 0.40807505599589033, 'subsample': 0.6398501800616354}. Best is trial 12 with value: 0.8712452848649835.\u001b[0m\n",
            "\u001b[32m[I 2023-05-17 04:11:23,232]\u001b[0m Trial 13 finished with value: 0.8476918358143782 and parameters: {'n_estimators': 327, 'max_depth': 8, 'reg_alpha': 0.23492336790941556, 'reg_lambda': 0.2076326686896923, 'min_child_weight': 6, 'gamma': 0.985016009550022, 'learning_rate': 0.2866031918571159, 'colsample_bytree': 0.3062233393200062, 'subsample': 0.6480960820270321}. Best is trial 12 with value: 0.8712452848649835.\u001b[0m\n",
            "\u001b[32m[I 2023-05-17 04:11:30,127]\u001b[0m Trial 14 finished with value: 0.8389142872979407 and parameters: {'n_estimators': 293, 'max_depth': 8, 'reg_alpha': 0.10487332031145165, 'reg_lambda': 0.26991388124775895, 'min_child_weight': 2, 'gamma': 0.18065767715236575, 'learning_rate': 0.28437179244650723, 'colsample_bytree': 0.4149563375545058, 'subsample': 0.7948219589404748}. Best is trial 12 with value: 0.8712452848649835.\u001b[0m\n",
            "\u001b[32m[I 2023-05-17 04:11:33,570]\u001b[0m Trial 15 finished with value: 0.8673338376870566 and parameters: {'n_estimators': 378, 'max_depth': 3, 'reg_alpha': 0.30348286257465695, 'reg_lambda': 0.48938889272148456, 'min_child_weight': 1, 'gamma': 0.21032065272185152, 'learning_rate': 0.024206388783767796, 'colsample_bytree': 0.39191283627006446, 'subsample': 0.6389393482674557}. Best is trial 12 with value: 0.8712452848649835.\u001b[0m\n",
            "\u001b[32m[I 2023-05-17 04:11:39,947]\u001b[0m Trial 16 finished with value: 0.8488679583923547 and parameters: {'n_estimators': 241, 'max_depth': 8, 'reg_alpha': 0.054834086467544174, 'reg_lambda': 0.39628228531205345, 'min_child_weight': 6, 'gamma': 0.44424881729897153, 'learning_rate': 0.2153338046819382, 'colsample_bytree': 0.46985653595661103, 'subsample': 0.725395576203933}. Best is trial 12 with value: 0.8712452848649835.\u001b[0m\n",
            "\u001b[32m[I 2023-05-17 04:11:45,034]\u001b[0m Trial 17 finished with value: 0.866746359052222 and parameters: {'n_estimators': 371, 'max_depth': 4, 'reg_alpha': 0.1559868715206802, 'reg_lambda': 0.5701208020446423, 'min_child_weight': 2, 'gamma': 0.59344998921775, 'learning_rate': 0.013534441305550274, 'colsample_bytree': 0.7864597116631781, 'subsample': 0.6019736477642166}. Best is trial 12 with value: 0.8712452848649835.\u001b[0m\n",
            "\u001b[32m[I 2023-05-17 04:11:52,121]\u001b[0m Trial 18 finished with value: 0.8268111252569798 and parameters: {'n_estimators': 279, 'max_depth': 9, 'reg_alpha': 0.004483946881845113, 'reg_lambda': 0.27643374827946426, 'min_child_weight': 3, 'gamma': 0.0059715575683068345, 'learning_rate': 0.40012320570652343, 'colsample_bytree': 0.3413537431563193, 'subsample': 0.7418387404912118}. Best is trial 12 with value: 0.8712452848649835.\u001b[0m\n",
            "\u001b[32m[I 2023-05-17 04:12:01,055]\u001b[0m Trial 19 finished with value: 0.8404715961406837 and parameters: {'n_estimators': 487, 'max_depth': 7, 'reg_alpha': 0.2666622059752696, 'reg_lambda': 0.05939956589734796, 'min_child_weight': 1, 'gamma': 0.160912933952781, 'learning_rate': 0.20325781204299265, 'colsample_bytree': 0.40409581947432055, 'subsample': 0.6809189906892902}. Best is trial 12 with value: 0.8712452848649835.\u001b[0m\n",
            "\u001b[32m[I 2023-05-17 04:12:06,878]\u001b[0m Trial 20 finished with value: 0.8220795785570829 and parameters: {'n_estimators': 347, 'max_depth': 6, 'reg_alpha': 0.12462547444506966, 'reg_lambda': 0.17266726238091973, 'min_child_weight': 4, 'gamma': 0.45344111645650725, 'learning_rate': 0.45802431268667765, 'colsample_bytree': 0.4476280558271839, 'subsample': 0.5907653535552024}. Best is trial 12 with value: 0.8712452848649835.\u001b[0m\n",
            "\u001b[32m[I 2023-05-17 04:12:10,403]\u001b[0m Trial 21 finished with value: 0.8694404489460823 and parameters: {'n_estimators': 386, 'max_depth': 3, 'reg_alpha': 0.3089028973543001, 'reg_lambda': 0.5122092813355438, 'min_child_weight': 1, 'gamma': 0.23363744281457283, 'learning_rate': 0.040988147305552745, 'colsample_bytree': 0.3859808690701503, 'subsample': 0.6456861886789731}. Best is trial 12 with value: 0.8712452848649835.\u001b[0m\n",
            "\u001b[32m[I 2023-05-17 04:12:13,832]\u001b[0m Trial 22 finished with value: 0.8668624062778341 and parameters: {'n_estimators': 297, 'max_depth': 4, 'reg_alpha': 0.3329338319651946, 'reg_lambda': 0.4703296121445058, 'min_child_weight': 0, 'gamma': 0.2584195984317424, 'learning_rate': 0.020130471483821563, 'colsample_bytree': 0.3454465621219326, 'subsample': 0.7311253785559007}. Best is trial 12 with value: 0.8712452848649835.\u001b[0m\n",
            "\u001b[32m[I 2023-05-17 04:12:18,425]\u001b[0m Trial 23 finished with value: 0.8625479720879671 and parameters: {'n_estimators': 388, 'max_depth': 4, 'reg_alpha': 0.1946596310875155, 'reg_lambda': 0.538764407069042, 'min_child_weight': 1, 'gamma': 0.10471146821724012, 'learning_rate': 0.15816334232377316, 'colsample_bytree': 0.42099947419899464, 'subsample': 0.6583937635468511}. Best is trial 12 with value: 0.8712452848649835.\u001b[0m\n",
            "\u001b[32m[I 2023-05-17 04:12:25,104]\u001b[0m Trial 24 finished with value: 0.8455676683174703 and parameters: {'n_estimators': 242, 'max_depth': 9, 'reg_alpha': 0.3400738974813134, 'reg_lambda': 0.6296532404496469, 'min_child_weight': 2, 'gamma': 0.0946150473891381, 'learning_rate': 0.18979228238317417, 'colsample_bytree': 0.483024307399458, 'subsample': 0.6198534420256491}. Best is trial 12 with value: 0.8712452848649835.\u001b[0m\n",
            "\u001b[32m[I 2023-05-17 04:12:28,314]\u001b[0m Trial 25 finished with value: 0.8697401530104132 and parameters: {'n_estimators': 339, 'max_depth': 3, 'reg_alpha': 0.13797692783989593, 'reg_lambda': 0.42903151449721894, 'min_child_weight': 4, 'gamma': 0.21339950118232298, 'learning_rate': 0.09905157235092077, 'colsample_bytree': 0.3864264407844261, 'subsample': 0.5818309970507379}. Best is trial 12 with value: 0.8712452848649835.\u001b[0m\n",
            "\u001b[32m[I 2023-05-17 04:12:34,454]\u001b[0m Trial 26 finished with value: 0.8626695308711387 and parameters: {'n_estimators': 247, 'max_depth': 8, 'reg_alpha': 0.10838481569964102, 'reg_lambda': 0.3353930624329131, 'min_child_weight': 4, 'gamma': 0.18674795993211377, 'learning_rate': 0.1065042104442942, 'colsample_bytree': 0.3161179193992971, 'subsample': 0.5920236822629369}. Best is trial 12 with value: 0.8712452848649835.\u001b[0m\n",
            "\u001b[32m[I 2023-05-17 04:12:39,618]\u001b[0m Trial 27 finished with value: 0.8459368853967917 and parameters: {'n_estimators': 321, 'max_depth': 7, 'reg_alpha': 0.15973607878650725, 'reg_lambda': 0.44315460547412483, 'min_child_weight': 6, 'gamma': 0.3629296487323995, 'learning_rate': 0.2357961550671159, 'colsample_bytree': 0.36717659560942045, 'subsample': 0.5732137900843668}. Best is trial 12 with value: 0.8712452848649835.\u001b[0m\n",
            "\u001b[32m[I 2023-05-17 04:12:43,811]\u001b[0m Trial 28 finished with value: 0.8670888357482424 and parameters: {'n_estimators': 263, 'max_depth': 5, 'reg_alpha': 0.06062243303152895, 'reg_lambda': 0.3193981207863076, 'min_child_weight': 4, 'gamma': 0.000856192063231842, 'learning_rate': 0.12062620988948729, 'colsample_bytree': 0.43027190299505524, 'subsample': 0.6940041268231283}. Best is trial 12 with value: 0.8712452848649835.\u001b[0m\n",
            "\u001b[32m[I 2023-05-17 04:12:49,163]\u001b[0m Trial 29 finished with value: 0.840615734661778 and parameters: {'n_estimators': 439, 'max_depth': 5, 'reg_alpha': 0.20126656730021347, 'reg_lambda': 0.42811705576640074, 'min_child_weight': 3, 'gamma': 0.31747598462777804, 'learning_rate': 0.33849559458381906, 'colsample_bytree': 0.4840171261534507, 'subsample': 0.7809879542819675}. Best is trial 12 with value: 0.8712452848649835.\u001b[0m\n",
            "\u001b[32m[I 2023-05-17 04:12:52,888]\u001b[0m Trial 30 finished with value: 0.8708448544614779 and parameters: {'n_estimators': 353, 'max_depth': 4, 'reg_alpha': 0.2509716284565924, 'reg_lambda': 0.3906189570268985, 'min_child_weight': 6, 'gamma': 0.2744440609023865, 'learning_rate': 0.07194662672624363, 'colsample_bytree': 0.4501433559084406, 'subsample': 0.7592877517677666}. Best is trial 12 with value: 0.8712452848649835.\u001b[0m\n",
            "\u001b[32m[I 2023-05-17 04:12:57,614]\u001b[0m Trial 31 finished with value: 0.870158973332142 and parameters: {'n_estimators': 356, 'max_depth': 4, 'reg_alpha': 0.2587609372900869, 'reg_lambda': 0.4050907160065988, 'min_child_weight': 6, 'gamma': 0.26219603728578117, 'learning_rate': 0.08308700436229195, 'colsample_bytree': 0.4532466275964995, 'subsample': 0.7365434567954674}. Best is trial 12 with value: 0.8712452848649835.\u001b[0m\n",
            "\u001b[32m[I 2023-05-17 04:13:01,903]\u001b[0m Trial 32 finished with value: 0.864685906561377 and parameters: {'n_estimators': 424, 'max_depth': 4, 'reg_alpha': 0.2482174715261618, 'reg_lambda': 0.34544491047362186, 'min_child_weight': 6, 'gamma': 0.28137422354358943, 'learning_rate': 0.1591354490304264, 'colsample_bytree': 0.4515112437079656, 'subsample': 0.7666868347044977}. Best is trial 12 with value: 0.8712452848649835.\u001b[0m\n",
            "\u001b[32m[I 2023-05-17 04:13:05,233]\u001b[0m Trial 33 finished with value: 0.8711735898350798 and parameters: {'n_estimators': 303, 'max_depth': 4, 'reg_alpha': 0.3943564711960108, 'reg_lambda': 0.39692120056254554, 'min_child_weight': 5, 'gamma': 0.11452770736701717, 'learning_rate': 0.06675384857074036, 'colsample_bytree': 0.5054413871345235, 'subsample': 0.7574843245881169}. Best is trial 12 with value: 0.8712452848649835.\u001b[0m\n",
            "\u001b[32m[I 2023-05-17 04:13:10,055]\u001b[0m Trial 34 finished with value: 0.8617199430104922 and parameters: {'n_estimators': 307, 'max_depth': 5, 'reg_alpha': 0.40500967215597694, 'reg_lambda': 0.5103687397541982, 'min_child_weight': 5, 'gamma': 0.11822728225346048, 'learning_rate': 0.17290466183991385, 'colsample_bytree': 0.502442819404437, 'subsample': 0.7575461695179571}. Best is trial 12 with value: 0.8712452848649835.\u001b[0m\n",
            "\u001b[32m[I 2023-05-17 04:13:13,552]\u001b[0m Trial 35 finished with value: 0.865716929257897 and parameters: {'n_estimators': 193, 'max_depth': 6, 'reg_alpha': 0.39359969280411894, 'reg_lambda': 0.5786363489801551, 'min_child_weight': 5, 'gamma': 0.13124666764336487, 'learning_rate': 0.012742072308869604, 'colsample_bytree': 0.5533647296536262, 'subsample': 0.7964127271055761}. Best is trial 12 with value: 0.8712452848649835.\u001b[0m\n",
            "\u001b[32m[I 2023-05-17 04:13:16,666]\u001b[0m Trial 36 finished with value: 0.8713088935061426 and parameters: {'n_estimators': 273, 'max_depth': 4, 'reg_alpha': 0.45438154161331773, 'reg_lambda': 0.6291899008197411, 'min_child_weight': 6, 'gamma': 0.07163618120980139, 'learning_rate': 0.07085063542878545, 'colsample_bytree': 0.5282004897846732, 'subsample': 0.7041930466840322}. Best is trial 36 with value: 0.8713088935061426.\u001b[0m\n",
            "\u001b[32m[I 2023-05-17 04:13:20,424]\u001b[0m Trial 37 finished with value: 0.868215926929633 and parameters: {'n_estimators': 227, 'max_depth': 5, 'reg_alpha': 0.45842109246220153, 'reg_lambda': 0.6522266920300146, 'min_child_weight': 6, 'gamma': 0.055489685115110106, 'learning_rate': 0.1354780273206704, 'colsample_bytree': 0.49281886727086743, 'subsample': 0.7057714355065269}. Best is trial 36 with value: 0.8713088935061426.\u001b[0m\n",
            "\u001b[32m[I 2023-05-17 04:13:25,434]\u001b[0m Trial 38 finished with value: 0.8545451486198721 and parameters: {'n_estimators': 472, 'max_depth': 4, 'reg_alpha': 0.49038014623164844, 'reg_lambda': 0.7158843922403244, 'min_child_weight': 5, 'gamma': 0.3146993160173558, 'learning_rate': 0.24897320283061955, 'colsample_bytree': 0.582446627615144, 'subsample': 0.7084056494705244}. Best is trial 36 with value: 0.8713088935061426.\u001b[0m\n",
            "\u001b[32m[I 2023-05-17 04:13:27,552]\u001b[0m Trial 39 finished with value: 0.8691191769306117 and parameters: {'n_estimators': 174, 'max_depth': 3, 'reg_alpha': 0.36287573956369784, 'reg_lambda': 0.6070026033148062, 'min_child_weight': 6, 'gamma': 0.06369282402876557, 'learning_rate': 0.07367838972357338, 'colsample_bytree': 0.5482487538520212, 'subsample': 0.6843154010280128}. Best is trial 36 with value: 0.8713088935061426.\u001b[0m\n",
            "\u001b[32m[I 2023-05-17 04:13:32,893]\u001b[0m Trial 40 finished with value: 0.8605409315689692 and parameters: {'n_estimators': 402, 'max_depth': 5, 'reg_alpha': 0.44261311109134605, 'reg_lambda': 0.6911851314794241, 'min_child_weight': 5, 'gamma': 0.14574932114260916, 'learning_rate': 0.15219231159643748, 'colsample_bytree': 0.46740829677007695, 'subsample': 0.7550383272182637}. Best is trial 36 with value: 0.8713088935061426.\u001b[0m\n",
            "\u001b[32m[I 2023-05-17 04:13:36,305]\u001b[0m Trial 41 finished with value: 0.8712548861185028 and parameters: {'n_estimators': 270, 'max_depth': 4, 'reg_alpha': 0.28986199371725063, 'reg_lambda': 0.47621781494583737, 'min_child_weight': 6, 'gamma': 0.06974787793753709, 'learning_rate': 0.06374304499532693, 'colsample_bytree': 0.5184893609657434, 'subsample': 0.7624712341114961}. Best is trial 36 with value: 0.8713088935061426.\u001b[0m\n",
            "\u001b[32m[I 2023-05-17 04:13:39,350]\u001b[0m Trial 42 finished with value: 0.8709935597174058 and parameters: {'n_estimators': 259, 'max_depth': 4, 'reg_alpha': 0.30431266651174793, 'reg_lambda': 0.5512862900509472, 'min_child_weight': 6, 'gamma': 0.07566187356834488, 'learning_rate': 0.07057763564477405, 'colsample_bytree': 0.5205742136930085, 'subsample': 0.7211205808845922}. Best is trial 36 with value: 0.8713088935061426.\u001b[0m\n",
            "\u001b[32m[I 2023-05-17 04:13:42,346]\u001b[0m Trial 43 finished with value: 0.8695834256963375 and parameters: {'n_estimators': 258, 'max_depth': 4, 'reg_alpha': 0.3582980715628624, 'reg_lambda': 0.541743563385734, 'min_child_weight': 6, 'gamma': 0.04367573017838632, 'learning_rate': 0.12155562972070534, 'colsample_bytree': 0.5275822197523181, 'subsample': 0.7173380793601231}. Best is trial 36 with value: 0.8713088935061426.\u001b[0m\n",
            "\u001b[32m[I 2023-05-17 04:13:45,803]\u001b[0m Trial 44 finished with value: 0.8688001096893332 and parameters: {'n_estimators': 211, 'max_depth': 3, 'reg_alpha': 0.5537856151123504, 'reg_lambda': 0.4703611017386313, 'min_child_weight': 5, 'gamma': 0.08090196478402757, 'learning_rate': 0.05438160356522115, 'colsample_bytree': 0.5154726212419825, 'subsample': 0.6633862721783903}. Best is trial 36 with value: 0.8713088935061426.\u001b[0m\n",
            "\u001b[32m[I 2023-05-17 04:13:52,576]\u001b[0m Trial 45 finished with value: 0.8645036477542071 and parameters: {'n_estimators': 274, 'max_depth': 9, 'reg_alpha': 0.2876382381523728, 'reg_lambda': 0.5928591158300708, 'min_child_weight': 5, 'gamma': 0.15502353777243122, 'learning_rate': 0.06690916934166748, 'colsample_bytree': 0.619872568635716, 'subsample': 0.6854388534291205}. Best is trial 36 with value: 0.8713088935061426.\u001b[0m\n",
            "\u001b[32m[I 2023-05-17 04:13:56,765]\u001b[0m Trial 46 finished with value: 0.8604326612672242 and parameters: {'n_estimators': 308, 'max_depth': 5, 'reg_alpha': 0.3050841008147506, 'reg_lambda': 0.7731174500305572, 'min_child_weight': 6, 'gamma': 0.07697501949960105, 'learning_rate': 0.18831285615252302, 'colsample_bytree': 0.5002139040948945, 'subsample': 0.7125076648532973}. Best is trial 36 with value: 0.8713088935061426.\u001b[0m\n",
            "\u001b[32m[I 2023-05-17 04:13:59,379]\u001b[0m Trial 47 finished with value: 0.8700601341125257 and parameters: {'n_estimators': 101, 'max_depth': 4, 'reg_alpha': 0.3937808529366733, 'reg_lambda': 0.6628392327667385, 'min_child_weight': 6, 'gamma': 0.011050381425772901, 'learning_rate': 0.12698382553981769, 'colsample_bytree': 0.5316319257774968, 'subsample': 0.7407371753598689}. Best is trial 36 with value: 0.8713088935061426.\u001b[0m\n",
            "\u001b[32m[I 2023-05-17 04:14:05,886]\u001b[0m Trial 48 finished with value: 0.86730976883073 and parameters: {'n_estimators': 221, 'max_depth': 10, 'reg_alpha': 0.48691048840464085, 'reg_lambda': 0.4962810754520823, 'min_child_weight': 5, 'gamma': 0.10337437961349963, 'learning_rate': 0.05828621618994962, 'colsample_bytree': 0.5752301291699196, 'subsample': 0.6689069589480064}. Best is trial 36 with value: 0.8713088935061426.\u001b[0m\n",
            "\u001b[32m[I 2023-05-17 04:14:08,963]\u001b[0m Trial 49 finished with value: 0.8598190638418632 and parameters: {'n_estimators': 287, 'max_depth': 3, 'reg_alpha': 0.5334127450038334, 'reg_lambda': 0.5471536786183979, 'min_child_weight': 6, 'gamma': 0.04201897256871667, 'learning_rate': 0.013543424293227295, 'colsample_bytree': 0.6187051303334541, 'subsample': 0.768620137668638}. Best is trial 36 with value: 0.8713088935061426.\u001b[0m\n",
            "\u001b[32m[I 2023-05-17 04:14:14,238]\u001b[0m Trial 50 finished with value: 0.8482041279585472 and parameters: {'n_estimators': 315, 'max_depth': 6, 'reg_alpha': 0.20844091214499613, 'reg_lambda': 0.45535170124385704, 'min_child_weight': 5, 'gamma': 0.18810909133943932, 'learning_rate': 0.23289791193305506, 'colsample_bytree': 0.5424342731690986, 'subsample': 0.7035280683894686}. Best is trial 36 with value: 0.8713088935061426.\u001b[0m\n",
            "\u001b[32m[I 2023-05-17 04:14:17,999]\u001b[0m Trial 51 finished with value: 0.869508314291225 and parameters: {'n_estimators': 360, 'max_depth': 4, 'reg_alpha': 0.23374131841830392, 'reg_lambda': 0.3817090869572486, 'min_child_weight': 6, 'gamma': 0.14707262242810293, 'learning_rate': 0.09513215330154288, 'colsample_bytree': 0.5061792873470442, 'subsample': 0.7514242077467875}. Best is trial 36 with value: 0.8713088935061426.\u001b[0m\n",
            "\u001b[32m[I 2023-05-17 04:14:22,196]\u001b[0m Trial 52 finished with value: 0.8712019573174405 and parameters: {'n_estimators': 336, 'max_depth': 4, 'reg_alpha': 0.2817323533974791, 'reg_lambda': 0.40769004689201793, 'min_child_weight': 6, 'gamma': 0.22154937965638696, 'learning_rate': 0.0619302802467543, 'colsample_bytree': 0.4707213354742389, 'subsample': 0.7974421637380551}. Best is trial 36 with value: 0.8713088935061426.\u001b[0m\n",
            "\u001b[32m[I 2023-05-17 04:14:25,754]\u001b[0m Trial 53 finished with value: 0.8680339773865379 and parameters: {'n_estimators': 263, 'max_depth': 4, 'reg_alpha': 0.2904773040703106, 'reg_lambda': 0.4303147244769493, 'min_child_weight': 6, 'gamma': 0.08150397125145409, 'learning_rate': 0.14453963091885813, 'colsample_bytree': 0.48023747047771553, 'subsample': 0.7898749593421588}. Best is trial 36 with value: 0.8713088935061426.\u001b[0m\n",
            "\u001b[32m[I 2023-05-17 04:14:29,486]\u001b[0m Trial 54 finished with value: 0.8714486247717492 and parameters: {'n_estimators': 292, 'max_depth': 5, 'reg_alpha': 0.3682119255804407, 'reg_lambda': 0.5058946290526163, 'min_child_weight': 6, 'gamma': 0.037752063684680516, 'learning_rate': 0.0527790241321488, 'colsample_bytree': 0.5098765676492455, 'subsample': 0.7330789271387069}. Best is trial 54 with value: 0.8714486247717492.\u001b[0m\n",
            "\u001b[32m[I 2023-05-17 04:14:33,837]\u001b[0m Trial 55 finished with value: 0.8716643310927535 and parameters: {'n_estimators': 336, 'max_depth': 5, 'reg_alpha': 0.366056740782075, 'reg_lambda': 0.47776316002838193, 'min_child_weight': 6, 'gamma': 0.02804527907938506, 'learning_rate': 0.043705825154739864, 'colsample_bytree': 0.4284337666784514, 'subsample': 0.7825323079323031}. Best is trial 55 with value: 0.8716643310927535.\u001b[0m\n",
            "\u001b[32m[I 2023-05-17 04:14:40,200]\u001b[0m Trial 56 finished with value: 0.8703180947604998 and parameters: {'n_estimators': 335, 'max_depth': 7, 'reg_alpha': 0.33870715677998015, 'reg_lambda': 0.4890488291258958, 'min_child_weight': 6, 'gamma': 0.03212698865305262, 'learning_rate': 0.03868171630717645, 'colsample_bytree': 0.4293324310907486, 'subsample': 0.7769930775112983}. Best is trial 55 with value: 0.8716643310927535.\u001b[0m\n",
            "\u001b[32m[I 2023-05-17 04:14:44,282]\u001b[0m Trial 57 finished with value: 0.8617583277690001 and parameters: {'n_estimators': 328, 'max_depth': 5, 'reg_alpha': 0.16543852773731615, 'reg_lambda': 0.6048023037739689, 'min_child_weight': 6, 'gamma': 0.004875976892358289, 'learning_rate': 0.17542292573678236, 'colsample_bytree': 0.4692339587609681, 'subsample': 0.7989615288902905}. Best is trial 55 with value: 0.8716643310927535.\u001b[0m\n",
            "\u001b[32m[I 2023-05-17 04:14:49,566]\u001b[0m Trial 58 finished with value: 0.8670355155892437 and parameters: {'n_estimators': 374, 'max_depth': 5, 'reg_alpha': 0.43204325790099857, 'reg_lambda': 0.5299427734518052, 'min_child_weight': 6, 'gamma': 0.18459713732900962, 'learning_rate': 0.10793561463607806, 'colsample_bytree': 0.4046309005667521, 'subsample': 0.7362384724408408}. Best is trial 55 with value: 0.8716643310927535.\u001b[0m\n",
            "\u001b[32m[I 2023-05-17 04:14:54,120]\u001b[0m Trial 59 finished with value: 0.8663850135318395 and parameters: {'n_estimators': 285, 'max_depth': 6, 'reg_alpha': 0.21559151118893477, 'reg_lambda': 0.4743928911238977, 'min_child_weight': 5, 'gamma': 0.04145672869300644, 'learning_rate': 0.010980378968828704, 'colsample_bytree': 0.43959475728004554, 'subsample': 0.7733548627400391}. Best is trial 55 with value: 0.8716643310927535.\u001b[0m\n",
            "\u001b[32m[I 2023-05-17 04:15:00,354]\u001b[0m Trial 60 finished with value: 0.8504632264233136 and parameters: {'n_estimators': 406, 'max_depth': 6, 'reg_alpha': 0.2730321173212909, 'reg_lambda': 0.29970124414096266, 'min_child_weight': 6, 'gamma': 0.23319702754845026, 'learning_rate': 0.20410497693755233, 'colsample_bytree': 0.4671359896771748, 'subsample': 0.7314511061664297}. Best is trial 55 with value: 0.8716643310927535.\u001b[0m\n",
            "\u001b[32m[I 2023-05-17 04:15:03,327]\u001b[0m Trial 61 finished with value: 0.8694723144277008 and parameters: {'n_estimators': 303, 'max_depth': 3, 'reg_alpha': 0.3848205278403255, 'reg_lambda': 0.4109193919640048, 'min_child_weight': 5, 'gamma': 0.12480733378168932, 'learning_rate': 0.043468843942613196, 'colsample_bytree': 0.4976178181981599, 'subsample': 0.7513020761871453}. Best is trial 55 with value: 0.8716643310927535.\u001b[0m\n",
            "\u001b[32m[I 2023-05-17 04:15:07,015]\u001b[0m Trial 62 finished with value: 0.869633069209719 and parameters: {'n_estimators': 293, 'max_depth': 5, 'reg_alpha': 0.34668103573200965, 'reg_lambda': 0.3639564669453573, 'min_child_weight': 6, 'gamma': 0.1341963081384876, 'learning_rate': 0.08409679809895365, 'colsample_bytree': 0.4181616283363805, 'subsample': 0.7764886079630944}. Best is trial 55 with value: 0.8716643310927535.\u001b[0m\n",
            "\u001b[32m[I 2023-05-17 04:15:10,996]\u001b[0m Trial 63 finished with value: 0.8683386109094723 and parameters: {'n_estimators': 343, 'max_depth': 4, 'reg_alpha': 0.3148657773471596, 'reg_lambda': 0.3710995860404378, 'min_child_weight': 5, 'gamma': 0.10426169161566212, 'learning_rate': 0.12275991898742256, 'colsample_bytree': 0.5110968335121899, 'subsample': 0.7963702638701563}. Best is trial 55 with value: 0.8716643310927535.\u001b[0m\n",
            "\u001b[32m[I 2023-05-17 04:15:15,621]\u001b[0m Trial 64 finished with value: 0.8715405329214818 and parameters: {'n_estimators': 322, 'max_depth': 5, 'reg_alpha': 0.32946931647030847, 'reg_lambda': 0.4550457074753455, 'min_child_weight': 6, 'gamma': 0.03348476650483548, 'learning_rate': 0.04633311540320695, 'colsample_bytree': 0.487336725577386, 'subsample': 0.7228393271005471}. Best is trial 55 with value: 0.8716643310927535.\u001b[0m\n",
            "\u001b[32m[I 2023-05-17 04:15:19,656]\u001b[0m Trial 65 finished with value: 0.8717247024111211 and parameters: {'n_estimators': 322, 'max_depth': 5, 'reg_alpha': 0.2661020791360611, 'reg_lambda': 0.45447767569725095, 'min_child_weight': 6, 'gamma': 0.006417756231916441, 'learning_rate': 0.041391175928908924, 'colsample_bytree': 0.488477589914267, 'subsample': 0.719335437094794}. Best is trial 65 with value: 0.8717247024111211.\u001b[0m\n",
            "\u001b[32m[I 2023-05-17 04:15:24,336]\u001b[0m Trial 66 finished with value: 0.8719304448491785 and parameters: {'n_estimators': 320, 'max_depth': 5, 'reg_alpha': 0.3275124685290448, 'reg_lambda': 0.45062211566493904, 'min_child_weight': 6, 'gamma': 0.004887401316751909, 'learning_rate': 0.041107421310793854, 'colsample_bytree': 0.5339696767612648, 'subsample': 0.6977186914645389}. Best is trial 66 with value: 0.8719304448491785.\u001b[0m\n",
            "\u001b[32m[I 2023-05-17 04:15:28,239]\u001b[0m Trial 67 finished with value: 0.8718709376150271 and parameters: {'n_estimators': 275, 'max_depth': 5, 'reg_alpha': 0.36428586455760187, 'reg_lambda': 0.5110890253974253, 'min_child_weight': 6, 'gamma': 0.0019734710219686882, 'learning_rate': 0.0404687710917116, 'colsample_bytree': 0.523708221042583, 'subsample': 0.6900096359158888}. Best is trial 66 with value: 0.8719304448491785.\u001b[0m\n",
            "\u001b[32m[I 2023-05-17 04:15:32,264]\u001b[0m Trial 68 finished with value: 0.872034722312143 and parameters: {'n_estimators': 322, 'max_depth': 5, 'reg_alpha': 0.4195133854929501, 'reg_lambda': 0.5153842328168672, 'min_child_weight': 6, 'gamma': 0.0025093096471797663, 'learning_rate': 0.03756221887052456, 'colsample_bytree': 0.5356735490726616, 'subsample': 0.6948523260509483}. Best is trial 68 with value: 0.872034722312143.\u001b[0m\n",
            "\u001b[32m[I 2023-05-17 04:15:36,918]\u001b[0m Trial 69 finished with value: 0.8710661957090494 and parameters: {'n_estimators': 316, 'max_depth': 5, 'reg_alpha': 0.3606273686192204, 'reg_lambda': 0.5184640107140408, 'min_child_weight': 4, 'gamma': 0.0205625823316641, 'learning_rate': 0.02962808684561629, 'colsample_bytree': 0.5411943454394674, 'subsample': 0.6753661179039442}. Best is trial 68 with value: 0.872034722312143.\u001b[0m\n",
            "\u001b[32m[I 2023-05-17 04:15:42,239]\u001b[0m Trial 70 finished with value: 0.8638073153824195 and parameters: {'n_estimators': 358, 'max_depth': 6, 'reg_alpha': 0.3271095442687998, 'reg_lambda': 0.5043042312461591, 'min_child_weight': 6, 'gamma': 0.018060935449800683, 'learning_rate': 0.1042765024377794, 'colsample_bytree': 0.5667291700803722, 'subsample': 0.6916862846716999}. Best is trial 68 with value: 0.872034722312143.\u001b[0m\n",
            "\u001b[32m[I 2023-05-17 04:15:46,345]\u001b[0m Trial 71 finished with value: 0.8715690015473765 and parameters: {'n_estimators': 322, 'max_depth': 5, 'reg_alpha': 0.4254632877131835, 'reg_lambda': 0.5660017988577543, 'min_child_weight': 6, 'gamma': 0.042955227925824825, 'learning_rate': 0.03357397068181954, 'colsample_bytree': 0.5367006113647486, 'subsample': 0.7031796682585713}. Best is trial 68 with value: 0.872034722312143.\u001b[0m\n",
            "\u001b[32m[I 2023-05-17 04:15:51,286]\u001b[0m Trial 72 finished with value: 0.8719992096655436 and parameters: {'n_estimators': 328, 'max_depth': 5, 'reg_alpha': 0.42778248984318057, 'reg_lambda': 0.44930884101280366, 'min_child_weight': 6, 'gamma': 0.0418828348119569, 'learning_rate': 0.038622219339917226, 'colsample_bytree': 0.5596161977914238, 'subsample': 0.7215544305042357}. Best is trial 68 with value: 0.872034722312143.\u001b[0m\n",
            "\u001b[32m[I 2023-05-17 04:15:55,390]\u001b[0m Trial 73 finished with value: 0.8716114629635803 and parameters: {'n_estimators': 321, 'max_depth': 5, 'reg_alpha': 0.4071781867917097, 'reg_lambda': 0.4499072277447195, 'min_child_weight': 6, 'gamma': 0.001281993220203258, 'learning_rate': 0.03606114872571578, 'colsample_bytree': 0.5545808888182251, 'subsample': 0.7178709966454793}. Best is trial 68 with value: 0.872034722312143.\u001b[0m\n",
            "\u001b[32m[I 2023-05-17 04:15:59,828]\u001b[0m Trial 74 finished with value: 0.8669256942496846 and parameters: {'n_estimators': 366, 'max_depth': 5, 'reg_alpha': 0.4270411364383337, 'reg_lambda': 0.5680914757292224, 'min_child_weight': 6, 'gamma': 0.011491616169775124, 'learning_rate': 0.10084120206618472, 'colsample_bytree': 0.5586078114417078, 'subsample': 0.6931473947957638}. Best is trial 68 with value: 0.872034722312143.\u001b[0m\n",
            "\u001b[32m[I 2023-05-17 04:16:05,601]\u001b[0m Trial 75 finished with value: 0.8584305178237758 and parameters: {'n_estimators': 342, 'max_depth': 6, 'reg_alpha': 0.4274530068702414, 'reg_lambda': 0.44693788978963955, 'min_child_weight': 6, 'gamma': 0.05401315622479189, 'learning_rate': 0.1484366341653206, 'colsample_bytree': 0.5866422909061326, 'subsample': 0.6489377895295512}. Best is trial 68 with value: 0.872034722312143.\u001b[0m\n",
            "\u001b[32m[I 2023-05-17 04:16:10,662]\u001b[0m Trial 76 finished with value: 0.8683741716693889 and parameters: {'n_estimators': 322, 'max_depth': 6, 'reg_alpha': 0.4599994812301168, 'reg_lambda': 0.5650230059829705, 'min_child_weight': 6, 'gamma': 0.003006518553344511, 'learning_rate': 0.01111675766949884, 'colsample_bytree': 0.5633731422107048, 'subsample': 0.669113733643631}. Best is trial 68 with value: 0.872034722312143.\u001b[0m\n",
            "\u001b[32m[I 2023-05-17 04:16:15,848]\u001b[0m Trial 77 finished with value: 0.8722130678283208 and parameters: {'n_estimators': 348, 'max_depth': 5, 'reg_alpha': 0.40843160143094187, 'reg_lambda': 0.4289997446570824, 'min_child_weight': 5, 'gamma': 0.0945152168608531, 'learning_rate': 0.04023970363967418, 'colsample_bytree': 0.5405552552747159, 'subsample': 0.6985430298208245}. Best is trial 77 with value: 0.8722130678283208.\u001b[0m\n",
            "\u001b[32m[I 2023-05-17 04:16:20,462]\u001b[0m Trial 78 finished with value: 0.8670673113067906 and parameters: {'n_estimators': 386, 'max_depth': 5, 'reg_alpha': 0.40574447156721416, 'reg_lambda': 0.421689824733888, 'min_child_weight': 5, 'gamma': 0.10211823291618179, 'learning_rate': 0.09383204888814194, 'colsample_bytree': 0.5511917013365325, 'subsample': 0.6324905246026139}. Best is trial 77 with value: 0.8722130678283208.\u001b[0m\n",
            "\u001b[32m[I 2023-05-17 04:16:24,762]\u001b[0m Trial 79 finished with value: 0.8647353684297423 and parameters: {'n_estimators': 350, 'max_depth': 5, 'reg_alpha': 0.3783187931670446, 'reg_lambda': 0.4392673452562893, 'min_child_weight': 5, 'gamma': 0.06181887485377518, 'learning_rate': 0.12893889398933905, 'colsample_bytree': 0.5381248193791835, 'subsample': 0.7221386896756218}. Best is trial 77 with value: 0.8722130678283208.\u001b[0m\n",
            "\u001b[32m[I 2023-05-17 04:16:30,304]\u001b[0m Trial 80 finished with value: 0.8715051107252654 and parameters: {'n_estimators': 377, 'max_depth': 5, 'reg_alpha': 0.47857349065555194, 'reg_lambda': 0.4836462276425495, 'min_child_weight': 6, 'gamma': 0.0014901177151358386, 'learning_rate': 0.036854869583348646, 'colsample_bytree': 0.5983352734758983, 'subsample': 0.6806568938580833}. Best is trial 77 with value: 0.8722130678283208.\u001b[0m\n",
            "\u001b[32m[I 2023-05-17 04:16:34,262]\u001b[0m Trial 81 finished with value: 0.8717061827283435 and parameters: {'n_estimators': 310, 'max_depth': 5, 'reg_alpha': 0.4094402728172016, 'reg_lambda': 0.531846612409228, 'min_child_weight': 6, 'gamma': 0.03475950717923745, 'learning_rate': 0.034703451694501515, 'colsample_bytree': 0.5325137998494041, 'subsample': 0.6955291136167029}. Best is trial 77 with value: 0.8722130678283208.\u001b[0m\n",
            "\u001b[32m[I 2023-05-17 04:16:38,759]\u001b[0m Trial 82 finished with value: 0.8677017942073137 and parameters: {'n_estimators': 300, 'max_depth': 5, 'reg_alpha': 0.40738568537801473, 'reg_lambda': 0.4563359506956908, 'min_child_weight': 6, 'gamma': 0.030862754686260086, 'learning_rate': 0.09404358468677393, 'colsample_bytree': 0.5704695351173888, 'subsample': 0.6576001851798363}. Best is trial 77 with value: 0.8722130678283208.\u001b[0m\n",
            "\u001b[32m[I 2023-05-17 04:16:43,779]\u001b[0m Trial 83 finished with value: 0.8713668210740299 and parameters: {'n_estimators': 309, 'max_depth': 6, 'reg_alpha': 0.3679717202255643, 'reg_lambda': 0.5189468379585311, 'min_child_weight': 6, 'gamma': 0.08416888516646322, 'learning_rate': 0.035726192763599576, 'colsample_bytree': 0.5514652403791729, 'subsample': 0.6958069533946297}. Best is trial 77 with value: 0.8722130678283208.\u001b[0m\n",
            "\u001b[32m[I 2023-05-17 04:16:47,924]\u001b[0m Trial 84 finished with value: 0.8620668188010654 and parameters: {'n_estimators': 337, 'max_depth': 5, 'reg_alpha': 0.514708712781152, 'reg_lambda': 0.5348873621343719, 'min_child_weight': 6, 'gamma': 0.06520690526327974, 'learning_rate': 0.16745974169907127, 'colsample_bytree': 0.5303706294421622, 'subsample': 0.7121744222479425}. Best is trial 77 with value: 0.8722130678283208.\u001b[0m\n",
            "\u001b[32m[I 2023-05-17 04:16:52,572]\u001b[0m Trial 85 finished with value: 0.8696145842163812 and parameters: {'n_estimators': 279, 'max_depth': 5, 'reg_alpha': 0.4663724047596053, 'reg_lambda': 0.478367303225511, 'min_child_weight': 5, 'gamma': 0.10003460625974628, 'learning_rate': 0.08483828412386758, 'colsample_bytree': 0.5220741085206269, 'subsample': 0.6821181381883217}. Best is trial 77 with value: 0.8722130678283208.\u001b[0m\n",
            "\u001b[32m[I 2023-05-17 04:16:56,078]\u001b[0m Trial 86 finished with value: 0.8640513359645396 and parameters: {'n_estimators': 249, 'max_depth': 5, 'reg_alpha': 0.3394001515610286, 'reg_lambda': 0.4247100761613838, 'min_child_weight': 6, 'gamma': 0.029211647048441473, 'learning_rate': 0.010103868884058124, 'colsample_bytree': 0.5597859940779649, 'subsample': 0.7438245182317348}. Best is trial 77 with value: 0.8722130678283208.\u001b[0m\n",
            "\u001b[32m[I 2023-05-17 04:17:01,282]\u001b[0m Trial 87 finished with value: 0.8618051775193203 and parameters: {'n_estimators': 364, 'max_depth': 6, 'reg_alpha': 0.50666967105219, 'reg_lambda': 0.3537121942653253, 'min_child_weight': 6, 'gamma': 0.0002554669160480267, 'learning_rate': 0.11905498904357245, 'colsample_bytree': 0.5436357210014278, 'subsample': 0.720959020261885}. Best is trial 77 with value: 0.8722130678283208.\u001b[0m\n",
            "\u001b[32m[I 2023-05-17 04:17:06,447]\u001b[0m Trial 88 finished with value: 0.8707561237179636 and parameters: {'n_estimators': 346, 'max_depth': 5, 'reg_alpha': 0.4140096838539141, 'reg_lambda': 0.3902425493455518, 'min_child_weight': 6, 'gamma': 0.0574326921213779, 'learning_rate': 0.051695236338288014, 'colsample_bytree': 0.5808480531241231, 'subsample': 0.744425427066732}. Best is trial 77 with value: 0.8722130678283208.\u001b[0m\n",
            "\u001b[32m[I 2023-05-17 04:17:11,253]\u001b[0m Trial 89 finished with value: 0.8671332955345626 and parameters: {'n_estimators': 329, 'max_depth': 6, 'reg_alpha': 0.39351453070070164, 'reg_lambda': 0.4965984517693458, 'min_child_weight': 5, 'gamma': 0.1320019178070725, 'learning_rate': 0.08193675465929603, 'colsample_bytree': 0.5224655533165491, 'subsample': 0.6950983408176025}. Best is trial 77 with value: 0.8722130678283208.\u001b[0m\n",
            "\u001b[32m[I 2023-05-17 04:17:17,037]\u001b[0m Trial 90 finished with value: 0.8599159725215696 and parameters: {'n_estimators': 398, 'max_depth': 5, 'reg_alpha': 0.44525873113535086, 'reg_lambda': 0.4573711461654034, 'min_child_weight': 3, 'gamma': 0.0935495106024197, 'learning_rate': 0.14761424003745835, 'colsample_bytree': 0.4983442607085546, 'subsample': 0.6753444281691486}. Best is trial 77 with value: 0.8722130678283208.\u001b[0m\n",
            "\u001b[32m[I 2023-05-17 04:17:21,059]\u001b[0m Trial 91 finished with value: 0.8716895164165488 and parameters: {'n_estimators': 313, 'max_depth': 5, 'reg_alpha': 0.37378341380836644, 'reg_lambda': 0.5294389528391291, 'min_child_weight': 6, 'gamma': 0.056557815772083526, 'learning_rate': 0.03637788923656837, 'colsample_bytree': 0.5352987480875769, 'subsample': 0.7057460832283445}. Best is trial 77 with value: 0.8722130678283208.\u001b[0m\n",
            "\u001b[32m[I 2023-05-17 04:17:25,085]\u001b[0m Trial 92 finished with value: 0.8719296929343072 and parameters: {'n_estimators': 312, 'max_depth': 5, 'reg_alpha': 0.3618600971147873, 'reg_lambda': 0.5281730629838448, 'min_child_weight': 6, 'gamma': 0.05252436118306083, 'learning_rate': 0.040316500847223644, 'colsample_bytree': 0.5322554162991852, 'subsample': 0.7128534291480323}. Best is trial 77 with value: 0.8722130678283208.\u001b[0m\n",
            "\u001b[32m[I 2023-05-17 04:17:29,969]\u001b[0m Trial 93 finished with value: 0.8702011666929478 and parameters: {'n_estimators': 312, 'max_depth': 5, 'reg_alpha': 0.37804473239608954, 'reg_lambda': 0.5239677823291892, 'min_child_weight': 6, 'gamma': 0.057883028285479365, 'learning_rate': 0.0669915050749197, 'colsample_bytree': 0.5149606733621641, 'subsample': 0.7069131074500978}. Best is trial 77 with value: 0.8722130678283208.\u001b[0m\n",
            "\u001b[32m[I 2023-05-17 04:17:33,808]\u001b[0m Trial 94 finished with value: 0.8712135374099464 and parameters: {'n_estimators': 294, 'max_depth': 5, 'reg_alpha': 0.31934072498629484, 'reg_lambda': 0.5523967501638845, 'min_child_weight': 6, 'gamma': 0.1685112767270309, 'learning_rate': 0.02793500259981023, 'colsample_bytree': 0.5334442314673243, 'subsample': 0.6683638822302203}. Best is trial 77 with value: 0.8722130678283208.\u001b[0m\n",
            "\u001b[32m[I 2023-05-17 04:17:38,059]\u001b[0m Trial 95 finished with value: 0.8668265356577572 and parameters: {'n_estimators': 348, 'max_depth': 5, 'reg_alpha': 0.2589537566050442, 'reg_lambda': 0.5025507844354388, 'min_child_weight': 6, 'gamma': 0.08226246876330093, 'learning_rate': 0.10869235283938275, 'colsample_bytree': 0.4902076931568575, 'subsample': 0.7304644626217976}. Best is trial 77 with value: 0.8722130678283208.\u001b[0m\n",
            "\u001b[32m[I 2023-05-17 04:17:43,268]\u001b[0m Trial 96 finished with value: 0.8681134769723325 and parameters: {'n_estimators': 282, 'max_depth': 6, 'reg_alpha': 0.34950686208584064, 'reg_lambda': 0.5949557224157811, 'min_child_weight': 6, 'gamma': 0.028650931030421017, 'learning_rate': 0.081795251074951, 'colsample_bytree': 0.5441980103590112, 'subsample': 0.6976500241231509}. Best is trial 77 with value: 0.8722130678283208.\u001b[0m\n",
            "\u001b[32m[I 2023-05-17 04:17:47,163]\u001b[0m Trial 97 finished with value: 0.8714089963386206 and parameters: {'n_estimators': 304, 'max_depth': 5, 'reg_alpha': 0.3570420861627001, 'reg_lambda': 0.47229417457585793, 'min_child_weight': 6, 'gamma': 0.12019578145081236, 'learning_rate': 0.053332246740912866, 'colsample_bytree': 0.5250595366709295, 'subsample': 0.6558278449564696}. Best is trial 77 with value: 0.8722130678283208.\u001b[0m\n",
            "\u001b[32m[I 2023-05-17 04:17:50,767]\u001b[0m Trial 98 finished with value: 0.8696094806700498 and parameters: {'n_estimators': 331, 'max_depth': 4, 'reg_alpha': 0.4519102539143575, 'reg_lambda': 0.5237724180294377, 'min_child_weight': 5, 'gamma': 0.052781525330610646, 'learning_rate': 0.025510575033049494, 'colsample_bytree': 0.511285548014547, 'subsample': 0.7163180361537791}. Best is trial 77 with value: 0.8722130678283208.\u001b[0m\n",
            "\u001b[32m[I 2023-05-17 04:17:55,060]\u001b[0m Trial 99 finished with value: 0.8666582276513758 and parameters: {'n_estimators': 236, 'max_depth': 5, 'reg_alpha': 0.37997515987108177, 'reg_lambda': 0.4113206005203646, 'min_child_weight': 4, 'gamma': 0.025963788253470756, 'learning_rate': 0.1374665702006313, 'colsample_bytree': 0.48295476574119484, 'subsample': 0.6871919802107381}. Best is trial 77 with value: 0.8722130678283208.\u001b[0m\n",
            "\u001b[32m[I 2023-05-17 04:17:59,016]\u001b[0m Trial 100 finished with value: 0.8709689605688187 and parameters: {'n_estimators': 311, 'max_depth': 5, 'reg_alpha': 0.3024700603104895, 'reg_lambda': 0.5820618614599666, 'min_child_weight': 6, 'gamma': 0.08413542048057737, 'learning_rate': 0.06325445186547891, 'colsample_bytree': 0.5690346128490064, 'subsample': 0.762877284465639}. Best is trial 77 with value: 0.8722130678283208.\u001b[0m\n",
            "\u001b[32m[I 2023-05-17 04:18:03,133]\u001b[0m Trial 101 finished with value: 0.8717025065694004 and parameters: {'n_estimators': 320, 'max_depth': 5, 'reg_alpha': 0.413095840783239, 'reg_lambda': 0.43735943586784864, 'min_child_weight': 6, 'gamma': 0.017995322084637014, 'learning_rate': 0.041603917397628025, 'colsample_bytree': 0.5598147277999266, 'subsample': 0.7124174958085059}. Best is trial 77 with value: 0.8722130678283208.\u001b[0m\n",
            "\u001b[32m[I 2023-05-17 04:18:07,624]\u001b[0m Trial 102 finished with value: 0.871782534715315 and parameters: {'n_estimators': 268, 'max_depth': 5, 'reg_alpha': 0.43770546457189186, 'reg_lambda': 0.49430494659705726, 'min_child_weight': 6, 'gamma': 0.04897623257751197, 'learning_rate': 0.04503181089458971, 'colsample_bytree': 0.5374153306712174, 'subsample': 0.7034514743967037}. Best is trial 77 with value: 0.8722130678283208.\u001b[0m\n",
            "\u001b[32m[I 2023-05-17 04:18:11,176]\u001b[0m Trial 103 finished with value: 0.8708372078872644 and parameters: {'n_estimators': 270, 'max_depth': 5, 'reg_alpha': 0.4413161804949603, 'reg_lambda': 0.439429566791338, 'min_child_weight': 6, 'gamma': 0.05333432076991299, 'learning_rate': 0.07727176130211182, 'colsample_bytree': 0.5310357679030271, 'subsample': 0.709436557182398}. Best is trial 77 with value: 0.8722130678283208.\u001b[0m\n",
            "\u001b[32m[I 2023-05-17 04:18:15,778]\u001b[0m Trial 104 finished with value: 0.8706051431689048 and parameters: {'n_estimators': 286, 'max_depth': 6, 'reg_alpha': 0.4750213596677103, 'reg_lambda': 0.491265341456983, 'min_child_weight': 6, 'gamma': 0.11065870228057288, 'learning_rate': 0.022663010906652015, 'colsample_bytree': 0.5512113622794405, 'subsample': 0.7299466632840426}. Best is trial 77 with value: 0.8722130678283208.\u001b[0m\n",
            "\u001b[32m[I 2023-05-17 04:18:19,752]\u001b[0m Trial 105 finished with value: 0.8705560178085741 and parameters: {'n_estimators': 251, 'max_depth': 4, 'reg_alpha': 0.4290111027591488, 'reg_lambda': 0.541393514069528, 'min_child_weight': 6, 'gamma': 0.0720057501274385, 'learning_rate': 0.10906581923532231, 'colsample_bytree': 0.5042591512115913, 'subsample': 0.6997997853421923}. Best is trial 77 with value: 0.8722130678283208.\u001b[0m\n",
            "\u001b[32m[I 2023-05-17 04:18:23,592]\u001b[0m Trial 106 finished with value: 0.871571719725855 and parameters: {'n_estimators': 298, 'max_depth': 5, 'reg_alpha': 0.38938309603266624, 'reg_lambda': 0.509403603457394, 'min_child_weight': 6, 'gamma': 0.016607055438644228, 'learning_rate': 0.0534784524196589, 'colsample_bytree': 0.5417675459250589, 'subsample': 0.6759454507703093}. Best is trial 77 with value: 0.8722130678283208.\u001b[0m\n",
            "\u001b[32m[I 2023-05-17 04:18:27,201]\u001b[0m Trial 107 finished with value: 0.8674860894626445 and parameters: {'n_estimators': 263, 'max_depth': 5, 'reg_alpha': 0.41833511635107246, 'reg_lambda': 0.43087423020220633, 'min_child_weight': 5, 'gamma': 0.039936060440328894, 'learning_rate': 0.015058067807258008, 'colsample_bytree': 0.5624472742578169, 'subsample': 0.6908923216581115}. Best is trial 77 with value: 0.8722130678283208.\u001b[0m\n",
            "\u001b[32m[I 2023-05-17 04:18:32,812]\u001b[0m Trial 108 finished with value: 0.8677091634271108 and parameters: {'n_estimators': 316, 'max_depth': 6, 'reg_alpha': 0.32888645077068124, 'reg_lambda': 0.40254927519001776, 'min_child_weight': 6, 'gamma': 0.149346171220772, 'learning_rate': 0.08067456036777579, 'colsample_bytree': 0.517749396034957, 'subsample': 0.7121196767048676}. Best is trial 77 with value: 0.8722130678283208.\u001b[0m\n",
            "\u001b[32m[I 2023-05-17 04:18:36,573]\u001b[0m Trial 109 finished with value: 0.8714731084028664 and parameters: {'n_estimators': 289, 'max_depth': 5, 'reg_alpha': 0.3493748275470865, 'reg_lambda': 0.37730600613767884, 'min_child_weight': 6, 'gamma': 0.09205099545226494, 'learning_rate': 0.04855497283062557, 'colsample_bytree': 0.5341465853457588, 'subsample': 0.739948826665917}. Best is trial 77 with value: 0.8722130678283208.\u001b[0m\n",
            "\u001b[32m[I 2023-05-17 04:18:39,756]\u001b[0m Trial 110 finished with value: 0.8693603955675012 and parameters: {'n_estimators': 276, 'max_depth': 4, 'reg_alpha': 0.485134429425791, 'reg_lambda': 0.4663869871802723, 'min_child_weight': 2, 'gamma': 0.017520702168666094, 'learning_rate': 0.11563101859482386, 'colsample_bytree': 0.5725572803425503, 'subsample': 0.7260951306639363}. Best is trial 77 with value: 0.8722130678283208.\u001b[0m\n",
            "\u001b[32m[I 2023-05-17 04:18:44,893]\u001b[0m Trial 111 finished with value: 0.8714977829645558 and parameters: {'n_estimators': 331, 'max_depth': 5, 'reg_alpha': 0.37652475151706233, 'reg_lambda': 0.4877196156337693, 'min_child_weight': 6, 'gamma': 0.04253271831952195, 'learning_rate': 0.0495165512927595, 'colsample_bytree': 0.49640712790994274, 'subsample': 0.7030638138885004}. Best is trial 77 with value: 0.8722130678283208.\u001b[0m\n",
            "\u001b[32m[I 2023-05-17 04:18:49,330]\u001b[0m Trial 112 finished with value: 0.8715157810059484 and parameters: {'n_estimators': 354, 'max_depth': 5, 'reg_alpha': 0.4062047345732532, 'reg_lambda': 0.5332810123184103, 'min_child_weight': 6, 'gamma': 0.0221287446002158, 'learning_rate': 0.03396438887659937, 'colsample_bytree': 0.5457901403505638, 'subsample': 0.7437356338074269}. Best is trial 77 with value: 0.8722130678283208.\u001b[0m\n",
            "\u001b[32m[I 2023-05-17 04:18:54,127]\u001b[0m Trial 113 finished with value: 0.8681128879899443 and parameters: {'n_estimators': 339, 'max_depth': 5, 'reg_alpha': 0.36347255798947675, 'reg_lambda': 0.46616524867342607, 'min_child_weight': 6, 'gamma': 0.06971598931713732, 'learning_rate': 0.0948274574832742, 'colsample_bytree': 0.5232926726440529, 'subsample': 0.7527170901656633}. Best is trial 77 with value: 0.8722130678283208.\u001b[0m\n",
            "\u001b[32m[I 2023-05-17 04:18:58,568]\u001b[0m Trial 114 finished with value: 0.8699297709028253 and parameters: {'n_estimators': 325, 'max_depth': 5, 'reg_alpha': 0.44765138691908724, 'reg_lambda': 0.5559218679472382, 'min_child_weight': 6, 'gamma': 0.05105776379190432, 'learning_rate': 0.06945393345845882, 'colsample_bytree': 0.5574732434277118, 'subsample': 0.6870067489775686}. Best is trial 77 with value: 0.8722130678283208.\u001b[0m\n",
            "\u001b[32m[I 2023-05-17 04:19:02,636]\u001b[0m Trial 115 finished with value: 0.8655607160297356 and parameters: {'n_estimators': 301, 'max_depth': 5, 'reg_alpha': 0.31941156981341967, 'reg_lambda': 0.49958887885812187, 'min_child_weight': 6, 'gamma': 0.0004106894982717976, 'learning_rate': 0.01047957177224617, 'colsample_bytree': 0.5880364854226426, 'subsample': 0.6644814147678806}. Best is trial 77 with value: 0.8722130678283208.\u001b[0m\n",
            "\u001b[32m[I 2023-05-17 04:19:06,829]\u001b[0m Trial 116 finished with value: 0.8706038680795982 and parameters: {'n_estimators': 315, 'max_depth': 4, 'reg_alpha': 0.3937813774796533, 'reg_lambda': 0.4222775699767048, 'min_child_weight': 6, 'gamma': 0.025538443811333165, 'learning_rate': 0.03621221134436779, 'colsample_bytree': 0.5065470830205695, 'subsample': 0.7692426019880523}. Best is trial 77 with value: 0.8722130678283208.\u001b[0m\n",
            "\u001b[32m[I 2023-05-17 04:19:11,649]\u001b[0m Trial 117 finished with value: 0.8697902253219464 and parameters: {'n_estimators': 370, 'max_depth': 5, 'reg_alpha': 0.2737816742822467, 'reg_lambda': 0.5783515449767066, 'min_child_weight': 6, 'gamma': 0.06858115278037949, 'learning_rate': 0.06137062763312267, 'colsample_bytree': 0.5767655211921066, 'subsample': 0.7320266352013503}. Best is trial 77 with value: 0.8722130678283208.\u001b[0m\n",
            "\u001b[32m[I 2023-05-17 04:19:15,991]\u001b[0m Trial 118 finished with value: 0.8638393941050737 and parameters: {'n_estimators': 353, 'max_depth': 5, 'reg_alpha': 0.4156467837994086, 'reg_lambda': 0.447452464575069, 'min_child_weight': 6, 'gamma': 0.10966365727160349, 'learning_rate': 0.12679519237867506, 'colsample_bytree': 0.5361275660108455, 'subsample': 0.7153451205593038}. Best is trial 77 with value: 0.8722130678283208.\u001b[0m\n",
            "\u001b[32m[I 2023-05-17 04:19:21,384]\u001b[0m Trial 119 finished with value: 0.8672175172561509 and parameters: {'n_estimators': 305, 'max_depth': 6, 'reg_alpha': 0.46175202423862716, 'reg_lambda': 0.5243410576328216, 'min_child_weight': 5, 'gamma': 0.04214328531968223, 'learning_rate': 0.09121924973471443, 'colsample_bytree': 0.5173216807231038, 'subsample': 0.6799786890026621}. Best is trial 77 with value: 0.8722130678283208.\u001b[0m\n"
          ]
        }
      ],
      "source": [
        "study1 = optuna.create_study(direction='maximize', sampler=TPESampler())\n",
        "study1.optimize(objective, n_trials=120, show_progress_bar=True)"
      ]
    },
    {
      "cell_type": "code",
      "execution_count": 41,
      "id": "d20bf5c2",
      "metadata": {
        "colab": {
          "base_uri": "https://localhost:8080/"
        },
        "id": "d20bf5c2",
        "outputId": "fdd56c56-4955-4095-f0ba-fa2f22cce790"
      },
      "outputs": [
        {
          "output_type": "execute_result",
          "data": {
            "text/plain": [
              "FrozenTrial(number=77, state=TrialState.COMPLETE, values=[0.8722130678283208], datetime_start=datetime.datetime(2023, 5, 17, 4, 16, 10, 668315), datetime_complete=datetime.datetime(2023, 5, 17, 4, 16, 15, 847687), params={'n_estimators': 348, 'max_depth': 5, 'reg_alpha': 0.40843160143094187, 'reg_lambda': 0.4289997446570824, 'min_child_weight': 5, 'gamma': 0.0945152168608531, 'learning_rate': 0.04023970363967418, 'colsample_bytree': 0.5405552552747159, 'subsample': 0.6985430298208245}, user_attrs={}, system_attrs={}, intermediate_values={}, distributions={'n_estimators': IntDistribution(high=500, log=False, low=50, step=1), 'max_depth': IntDistribution(high=10, log=False, low=3, step=1), 'reg_alpha': FloatDistribution(high=1.0, log=False, low=1e-08, step=None), 'reg_lambda': FloatDistribution(high=1.0, log=False, low=1e-08, step=None), 'min_child_weight': IntDistribution(high=6, log=False, low=0, step=1), 'gamma': FloatDistribution(high=1.0, log=False, low=1e-08, step=None), 'learning_rate': FloatDistribution(high=1.0, log=False, low=0.01, step=None), 'colsample_bytree': FloatDistribution(high=0.8, log=False, low=0.3, step=None), 'subsample': FloatDistribution(high=0.8, log=False, low=0.3, step=None)}, trial_id=77, value=None)"
            ]
          },
          "metadata": {},
          "execution_count": 41
        }
      ],
      "source": [
        "study1.best_trial"
      ]
    },
    {
      "cell_type": "code",
      "execution_count": 42,
      "id": "c57d17b2",
      "metadata": {
        "id": "c57d17b2"
      },
      "outputs": [],
      "source": [
        "# 43 - best trial"
      ]
    },
    {
      "cell_type": "code",
      "execution_count": 43,
      "id": "2e873a7a",
      "metadata": {
        "id": "2e873a7a"
      },
      "outputs": [],
      "source": [
        "param_h1n1 = study1.best_params"
      ]
    },
    {
      "cell_type": "code",
      "execution_count": 44,
      "id": "4156a56d",
      "metadata": {
        "colab": {
          "base_uri": "https://localhost:8080/"
        },
        "id": "4156a56d",
        "outputId": "5cc21413-e139-40b2-9a44-4f59bf5334ca"
      },
      "outputs": [
        {
          "output_type": "execute_result",
          "data": {
            "text/plain": [
              "{'n_estimators': 348,\n",
              " 'max_depth': 5,\n",
              " 'reg_alpha': 0.40843160143094187,\n",
              " 'reg_lambda': 0.4289997446570824,\n",
              " 'min_child_weight': 5,\n",
              " 'gamma': 0.0945152168608531,\n",
              " 'learning_rate': 0.04023970363967418,\n",
              " 'colsample_bytree': 0.5405552552747159,\n",
              " 'subsample': 0.6985430298208245}"
            ]
          },
          "metadata": {},
          "execution_count": 44
        }
      ],
      "source": [
        "param_h1n1"
      ]
    },
    {
      "cell_type": "code",
      "execution_count": 45,
      "id": "a9973207",
      "metadata": {
        "colab": {
          "base_uri": "https://localhost:8080/"
        },
        "id": "a9973207",
        "outputId": "b2de7e8e-f73c-4955-8d29-bf5a9c124016"
      },
      "outputs": [
        {
          "output_type": "execute_result",
          "data": {
            "text/plain": [
              "<optuna.pruners._median.MedianPruner at 0x7f25476afd30>"
            ]
          },
          "metadata": {},
          "execution_count": 45
        }
      ],
      "source": [
        "study1.pruner"
      ]
    },
    {
      "cell_type": "code",
      "execution_count": 46,
      "id": "9a0c7f72",
      "metadata": {
        "id": "9a0c7f72"
      },
      "outputs": [],
      "source": [
        "X_train_h1, X_test_h1, y_train_h1, y_test_h1 = train_test_split(data, label1, test_size=0.2, random_state=101)"
      ]
    },
    {
      "cell_type": "code",
      "execution_count": 47,
      "id": "952112dd",
      "metadata": {
        "id": "952112dd"
      },
      "outputs": [],
      "source": [
        "h1n1_model = XGBClassifier(**param_h1n1,missing= np.nan)"
      ]
    },
    {
      "cell_type": "code",
      "execution_count": 48,
      "id": "63b63f7d",
      "metadata": {
        "colab": {
          "base_uri": "https://localhost:8080/",
          "height": 252
        },
        "id": "63b63f7d",
        "outputId": "bfb6e40a-1bdd-4755-d098-e2d7fba249e2"
      },
      "outputs": [
        {
          "output_type": "execute_result",
          "data": {
            "text/plain": [
              "XGBClassifier(base_score=None, booster=None, callbacks=None,\n",
              "              colsample_bylevel=None, colsample_bynode=None,\n",
              "              colsample_bytree=0.5405552552747159, early_stopping_rounds=None,\n",
              "              enable_categorical=False, eval_metric=None, feature_types=None,\n",
              "              gamma=0.0945152168608531, gpu_id=None, grow_policy=None,\n",
              "              importance_type=None, interaction_constraints=None,\n",
              "              learning_rate=0.04023970363967418, max_bin=None,\n",
              "              max_cat_threshold=None, max_cat_to_onehot=None,\n",
              "              max_delta_step=None, max_depth=5, max_leaves=None,\n",
              "              min_child_weight=5, missing=nan, monotone_constraints=None,\n",
              "              n_estimators=348, n_jobs=None, num_parallel_tree=None,\n",
              "              predictor=None, random_state=None, ...)"
            ],
            "text/html": [
              "<style>#sk-container-id-1 {color: black;background-color: white;}#sk-container-id-1 pre{padding: 0;}#sk-container-id-1 div.sk-toggleable {background-color: white;}#sk-container-id-1 label.sk-toggleable__label {cursor: pointer;display: block;width: 100%;margin-bottom: 0;padding: 0.3em;box-sizing: border-box;text-align: center;}#sk-container-id-1 label.sk-toggleable__label-arrow:before {content: \"▸\";float: left;margin-right: 0.25em;color: #696969;}#sk-container-id-1 label.sk-toggleable__label-arrow:hover:before {color: black;}#sk-container-id-1 div.sk-estimator:hover label.sk-toggleable__label-arrow:before {color: black;}#sk-container-id-1 div.sk-toggleable__content {max-height: 0;max-width: 0;overflow: hidden;text-align: left;background-color: #f0f8ff;}#sk-container-id-1 div.sk-toggleable__content pre {margin: 0.2em;color: black;border-radius: 0.25em;background-color: #f0f8ff;}#sk-container-id-1 input.sk-toggleable__control:checked~div.sk-toggleable__content {max-height: 200px;max-width: 100%;overflow: auto;}#sk-container-id-1 input.sk-toggleable__control:checked~label.sk-toggleable__label-arrow:before {content: \"▾\";}#sk-container-id-1 div.sk-estimator input.sk-toggleable__control:checked~label.sk-toggleable__label {background-color: #d4ebff;}#sk-container-id-1 div.sk-label input.sk-toggleable__control:checked~label.sk-toggleable__label {background-color: #d4ebff;}#sk-container-id-1 input.sk-hidden--visually {border: 0;clip: rect(1px 1px 1px 1px);clip: rect(1px, 1px, 1px, 1px);height: 1px;margin: -1px;overflow: hidden;padding: 0;position: absolute;width: 1px;}#sk-container-id-1 div.sk-estimator {font-family: monospace;background-color: #f0f8ff;border: 1px dotted black;border-radius: 0.25em;box-sizing: border-box;margin-bottom: 0.5em;}#sk-container-id-1 div.sk-estimator:hover {background-color: #d4ebff;}#sk-container-id-1 div.sk-parallel-item::after {content: \"\";width: 100%;border-bottom: 1px solid gray;flex-grow: 1;}#sk-container-id-1 div.sk-label:hover label.sk-toggleable__label {background-color: #d4ebff;}#sk-container-id-1 div.sk-serial::before {content: \"\";position: absolute;border-left: 1px solid gray;box-sizing: border-box;top: 0;bottom: 0;left: 50%;z-index: 0;}#sk-container-id-1 div.sk-serial {display: flex;flex-direction: column;align-items: center;background-color: white;padding-right: 0.2em;padding-left: 0.2em;position: relative;}#sk-container-id-1 div.sk-item {position: relative;z-index: 1;}#sk-container-id-1 div.sk-parallel {display: flex;align-items: stretch;justify-content: center;background-color: white;position: relative;}#sk-container-id-1 div.sk-item::before, #sk-container-id-1 div.sk-parallel-item::before {content: \"\";position: absolute;border-left: 1px solid gray;box-sizing: border-box;top: 0;bottom: 0;left: 50%;z-index: -1;}#sk-container-id-1 div.sk-parallel-item {display: flex;flex-direction: column;z-index: 1;position: relative;background-color: white;}#sk-container-id-1 div.sk-parallel-item:first-child::after {align-self: flex-end;width: 50%;}#sk-container-id-1 div.sk-parallel-item:last-child::after {align-self: flex-start;width: 50%;}#sk-container-id-1 div.sk-parallel-item:only-child::after {width: 0;}#sk-container-id-1 div.sk-dashed-wrapped {border: 1px dashed gray;margin: 0 0.4em 0.5em 0.4em;box-sizing: border-box;padding-bottom: 0.4em;background-color: white;}#sk-container-id-1 div.sk-label label {font-family: monospace;font-weight: bold;display: inline-block;line-height: 1.2em;}#sk-container-id-1 div.sk-label-container {text-align: center;}#sk-container-id-1 div.sk-container {/* jupyter's `normalize.less` sets `[hidden] { display: none; }` but bootstrap.min.css set `[hidden] { display: none !important; }` so we also need the `!important` here to be able to override the default hidden behavior on the sphinx rendered scikit-learn.org. See: https://github.com/scikit-learn/scikit-learn/issues/21755 */display: inline-block !important;position: relative;}#sk-container-id-1 div.sk-text-repr-fallback {display: none;}</style><div id=\"sk-container-id-1\" class=\"sk-top-container\"><div class=\"sk-text-repr-fallback\"><pre>XGBClassifier(base_score=None, booster=None, callbacks=None,\n",
              "              colsample_bylevel=None, colsample_bynode=None,\n",
              "              colsample_bytree=0.5405552552747159, early_stopping_rounds=None,\n",
              "              enable_categorical=False, eval_metric=None, feature_types=None,\n",
              "              gamma=0.0945152168608531, gpu_id=None, grow_policy=None,\n",
              "              importance_type=None, interaction_constraints=None,\n",
              "              learning_rate=0.04023970363967418, max_bin=None,\n",
              "              max_cat_threshold=None, max_cat_to_onehot=None,\n",
              "              max_delta_step=None, max_depth=5, max_leaves=None,\n",
              "              min_child_weight=5, missing=nan, monotone_constraints=None,\n",
              "              n_estimators=348, n_jobs=None, num_parallel_tree=None,\n",
              "              predictor=None, random_state=None, ...)</pre><b>In a Jupyter environment, please rerun this cell to show the HTML representation or trust the notebook. <br />On GitHub, the HTML representation is unable to render, please try loading this page with nbviewer.org.</b></div><div class=\"sk-container\" hidden><div class=\"sk-item\"><div class=\"sk-estimator sk-toggleable\"><input class=\"sk-toggleable__control sk-hidden--visually\" id=\"sk-estimator-id-1\" type=\"checkbox\" checked><label for=\"sk-estimator-id-1\" class=\"sk-toggleable__label sk-toggleable__label-arrow\">XGBClassifier</label><div class=\"sk-toggleable__content\"><pre>XGBClassifier(base_score=None, booster=None, callbacks=None,\n",
              "              colsample_bylevel=None, colsample_bynode=None,\n",
              "              colsample_bytree=0.5405552552747159, early_stopping_rounds=None,\n",
              "              enable_categorical=False, eval_metric=None, feature_types=None,\n",
              "              gamma=0.0945152168608531, gpu_id=None, grow_policy=None,\n",
              "              importance_type=None, interaction_constraints=None,\n",
              "              learning_rate=0.04023970363967418, max_bin=None,\n",
              "              max_cat_threshold=None, max_cat_to_onehot=None,\n",
              "              max_delta_step=None, max_depth=5, max_leaves=None,\n",
              "              min_child_weight=5, missing=nan, monotone_constraints=None,\n",
              "              n_estimators=348, n_jobs=None, num_parallel_tree=None,\n",
              "              predictor=None, random_state=None, ...)</pre></div></div></div></div></div>"
            ]
          },
          "metadata": {},
          "execution_count": 48
        }
      ],
      "source": [
        "h1n1_model.fit(X_train_h1, y_train_h1)"
      ]
    },
    {
      "cell_type": "code",
      "execution_count": 48,
      "id": "260b5c3f",
      "metadata": {
        "id": "260b5c3f"
      },
      "outputs": [],
      "source": []
    },
    {
      "cell_type": "code",
      "execution_count": 48,
      "id": "0f2458f0",
      "metadata": {
        "id": "0f2458f0"
      },
      "outputs": [],
      "source": []
    },
    {
      "cell_type": "code",
      "execution_count": 48,
      "id": "106f3ed5",
      "metadata": {
        "id": "106f3ed5"
      },
      "outputs": [],
      "source": []
    },
    {
      "cell_type": "code",
      "execution_count": 49,
      "id": "76e8bea0",
      "metadata": {
        "id": "76e8bea0"
      },
      "outputs": [],
      "source": [
        "h1n1_predict = h1n1_model.predict(X_test_h1)"
      ]
    },
    {
      "cell_type": "code",
      "execution_count": 50,
      "id": "4ff72da2",
      "metadata": {
        "colab": {
          "base_uri": "https://localhost:8080/"
        },
        "id": "4ff72da2",
        "outputId": "881c7fce-e81f-4e04-aa52-7a5d6b6eb8f3"
      },
      "outputs": [
        {
          "output_type": "stream",
          "name": "stdout",
          "text": [
            "              precision    recall  f1-score   support\n",
            "\n",
            "           0       0.88      0.95      0.91      4199\n",
            "           1       0.75      0.52      0.61      1143\n",
            "\n",
            "    accuracy                           0.86      5342\n",
            "   macro avg       0.82      0.74      0.76      5342\n",
            "weighted avg       0.85      0.86      0.85      5342\n",
            "\n"
          ]
        }
      ],
      "source": [
        "print(classification_report(y_test_h1, h1n1_predict))"
      ]
    },
    {
      "cell_type": "code",
      "execution_count": 53,
      "id": "e63e1fb6",
      "metadata": {
        "colab": {
          "base_uri": "https://localhost:8080/",
          "height": 472
        },
        "id": "e63e1fb6",
        "outputId": "07d9b727-1bfc-4f8f-eeec-0138cc72d002"
      },
      "outputs": [
        {
          "output_type": "display_data",
          "data": {
            "text/plain": [
              "<Figure size 640x480 with 1 Axes>"
            ],
            "image/png": "[encoded data removed]"
          },
          "metadata": {}
        }
      ],
      "source": [
        "h1_prediction_roc = h1n1_model.predict_proba(X_test_h1)[:, 1]\n",
        "\n",
        "fpr, tpr, thresholds = roc_curve(y_test_h1, h1_prediction_roc)\n",
        "roc_auc = auc(fpr, tpr)\n",
        "\n",
        "plt.plot(fpr, tpr, label='ROC curve (area = %0.6f)' % roc_auc)\n",
        "plt.plot([0, 1], [0, 1], 'k--')\n",
        "plt.xlabel('False Positive Rate')\n",
        "plt.ylabel('True Positive Rate')\n",
        "plt.title('H1 Roc - Auc Score')\n",
        "plt.legend(loc=\"lower right\")\n",
        "plt.show()"
      ]
    },
    {
      "cell_type": "code",
      "execution_count": null,
      "id": "905f92cd",
      "metadata": {
        "id": "905f92cd"
      },
      "outputs": [],
      "source": []
    },
    {
      "cell_type": "code",
      "execution_count": 52,
      "id": "03e8f4e0",
      "metadata": {
        "colab": {
          "base_uri": "https://localhost:8080/"
        },
        "id": "03e8f4e0",
        "outputId": "b321ab02-5458-4706-8dd4-986ad061baf4"
      },
      "outputs": [
        {
          "output_type": "stream",
          "name": "stdout",
          "text": [
            "ROC - AUC score : 0.8673285332069858\n"
          ]
        }
      ],
      "source": [
        "from sklearn.metrics import roc_curve, roc_auc_score, auc\n",
        "\n",
        "h1_prediction_roc = h1n1_model.predict_proba(X_test_h1)[:, 1]\n",
        "\n",
        "roc_auc = roc_auc_score(y_test_h1, h1_prediction_roc)\n",
        "\n",
        "print('ROC - AUC score :' , roc_auc)"
      ]
    },
    {
      "cell_type": "code",
      "execution_count": 54,
      "id": "5d135088",
      "metadata": {
        "colab": {
          "base_uri": "https://localhost:8080/"
        },
        "id": "5d135088",
        "outputId": "82f43a0c-6a65-4f76-d399-20e7619b5460"
      },
      "outputs": [
        {
          "output_type": "execute_result",
          "data": {
            "text/plain": [
              "(21365, 84)"
            ]
          },
          "metadata": {},
          "execution_count": 54
        }
      ],
      "source": [
        "X_train.shape"
      ]
    },
    {
      "cell_type": "code",
      "execution_count": null,
      "id": "622773a7",
      "metadata": {
        "id": "622773a7"
      },
      "outputs": [],
      "source": []
    },
    {
      "cell_type": "code",
      "execution_count": 55,
      "id": "e0aea0f8",
      "metadata": {
        "id": "e0aea0f8"
      },
      "outputs": [],
      "source": [
        "X_train, X_test, y_train, y_test = train_test_split(data, label2, test_size=0.2, random_state=101)\n",
        "\n",
        "def objective(trial):\n",
        "    param = {\n",
        "        'n_estimators': trial.suggest_int('n_estimators', 50, 500),\n",
        "        'max_depth': trial.suggest_int('max_depth', 3, 10),\n",
        "        'reg_alpha': trial.suggest_float('reg_alpha', 1e-8, 1.0),\n",
        "        'reg_lambda': trial.suggest_float('reg_lambda', 1e-8, 1.0),\n",
        "        'min_child_weight': trial.suggest_int('min_child_weight', 0, 6),\n",
        "        'gamma': trial.suggest_float('gamma',1e-8, 1.0),\n",
        "        'learning_rate': trial.suggest_float('learning_rate', 0.01, 1),\n",
        "        'colsample_bytree': trial.suggest_float('colsample_bytree', 0.3, 0.8),\n",
        "        'subsample': trial.suggest_float('subsample', 0.3, 0.8),\n",
        "\n",
        "    }\n",
        "    \n",
        "    xgb = XGBClassifier(**param, missing= np.nan, tree_method=\"gpu_hist\")\n",
        "    \n",
        "    from sklearn.model_selection import cross_val_score\n",
        "    scores = cross_val_score(xgb, data, label2, cv=5, scoring='roc_auc')\n",
        "    AUC = np.mean(scores).max()\n",
        "    return AUC"
      ]
    },
    {
      "cell_type": "code",
      "execution_count": 56,
      "id": "ee03b151",
      "metadata": {
        "scrolled": true,
        "colab": {
          "base_uri": "https://localhost:8080/",
          "height": 1000,
          "referenced_widgets": [
            "f7307a981fd7494291db8459ea924818",
            "0650763d388e4c4ea881ea8ee926ba66",
            "f7b7ef5052cc48efa420e1e8ec1bbde9",
            "a666f4d9efd448b8ba58d52bf885f539",
            "391125013ec742b7ade3fa0b3ba325a5",
            "53fac8d12c184e4eb846487bace0c3e0",
            "1f4678fa444c4f208eaf2f933dc5121f",
            "0e65ce3c542b4eda9b8110c61c469810",
            "34693cfcfb2e41c5ac6fb4fe60984d93",
            "ae44ddcbdba64378a19bc223eb5dbc7a",
            "74eeda8ba8ab4251b6a3b9bea4da3a21"
          ]
        },
        "id": "ee03b151",
        "outputId": "a1d38694-4f09-4b57-a5f6-bc1393c74a94"
      },
      "outputs": [
        {
          "output_type": "stream",
          "name": "stderr",
          "text": [
            "\u001b[32m[I 2023-05-17 04:48:14,339]\u001b[0m A new study created in memory with name: no-name-c70fd57a-4a8c-48e9-a4f6-025013f02ec9\u001b[0m\n",
            "/usr/local/lib/python3.10/dist-packages/optuna/progress_bar.py:56: ExperimentalWarning: Progress bar is experimental (supported from v1.2.0). The interface can change in the future.\n",
            "  self._init_valid()\n"
          ]
        },
        {
          "output_type": "display_data",
          "data": {
            "text/plain": [
              "  0%|          | 0/120 [00:00<?, ?it/s]"
            ],
            "application/vnd.jupyter.widget-view+json": {
              "version_major": 2,
              "version_minor": 0,
              "model_id": "f7307a981fd7494291db8459ea924818"
            }
          },
          "metadata": {}
        },
        {
          "output_type": "stream",
          "name": "stdout",
          "text": [
            "\u001b[32m[I 2023-05-17 04:48:18,076]\u001b[0m Trial 0 finished with value: 0.8114424554538908 and parameters: {'n_estimators': 211, 'max_depth': 7, 'reg_alpha': 0.7182014945804607, 'reg_lambda': 0.5162178744274323, 'min_child_weight': 0, 'gamma': 0.8947923786031802, 'learning_rate': 0.706210475062289, 'colsample_bytree': 0.33090050490588047, 'subsample': 0.6150262155493363}. Best is trial 0 with value: 0.8114424554538908.\u001b[0m\n",
            "\u001b[32m[I 2023-05-17 04:48:22,413]\u001b[0m Trial 1 finished with value: 0.8095079033977924 and parameters: {'n_estimators': 175, 'max_depth': 7, 'reg_alpha': 0.8070233850729291, 'reg_lambda': 0.8316890060120955, 'min_child_weight': 2, 'gamma': 0.930097767650785, 'learning_rate': 0.7591153393176006, 'colsample_bytree': 0.5972033834360543, 'subsample': 0.6748763500950471}. Best is trial 0 with value: 0.8114424554538908.\u001b[0m\n",
            "\u001b[32m[I 2023-05-17 04:48:28,253]\u001b[0m Trial 2 finished with value: 0.8328665622871793 and parameters: {'n_estimators': 441, 'max_depth': 6, 'reg_alpha': 0.24408105004427022, 'reg_lambda': 0.8783608773491479, 'min_child_weight': 1, 'gamma': 0.3444341379845438, 'learning_rate': 0.36635314116632506, 'colsample_bytree': 0.3215332996312721, 'subsample': 0.7572758018054511}. Best is trial 2 with value: 0.8328665622871793.\u001b[0m\n",
            "\u001b[32m[I 2023-05-17 04:48:35,823]\u001b[0m Trial 3 finished with value: 0.8193372420488076 and parameters: {'n_estimators': 469, 'max_depth': 6, 'reg_alpha': 0.08193713476337686, 'reg_lambda': 0.05532019502121945, 'min_child_weight': 4, 'gamma': 0.7419846440590783, 'learning_rate': 0.36831489317808047, 'colsample_bytree': 0.38516244421589024, 'subsample': 0.5086495547690649}. Best is trial 2 with value: 0.8328665622871793.\u001b[0m\n",
            "\u001b[32m[I 2023-05-17 04:48:39,399]\u001b[0m Trial 4 finished with value: 0.8487708229175501 and parameters: {'n_estimators': 270, 'max_depth': 5, 'reg_alpha': 0.5598960158238304, 'reg_lambda': 0.5751854685493203, 'min_child_weight': 6, 'gamma': 0.7743108146144442, 'learning_rate': 0.24015401882645965, 'colsample_bytree': 0.6468500426158776, 'subsample': 0.45894811487533593}. Best is trial 4 with value: 0.8487708229175501.\u001b[0m\n",
            "\u001b[32m[I 2023-05-17 04:48:41,807]\u001b[0m Trial 5 finished with value: 0.8176340314509204 and parameters: {'n_estimators': 184, 'max_depth': 4, 'reg_alpha': 0.2967186868762723, 'reg_lambda': 0.788156070701999, 'min_child_weight': 6, 'gamma': 0.22325165596208557, 'learning_rate': 0.8773401001542223, 'colsample_bytree': 0.6932431702329107, 'subsample': 0.5369921986095589}. Best is trial 4 with value: 0.8487708229175501.\u001b[0m\n",
            "\u001b[32m[I 2023-05-17 04:48:48,379]\u001b[0m Trial 6 finished with value: 0.8148371087296947 and parameters: {'n_estimators': 342, 'max_depth': 7, 'reg_alpha': 0.4003431987348607, 'reg_lambda': 0.32330469490079783, 'min_child_weight': 5, 'gamma': 0.20955281778701476, 'learning_rate': 0.5143041712928557, 'colsample_bytree': 0.6413764674926417, 'subsample': 0.6669810657666855}. Best is trial 4 with value: 0.8487708229175501.\u001b[0m\n",
            "\u001b[32m[I 2023-05-17 04:48:52,753]\u001b[0m Trial 7 finished with value: 0.797739796539029 and parameters: {'n_estimators': 329, 'max_depth': 9, 'reg_alpha': 0.38439602744915635, 'reg_lambda': 0.2743449789084925, 'min_child_weight': 2, 'gamma': 0.9862295681122162, 'learning_rate': 0.9536723378675968, 'colsample_bytree': 0.4846155034414429, 'subsample': 0.7802037578290564}. Best is trial 4 with value: 0.8487708229175501.\u001b[0m\n",
            "\u001b[32m[I 2023-05-17 04:48:56,414]\u001b[0m Trial 8 finished with value: 0.8502130499522706 and parameters: {'n_estimators': 402, 'max_depth': 3, 'reg_alpha': 0.8446428277901978, 'reg_lambda': 0.19756277724415697, 'min_child_weight': 5, 'gamma': 0.4096371381600628, 'learning_rate': 0.46999282850777085, 'colsample_bytree': 0.3649351236755412, 'subsample': 0.7181264303005692}. Best is trial 8 with value: 0.8502130499522706.\u001b[0m\n",
            "\u001b[32m[I 2023-05-17 04:49:00,037]\u001b[0m Trial 9 finished with value: 0.8400757308392329 and parameters: {'n_estimators': 209, 'max_depth': 4, 'reg_alpha': 0.9050233680688302, 'reg_lambda': 0.4982479783519989, 'min_child_weight': 3, 'gamma': 0.7525798229781214, 'learning_rate': 0.44459749193949205, 'colsample_bytree': 0.5776970652916213, 'subsample': 0.3455086407668726}. Best is trial 8 with value: 0.8502130499522706.\u001b[0m\n",
            "\u001b[32m[I 2023-05-17 04:49:03,106]\u001b[0m Trial 10 finished with value: 0.8574801033803414 and parameters: {'n_estimators': 76, 'max_depth': 3, 'reg_alpha': 0.9840266373816817, 'reg_lambda': 0.09772150533208361, 'min_child_weight': 4, 'gamma': 0.016452771068411587, 'learning_rate': 0.06666648146960485, 'colsample_bytree': 0.7627452142645785, 'subsample': 0.7982987774385588}. Best is trial 10 with value: 0.8574801033803414.\u001b[0m\n",
            "\u001b[32m[I 2023-05-17 04:49:04,679]\u001b[0m Trial 11 finished with value: 0.8447788746074385 and parameters: {'n_estimators': 55, 'max_depth': 3, 'reg_alpha': 0.9760217925254037, 'reg_lambda': 0.05355895802852156, 'min_child_weight': 4, 'gamma': 0.04840849080836007, 'learning_rate': 0.03452191667786625, 'colsample_bytree': 0.7595874768601509, 'subsample': 0.7949285261191249}. Best is trial 10 with value: 0.8574801033803414.\u001b[0m\n",
            "\u001b[32m[I 2023-05-17 04:49:06,268]\u001b[0m Trial 12 finished with value: 0.8555470234307236 and parameters: {'n_estimators': 58, 'max_depth': 3, 'reg_alpha': 0.9949814007858251, 'reg_lambda': 0.1634779571597702, 'min_child_weight': 4, 'gamma': 0.00010372939190751371, 'learning_rate': 0.07293133976140372, 'colsample_bytree': 0.4905786807129904, 'subsample': 0.7135321829794256}. Best is trial 10 with value: 0.8574801033803414.\u001b[0m\n",
            "\u001b[32m[I 2023-05-17 04:49:09,649]\u001b[0m Trial 13 finished with value: 0.8592846452433772 and parameters: {'n_estimators': 56, 'max_depth': 9, 'reg_alpha': 0.9835378501702198, 'reg_lambda': 0.03687843240657021, 'min_child_weight': 4, 'gamma': 0.07047719720385437, 'learning_rate': 0.03159854183537383, 'colsample_bytree': 0.7793115414684962, 'subsample': 0.7055626481877137}. Best is trial 13 with value: 0.8592846452433772.\u001b[0m\n",
            "\u001b[32m[I 2023-05-17 04:49:15,726]\u001b[0m Trial 14 finished with value: 0.8592768951923334 and parameters: {'n_estimators': 109, 'max_depth': 10, 'reg_alpha': 0.7166939121796702, 'reg_lambda': 0.00680574606453771, 'min_child_weight': 3, 'gamma': 0.13391222338472658, 'learning_rate': 0.01207374406265209, 'colsample_bytree': 0.7956483274856893, 'subsample': 0.627052797314891}. Best is trial 13 with value: 0.8592846452433772.\u001b[0m\n",
            "\u001b[32m[I 2023-05-17 04:49:24,595]\u001b[0m Trial 15 finished with value: 0.8494954520165559 and parameters: {'n_estimators': 116, 'max_depth': 10, 'reg_alpha': 0.6574079156048978, 'reg_lambda': 0.2923137573594015, 'min_child_weight': 3, 'gamma': 0.17317882445411398, 'learning_rate': 0.1647793152100347, 'colsample_bytree': 0.7954862815466308, 'subsample': 0.6160158541161546}. Best is trial 13 with value: 0.8592846452433772.\u001b[0m\n",
            "\u001b[32m[I 2023-05-17 04:49:30,482]\u001b[0m Trial 16 finished with value: 0.8600475695801801 and parameters: {'n_estimators': 102, 'max_depth': 9, 'reg_alpha': 0.7528569473155243, 'reg_lambda': 0.0006000018176691166, 'min_child_weight': 2, 'gamma': 0.4997743073124549, 'learning_rate': 0.013313071856332485, 'colsample_bytree': 0.7189039914625903, 'subsample': 0.6011895558108558}. Best is trial 16 with value: 0.8600475695801801.\u001b[0m\n",
            "\u001b[32m[I 2023-05-17 04:49:35,374]\u001b[0m Trial 17 finished with value: 0.8432799635258089 and parameters: {'n_estimators': 142, 'max_depth': 9, 'reg_alpha': 0.831459977870693, 'reg_lambda': 0.012648642050240154, 'min_child_weight': 1, 'gamma': 0.5794721389176829, 'learning_rate': 0.1988582829409385, 'colsample_bytree': 0.7225521296562212, 'subsample': 0.5755558695968348}. Best is trial 16 with value: 0.8600475695801801.\u001b[0m\n",
            "\u001b[32m[I 2023-05-17 04:49:41,408]\u001b[0m Trial 18 finished with value: 0.8467144715697161 and parameters: {'n_estimators': 261, 'max_depth': 8, 'reg_alpha': 0.5906627713371986, 'reg_lambda': 0.18258624125186046, 'min_child_weight': 2, 'gamma': 0.5127773986527191, 'learning_rate': 0.16635235186749212, 'colsample_bytree': 0.7009427129735869, 'subsample': 0.7213004754322027}. Best is trial 16 with value: 0.8600475695801801.\u001b[0m\n",
            "\u001b[32m[I 2023-05-17 04:49:45,783]\u001b[0m Trial 19 finished with value: 0.8394473865494504 and parameters: {'n_estimators': 126, 'max_depth': 9, 'reg_alpha': 0.7581442728413941, 'reg_lambda': 0.11434531777932246, 'min_child_weight': 0, 'gamma': 0.3248753261847647, 'learning_rate': 0.23122687689413468, 'colsample_bytree': 0.7250339801818341, 'subsample': 0.6613017069070932}. Best is trial 16 with value: 0.8600475695801801.\u001b[0m\n",
            "\u001b[32m[I 2023-05-17 04:49:50,229]\u001b[0m Trial 20 finished with value: 0.8584733771350285 and parameters: {'n_estimators': 97, 'max_depth': 8, 'reg_alpha': 0.9017248353090247, 'reg_lambda': 0.3925708701312256, 'min_child_weight': 1, 'gamma': 0.5937156513136888, 'learning_rate': 0.12646105244861996, 'colsample_bytree': 0.6579001182794912, 'subsample': 0.577230562782691}. Best is trial 16 with value: 0.8600475695801801.\u001b[0m\n",
            "\u001b[32m[I 2023-05-17 04:49:56,438]\u001b[0m Trial 21 finished with value: 0.8621586239488728 and parameters: {'n_estimators': 147, 'max_depth': 10, 'reg_alpha': 0.6935604585207282, 'reg_lambda': 0.0014595551794909217, 'min_child_weight': 3, 'gamma': 0.11635907213720575, 'learning_rate': 0.026144916182622435, 'colsample_bytree': 0.7944245088933286, 'subsample': 0.6380691205268115}. Best is trial 21 with value: 0.8621586239488728.\u001b[0m\n",
            "\u001b[32m[I 2023-05-17 04:50:03,756]\u001b[0m Trial 22 finished with value: 0.8620486783231216 and parameters: {'n_estimators': 151, 'max_depth': 10, 'reg_alpha': 0.6591550683841425, 'reg_lambda': 0.0006613938857606644, 'min_child_weight': 2, 'gamma': 0.10976803255542755, 'learning_rate': 0.024638725899708558, 'colsample_bytree': 0.7584409618472847, 'subsample': 0.6902481387141289}. Best is trial 21 with value: 0.8621586239488728.\u001b[0m\n",
            "\u001b[32m[I 2023-05-17 04:50:09,321]\u001b[0m Trial 23 finished with value: 0.8520389198631644 and parameters: {'n_estimators': 156, 'max_depth': 10, 'reg_alpha': 0.6374077465800654, 'reg_lambda': 0.132294779133407, 'min_child_weight': 2, 'gamma': 0.28314688770018714, 'learning_rate': 0.11592375513386041, 'colsample_bytree': 0.7399000807541447, 'subsample': 0.6358120786253988}. Best is trial 21 with value: 0.8621586239488728.\u001b[0m\n",
            "\u001b[32m[I 2023-05-17 04:50:18,370]\u001b[0m Trial 24 finished with value: 0.8622353892622477 and parameters: {'n_estimators': 212, 'max_depth': 10, 'reg_alpha': 0.5037141888042298, 'reg_lambda': 0.0035820670212969048, 'min_child_weight': 3, 'gamma': 0.1099614181012929, 'learning_rate': 0.0186332461754687, 'colsample_bytree': 0.7522660512101225, 'subsample': 0.5858642806542276}. Best is trial 24 with value: 0.8622353892622477.\u001b[0m\n",
            "\u001b[32m[I 2023-05-17 04:50:26,203]\u001b[0m Trial 25 finished with value: 0.8363528508617014 and parameters: {'n_estimators': 232, 'max_depth': 10, 'reg_alpha': 0.5254688271858831, 'reg_lambda': 0.22561454767699804, 'min_child_weight': 3, 'gamma': 0.13650673263817056, 'learning_rate': 0.25892513338893697, 'colsample_bytree': 0.7932065078751929, 'subsample': 0.6813272534327364}. Best is trial 24 with value: 0.8622353892622477.\u001b[0m\n",
            "\u001b[32m[I 2023-05-17 04:50:33,009]\u001b[0m Trial 26 finished with value: 0.8489627229413454 and parameters: {'n_estimators': 313, 'max_depth': 8, 'reg_alpha': 0.5127720336767579, 'reg_lambda': 0.10770412760156936, 'min_child_weight': 3, 'gamma': 0.10442429028875755, 'learning_rate': 0.12305622498370977, 'colsample_bytree': 0.7560608241402518, 'subsample': 0.7468681733397603}. Best is trial 24 with value: 0.8622353892622477.\u001b[0m\n",
            "\u001b[32m[I 2023-05-17 04:50:40,588]\u001b[0m Trial 27 finished with value: 0.8513674198699487 and parameters: {'n_estimators': 185, 'max_depth': 10, 'reg_alpha': 0.6392566620149671, 'reg_lambda': 0.10443713235466429, 'min_child_weight': 1, 'gamma': 0.22961865360471423, 'learning_rate': 0.10478149326442042, 'colsample_bytree': 0.6810434407980919, 'subsample': 0.6509157180938109}. Best is trial 24 with value: 0.8622353892622477.\u001b[0m\n",
            "\u001b[32m[I 2023-05-17 04:50:45,768]\u001b[0m Trial 28 finished with value: 0.8296157833667299 and parameters: {'n_estimators': 237, 'max_depth': 8, 'reg_alpha': 0.4874749917694301, 'reg_lambda': 0.22354993038446944, 'min_child_weight': 5, 'gamma': 0.09624882618709854, 'learning_rate': 0.298154157252249, 'colsample_bytree': 0.74972744950518, 'subsample': 0.5788828410417948}. Best is trial 24 with value: 0.8622353892622477.\u001b[0m\n",
            "\u001b[32m[I 2023-05-17 04:50:54,408]\u001b[0m Trial 29 finished with value: 0.8425566121539392 and parameters: {'n_estimators': 213, 'max_depth': 10, 'reg_alpha': 0.659476022986132, 'reg_lambda': 0.15456999068073257, 'min_child_weight': 0, 'gamma': 0.16641330167174653, 'learning_rate': 0.1750008545240796, 'colsample_bytree': 0.674458023290323, 'subsample': 0.6139727709361826}. Best is trial 24 with value: 0.8622353892622477.\u001b[0m\n",
            "\u001b[32m[I 2023-05-17 04:50:59,265]\u001b[0m Trial 30 finished with value: 0.8573176515756302 and parameters: {'n_estimators': 162, 'max_depth': 9, 'reg_alpha': 0.6987368169772106, 'reg_lambda': 0.06820260841225428, 'min_child_weight': 3, 'gamma': 0.06293439966241655, 'learning_rate': 0.09367944882393062, 'colsample_bytree': 0.7129999116287262, 'subsample': 0.6905372986864055}. Best is trial 24 with value: 0.8622353892622477.\u001b[0m\n",
            "\u001b[32m[I 2023-05-17 04:51:04,120]\u001b[0m Trial 31 finished with value: 0.8608837538882945 and parameters: {'n_estimators': 91, 'max_depth': 9, 'reg_alpha': 0.7548032937865876, 'reg_lambda': 0.022575641262111035, 'min_child_weight': 2, 'gamma': 0.2680752479618831, 'learning_rate': 0.02225452864214109, 'colsample_bytree': 0.7284146553684455, 'subsample': 0.5970548105022601}. Best is trial 24 with value: 0.8622353892622477.\u001b[0m\n",
            "\u001b[32m[I 2023-05-17 04:51:10,585]\u001b[0m Trial 32 finished with value: 0.8605412790572157 and parameters: {'n_estimators': 134, 'max_depth': 10, 'reg_alpha': 0.6043626554907651, 'reg_lambda': 0.06763977256924382, 'min_child_weight': 2, 'gamma': 0.26314911147930314, 'learning_rate': 0.013853492570070574, 'colsample_bytree': 0.7647256734561291, 'subsample': 0.6603384599529387}. Best is trial 24 with value: 0.8622353892622477.\u001b[0m\n",
            "\u001b[32m[I 2023-05-17 04:51:17,117]\u001b[0m Trial 33 finished with value: 0.8544042816220079 and parameters: {'n_estimators': 193, 'max_depth': 9, 'reg_alpha': 0.7833235504234682, 'reg_lambda': 0.0054074127820141205, 'min_child_weight': 2, 'gamma': 0.18045989416613423, 'learning_rate': 0.09543357576607675, 'colsample_bytree': 0.7995312584850078, 'subsample': 0.6405636835676096}. Best is trial 24 with value: 0.8622353892622477.\u001b[0m\n",
            "\u001b[32m[I 2023-05-17 04:51:23,039]\u001b[0m Trial 34 finished with value: 0.8455615476981656 and parameters: {'n_estimators': 154, 'max_depth': 10, 'reg_alpha': 0.6967392555686702, 'reg_lambda': 0.13857788649798097, 'min_child_weight': 1, 'gamma': 0.11982790405995565, 'learning_rate': 0.15509692982301151, 'colsample_bytree': 0.7339981463829701, 'subsample': 0.5986830952204573}. Best is trial 24 with value: 0.8622353892622477.\u001b[0m\n",
            "\u001b[32m[I 2023-05-17 04:51:25,921]\u001b[0m Trial 35 finished with value: 0.8494855828852208 and parameters: {'n_estimators': 81, 'max_depth': 8, 'reg_alpha': 0.5666716004035481, 'reg_lambda': 0.051122286989135075, 'min_child_weight': 3, 'gamma': 0.27698174163065425, 'learning_rate': 0.21317769815409127, 'colsample_bytree': 0.7696708583587466, 'subsample': 0.5239186035138345}. Best is trial 24 with value: 0.8622353892622477.\u001b[0m\n",
            "\u001b[32m[I 2023-05-17 04:51:30,377]\u001b[0m Trial 36 finished with value: 0.8630183678280847 and parameters: {'n_estimators': 243, 'max_depth': 6, 'reg_alpha': 0.7347697566627038, 'reg_lambda': 0.08033208190002133, 'min_child_weight': 2, 'gamma': 0.045996343956470453, 'learning_rate': 0.06620224805566319, 'colsample_bytree': 0.6280932942481497, 'subsample': 0.5461141532590423}. Best is trial 36 with value: 0.8630183678280847.\u001b[0m\n",
            "\u001b[32m[I 2023-05-17 04:51:35,497]\u001b[0m Trial 37 finished with value: 0.8345263418775135 and parameters: {'n_estimators': 303, 'max_depth': 6, 'reg_alpha': 0.4719086833066994, 'reg_lambda': 0.1005829593904165, 'min_child_weight': 1, 'gamma': 0.016751828843801803, 'learning_rate': 0.2806269231607139, 'colsample_bytree': 0.6197004778237034, 'subsample': 0.5570211790898207}. Best is trial 36 with value: 0.8630183678280847.\u001b[0m\n",
            "\u001b[32m[I 2023-05-17 04:51:40,000]\u001b[0m Trial 38 finished with value: 0.8635872495220989 and parameters: {'n_estimators': 258, 'max_depth': 5, 'reg_alpha': 0.6127912180164209, 'reg_lambda': 0.17029289291324115, 'min_child_weight': 3, 'gamma': 0.0652273815245729, 'learning_rate': 0.07217284729219697, 'colsample_bytree': 0.7027839109695384, 'subsample': 0.5012872114108361}. Best is trial 38 with value: 0.8635872495220989.\u001b[0m\n",
            "\u001b[32m[I 2023-05-17 04:51:44,891]\u001b[0m Trial 39 finished with value: 0.8318780815007762 and parameters: {'n_estimators': 369, 'max_depth': 5, 'reg_alpha': 0.5888774272346898, 'reg_lambda': 0.24235899128296978, 'min_child_weight': 3, 'gamma': 0.07680619904239117, 'learning_rate': 0.33646287619840665, 'colsample_bytree': 0.6898531389423614, 'subsample': 0.4949857174134789}. Best is trial 38 with value: 0.8635872495220989.\u001b[0m\n",
            "\u001b[32m[I 2023-05-17 04:51:48,548]\u001b[0m Trial 40 finished with value: 0.8500783175007902 and parameters: {'n_estimators': 280, 'max_depth': 5, 'reg_alpha': 0.4164108943287162, 'reg_lambda': 0.19044291980625722, 'min_child_weight': 4, 'gamma': 0.20584628440163372, 'learning_rate': 0.21372323752617994, 'colsample_bytree': 0.6308233843974067, 'subsample': 0.49609392421597553}. Best is trial 38 with value: 0.8635872495220989.\u001b[0m\n",
            "\u001b[32m[I 2023-05-17 04:51:53,381]\u001b[0m Trial 41 finished with value: 0.8623072849264386 and parameters: {'n_estimators': 247, 'max_depth': 6, 'reg_alpha': 0.690037953417997, 'reg_lambda': 0.07296874352114904, 'min_child_weight': 2, 'gamma': 0.1442960513973402, 'learning_rate': 0.07511922554177784, 'colsample_bytree': 0.6663289239913802, 'subsample': 0.5353496012264769}. Best is trial 38 with value: 0.8635872495220989.\u001b[0m\n",
            "\u001b[32m[I 2023-05-17 04:51:58,488]\u001b[0m Trial 42 finished with value: 0.8607287026416508 and parameters: {'n_estimators': 273, 'max_depth': 7, 'reg_alpha': 0.7185782194919771, 'reg_lambda': 0.07551792940479446, 'min_child_weight': 3, 'gamma': 0.0015737819392230151, 'learning_rate': 0.07114065926450679, 'colsample_bytree': 0.6635596595883956, 'subsample': 0.5488216941008917}. Best is trial 38 with value: 0.8635872495220989.\u001b[0m\n",
            "\u001b[32m[I 2023-05-17 04:52:02,604]\u001b[0m Trial 43 finished with value: 0.861968152546644 and parameters: {'n_estimators': 243, 'max_depth': 6, 'reg_alpha': 0.5584771280022517, 'reg_lambda': 0.17137360878737828, 'min_child_weight': 2, 'gamma': 0.0512494606954935, 'learning_rate': 0.07102151358857439, 'colsample_bytree': 0.6933186770571624, 'subsample': 0.47640888578871526}. Best is trial 38 with value: 0.8635872495220989.\u001b[0m\n",
            "\u001b[32m[I 2023-05-17 04:52:06,042]\u001b[0m Trial 44 finished with value: 0.8626345345252924 and parameters: {'n_estimators': 205, 'max_depth': 4, 'reg_alpha': 0.7962710318064592, 'reg_lambda': 0.06954037974654696, 'min_child_weight': 3, 'gamma': 0.15773158999173914, 'learning_rate': 0.15133800504227335, 'colsample_bytree': 0.6159236019010884, 'subsample': 0.5198031411916259}. Best is trial 38 with value: 0.8635872495220989.\u001b[0m\n",
            "\u001b[32m[I 2023-05-17 04:52:08,734]\u001b[0m Trial 45 finished with value: 0.861402381918966 and parameters: {'n_estimators': 214, 'max_depth': 4, 'reg_alpha': 0.8152184560715738, 'reg_lambda': 0.1352729106017519, 'min_child_weight': 4, 'gamma': 0.1798960239418165, 'learning_rate': 0.17795089447477278, 'colsample_bytree': 0.6195011972718248, 'subsample': 0.5206172417304834}. Best is trial 38 with value: 0.8635872495220989.\u001b[0m\n",
            "\u001b[32m[I 2023-05-17 04:52:12,886]\u001b[0m Trial 46 finished with value: 0.8529038322639906 and parameters: {'n_estimators': 260, 'max_depth': 6, 'reg_alpha': 0.8669409386753002, 'reg_lambda': 0.05694692789714478, 'min_child_weight': 2, 'gamma': 0.04214277233571897, 'learning_rate': 0.13269592562708676, 'colsample_bytree': 0.5976777800721416, 'subsample': 0.44470843356851175}. Best is trial 38 with value: 0.8635872495220989.\u001b[0m\n",
            "\u001b[32m[I 2023-05-17 04:52:17,235]\u001b[0m Trial 47 finished with value: 0.8646620930909291 and parameters: {'n_estimators': 292, 'max_depth': 4, 'reg_alpha': 0.7701153010108055, 'reg_lambda': 0.34258143217522236, 'min_child_weight': 3, 'gamma': 0.14313219482744619, 'learning_rate': 0.06866161219073633, 'colsample_bytree': 0.6396398814162088, 'subsample': 0.541932614451037}. Best is trial 47 with value: 0.8646620930909291.\u001b[0m\n",
            "\u001b[32m[I 2023-05-17 04:52:20,599]\u001b[0m Trial 48 finished with value: 0.8644770565874922 and parameters: {'n_estimators': 301, 'max_depth': 4, 'reg_alpha': 0.7872853590524626, 'reg_lambda': 0.31070272223175477, 'min_child_weight': 4, 'gamma': 0.15429362491331688, 'learning_rate': 0.07003448393766963, 'colsample_bytree': 0.5670837076901969, 'subsample': 0.5324976694981886}. Best is trial 47 with value: 0.8646620930909291.\u001b[0m\n",
            "\u001b[32m[I 2023-05-17 04:52:24,421]\u001b[0m Trial 49 finished with value: 0.8612322617578048 and parameters: {'n_estimators': 358, 'max_depth': 4, 'reg_alpha': 0.7851183758454457, 'reg_lambda': 0.3220305694982005, 'min_child_weight': 5, 'gamma': 0.21794007585201267, 'learning_rate': 0.1370660728058137, 'colsample_bytree': 0.5566704159725581, 'subsample': 0.5499113088241147}. Best is trial 47 with value: 0.8646620930909291.\u001b[0m\n",
            "\u001b[32m[I 2023-05-17 04:52:29,286]\u001b[0m Trial 50 finished with value: 0.8503667463566218 and parameters: {'n_estimators': 310, 'max_depth': 5, 'reg_alpha': 0.8528822933874628, 'reg_lambda': 0.27312022810939285, 'min_child_weight': 4, 'gamma': 0.06911313457454232, 'learning_rate': 0.1990206267321673, 'colsample_bytree': 0.5946011209256933, 'subsample': 0.4465318795876528}. Best is trial 47 with value: 0.8646620930909291.\u001b[0m\n",
            "\u001b[32m[I 2023-05-17 04:52:32,558]\u001b[0m Trial 51 finished with value: 0.8644004896900783 and parameters: {'n_estimators': 293, 'max_depth': 4, 'reg_alpha': 0.8083268327072529, 'reg_lambda': 0.3807601650137021, 'min_child_weight': 5, 'gamma': 0.1520069582142625, 'learning_rate': 0.07089967206656872, 'colsample_bytree': 0.6439940255464323, 'subsample': 0.5311714389475438}. Best is trial 47 with value: 0.8646620930909291.\u001b[0m\n",
            "\u001b[32m[I 2023-05-17 04:52:35,792]\u001b[0m Trial 52 finished with value: 0.8644511524679066 and parameters: {'n_estimators': 289, 'max_depth': 4, 'reg_alpha': 0.8051093058882228, 'reg_lambda': 0.41656089972687776, 'min_child_weight': 5, 'gamma': 0.1585620777625937, 'learning_rate': 0.06782438402022857, 'colsample_bytree': 0.6478140039397919, 'subsample': 0.5087134650540496}. Best is trial 47 with value: 0.8646620930909291.\u001b[0m\n",
            "\u001b[32m[I 2023-05-17 04:52:39,115]\u001b[0m Trial 53 finished with value: 0.8644713200528165 and parameters: {'n_estimators': 291, 'max_depth': 4, 'reg_alpha': 0.8940025980473125, 'reg_lambda': 0.3814244009034766, 'min_child_weight': 6, 'gamma': 0.03089354519998712, 'learning_rate': 0.060374587956969296, 'colsample_bytree': 0.6439928450715007, 'subsample': 0.49978297962012774}. Best is trial 47 with value: 0.8646620930909291.\u001b[0m\n",
            "\u001b[32m[I 2023-05-17 04:52:43,333]\u001b[0m Trial 54 finished with value: 0.8646266099434083 and parameters: {'n_estimators': 284, 'max_depth': 4, 'reg_alpha': 0.9232230817930149, 'reg_lambda': 0.39240884261539233, 'min_child_weight': 6, 'gamma': 0.1936804119022535, 'learning_rate': 0.06204997059636819, 'colsample_bytree': 0.652576412271174, 'subsample': 0.47480151492742506}. Best is trial 47 with value: 0.8646620930909291.\u001b[0m\n",
            "\u001b[32m[I 2023-05-17 04:52:46,205]\u001b[0m Trial 55 finished with value: 0.85974816904909 and parameters: {'n_estimators': 288, 'max_depth': 3, 'reg_alpha': 0.931880343265395, 'reg_lambda': 0.41035764245272965, 'min_child_weight': 6, 'gamma': 0.1947821081300622, 'learning_rate': 0.24142715541438686, 'colsample_bytree': 0.6430276625357668, 'subsample': 0.47489392630019733}. Best is trial 47 with value: 0.8646620930909291.\u001b[0m\n",
            "\u001b[32m[I 2023-05-17 04:52:49,882]\u001b[0m Trial 56 finished with value: 0.864386142209639 and parameters: {'n_estimators': 341, 'max_depth': 4, 'reg_alpha': 0.8767201748093502, 'reg_lambda': 0.3891675417684498, 'min_child_weight': 6, 'gamma': 0.23475265938390966, 'learning_rate': 0.05514911280210779, 'colsample_bytree': 0.649314642843866, 'subsample': 0.419482597573745}. Best is trial 47 with value: 0.8646620930909291.\u001b[0m\n",
            "\u001b[32m[I 2023-05-17 04:52:55,458]\u001b[0m Trial 57 finished with value: 0.8621007210215833 and parameters: {'n_estimators': 377, 'max_depth': 4, 'reg_alpha': 0.9399617245777465, 'reg_lambda': 0.4478376900205051, 'min_child_weight': 5, 'gamma': 0.3301831075527596, 'learning_rate': 0.11053178203089142, 'colsample_bytree': 0.6472295207343932, 'subsample': 0.5623295898994191}. Best is trial 47 with value: 0.8646620930909291.\u001b[0m\n",
            "\u001b[32m[I 2023-05-17 04:52:58,644]\u001b[0m Trial 58 finished with value: 0.8639017690997134 and parameters: {'n_estimators': 327, 'max_depth': 3, 'reg_alpha': 0.827537827547385, 'reg_lambda': 0.3447147903192343, 'min_child_weight': 5, 'gamma': 0.15092506327054447, 'learning_rate': 0.054211697368412484, 'colsample_bytree': 0.5611143274147798, 'subsample': 0.5356205635618858}. Best is trial 47 with value: 0.8646620930909291.\u001b[0m\n",
            "\u001b[32m[I 2023-05-17 04:53:01,918]\u001b[0m Trial 59 finished with value: 0.8587732406580779 and parameters: {'n_estimators': 294, 'max_depth': 4, 'reg_alpha': 0.8796599806131155, 'reg_lambda': 0.48072147596350745, 'min_child_weight': 6, 'gamma': 0.35701028837505155, 'learning_rate': 0.18140173989619765, 'colsample_bytree': 0.5330874201730649, 'subsample': 0.5131268024148944}. Best is trial 47 with value: 0.8646620930909291.\u001b[0m\n",
            "\u001b[32m[I 2023-05-17 04:53:07,790]\u001b[0m Trial 60 finished with value: 0.8591244712398831 and parameters: {'n_estimators': 413, 'max_depth': 5, 'reg_alpha': 0.8324212576285748, 'reg_lambda': 0.5612531312553958, 'min_child_weight': 6, 'gamma': 0.1430796190248462, 'learning_rate': 0.10724478530764518, 'colsample_bytree': 0.6721177201184109, 'subsample': 0.5645802460534726}. Best is trial 47 with value: 0.8646620930909291.\u001b[0m\n",
            "\u001b[32m[I 2023-05-17 04:53:11,365]\u001b[0m Trial 61 finished with value: 0.8646857775454508 and parameters: {'n_estimators': 332, 'max_depth': 4, 'reg_alpha': 0.8922186215333255, 'reg_lambda': 0.38364106751861854, 'min_child_weight': 6, 'gamma': 0.23014437228768808, 'learning_rate': 0.055584900881030276, 'colsample_bytree': 0.6578628554893667, 'subsample': 0.4687562385992317}. Best is trial 61 with value: 0.8646857775454508.\u001b[0m\n",
            "\u001b[32m[I 2023-05-17 04:53:14,490]\u001b[0m Trial 62 finished with value: 0.8636574688852692 and parameters: {'n_estimators': 319, 'max_depth': 3, 'reg_alpha': 0.9323196221355955, 'reg_lambda': 0.3580497363668787, 'min_child_weight': 6, 'gamma': 0.20660904041558625, 'learning_rate': 0.04636306084870222, 'colsample_bytree': 0.6395489241736206, 'subsample': 0.48219654891685093}. Best is trial 61 with value: 0.8646857775454508.\u001b[0m\n",
            "\u001b[32m[I 2023-05-17 04:53:19,280]\u001b[0m Trial 63 finished with value: 0.8597425847264194 and parameters: {'n_estimators': 347, 'max_depth': 4, 'reg_alpha': 0.8974002331597182, 'reg_lambda': 0.4151330061872739, 'min_child_weight': 5, 'gamma': 0.1803763021062014, 'learning_rate': 0.14660197548722095, 'colsample_bytree': 0.6805928488129557, 'subsample': 0.5121236618434942}. Best is trial 61 with value: 0.8646857775454508.\u001b[0m\n",
            "\u001b[32m[I 2023-05-17 04:53:22,609]\u001b[0m Trial 64 finished with value: 0.8639915562944944 and parameters: {'n_estimators': 296, 'max_depth': 4, 'reg_alpha': 0.9587793805937938, 'reg_lambda': 0.3697021504324345, 'min_child_weight': 6, 'gamma': 0.09779819488812978, 'learning_rate': 0.08834883914304173, 'colsample_bytree': 0.6529642591923199, 'subsample': 0.4612105215082013}. Best is trial 61 with value: 0.8646857775454508.\u001b[0m\n",
            "\u001b[32m[I 2023-05-17 04:53:26,836]\u001b[0m Trial 65 finished with value: 0.8591147900727328 and parameters: {'n_estimators': 339, 'max_depth': 5, 'reg_alpha': 0.993855893290487, 'reg_lambda': 0.3168065064238652, 'min_child_weight': 5, 'gamma': 0.2392320008486983, 'learning_rate': 0.1212442663009449, 'colsample_bytree': 0.6039090759987591, 'subsample': 0.5290144818723607}. Best is trial 61 with value: 0.8646857775454508.\u001b[0m\n",
            "\u001b[32m[I 2023-05-17 04:53:30,849]\u001b[0m Trial 66 finished with value: 0.862968016896114 and parameters: {'n_estimators': 278, 'max_depth': 3, 'reg_alpha': 0.8545073091800982, 'reg_lambda': 0.29292611996123413, 'min_child_weight': 5, 'gamma': 0.1260040356971559, 'learning_rate': 0.04370114659581423, 'colsample_bytree': 0.5824690770290387, 'subsample': 0.5070208349113874}. Best is trial 61 with value: 0.8646857775454508.\u001b[0m\n",
            "\u001b[32m[I 2023-05-17 04:53:35,743]\u001b[0m Trial 67 finished with value: 0.8608427054859323 and parameters: {'n_estimators': 485, 'max_depth': 4, 'reg_alpha': 0.9109264802760629, 'reg_lambda': 0.44942374527950624, 'min_child_weight': 6, 'gamma': 0.30745024553952116, 'learning_rate': 0.010217589861962355, 'colsample_bytree': 0.6563681468837322, 'subsample': 0.5007107450462068}. Best is trial 61 with value: 0.8646857775454508.\u001b[0m\n",
            "\u001b[32m[I 2023-05-17 04:53:39,350]\u001b[0m Trial 68 finished with value: 0.8641848758895458 and parameters: {'n_estimators': 388, 'max_depth': 3, 'reg_alpha': 0.7969852594214184, 'reg_lambda': 0.34664493272945035, 'min_child_weight': 6, 'gamma': 0.09168033465526304, 'learning_rate': 0.04406156473785494, 'colsample_bytree': 0.6340043273444402, 'subsample': 0.5372228600191565}. Best is trial 61 with value: 0.8646857775454508.\u001b[0m\n",
            "\u001b[32m[I 2023-05-17 04:53:43,973]\u001b[0m Trial 69 finished with value: 0.8631035261691761 and parameters: {'n_estimators': 324, 'max_depth': 4, 'reg_alpha': 0.828826560199157, 'reg_lambda': 0.3799664002238733, 'min_child_weight': 5, 'gamma': 0.24088254840372234, 'learning_rate': 0.09623966690663079, 'colsample_bytree': 0.6102605833543472, 'subsample': 0.4239278935389427}. Best is trial 61 with value: 0.8646857775454508.\u001b[0m\n",
            "\u001b[32m[I 2023-05-17 04:53:47,919]\u001b[0m Trial 70 finished with value: 0.8555024169783575 and parameters: {'n_estimators': 302, 'max_depth': 5, 'reg_alpha': 0.9580345315310689, 'reg_lambda': 0.4291615073717792, 'min_child_weight': 4, 'gamma': 0.162276172508615, 'learning_rate': 0.1508703301595431, 'colsample_bytree': 0.7083045453273352, 'subsample': 0.48924260482712273}. Best is trial 61 with value: 0.8646857775454508.\u001b[0m\n",
            "\u001b[32m[I 2023-05-17 04:53:51,593]\u001b[0m Trial 71 finished with value: 0.8644178270544829 and parameters: {'n_estimators': 340, 'max_depth': 4, 'reg_alpha': 0.8944524000957788, 'reg_lambda': 0.38508357532231374, 'min_child_weight': 6, 'gamma': 0.24597646627538194, 'learning_rate': 0.05213125154179085, 'colsample_bytree': 0.6508754893718004, 'subsample': 0.42300052691918244}. Best is trial 61 with value: 0.8646857775454508.\u001b[0m\n",
            "\u001b[32m[I 2023-05-17 04:53:55,920]\u001b[0m Trial 72 finished with value: 0.8644828528176985 and parameters: {'n_estimators': 288, 'max_depth': 4, 'reg_alpha': 0.9045576955289009, 'reg_lambda': 0.39521050435851984, 'min_child_weight': 6, 'gamma': 0.1988532412907823, 'learning_rate': 0.04374946020185494, 'colsample_bytree': 0.6648925881263252, 'subsample': 0.46929885251797265}. Best is trial 61 with value: 0.8646857775454508.\u001b[0m\n",
            "\u001b[32m[I 2023-05-17 04:53:59,686]\u001b[0m Trial 73 finished with value: 0.8649084960862237 and parameters: {'n_estimators': 354, 'max_depth': 4, 'reg_alpha': 0.9033647015373373, 'reg_lambda': 0.4726140486718516, 'min_child_weight': 6, 'gamma': 0.25371669101672656, 'learning_rate': 0.04124923146555648, 'colsample_bytree': 0.6656414642439498, 'subsample': 0.47631872181172574}. Best is trial 73 with value: 0.8649084960862237.\u001b[0m\n",
            "\u001b[32m[I 2023-05-17 04:54:03,109]\u001b[0m Trial 74 finished with value: 0.8544121786591692 and parameters: {'n_estimators': 354, 'max_depth': 3, 'reg_alpha': 0.872214549596829, 'reg_lambda': 0.48264075545041674, 'min_child_weight': 6, 'gamma': 0.21086989083518531, 'learning_rate': 0.010618494275033571, 'colsample_bytree': 0.6930737131587373, 'subsample': 0.47258353998993363}. Best is trial 73 with value: 0.8649084960862237.\u001b[0m\n",
            "\u001b[32m[I 2023-05-17 04:54:07,056]\u001b[0m Trial 75 finished with value: 0.8635414100365223 and parameters: {'n_estimators': 266, 'max_depth': 4, 'reg_alpha': 0.9229246298192892, 'reg_lambda': 0.5225344087651647, 'min_child_weight': 6, 'gamma': 0.2920107863507087, 'learning_rate': 0.10564198837262946, 'colsample_bytree': 0.6727889705318015, 'subsample': 0.48848229106691216}. Best is trial 73 with value: 0.8649084960862237.\u001b[0m\n",
            "\u001b[32m[I 2023-05-17 04:54:11,337]\u001b[0m Trial 76 finished with value: 0.8646311835082894 and parameters: {'n_estimators': 312, 'max_depth': 5, 'reg_alpha': 0.7681860004954646, 'reg_lambda': 0.3371288149784994, 'min_child_weight': 6, 'gamma': 0.1873909819794671, 'learning_rate': 0.04503072433814694, 'colsample_bytree': 0.6280742999669442, 'subsample': 0.46322300137658656}. Best is trial 73 with value: 0.8649084960862237.\u001b[0m\n",
            "\u001b[32m[I 2023-05-17 04:54:16,548]\u001b[0m Trial 77 finished with value: 0.8648155842348372 and parameters: {'n_estimators': 440, 'max_depth': 5, 'reg_alpha': 0.7623357317195887, 'reg_lambda': 0.34363106256265064, 'min_child_weight': 6, 'gamma': 0.2677747809707076, 'learning_rate': 0.037140833113367216, 'colsample_bytree': 0.624414801342222, 'subsample': 0.46282265463378375}. Best is trial 73 with value: 0.8649084960862237.\u001b[0m\n",
            "\u001b[32m[I 2023-05-17 04:54:22,646]\u001b[0m Trial 78 finished with value: 0.865406389644044 and parameters: {'n_estimators': 431, 'max_depth': 5, 'reg_alpha': 0.7648326693660792, 'reg_lambda': 0.3407614530033202, 'min_child_weight': 6, 'gamma': 0.2761909391863333, 'learning_rate': 0.02746791975126254, 'colsample_bytree': 0.6251157559871543, 'subsample': 0.4641339816849912}. Best is trial 78 with value: 0.865406389644044.\u001b[0m\n",
            "\u001b[32m[I 2023-05-17 04:54:27,816]\u001b[0m Trial 79 finished with value: 0.8552147676878219 and parameters: {'n_estimators': 438, 'max_depth': 5, 'reg_alpha': 0.7460892587341028, 'reg_lambda': 0.35739333605321566, 'min_child_weight': 6, 'gamma': 0.2650346194102732, 'learning_rate': 0.13006756251651042, 'colsample_bytree': 0.6293260949112873, 'subsample': 0.43622755146432307}. Best is trial 78 with value: 0.865406389644044.\u001b[0m\n",
            "\u001b[32m[I 2023-05-17 04:54:33,928]\u001b[0m Trial 80 finished with value: 0.8652960143555566 and parameters: {'n_estimators': 432, 'max_depth': 5, 'reg_alpha': 0.9576563628600379, 'reg_lambda': 0.33639659655260923, 'min_child_weight': 6, 'gamma': 0.3684670765053634, 'learning_rate': 0.027425526155652524, 'colsample_bytree': 0.6667550532920725, 'subsample': 0.45831301936068725}. Best is trial 78 with value: 0.865406389644044.\u001b[0m\n",
            "\u001b[32m[I 2023-05-17 04:54:39,129]\u001b[0m Trial 81 finished with value: 0.8651732975528482 and parameters: {'n_estimators': 437, 'max_depth': 5, 'reg_alpha': 0.9673618124704599, 'reg_lambda': 0.3374898857896899, 'min_child_weight': 6, 'gamma': 0.2987448510449413, 'learning_rate': 0.03493826583192983, 'colsample_bytree': 0.6782380305646618, 'subsample': 0.46278342913297954}. Best is trial 78 with value: 0.865406389644044.\u001b[0m\n",
            "\u001b[32m[I 2023-05-17 04:54:45,334]\u001b[0m Trial 82 finished with value: 0.8654421951977623 and parameters: {'n_estimators': 434, 'max_depth': 5, 'reg_alpha': 0.9766017337822652, 'reg_lambda': 0.2730365293696804, 'min_child_weight': 6, 'gamma': 0.3071354382919159, 'learning_rate': 0.028274155810668576, 'colsample_bytree': 0.682522814465883, 'subsample': 0.4551216528017537}. Best is trial 82 with value: 0.8654421951977623.\u001b[0m\n",
            "\u001b[32m[I 2023-05-17 04:54:50,683]\u001b[0m Trial 83 finished with value: 0.8652530268625508 and parameters: {'n_estimators': 454, 'max_depth': 5, 'reg_alpha': 0.9791499854578624, 'reg_lambda': 0.2772969900860797, 'min_child_weight': 6, 'gamma': 0.3467381099938224, 'learning_rate': 0.0312326521626788, 'colsample_bytree': 0.6846987919434483, 'subsample': 0.4574510504884694}. Best is trial 82 with value: 0.8654421951977623.\u001b[0m\n",
            "\u001b[32m[I 2023-05-17 04:54:56,923]\u001b[0m Trial 84 finished with value: 0.8653260305975718 and parameters: {'n_estimators': 451, 'max_depth': 5, 'reg_alpha': 0.9777923598332554, 'reg_lambda': 0.2568642557679241, 'min_child_weight': 6, 'gamma': 0.3602056566462978, 'learning_rate': 0.029874845958595218, 'colsample_bytree': 0.7078969698384349, 'subsample': 0.4532144415124454}. Best is trial 82 with value: 0.8654421951977623.\u001b[0m\n",
            "\u001b[32m[I 2023-05-17 04:55:02,456]\u001b[0m Trial 85 finished with value: 0.8650277235600949 and parameters: {'n_estimators': 460, 'max_depth': 5, 'reg_alpha': 0.9720488082874392, 'reg_lambda': 0.26956128387575984, 'min_child_weight': 6, 'gamma': 0.36854588428201096, 'learning_rate': 0.02868635221513574, 'colsample_bytree': 0.7156654640724684, 'subsample': 0.4529176024123176}. Best is trial 82 with value: 0.8654421951977623.\u001b[0m\n",
            "\u001b[32m[I 2023-05-17 04:55:08,546]\u001b[0m Trial 86 finished with value: 0.8629723389620534 and parameters: {'n_estimators': 448, 'max_depth': 5, 'reg_alpha': 0.999018051512924, 'reg_lambda': 0.272878331866331, 'min_child_weight': 6, 'gamma': 0.3714540249650322, 'learning_rate': 0.011775115670356526, 'colsample_bytree': 0.7118935622628618, 'subsample': 0.4496961789606478}. Best is trial 82 with value: 0.8654421951977623.\u001b[0m\n",
            "\u001b[32m[I 2023-05-17 04:55:15,383]\u001b[0m Trial 87 finished with value: 0.8647990615365225 and parameters: {'n_estimators': 458, 'max_depth': 6, 'reg_alpha': 0.9706963254877704, 'reg_lambda': 0.25580355713649106, 'min_child_weight': 6, 'gamma': 0.3985906292935417, 'learning_rate': 0.030583901911307332, 'colsample_bytree': 0.6894513474691539, 'subsample': 0.4075224884928914}. Best is trial 82 with value: 0.8654421951977623.\u001b[0m\n",
            "\u001b[32m[I 2023-05-17 04:55:21,182]\u001b[0m Trial 88 finished with value: 0.8650588205640984 and parameters: {'n_estimators': 426, 'max_depth': 5, 'reg_alpha': 0.9688161709005739, 'reg_lambda': 0.22812412694903797, 'min_child_weight': 6, 'gamma': 0.30557302645558676, 'learning_rate': 0.03051363293794317, 'colsample_bytree': 0.7195370405335112, 'subsample': 0.4523345755455757}. Best is trial 82 with value: 0.8654421951977623.\u001b[0m\n",
            "\u001b[32m[I 2023-05-17 04:55:26,442]\u001b[0m Trial 89 finished with value: 0.8590885781241668 and parameters: {'n_estimators': 421, 'max_depth': 5, 'reg_alpha': 0.9688667984373536, 'reg_lambda': 0.23755154668432296, 'min_child_weight': 6, 'gamma': 0.3045699063640575, 'learning_rate': 0.09728719624233838, 'colsample_bytree': 0.7250341963725319, 'subsample': 0.453494234124085}. Best is trial 82 with value: 0.8654421951977623.\u001b[0m\n",
            "\u001b[32m[I 2023-05-17 04:55:33,868]\u001b[0m Trial 90 finished with value: 0.8566023584834983 and parameters: {'n_estimators': 483, 'max_depth': 6, 'reg_alpha': 0.9800201153113841, 'reg_lambda': 0.2296659731949292, 'min_child_weight': 6, 'gamma': 0.3366055049800031, 'learning_rate': 0.08451705888767076, 'colsample_bytree': 0.7427314226216954, 'subsample': 0.39498425524716285}. Best is trial 82 with value: 0.8654421951977623.\u001b[0m\n",
            "\u001b[32m[I 2023-05-17 04:55:39,140]\u001b[0m Trial 91 finished with value: 0.8653773856599786 and parameters: {'n_estimators': 432, 'max_depth': 5, 'reg_alpha': 0.9567294229248711, 'reg_lambda': 0.21395741163993517, 'min_child_weight': 6, 'gamma': 0.31014193362522224, 'learning_rate': 0.032012038416946526, 'colsample_bytree': 0.7020252529997609, 'subsample': 0.4583065136977931}. Best is trial 82 with value: 0.8654421951977623.\u001b[0m\n",
            "\u001b[32m[I 2023-05-17 04:55:44,391]\u001b[0m Trial 92 finished with value: 0.865218187644107 and parameters: {'n_estimators': 427, 'max_depth': 5, 'reg_alpha': 0.9471865460081119, 'reg_lambda': 0.19828799607802347, 'min_child_weight': 6, 'gamma': 0.3095920184380713, 'learning_rate': 0.028098824980966913, 'colsample_bytree': 0.7167288485557952, 'subsample': 0.43577800062915795}. Best is trial 82 with value: 0.8654421951977623.\u001b[0m\n",
            "\u001b[32m[I 2023-05-17 04:55:50,943]\u001b[0m Trial 93 finished with value: 0.8653610124842374 and parameters: {'n_estimators': 498, 'max_depth': 5, 'reg_alpha': 0.9485605145714654, 'reg_lambda': 0.2130256179491858, 'min_child_weight': 6, 'gamma': 0.30628506108148856, 'learning_rate': 0.02738746577993843, 'colsample_bytree': 0.7175760767461904, 'subsample': 0.43830656298930626}. Best is trial 82 with value: 0.8654421951977623.\u001b[0m\n",
            "\u001b[32m[I 2023-05-17 04:55:56,008]\u001b[0m Trial 94 finished with value: 0.859601058872278 and parameters: {'n_estimators': 426, 'max_depth': 5, 'reg_alpha': 0.948015437390101, 'reg_lambda': 0.2106494309458498, 'min_child_weight': 6, 'gamma': 0.3133967148889328, 'learning_rate': 0.09250382478930887, 'colsample_bytree': 0.7029326326049852, 'subsample': 0.426927491416148}. Best is trial 82 with value: 0.8654421951977623.\u001b[0m\n",
            "\u001b[32m[I 2023-05-17 04:56:05,136]\u001b[0m Trial 95 finished with value: 0.8650409693157777 and parameters: {'n_estimators': 471, 'max_depth': 6, 'reg_alpha': 0.9985119481722154, 'reg_lambda': 0.19842944885200783, 'min_child_weight': 6, 'gamma': 0.33791411455367226, 'learning_rate': 0.024569377346517308, 'colsample_bytree': 0.7315033015345948, 'subsample': 0.447800614625233}. Best is trial 82 with value: 0.8654421951977623.\u001b[0m\n",
            "\u001b[32m[I 2023-05-17 04:56:10,731]\u001b[0m Trial 96 finished with value: 0.8568075022397335 and parameters: {'n_estimators': 403, 'max_depth': 5, 'reg_alpha': 0.9512609756027145, 'reg_lambda': 0.29052009565907067, 'min_child_weight': 5, 'gamma': 0.28609920671894545, 'learning_rate': 0.11640787591077345, 'colsample_bytree': 0.6842901943104247, 'subsample': 0.43603568781754487}. Best is trial 82 with value: 0.8654421951977623.\u001b[0m\n",
            "\u001b[32m[I 2023-05-17 04:56:16,858]\u001b[0m Trial 97 finished with value: 0.8632448446113281 and parameters: {'n_estimators': 494, 'max_depth': 5, 'reg_alpha': 0.9354894585061598, 'reg_lambda': 0.2517895149916009, 'min_child_weight': 6, 'gamma': 0.39749040926879053, 'learning_rate': 0.010939597011256144, 'colsample_bytree': 0.6979059378001495, 'subsample': 0.43625016746973977}. Best is trial 82 with value: 0.8654421951977623.\u001b[0m\n",
            "\u001b[32m[I 2023-05-17 04:56:22,207]\u001b[0m Trial 98 finished with value: 0.8597345318206117 and parameters: {'n_estimators': 427, 'max_depth': 5, 'reg_alpha': 0.9788999935178737, 'reg_lambda': 0.19296564124647414, 'min_child_weight': 6, 'gamma': 0.3517491760687666, 'learning_rate': 0.08823863911597932, 'colsample_bytree': 0.7172734017928537, 'subsample': 0.4081971375780118}. Best is trial 82 with value: 0.8654421951977623.\u001b[0m\n",
            "\u001b[32m[I 2023-05-17 04:56:28,581]\u001b[0m Trial 99 finished with value: 0.8648003571570202 and parameters: {'n_estimators': 399, 'max_depth': 6, 'reg_alpha': 0.9599611247036034, 'reg_lambda': 0.21515152954860345, 'min_child_weight': 6, 'gamma': 0.3235122622273716, 'learning_rate': 0.030441343513043312, 'colsample_bytree': 0.7382670293305237, 'subsample': 0.4590865674130494}. Best is trial 82 with value: 0.8654421951977623.\u001b[0m\n",
            "\u001b[32m[I 2023-05-17 04:56:33,916]\u001b[0m Trial 100 finished with value: 0.8544085950324163 and parameters: {'n_estimators': 450, 'max_depth': 5, 'reg_alpha': 0.9262075546126537, 'reg_lambda': 0.1611539289656876, 'min_child_weight': 6, 'gamma': 0.2991332692006649, 'learning_rate': 0.13335526075565382, 'colsample_bytree': 0.68315725086064, 'subsample': 0.4882922747039635}. Best is trial 82 with value: 0.8654421951977623.\u001b[0m\n",
            "\u001b[32m[I 2023-05-17 04:56:42,356]\u001b[0m Trial 101 finished with value: 0.8640133385800853 and parameters: {'n_estimators': 470, 'max_depth': 7, 'reg_alpha': 0.9914614247067206, 'reg_lambda': 0.20735063399907105, 'min_child_weight': 6, 'gamma': 0.3207612979930812, 'learning_rate': 0.030982640037305942, 'colsample_bytree': 0.7259923396092455, 'subsample': 0.4458173615325788}. Best is trial 82 with value: 0.8654421951977623.\u001b[0m\n",
            "\u001b[32m[I 2023-05-17 04:56:49,682]\u001b[0m Trial 102 finished with value: 0.8584786120732867 and parameters: {'n_estimators': 461, 'max_depth': 6, 'reg_alpha': 0.992707153239835, 'reg_lambda': 0.18461552691991692, 'min_child_weight': 6, 'gamma': 0.3422309442721646, 'learning_rate': 0.08088852125884488, 'colsample_bytree': 0.7031460545240003, 'subsample': 0.45762359861288293}. Best is trial 82 with value: 0.8654421951977623.\u001b[0m\n",
            "\u001b[32m[I 2023-05-17 04:56:55,155]\u001b[0m Trial 103 finished with value: 0.8644313680654324 and parameters: {'n_estimators': 474, 'max_depth': 5, 'reg_alpha': 0.9509553834549743, 'reg_lambda': 0.24479270023046912, 'min_child_weight': 6, 'gamma': 0.28731824208926277, 'learning_rate': 0.034643398186391824, 'colsample_bytree': 0.7303025981158972, 'subsample': 0.4369319206757756}. Best is trial 82 with value: 0.8654421951977623.\u001b[0m\n",
            "\u001b[32m[I 2023-05-17 04:57:02,342]\u001b[0m Trial 104 finished with value: 0.8633354906183692 and parameters: {'n_estimators': 432, 'max_depth': 6, 'reg_alpha': 0.9968366429644933, 'reg_lambda': 0.3009045215888303, 'min_child_weight': 6, 'gamma': 0.43128115130315925, 'learning_rate': 0.010673582478312297, 'colsample_bytree': 0.7426458477577867, 'subsample': 0.4824888495086061}. Best is trial 82 with value: 0.8654421951977623.\u001b[0m\n",
            "\u001b[32m[I 2023-05-17 04:57:08,093]\u001b[0m Trial 105 finished with value: 0.8600829533716784 and parameters: {'n_estimators': 500, 'max_depth': 5, 'reg_alpha': 0.9146136004410714, 'reg_lambda': 0.21903698811924793, 'min_child_weight': 5, 'gamma': 0.27747123014957875, 'learning_rate': 0.07870542926453161, 'colsample_bytree': 0.7093646132827114, 'subsample': 0.4411158378572432}. Best is trial 82 with value: 0.8654421951977623.\u001b[0m\n",
            "\u001b[32m[I 2023-05-17 04:57:13,979]\u001b[0m Trial 106 finished with value: 0.8638053899086838 and parameters: {'n_estimators': 416, 'max_depth': 5, 'reg_alpha': 0.954123038583314, 'reg_lambda': 0.26742279167679067, 'min_child_weight': 6, 'gamma': 0.33695937027138934, 'learning_rate': 0.055516252250273894, 'colsample_bytree': 0.6933069778082346, 'subsample': 0.46460122478996413}. Best is trial 82 with value: 0.8654421951977623.\u001b[0m\n",
            "\u001b[32m[I 2023-05-17 04:57:19,984]\u001b[0m Trial 107 finished with value: 0.8651121310906106 and parameters: {'n_estimators': 451, 'max_depth': 5, 'reg_alpha': 0.9711361449517129, 'reg_lambda': 0.2894043612487002, 'min_child_weight': 6, 'gamma': 0.30950867933833426, 'learning_rate': 0.02315107745640583, 'colsample_bytree': 0.6780684470249775, 'subsample': 0.45236147660080633}. Best is trial 82 with value: 0.8654421951977623.\u001b[0m\n",
            "\u001b[32m[I 2023-05-17 04:57:25,567]\u001b[0m Trial 108 finished with value: 0.8581476291129132 and parameters: {'n_estimators': 406, 'max_depth': 5, 'reg_alpha': 0.9429267238908056, 'reg_lambda': 0.3190290080390817, 'min_child_weight': 6, 'gamma': 0.3066206329126657, 'learning_rate': 0.11249729888496343, 'colsample_bytree': 0.6984246799382192, 'subsample': 0.4541416109760508}. Best is trial 82 with value: 0.8654421951977623.\u001b[0m\n",
            "\u001b[32m[I 2023-05-17 04:57:30,827]\u001b[0m Trial 109 finished with value: 0.862716001810376 and parameters: {'n_estimators': 447, 'max_depth': 5, 'reg_alpha': 0.9728214988713818, 'reg_lambda': 0.290911940988396, 'min_child_weight': 5, 'gamma': 0.37367637783106444, 'learning_rate': 0.0659230014855119, 'colsample_bytree': 0.677045077734495, 'subsample': 0.4804011841552165}. Best is trial 82 with value: 0.8654421951977623.\u001b[0m\n",
            "\u001b[32m[I 2023-05-17 04:57:36,063]\u001b[0m Trial 110 finished with value: 0.8606408116398324 and parameters: {'n_estimators': 436, 'max_depth': 5, 'reg_alpha': 0.9244511422457714, 'reg_lambda': 0.25431292155360413, 'min_child_weight': 6, 'gamma': 0.25788937922982963, 'learning_rate': 0.08536624202616716, 'colsample_bytree': 0.6840092954212464, 'subsample': 0.4108018533723561}. Best is trial 82 with value: 0.8654421951977623.\u001b[0m\n",
            "\u001b[32m[I 2023-05-17 04:57:43,301]\u001b[0m Trial 111 finished with value: 0.8649351785620946 and parameters: {'n_estimators': 479, 'max_depth': 6, 'reg_alpha': 0.9788406514734446, 'reg_lambda': 0.20019523441640338, 'min_child_weight': 6, 'gamma': 0.35126803201191575, 'learning_rate': 0.02803140417527992, 'colsample_bytree': 0.7193962675487077, 'subsample': 0.4513955345336487}. Best is trial 82 with value: 0.8654421951977623.\u001b[0m\n",
            "\u001b[32m[I 2023-05-17 04:57:49,022]\u001b[0m Trial 112 finished with value: 0.8630498933845084 and parameters: {'n_estimators': 465, 'max_depth': 5, 'reg_alpha': 0.9397105384344473, 'reg_lambda': 0.23208586841559353, 'min_child_weight': 6, 'gamma': 0.32200906762825204, 'learning_rate': 0.055833006438564564, 'colsample_bytree': 0.7321348938848218, 'subsample': 0.4442272181881684}. Best is trial 82 with value: 0.8654421951977623.\u001b[0m\n",
            "\u001b[32m[I 2023-05-17 04:57:54,936]\u001b[0m Trial 113 finished with value: 0.8651672259198275 and parameters: {'n_estimators': 453, 'max_depth': 5, 'reg_alpha': 0.9639722909766529, 'reg_lambda': 0.28729825148214744, 'min_child_weight': 6, 'gamma': 0.29904649343362283, 'learning_rate': 0.023968642253418822, 'colsample_bytree': 0.7539511610104318, 'subsample': 0.4295770937271096}. Best is trial 82 with value: 0.8654421951977623.\u001b[0m\n",
            "\u001b[32m[I 2023-05-17 04:58:00,313]\u001b[0m Trial 114 finished with value: 0.864165504055874 and parameters: {'n_estimators': 454, 'max_depth': 5, 'reg_alpha': 0.8730955220421842, 'reg_lambda': 0.2848956048117802, 'min_child_weight': 6, 'gamma': 0.28771361734837086, 'learning_rate': 0.04141356053935716, 'colsample_bytree': 0.7564960151411896, 'subsample': 0.4303851548905598}. Best is trial 82 with value: 0.8654421951977623.\u001b[0m\n",
            "\u001b[32m[I 2023-05-17 04:58:06,167]\u001b[0m Trial 115 finished with value: 0.858989175226475 and parameters: {'n_estimators': 416, 'max_depth': 5, 'reg_alpha': 0.9132459655187664, 'reg_lambda': 0.3123699730797549, 'min_child_weight': 6, 'gamma': 0.3035074038899891, 'learning_rate': 0.10331974638947211, 'colsample_bytree': 0.6720153520911947, 'subsample': 0.4163234861289285}. Best is trial 82 with value: 0.8654421951977623.\u001b[0m\n",
            "\u001b[32m[I 2023-05-17 04:58:11,352]\u001b[0m Trial 116 finished with value: 0.8629305706060346 and parameters: {'n_estimators': 430, 'max_depth': 5, 'reg_alpha': 0.8530442807980481, 'reg_lambda': 0.26681812195404686, 'min_child_weight': 6, 'gamma': 0.2696816854543546, 'learning_rate': 0.01216706595411499, 'colsample_bytree': 0.7086418196243955, 'subsample': 0.39287018382429734}. Best is trial 82 with value: 0.8654421951977623.\u001b[0m\n",
            "\u001b[32m[I 2023-05-17 04:58:16,957]\u001b[0m Trial 117 finished with value: 0.8636198314875767 and parameters: {'n_estimators': 394, 'max_depth': 5, 'reg_alpha': 0.9621041454457993, 'reg_lambda': 0.3283013094614037, 'min_child_weight': 6, 'gamma': 0.3717737308665798, 'learning_rate': 0.05673954869072931, 'colsample_bytree': 0.748929229648577, 'subsample': 0.42936522327159743}. Best is trial 82 with value: 0.8654421951977623.\u001b[0m\n",
            "\u001b[32m[I 2023-05-17 04:58:22,222]\u001b[0m Trial 118 finished with value: 0.8613511679012517 and parameters: {'n_estimators': 445, 'max_depth': 5, 'reg_alpha': 0.9404690474075074, 'reg_lambda': 0.30964017214368267, 'min_child_weight': 5, 'gamma': 0.25028683677887764, 'learning_rate': 0.0761276202673267, 'colsample_bytree': 0.6901543663830866, 'subsample': 0.4666726799774241}. Best is trial 82 with value: 0.8654421951977623.\u001b[0m\n",
            "\u001b[32m[I 2023-05-17 04:58:27,689]\u001b[0m Trial 119 finished with value: 0.8526063004295011 and parameters: {'n_estimators': 382, 'max_depth': 5, 'reg_alpha': 0.9149015198416333, 'reg_lambda': 0.23746501444520526, 'min_child_weight': 6, 'gamma': 0.42193547227128053, 'learning_rate': 0.16647654778035548, 'colsample_bytree': 0.7737131026050501, 'subsample': 0.42856541547375415}. Best is trial 82 with value: 0.8654421951977623.\u001b[0m\n"
          ]
        }
      ],
      "source": [
        "study2 = optuna.create_study(direction='maximize', sampler=TPESampler())\n",
        "study2.optimize(objective, n_trials=120, show_progress_bar=True)"
      ]
    },
    {
      "cell_type": "code",
      "execution_count": null,
      "id": "574b54c6",
      "metadata": {
        "id": "574b54c6"
      },
      "outputs": [],
      "source": [
        "# 45. Best value: 0.864825:"
      ]
    },
    {
      "cell_type": "code",
      "execution_count": 57,
      "id": "f218a92a",
      "metadata": {
        "id": "f218a92a"
      },
      "outputs": [],
      "source": [
        "param_seasonal = study2.best_params"
      ]
    },
    {
      "cell_type": "code",
      "execution_count": 58,
      "id": "60fba4b1",
      "metadata": {
        "colab": {
          "base_uri": "https://localhost:8080/"
        },
        "id": "60fba4b1",
        "outputId": "0cf6843c-a229-4fb9-cfce-09353cc0470e"
      },
      "outputs": [
        {
          "output_type": "execute_result",
          "data": {
            "text/plain": [
              "{'n_estimators': 434,\n",
              " 'max_depth': 5,\n",
              " 'reg_alpha': 0.9766017337822652,\n",
              " 'reg_lambda': 0.2730365293696804,\n",
              " 'min_child_weight': 6,\n",
              " 'gamma': 0.3071354382919159,\n",
              " 'learning_rate': 0.028274155810668576,\n",
              " 'colsample_bytree': 0.682522814465883,\n",
              " 'subsample': 0.4551216528017537}"
            ]
          },
          "metadata": {},
          "execution_count": 58
        }
      ],
      "source": [
        "param_seasonal"
      ]
    },
    {
      "cell_type": "code",
      "execution_count": null,
      "id": "d605035a",
      "metadata": {
        "id": "d605035a"
      },
      "outputs": [],
      "source": []
    },
    {
      "cell_type": "code",
      "execution_count": 59,
      "id": "70f59c9e",
      "metadata": {
        "id": "70f59c9e"
      },
      "outputs": [],
      "source": [
        "X_train_seas, X_test_seas, y_train_seas, y_test_seas = train_test_split(data, label2, test_size=0.2, random_state=101)"
      ]
    },
    {
      "cell_type": "code",
      "execution_count": 60,
      "id": "7a1e129f",
      "metadata": {
        "id": "7a1e129f"
      },
      "outputs": [],
      "source": [
        "seasonal_model = XGBClassifier(**param_seasonal, missing= np.nan)"
      ]
    },
    {
      "cell_type": "code",
      "execution_count": 61,
      "id": "b160232d",
      "metadata": {
        "colab": {
          "base_uri": "https://localhost:8080/",
          "height": 252
        },
        "id": "b160232d",
        "outputId": "a0528be1-bf92-4d73-c32f-9dd67a7c6c8d"
      },
      "outputs": [
        {
          "output_type": "execute_result",
          "data": {
            "text/plain": [
              "XGBClassifier(base_score=None, booster=None, callbacks=None,\n",
              "              colsample_bylevel=None, colsample_bynode=None,\n",
              "              colsample_bytree=0.682522814465883, early_stopping_rounds=None,\n",
              "              enable_categorical=False, eval_metric=None, feature_types=None,\n",
              "              gamma=0.3071354382919159, gpu_id=None, grow_policy=None,\n",
              "              importance_type=None, interaction_constraints=None,\n",
              "              learning_rate=0.028274155810668576, max_bin=None,\n",
              "              max_cat_threshold=None, max_cat_to_onehot=None,\n",
              "              max_delta_step=None, max_depth=5, max_leaves=None,\n",
              "              min_child_weight=6, missing=nan, monotone_constraints=None,\n",
              "              n_estimators=434, n_jobs=None, num_parallel_tree=None,\n",
              "              predictor=None, random_state=None, ...)"
            ],
            "text/html": [
              "<style>#sk-container-id-2 {color: black;background-color: white;}#sk-container-id-2 pre{padding: 0;}#sk-container-id-2 div.sk-toggleable {background-color: white;}#sk-container-id-2 label.sk-toggleable__label {cursor: pointer;display: block;width: 100%;margin-bottom: 0;padding: 0.3em;box-sizing: border-box;text-align: center;}#sk-container-id-2 label.sk-toggleable__label-arrow:before {content: \"▸\";float: left;margin-right: 0.25em;color: #696969;}#sk-container-id-2 label.sk-toggleable__label-arrow:hover:before {color: black;}#sk-container-id-2 div.sk-estimator:hover label.sk-toggleable__label-arrow:before {color: black;}#sk-container-id-2 div.sk-toggleable__content {max-height: 0;max-width: 0;overflow: hidden;text-align: left;background-color: #f0f8ff;}#sk-container-id-2 div.sk-toggleable__content pre {margin: 0.2em;color: black;border-radius: 0.25em;background-color: #f0f8ff;}#sk-container-id-2 input.sk-toggleable__control:checked~div.sk-toggleable__content {max-height: 200px;max-width: 100%;overflow: auto;}#sk-container-id-2 input.sk-toggleable__control:checked~label.sk-toggleable__label-arrow:before {content: \"▾\";}#sk-container-id-2 div.sk-estimator input.sk-toggleable__control:checked~label.sk-toggleable__label {background-color: #d4ebff;}#sk-container-id-2 div.sk-label input.sk-toggleable__control:checked~label.sk-toggleable__label {background-color: #d4ebff;}#sk-container-id-2 input.sk-hidden--visually {border: 0;clip: rect(1px 1px 1px 1px);clip: rect(1px, 1px, 1px, 1px);height: 1px;margin: -1px;overflow: hidden;padding: 0;position: absolute;width: 1px;}#sk-container-id-2 div.sk-estimator {font-family: monospace;background-color: #f0f8ff;border: 1px dotted black;border-radius: 0.25em;box-sizing: border-box;margin-bottom: 0.5em;}#sk-container-id-2 div.sk-estimator:hover {background-color: #d4ebff;}#sk-container-id-2 div.sk-parallel-item::after {content: \"\";width: 100%;border-bottom: 1px solid gray;flex-grow: 1;}#sk-container-id-2 div.sk-label:hover label.sk-toggleable__label {background-color: #d4ebff;}#sk-container-id-2 div.sk-serial::before {content: \"\";position: absolute;border-left: 1px solid gray;box-sizing: border-box;top: 0;bottom: 0;left: 50%;z-index: 0;}#sk-container-id-2 div.sk-serial {display: flex;flex-direction: column;align-items: center;background-color: white;padding-right: 0.2em;padding-left: 0.2em;position: relative;}#sk-container-id-2 div.sk-item {position: relative;z-index: 1;}#sk-container-id-2 div.sk-parallel {display: flex;align-items: stretch;justify-content: center;background-color: white;position: relative;}#sk-container-id-2 div.sk-item::before, #sk-container-id-2 div.sk-parallel-item::before {content: \"\";position: absolute;border-left: 1px solid gray;box-sizing: border-box;top: 0;bottom: 0;left: 50%;z-index: -1;}#sk-container-id-2 div.sk-parallel-item {display: flex;flex-direction: column;z-index: 1;position: relative;background-color: white;}#sk-container-id-2 div.sk-parallel-item:first-child::after {align-self: flex-end;width: 50%;}#sk-container-id-2 div.sk-parallel-item:last-child::after {align-self: flex-start;width: 50%;}#sk-container-id-2 div.sk-parallel-item:only-child::after {width: 0;}#sk-container-id-2 div.sk-dashed-wrapped {border: 1px dashed gray;margin: 0 0.4em 0.5em 0.4em;box-sizing: border-box;padding-bottom: 0.4em;background-color: white;}#sk-container-id-2 div.sk-label label {font-family: monospace;font-weight: bold;display: inline-block;line-height: 1.2em;}#sk-container-id-2 div.sk-label-container {text-align: center;}#sk-container-id-2 div.sk-container {/* jupyter's `normalize.less` sets `[hidden] { display: none; }` but bootstrap.min.css set `[hidden] { display: none !important; }` so we also need the `!important` here to be able to override the default hidden behavior on the sphinx rendered scikit-learn.org. See: https://github.com/scikit-learn/scikit-learn/issues/21755 */display: inline-block !important;position: relative;}#sk-container-id-2 div.sk-text-repr-fallback {display: none;}</style><div id=\"sk-container-id-2\" class=\"sk-top-container\"><div class=\"sk-text-repr-fallback\"><pre>XGBClassifier(base_score=None, booster=None, callbacks=None,\n",
              "              colsample_bylevel=None, colsample_bynode=None,\n",
              "              colsample_bytree=0.682522814465883, early_stopping_rounds=None,\n",
              "              enable_categorical=False, eval_metric=None, feature_types=None,\n",
              "              gamma=0.3071354382919159, gpu_id=None, grow_policy=None,\n",
              "              importance_type=None, interaction_constraints=None,\n",
              "              learning_rate=0.028274155810668576, max_bin=None,\n",
              "              max_cat_threshold=None, max_cat_to_onehot=None,\n",
              "              max_delta_step=None, max_depth=5, max_leaves=None,\n",
              "              min_child_weight=6, missing=nan, monotone_constraints=None,\n",
              "              n_estimators=434, n_jobs=None, num_parallel_tree=None,\n",
              "              predictor=None, random_state=None, ...)</pre><b>In a Jupyter environment, please rerun this cell to show the HTML representation or trust the notebook. <br />On GitHub, the HTML representation is unable to render, please try loading this page with nbviewer.org.</b></div><div class=\"sk-container\" hidden><div class=\"sk-item\"><div class=\"sk-estimator sk-toggleable\"><input class=\"sk-toggleable__control sk-hidden--visually\" id=\"sk-estimator-id-2\" type=\"checkbox\" checked><label for=\"sk-estimator-id-2\" class=\"sk-toggleable__label sk-toggleable__label-arrow\">XGBClassifier</label><div class=\"sk-toggleable__content\"><pre>XGBClassifier(base_score=None, booster=None, callbacks=None,\n",
              "              colsample_bylevel=None, colsample_bynode=None,\n",
              "              colsample_bytree=0.682522814465883, early_stopping_rounds=None,\n",
              "              enable_categorical=False, eval_metric=None, feature_types=None,\n",
              "              gamma=0.3071354382919159, gpu_id=None, grow_policy=None,\n",
              "              importance_type=None, interaction_constraints=None,\n",
              "              learning_rate=0.028274155810668576, max_bin=None,\n",
              "              max_cat_threshold=None, max_cat_to_onehot=None,\n",
              "              max_delta_step=None, max_depth=5, max_leaves=None,\n",
              "              min_child_weight=6, missing=nan, monotone_constraints=None,\n",
              "              n_estimators=434, n_jobs=None, num_parallel_tree=None,\n",
              "              predictor=None, random_state=None, ...)</pre></div></div></div></div></div>"
            ]
          },
          "metadata": {},
          "execution_count": 61
        }
      ],
      "source": [
        "seasonal_model.fit(X_train_seas, y_train_seas)"
      ]
    },
    {
      "cell_type": "code",
      "execution_count": 62,
      "id": "14449b2e",
      "metadata": {
        "id": "14449b2e"
      },
      "outputs": [],
      "source": [
        "seas_predict = seasonal_model.predict(X_test_seas)"
      ]
    },
    {
      "cell_type": "code",
      "execution_count": 63,
      "id": "126c081e",
      "metadata": {
        "colab": {
          "base_uri": "https://localhost:8080/"
        },
        "id": "126c081e",
        "outputId": "5e6793b6-5599-4086-d36f-1a59b450b878"
      },
      "outputs": [
        {
          "output_type": "stream",
          "name": "stdout",
          "text": [
            "              precision    recall  f1-score   support\n",
            "\n",
            "           0       0.79      0.82      0.80      2823\n",
            "           1       0.79      0.75      0.77      2519\n",
            "\n",
            "    accuracy                           0.79      5342\n",
            "   macro avg       0.79      0.79      0.79      5342\n",
            "weighted avg       0.79      0.79      0.79      5342\n",
            "\n"
          ]
        }
      ],
      "source": [
        "print(classification_report(y_test_seas, seas_predict))"
      ]
    },
    {
      "cell_type": "code",
      "execution_count": 64,
      "id": "5d2a830b",
      "metadata": {
        "colab": {
          "base_uri": "https://localhost:8080/"
        },
        "id": "5d2a830b",
        "outputId": "85a308b2-5a26-4d79-856b-262ddfa268d2"
      },
      "outputs": [
        {
          "output_type": "stream",
          "name": "stdout",
          "text": [
            "ROC - AUC score : 0.8677329659096709\n"
          ]
        }
      ],
      "source": [
        "seasonal_prediction_roc = seasonal_model.predict_proba(X_test_seas)[:, 1]\n",
        "\n",
        "roc_auc = roc_auc_score(y_test_seas, seasonal_prediction_roc)\n",
        "\n",
        "print('ROC - AUC score :' , roc_auc)"
      ]
    },
    {
      "cell_type": "code",
      "execution_count": 65,
      "id": "dd7eac8f",
      "metadata": {
        "colab": {
          "base_uri": "https://localhost:8080/",
          "height": 472
        },
        "id": "dd7eac8f",
        "outputId": "c26ea2f5-5b91-4c56-d0f9-aad431c81dad"
      },
      "outputs": [
        {
          "output_type": "display_data",
          "data": {
            "text/plain": [
              "<Figure size 640x480 with 1 Axes>"
            ],
            "image/png": "[encoded data removed]"
          },
          "metadata": {}
        }
      ],
      "source": [
        "seasonal_prediction_roc = seasonal_model.predict_proba(X_test_seas)[:, 1]\n",
        "\n",
        "fpr, tpr, thresholds = roc_curve(y_test_seas, seasonal_prediction_roc)\n",
        "roc_auc = auc(fpr, tpr)\n",
        "\n",
        "plt.plot(fpr, tpr, label='ROC curve (area = %0.6f)' % roc_auc)\n",
        "plt.plot([0, 1], [0, 1], 'k--')\n",
        "plt.xlabel('False Positive Rate')\n",
        "plt.ylabel('True Positive Rate')\n",
        "plt.title('Seasonal Roc - Auc Score')\n",
        "plt.legend(loc=\"lower right\")\n",
        "plt.show()"
      ]
    },
    {
      "cell_type": "code",
      "execution_count": 66,
      "id": "9a45710d",
      "metadata": {
        "colab": {
          "base_uri": "https://localhost:8080/"
        },
        "id": "9a45710d",
        "outputId": "23eefc35-b08b-4c97-b601-821dfcfc42f4"
      },
      "outputs": [
        {
          "output_type": "execute_result",
          "data": {
            "text/plain": [
              "['H1N1_joblib_FE_with_dropping.joblib']"
            ]
          },
          "metadata": {},
          "execution_count": 66
        }
      ],
      "source": [
        "from joblib import dump\n",
        "\n",
        "dump(h1n1_model, 'H1N1_joblib_FE_with_dropping.joblib')"
      ]
    },
    {
      "cell_type": "code",
      "execution_count": 67,
      "id": "a8e89613",
      "metadata": {
        "colab": {
          "base_uri": "https://localhost:8080/"
        },
        "id": "a8e89613",
        "outputId": "ba687cff-c148-4ac2-af6b-946deb60b801"
      },
      "outputs": [
        {
          "output_type": "execute_result",
          "data": {
            "text/plain": [
              "['Seasonal_joblib_FE_with_dropping.joblib']"
            ]
          },
          "metadata": {},
          "execution_count": 67
        }
      ],
      "source": [
        "dump(seasonal_model, 'Seasonal_joblib_FE_with_dropping.joblib')"
      ]
    },
    {
      "cell_type": "code",
      "source": [],
      "metadata": {
        "id": "I8E_Tt_pIFSG"
      },
      "id": "I8E_Tt_pIFSG",
      "execution_count": null,
      "outputs": []
    }
  ],
  "metadata": {
    "kernelspec": {
      "display_name": "Python 3 (ipykernel)",
      "language": "python",
      "name": "python3"
    },
    "language_info": {
      "codemirror_mode": {
        "name": "ipython",
        "version": 3
      },
      "file_extension": ".py",
      "mimetype": "text/x-python",
      "name": "python",
      "nbconvert_exporter": "python",
      "pygments_lexer": "ipython3",
      "version": "3.9.13"
    },
    "colab": {
      "provenance": [],
      "gpuType": "T4"
    },
    "accelerator": "GPU",
    "gpuClass": "standard",
    "widgets": {
      "application/vnd.jupyter.widget-state+json": {
        "6fc73cfb4ff14358a6cd7b49d76f9611": {
          "model_module": "@jupyter-widgets/controls",
          "model_name": "HBoxModel",
          "model_module_version": "1.5.0",
          "state": {
            "_dom_classes": [],
            "_model_module": "@jupyter-widgets/controls",
            "_model_module_version": "1.5.0",
            "_model_name": "HBoxModel",
            "_view_count": null,
            "_view_module": "@jupyter-widgets/controls",
            "_view_module_version": "1.5.0",
            "_view_name": "HBoxView",
            "box_style": "",
            "children": [
              "IPY_MODEL_40ebb1e9484848908b9a01e362c8cd56",
              "IPY_MODEL_60455cd64a914811802d0563369bccca",
              "IPY_MODEL_ae161aaea5cc4c25bae2d02bd6b77a41"
            ],
            "layout": "IPY_MODEL_b4ad8c32f95243e782ae0771eaf0c1ca"
          }
        },
        "40ebb1e9484848908b9a01e362c8cd56": {
          "model_module": "@jupyter-widgets/controls",
          "model_name": "HTMLModel",
          "model_module_version": "1.5.0",
          "state": {
            "_dom_classes": [],
            "_model_module": "@jupyter-widgets/controls",
            "_model_module_version": "1.5.0",
            "_model_name": "HTMLModel",
            "_view_count": null,
            "_view_module": "@jupyter-widgets/controls",
            "_view_module_version": "1.5.0",
            "_view_name": "HTMLView",
            "description": "",
            "description_tooltip": null,
            "layout": "IPY_MODEL_62635c29cd384ed8b0a1a37a0e184970",
            "placeholder": "​",
            "style": "IPY_MODEL_9a81331368fb4016bb443e614e7ad818",
            "value": "Best trial: 77. Best value: 0.872213: 100%"
          }
        },
        "60455cd64a914811802d0563369bccca": {
          "model_module": "@jupyter-widgets/controls",
          "model_name": "FloatProgressModel",
          "model_module_version": "1.5.0",
          "state": {
            "_dom_classes": [],
            "_model_module": "@jupyter-widgets/controls",
            "_model_module_version": "1.5.0",
            "_model_name": "FloatProgressModel",
            "_view_count": null,
            "_view_module": "@jupyter-widgets/controls",
            "_view_module_version": "1.5.0",
            "_view_name": "ProgressView",
            "bar_style": "success",
            "description": "",
            "description_tooltip": null,
            "layout": "IPY_MODEL_09cf9fc9105c425eb71519545d8e1bf4",
            "max": 120,
            "min": 0,
            "orientation": "horizontal",
            "style": "IPY_MODEL_2f9e20c1765246e5958253828bb30834",
            "value": 120
          }
        },
        "ae161aaea5cc4c25bae2d02bd6b77a41": {
          "model_module": "@jupyter-widgets/controls",
          "model_name": "HTMLModel",
          "model_module_version": "1.5.0",
          "state": {
            "_dom_classes": [],
            "_model_module": "@jupyter-widgets/controls",
            "_model_module_version": "1.5.0",
            "_model_name": "HTMLModel",
            "_view_count": null,
            "_view_module": "@jupyter-widgets/controls",
            "_view_module_version": "1.5.0",
            "_view_name": "HTMLView",
            "description": "",
            "description_tooltip": null,
            "layout": "IPY_MODEL_4822b685ed8c4b21ac62d9560c6c157e",
            "placeholder": "​",
            "style": "IPY_MODEL_957b8cfc899c42f595d6019e62ab9b43",
            "value": " 120/120 [09:09&lt;00:00,  4.71s/it]"
          }
        },
        "b4ad8c32f95243e782ae0771eaf0c1ca": {
          "model_module": "@jupyter-widgets/base",
          "model_name": "LayoutModel",
          "model_module_version": "1.2.0",
          "state": {
            "_model_module": "@jupyter-widgets/base",
            "_model_module_version": "1.2.0",
            "_model_name": "LayoutModel",
            "_view_count": null,
            "_view_module": "@jupyter-widgets/base",
            "_view_module_version": "1.2.0",
            "_view_name": "LayoutView",
            "align_content": null,
            "align_items": null,
            "align_self": null,
            "border": null,
            "bottom": null,
            "display": null,
            "flex": null,
            "flex_flow": null,
            "grid_area": null,
            "grid_auto_columns": null,
            "grid_auto_flow": null,
            "grid_auto_rows": null,
            "grid_column": null,
            "grid_gap": null,
            "grid_row": null,
            "grid_template_areas": null,
            "grid_template_columns": null,
            "grid_template_rows": null,
            "height": null,
            "justify_content": null,
            "justify_items": null,
            "left": null,
            "margin": null,
            "max_height": null,
            "max_width": null,
            "min_height": null,
            "min_width": null,
            "object_fit": null,
            "object_position": null,
            "order": null,
            "overflow": null,
            "overflow_x": null,
            "overflow_y": null,
            "padding": null,
            "right": null,
            "top": null,
            "visibility": null,
            "width": null
          }
        },
        "62635c29cd384ed8b0a1a37a0e184970": {
          "model_module": "@jupyter-widgets/base",
          "model_name": "LayoutModel",
          "model_module_version": "1.2.0",
          "state": {
            "_model_module": "@jupyter-widgets/base",
            "_model_module_version": "1.2.0",
            "_model_name": "LayoutModel",
            "_view_count": null,
            "_view_module": "@jupyter-widgets/base",
            "_view_module_version": "1.2.0",
            "_view_name": "LayoutView",
            "align_content": null,
            "align_items": null,
            "align_self": null,
            "border": null,
            "bottom": null,
            "display": null,
            "flex": null,
            "flex_flow": null,
            "grid_area": null,
            "grid_auto_columns": null,
            "grid_auto_flow": null,
            "grid_auto_rows": null,
            "grid_column": null,
            "grid_gap": null,
            "grid_row": null,
            "grid_template_areas": null,
            "grid_template_columns": null,
            "grid_template_rows": null,
            "height": null,
            "justify_content": null,
            "justify_items": null,
            "left": null,
            "margin": null,
            "max_height": null,
            "max_width": null,
            "min_height": null,
            "min_width": null,
            "object_fit": null,
            "object_position": null,
            "order": null,
            "overflow": null,
            "overflow_x": null,
            "overflow_y": null,
            "padding": null,
            "right": null,
            "top": null,
            "visibility": null,
            "width": null
          }
        },
        "9a81331368fb4016bb443e614e7ad818": {
          "model_module": "@jupyter-widgets/controls",
          "model_name": "DescriptionStyleModel",
          "model_module_version": "1.5.0",
          "state": {
            "_model_module": "@jupyter-widgets/controls",
            "_model_module_version": "1.5.0",
            "_model_name": "DescriptionStyleModel",
            "_view_count": null,
            "_view_module": "@jupyter-widgets/base",
            "_view_module_version": "1.2.0",
            "_view_name": "StyleView",
            "description_width": ""
          }
        },
        "09cf9fc9105c425eb71519545d8e1bf4": {
          "model_module": "@jupyter-widgets/base",
          "model_name": "LayoutModel",
          "model_module_version": "1.2.0",
          "state": {
            "_model_module": "@jupyter-widgets/base",
            "_model_module_version": "1.2.0",
            "_model_name": "LayoutModel",
            "_view_count": null,
            "_view_module": "@jupyter-widgets/base",
            "_view_module_version": "1.2.0",
            "_view_name": "LayoutView",
            "align_content": null,
            "align_items": null,
            "align_self": null,
            "border": null,
            "bottom": null,
            "display": null,
            "flex": null,
            "flex_flow": null,
            "grid_area": null,
            "grid_auto_columns": null,
            "grid_auto_flow": null,
            "grid_auto_rows": null,
            "grid_column": null,
            "grid_gap": null,
            "grid_row": null,
            "grid_template_areas": null,
            "grid_template_columns": null,
            "grid_template_rows": null,
            "height": null,
            "justify_content": null,
            "justify_items": null,
            "left": null,
            "margin": null,
            "max_height": null,
            "max_width": null,
            "min_height": null,
            "min_width": null,
            "object_fit": null,
            "object_position": null,
            "order": null,
            "overflow": null,
            "overflow_x": null,
            "overflow_y": null,
            "padding": null,
            "right": null,
            "top": null,
            "visibility": null,
            "width": null
          }
        },
        "2f9e20c1765246e5958253828bb30834": {
          "model_module": "@jupyter-widgets/controls",
          "model_name": "ProgressStyleModel",
          "model_module_version": "1.5.0",
          "state": {
            "_model_module": "@jupyter-widgets/controls",
            "_model_module_version": "1.5.0",
            "_model_name": "ProgressStyleModel",
            "_view_count": null,
            "_view_module": "@jupyter-widgets/base",
            "_view_module_version": "1.2.0",
            "_view_name": "StyleView",
            "bar_color": null,
            "description_width": ""
          }
        },
        "4822b685ed8c4b21ac62d9560c6c157e": {
          "model_module": "@jupyter-widgets/base",
          "model_name": "LayoutModel",
          "model_module_version": "1.2.0",
          "state": {
            "_model_module": "@jupyter-widgets/base",
            "_model_module_version": "1.2.0",
            "_model_name": "LayoutModel",
            "_view_count": null,
            "_view_module": "@jupyter-widgets/base",
            "_view_module_version": "1.2.0",
            "_view_name": "LayoutView",
            "align_content": null,
            "align_items": null,
            "align_self": null,
            "border": null,
            "bottom": null,
            "display": null,
            "flex": null,
            "flex_flow": null,
            "grid_area": null,
            "grid_auto_columns": null,
            "grid_auto_flow": null,
            "grid_auto_rows": null,
            "grid_column": null,
            "grid_gap": null,
            "grid_row": null,
            "grid_template_areas": null,
            "grid_template_columns": null,
            "grid_template_rows": null,
            "height": null,
            "justify_content": null,
            "justify_items": null,
            "left": null,
            "margin": null,
            "max_height": null,
            "max_width": null,
            "min_height": null,
            "min_width": null,
            "object_fit": null,
            "object_position": null,
            "order": null,
            "overflow": null,
            "overflow_x": null,
            "overflow_y": null,
            "padding": null,
            "right": null,
            "top": null,
            "visibility": null,
            "width": null
          }
        },
        "957b8cfc899c42f595d6019e62ab9b43": {
          "model_module": "@jupyter-widgets/controls",
          "model_name": "DescriptionStyleModel",
          "model_module_version": "1.5.0",
          "state": {
            "_model_module": "@jupyter-widgets/controls",
            "_model_module_version": "1.5.0",
            "_model_name": "DescriptionStyleModel",
            "_view_count": null,
            "_view_module": "@jupyter-widgets/base",
            "_view_module_version": "1.2.0",
            "_view_name": "StyleView",
            "description_width": ""
          }
        },
        "f7307a981fd7494291db8459ea924818": {
          "model_module": "@jupyter-widgets/controls",
          "model_name": "HBoxModel",
          "model_module_version": "1.5.0",
          "state": {
            "_dom_classes": [],
            "_model_module": "@jupyter-widgets/controls",
            "_model_module_version": "1.5.0",
            "_model_name": "HBoxModel",
            "_view_count": null,
            "_view_module": "@jupyter-widgets/controls",
            "_view_module_version": "1.5.0",
            "_view_name": "HBoxView",
            "box_style": "",
            "children": [
              "IPY_MODEL_0650763d388e4c4ea881ea8ee926ba66",
              "IPY_MODEL_f7b7ef5052cc48efa420e1e8ec1bbde9",
              "IPY_MODEL_a666f4d9efd448b8ba58d52bf885f539"
            ],
            "layout": "IPY_MODEL_391125013ec742b7ade3fa0b3ba325a5"
          }
        },
        "0650763d388e4c4ea881ea8ee926ba66": {
          "model_module": "@jupyter-widgets/controls",
          "model_name": "HTMLModel",
          "model_module_version": "1.5.0",
          "state": {
            "_dom_classes": [],
            "_model_module": "@jupyter-widgets/controls",
            "_model_module_version": "1.5.0",
            "_model_name": "HTMLModel",
            "_view_count": null,
            "_view_module": "@jupyter-widgets/controls",
            "_view_module_version": "1.5.0",
            "_view_name": "HTMLView",
            "description": "",
            "description_tooltip": null,
            "layout": "IPY_MODEL_53fac8d12c184e4eb846487bace0c3e0",
            "placeholder": "​",
            "style": "IPY_MODEL_1f4678fa444c4f208eaf2f933dc5121f",
            "value": "Best trial: 82. Best value: 0.865442: 100%"
          }
        },
        "f7b7ef5052cc48efa420e1e8ec1bbde9": {
          "model_module": "@jupyter-widgets/controls",
          "model_name": "FloatProgressModel",
          "model_module_version": "1.5.0",
          "state": {
            "_dom_classes": [],
            "_model_module": "@jupyter-widgets/controls",
            "_model_module_version": "1.5.0",
            "_model_name": "FloatProgressModel",
            "_view_count": null,
            "_view_module": "@jupyter-widgets/controls",
            "_view_module_version": "1.5.0",
            "_view_name": "ProgressView",
            "bar_style": "success",
            "description": "",
            "description_tooltip": null,
            "layout": "IPY_MODEL_0e65ce3c542b4eda9b8110c61c469810",
            "max": 120,
            "min": 0,
            "orientation": "horizontal",
            "style": "IPY_MODEL_34693cfcfb2e41c5ac6fb4fe60984d93",
            "value": 120
          }
        },
        "a666f4d9efd448b8ba58d52bf885f539": {
          "model_module": "@jupyter-widgets/controls",
          "model_name": "HTMLModel",
          "model_module_version": "1.5.0",
          "state": {
            "_dom_classes": [],
            "_model_module": "@jupyter-widgets/controls",
            "_model_module_version": "1.5.0",
            "_model_name": "HTMLModel",
            "_view_count": null,
            "_view_module": "@jupyter-widgets/controls",
            "_view_module_version": "1.5.0",
            "_view_name": "HTMLView",
            "description": "",
            "description_tooltip": null,
            "layout": "IPY_MODEL_ae44ddcbdba64378a19bc223eb5dbc7a",
            "placeholder": "​",
            "style": "IPY_MODEL_74eeda8ba8ab4251b6a3b9bea4da3a21",
            "value": " 120/120 [10:13&lt;00:00,  5.50s/it]"
          }
        },
        "391125013ec742b7ade3fa0b3ba325a5": {
          "model_module": "@jupyter-widgets/base",
          "model_name": "LayoutModel",
          "model_module_version": "1.2.0",
          "state": {
            "_model_module": "@jupyter-widgets/base",
            "_model_module_version": "1.2.0",
            "_model_name": "LayoutModel",
            "_view_count": null,
            "_view_module": "@jupyter-widgets/base",
            "_view_module_version": "1.2.0",
            "_view_name": "LayoutView",
            "align_content": null,
            "align_items": null,
            "align_self": null,
            "border": null,
            "bottom": null,
            "display": null,
            "flex": null,
            "flex_flow": null,
            "grid_area": null,
            "grid_auto_columns": null,
            "grid_auto_flow": null,
            "grid_auto_rows": null,
            "grid_column": null,
            "grid_gap": null,
            "grid_row": null,
            "grid_template_areas": null,
            "grid_template_columns": null,
            "grid_template_rows": null,
            "height": null,
            "justify_content": null,
            "justify_items": null,
            "left": null,
            "margin": null,
            "max_height": null,
            "max_width": null,
            "min_height": null,
            "min_width": null,
            "object_fit": null,
            "object_position": null,
            "order": null,
            "overflow": null,
            "overflow_x": null,
            "overflow_y": null,
            "padding": null,
            "right": null,
            "top": null,
            "visibility": null,
            "width": null
          }
        },
        "53fac8d12c184e4eb846487bace0c3e0": {
          "model_module": "@jupyter-widgets/base",
          "model_name": "LayoutModel",
          "model_module_version": "1.2.0",
          "state": {
            "_model_module": "@jupyter-widgets/base",
            "_model_module_version": "1.2.0",
            "_model_name": "LayoutModel",
            "_view_count": null,
            "_view_module": "@jupyter-widgets/base",
            "_view_module_version": "1.2.0",
            "_view_name": "LayoutView",
            "align_content": null,
            "align_items": null,
            "align_self": null,
            "border": null,
            "bottom": null,
            "display": null,
            "flex": null,
            "flex_flow": null,
            "grid_area": null,
            "grid_auto_columns": null,
            "grid_auto_flow": null,
            "grid_auto_rows": null,
            "grid_column": null,
            "grid_gap": null,
            "grid_row": null,
            "grid_template_areas": null,
            "grid_template_columns": null,
            "grid_template_rows": null,
            "height": null,
            "justify_content": null,
            "justify_items": null,
            "left": null,
            "margin": null,
            "max_height": null,
            "max_width": null,
            "min_height": null,
            "min_width": null,
            "object_fit": null,
            "object_position": null,
            "order": null,
            "overflow": null,
            "overflow_x": null,
            "overflow_y": null,
            "padding": null,
            "right": null,
            "top": null,
            "visibility": null,
            "width": null
          }
        },
        "1f4678fa444c4f208eaf2f933dc5121f": {
          "model_module": "@jupyter-widgets/controls",
          "model_name": "DescriptionStyleModel",
          "model_module_version": "1.5.0",
          "state": {
            "_model_module": "@jupyter-widgets/controls",
            "_model_module_version": "1.5.0",
            "_model_name": "DescriptionStyleModel",
            "_view_count": null,
            "_view_module": "@jupyter-widgets/base",
            "_view_module_version": "1.2.0",
            "_view_name": "StyleView",
            "description_width": ""
          }
        },
        "0e65ce3c542b4eda9b8110c61c469810": {
          "model_module": "@jupyter-widgets/base",
          "model_name": "LayoutModel",
          "model_module_version": "1.2.0",
          "state": {
            "_model_module": "@jupyter-widgets/base",
            "_model_module_version": "1.2.0",
            "_model_name": "LayoutModel",
            "_view_count": null,
            "_view_module": "@jupyter-widgets/base",
            "_view_module_version": "1.2.0",
            "_view_name": "LayoutView",
            "align_content": null,
            "align_items": null,
            "align_self": null,
            "border": null,
            "bottom": null,
            "display": null,
            "flex": null,
            "flex_flow": null,
            "grid_area": null,
            "grid_auto_columns": null,
            "grid_auto_flow": null,
            "grid_auto_rows": null,
            "grid_column": null,
            "grid_gap": null,
            "grid_row": null,
            "grid_template_areas": null,
            "grid_template_columns": null,
            "grid_template_rows": null,
            "height": null,
            "justify_content": null,
            "justify_items": null,
            "left": null,
            "margin": null,
            "max_height": null,
            "max_width": null,
            "min_height": null,
            "min_width": null,
            "object_fit": null,
            "object_position": null,
            "order": null,
            "overflow": null,
            "overflow_x": null,
            "overflow_y": null,
            "padding": null,
            "right": null,
            "top": null,
            "visibility": null,
            "width": null
          }
        },
        "34693cfcfb2e41c5ac6fb4fe60984d93": {
          "model_module": "@jupyter-widgets/controls",
          "model_name": "ProgressStyleModel",
          "model_module_version": "1.5.0",
          "state": {
            "_model_module": "@jupyter-widgets/controls",
            "_model_module_version": "1.5.0",
            "_model_name": "ProgressStyleModel",
            "_view_count": null,
            "_view_module": "@jupyter-widgets/base",
            "_view_module_version": "1.2.0",
            "_view_name": "StyleView",
            "bar_color": null,
            "description_width": ""
          }
        },
        "ae44ddcbdba64378a19bc223eb5dbc7a": {
          "model_module": "@jupyter-widgets/base",
          "model_name": "LayoutModel",
          "model_module_version": "1.2.0",
          "state": {
            "_model_module": "@jupyter-widgets/base",
            "_model_module_version": "1.2.0",
            "_model_name": "LayoutModel",
            "_view_count": null,
            "_view_module": "@jupyter-widgets/base",
            "_view_module_version": "1.2.0",
            "_view_name": "LayoutView",
            "align_content": null,
            "align_items": null,
            "align_self": null,
            "border": null,
            "bottom": null,
            "display": null,
            "flex": null,
            "flex_flow": null,
            "grid_area": null,
            "grid_auto_columns": null,
            "grid_auto_flow": null,
            "grid_auto_rows": null,
            "grid_column": null,
            "grid_gap": null,
            "grid_row": null,
            "grid_template_areas": null,
            "grid_template_columns": null,
            "grid_template_rows": null,
            "height": null,
            "justify_content": null,
            "justify_items": null,
            "left": null,
            "margin": null,
            "max_height": null,
            "max_width": null,
            "min_height": null,
            "min_width": null,
            "object_fit": null,
            "object_position": null,
            "order": null,
            "overflow": null,
            "overflow_x": null,
            "overflow_y": null,
            "padding": null,
            "right": null,
            "top": null,
            "visibility": null,
            "width": null
          }
        },
        "74eeda8ba8ab4251b6a3b9bea4da3a21": {
          "model_module": "@jupyter-widgets/controls",
          "model_name": "DescriptionStyleModel",
          "model_module_version": "1.5.0",
          "state": {
            "_model_module": "@jupyter-widgets/controls",
            "_model_module_version": "1.5.0",
            "_model_name": "DescriptionStyleModel",
            "_view_count": null,
            "_view_module": "@jupyter-widgets/base",
            "_view_module_version": "1.2.0",
            "_view_name": "StyleView",
            "description_width": ""
          }
        }
      }
    }
  },
  "nbformat": 4,
  "nbformat_minor": 5
}