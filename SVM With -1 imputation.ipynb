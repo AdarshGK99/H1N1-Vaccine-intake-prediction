{
 "cells": [
  {
   "cell_type": "code",
   "execution_count": 1,
   "metadata": {
    "id": "ejFmQVXljCWc"
   },
   "outputs": [],
   "source": [
    "import numpy as np\n",
    "import pandas as pd\n",
    "import matplotlib.pyplot as plt\n",
    "import seaborn as sns\n",
    "import plotly.express as px\n",
    "%matplotlib inline\n",
    "\n",
    "from sklearn.preprocessing import LabelEncoder\n",
    "\n",
    "from sklearn.preprocessing import StandardScaler\n",
    "\n",
    "from sklearn.model_selection import train_test_split\n",
    "from sklearn.model_selection import cross_val_score\n",
    "\n",
    "from sklearn.linear_model import LogisticRegression\n",
    "from sklearn.svm import SVC\n",
    "\n",
    "\n",
    "from sklearn.model_selection import GridSearchCV\n",
    "\n",
    "\n",
    "from sklearn.metrics import roc_curve, roc_auc_score, classification_report, accuracy_score, confusion_matrix\n",
    "\n"
   ]
  },
  {
   "cell_type": "code",
   "execution_count": 2,
   "metadata": {
    "id": "1pFc7K-Cl3MG"
   },
   "outputs": [],
   "source": [
    "training = pd.read_csv('training_set_features.csv')  # Training set features"
   ]
  },
  {
   "cell_type": "code",
   "execution_count": 3,
   "metadata": {
    "id": "zbStBOI8l3_E"
   },
   "outputs": [],
   "source": [
    "for i, row in training[training['employment_occupation'].isna()].iterrows():\n",
    "    conditions = (training[\"employment_status\"]==\"Unemployed\")\n",
    "    if conditions.any():\n",
    "        training.loc[i, 'employment_occupation'] = 'unemployed_occupation'"
   ]
  },
  {
   "cell_type": "code",
   "execution_count": 4,
   "metadata": {
    "id": "5CAtVa8Ul4Bt"
   },
   "outputs": [],
   "source": [
    "for i, row in training[training['employment_occupation'].isna()].iterrows():\n",
    "    conditions = (training[\"employment_status\"]==\"Not in Labor Force\")\n",
    "    if conditions.any():\n",
    "        training_data.loc[i, 'employment_occupation'] = 'Not_in_laborforce'"
   ]
  },
  {
   "cell_type": "code",
   "execution_count": 5,
   "metadata": {
    "id": "L3NkXjHyl4Ec"
   },
   "outputs": [],
   "source": [
    "for i, row in training[training['employment_occupation'].isna()].iterrows():\n",
    "    conditions = (training[\"employment_status\"]==\"Employed\")\n",
    "    if conditions.any():\n",
    "        training_data.loc[i, 'employment_occupation'] = 'other_occupation'"
   ]
  },
  {
   "cell_type": "code",
   "execution_count": 6,
   "metadata": {
    "id": "T3ZH-AaRl4G1"
   },
   "outputs": [],
   "source": [
    "for i, row in training[training['employment_industry'].isna()].iterrows():\n",
    "    conditions = (training[\"employment_status\"]==\"Unemployed\")\n",
    "    if conditions.any():\n",
    "        training.loc[i, 'employment_industry'] = 'unemployed_in_industry'"
   ]
  },
  {
   "cell_type": "code",
   "execution_count": 7,
   "metadata": {
    "id": "9CgpVjbTl4Jk"
   },
   "outputs": [],
   "source": [
    "for i, row in training[training['employment_industry'].isna()].iterrows():\n",
    "    conditions = (training[\"employment_status\"]==\"Not in Labor Force\")\n",
    "    if conditions.any():\n",
    "        training.loc[i, 'employment_industry'] = 'Not_in_laborforce'"
   ]
  },
  {
   "cell_type": "code",
   "execution_count": 8,
   "metadata": {
    "id": "IDM-548Ml4PN"
   },
   "outputs": [],
   "source": [
    "for i, row in training[training['employment_industry'].isna()].iterrows():\n",
    "    conditions = (training[\"employment_status\"]==\"Employed\")\n",
    "    if conditions.any():\n",
    "        training.loc[i, 'employment_industry'] = 'other_industry'"
   ]
  },
  {
   "cell_type": "code",
   "execution_count": 9,
   "metadata": {
    "id": "M-uUhL1Cl4TV"
   },
   "outputs": [],
   "source": [
    "income_poverty_nan = 'refused_or_unknown'\n",
    "marital_status_nan = 'refused_or_other_category'\n",
    "employment_status_nan = 'refused_or_other_category'\n",
    "rent_or_own_nan = 'other_or_refused'\n",
    "education_nan = 'refused_or_unknown'\n",
    "\n",
    "\n",
    "training['income_poverty'].fillna(income_poverty_nan, inplace=True)\n",
    "training['marital_status'].fillna(marital_status_nan, inplace=True)\n",
    "training['employment_status'].fillna(employment_status_nan, inplace=True)\n",
    "training['rent_or_own'].fillna(rent_or_own_nan, inplace=True)\n",
    "training['education'].fillna(education_nan, inplace=True)"
   ]
  },
  {
   "cell_type": "code",
   "execution_count": null,
   "metadata": {
    "id": "6IimzmUvpaoA"
   },
   "outputs": [],
   "source": []
  },
  {
   "cell_type": "code",
   "execution_count": 10,
   "metadata": {
    "id": "1EYEn1c7puE-"
   },
   "outputs": [],
   "source": [
    "numeric_columns = training.select_dtypes('number').columns\n",
    "\n",
    "category_columns = ['race', 'sex', 'marital_status', 'rent_or_own',  'hhs_geo_region',\n",
    "       'census_msa', 'employment_industry', 'employment_occupation']\n",
    "\n",
    "ordinal_columns = ['age_group', 'education', 'income_poverty', 'employment_status']"
   ]
  },
  {
   "cell_type": "code",
   "execution_count": 11,
   "metadata": {
    "colab": {
     "base_uri": "https://localhost:8080/"
    },
    "id": "kpZTblasparw",
    "outputId": "e48c05a3-4749-4ddf-f690-812abdbd6592"
   },
   "outputs": [
    {
     "data": {
      "text/plain": [
       "race                     0\n",
       "sex                      0\n",
       "marital_status           0\n",
       "rent_or_own              0\n",
       "hhs_geo_region           0\n",
       "census_msa               0\n",
       "employment_industry      0\n",
       "employment_occupation    0\n",
       "dtype: int64"
      ]
     },
     "execution_count": 11,
     "metadata": {},
     "output_type": "execute_result"
    }
   ],
   "source": [
    "training[category_columns].isna().sum()"
   ]
  },
  {
   "cell_type": "code",
   "execution_count": null,
   "metadata": {
    "id": "3_HOlMqcqW4X"
   },
   "outputs": [],
   "source": []
  },
  {
   "cell_type": "code",
   "execution_count": 12,
   "metadata": {
    "id": "1Y1oxVS4qwc-"
   },
   "outputs": [],
   "source": [
    "le = LabelEncoder()"
   ]
  },
  {
   "cell_type": "code",
   "execution_count": 13,
   "metadata": {
    "id": "mbax_hnbqwfm"
   },
   "outputs": [],
   "source": [
    "for features in ordinal_columns:\n",
    "    training[features] = le.fit_transform(training[features])"
   ]
  },
  {
   "cell_type": "code",
   "execution_count": 14,
   "metadata": {
    "colab": {
     "base_uri": "https://localhost:8080/",
     "height": 206
    },
    "id": "dkZhyZpKqwku",
    "outputId": "3e86ec7d-22da-4a98-b0d5-85864715584d"
   },
   "outputs": [
    {
     "data": {
      "text/html": [
       "<div>\n",
       "<style scoped>\n",
       "    .dataframe tbody tr th:only-of-type {\n",
       "        vertical-align: middle;\n",
       "    }\n",
       "\n",
       "    .dataframe tbody tr th {\n",
       "        vertical-align: top;\n",
       "    }\n",
       "\n",
       "    .dataframe thead th {\n",
       "        text-align: right;\n",
       "    }\n",
       "</style>\n",
       "<table border=\"1\" class=\"dataframe\">\n",
       "  <thead>\n",
       "    <tr style=\"text-align: right;\">\n",
       "      <th></th>\n",
       "      <th>age_group</th>\n",
       "      <th>education</th>\n",
       "      <th>income_poverty</th>\n",
       "      <th>employment_status</th>\n",
       "    </tr>\n",
       "  </thead>\n",
       "  <tbody>\n",
       "    <tr>\n",
       "      <th>0</th>\n",
       "      <td>3</td>\n",
       "      <td>1</td>\n",
       "      <td>2</td>\n",
       "      <td>1</td>\n",
       "    </tr>\n",
       "    <tr>\n",
       "      <th>1</th>\n",
       "      <td>1</td>\n",
       "      <td>0</td>\n",
       "      <td>2</td>\n",
       "      <td>0</td>\n",
       "    </tr>\n",
       "    <tr>\n",
       "      <th>2</th>\n",
       "      <td>0</td>\n",
       "      <td>2</td>\n",
       "      <td>0</td>\n",
       "      <td>0</td>\n",
       "    </tr>\n",
       "    <tr>\n",
       "      <th>3</th>\n",
       "      <td>4</td>\n",
       "      <td>0</td>\n",
       "      <td>2</td>\n",
       "      <td>1</td>\n",
       "    </tr>\n",
       "    <tr>\n",
       "      <th>4</th>\n",
       "      <td>2</td>\n",
       "      <td>3</td>\n",
       "      <td>0</td>\n",
       "      <td>0</td>\n",
       "    </tr>\n",
       "  </tbody>\n",
       "</table>\n",
       "</div>"
      ],
      "text/plain": [
       "   age_group  education  income_poverty  employment_status\n",
       "0          3          1               2                  1\n",
       "1          1          0               2                  0\n",
       "2          0          2               0                  0\n",
       "3          4          0               2                  1\n",
       "4          2          3               0                  0"
      ]
     },
     "execution_count": 14,
     "metadata": {},
     "output_type": "execute_result"
    }
   ],
   "source": [
    "training[ordinal_columns].head()"
   ]
  },
  {
   "cell_type": "code",
   "execution_count": 15,
   "metadata": {
    "id": "q31pNJderU2t"
   },
   "outputs": [],
   "source": [
    "training = pd.get_dummies(training, columns=category_columns, drop_first=True)"
   ]
  },
  {
   "cell_type": "code",
   "execution_count": null,
   "metadata": {
    "id": "cD-PHvhXrVCW"
   },
   "outputs": [],
   "source": []
  },
  {
   "cell_type": "code",
   "execution_count": 16,
   "metadata": {
    "id": "HsnueGoGqW71"
   },
   "outputs": [],
   "source": [
    "training_minus = training.copy()\n"
   ]
  },
  {
   "cell_type": "code",
   "execution_count": 17,
   "metadata": {
    "id": "LqQfdQCLpav2"
   },
   "outputs": [],
   "source": [
    "training_minus.fillna(-1, inplace=True)"
   ]
  },
  {
   "cell_type": "code",
   "execution_count": 18,
   "metadata": {
    "colab": {
     "base_uri": "https://localhost:8080/"
    },
    "id": "b8X4IZuYqV2-",
    "outputId": "e034f064-5405-4c2e-ade5-64926f83946e"
   },
   "outputs": [
    {
     "data": {
      "text/plain": [
       "respondent_id                     0\n",
       "h1n1_concern                      0\n",
       "h1n1_knowledge                    0\n",
       "behavioral_antiviral_meds         0\n",
       "behavioral_avoidance              0\n",
       "                                 ..\n",
       "employment_occupation_vlluhbov    0\n",
       "employment_occupation_xgwztkwe    0\n",
       "employment_occupation_xqwwgdyp    0\n",
       "employment_occupation_xtkaffoo    0\n",
       "employment_occupation_xzmlyyjv    0\n",
       "Length: 91, dtype: int64"
      ]
     },
     "execution_count": 18,
     "metadata": {},
     "output_type": "execute_result"
    }
   ],
   "source": [
    "training_minus.isna().sum(axis=0)"
   ]
  },
  {
   "cell_type": "code",
   "execution_count": null,
   "metadata": {
    "id": "vh7cTpAzpazl"
   },
   "outputs": [],
   "source": []
  },
  {
   "cell_type": "code",
   "execution_count": 19,
   "metadata": {
    "id": "8oFKc2pEtadA"
   },
   "outputs": [],
   "source": [
    "labels = pd.read_csv('training_set_labels.csv')  # Training set features "
   ]
  },
  {
   "cell_type": "code",
   "execution_count": null,
   "metadata": {
    "id": "eFV9rMSNtafW"
   },
   "outputs": [],
   "source": []
  },
  {
   "cell_type": "code",
   "execution_count": 24,
   "metadata": {
    "id": "kK7tGleApa6u"
   },
   "outputs": [],
   "source": [
    "df_minus = pd.merge(training_minus, labels, on='respondent_id')"
   ]
  },
  {
   "cell_type": "code",
   "execution_count": 25,
   "metadata": {
    "id": "nHrBS29FqcSv"
   },
   "outputs": [],
   "source": [
    "df_minus = df_minus.drop(['respondent_id'],axis=1)"
   ]
  },
  {
   "cell_type": "code",
   "execution_count": 26,
   "metadata": {
    "id": "kvrJ2RYeqcVW"
   },
   "outputs": [],
   "source": [
    "X = df_minus.drop(['h1n1_vaccine','seasonal_vaccine'],axis=1)"
   ]
  },
  {
   "cell_type": "code",
   "execution_count": 27,
   "metadata": {
    "id": "rRIGsmlrqcXb"
   },
   "outputs": [],
   "source": [
    "y1 = df_mode[['h1n1_vaccine']]"
   ]
  },
  {
   "cell_type": "code",
   "execution_count": 28,
   "metadata": {
    "id": "gztsScDeqcZm"
   },
   "outputs": [],
   "source": [
    "y2 = df_mode[['seasonal_vaccine']]"
   ]
  },
  {
   "cell_type": "code",
   "execution_count": null,
   "metadata": {
    "id": "CDl_eshKqccO"
   },
   "outputs": [],
   "source": []
  },
  {
   "cell_type": "code",
   "execution_count": 29,
   "metadata": {
    "id": "cuJSGG53qcem"
   },
   "outputs": [],
   "source": [
    "X_train1, X_test1, y_train1, y_test1 = train_test_split(X, y1, test_size=0.2, random_state=101)"
   ]
  },
  {
   "cell_type": "code",
   "execution_count": null,
   "metadata": {
    "id": "977iOeQFqcg8"
   },
   "outputs": [],
   "source": []
  },
  {
   "cell_type": "code",
   "execution_count": 30,
   "metadata": {
    "id": "4WFATEnMqcjG"
   },
   "outputs": [],
   "source": [
    "scaler = StandardScaler()"
   ]
  },
  {
   "cell_type": "code",
   "execution_count": 31,
   "metadata": {
    "id": "35iTlTkgqcle"
   },
   "outputs": [],
   "source": [
    "scaled_X_train1 = scaler.fit_transform(X_train1)\n",
    "\n",
    "scaled_X_test1 = scaler.transform(X_test1)"
   ]
  },
  {
   "cell_type": "code",
   "execution_count": null,
   "metadata": {
    "id": "9DugKgIovEh_"
   },
   "outputs": [],
   "source": []
  },
  {
   "cell_type": "code",
   "execution_count": 32,
   "metadata": {
    "id": "Jff_sYiJvEkm"
   },
   "outputs": [
    {
     "name": "stdout",
     "output_type": "stream",
     "text": [
      "              precision    recall  f1-score   support\n",
      "\n",
      "           0       0.86      0.96      0.91      4199\n",
      "           1       0.74      0.41      0.52      1143\n",
      "\n",
      "    accuracy                           0.84      5342\n",
      "   macro avg       0.80      0.68      0.71      5342\n",
      "weighted avg       0.83      0.84      0.82      5342\n",
      "\n"
     ]
    }
   ],
   "source": [
    "svm_h1n1 = SVC()\n",
    "\n",
    "svm_h1n1.fit(scaled_X_train1, y_train1.values.ravel())\n",
    "\n",
    "\n",
    "svm_pred_h1n1 = svm_h1n1.predict(scaled_X_test1)\n",
    "\n",
    "\n",
    "print(classification_report(y_test1, svm_pred_h1n1))"
   ]
  },
  {
   "cell_type": "code",
   "execution_count": 33,
   "metadata": {
    "colab": {
     "base_uri": "https://localhost:8080/"
    },
    "id": "Cs2cTS8nvEm_",
    "outputId": "69ec9a44-3992-455d-a2b5-62f8db762a5b"
   },
   "outputs": [
    {
     "name": "stdout",
     "output_type": "stream",
     "text": [
      "[[4036  163]\n",
      " [ 680  463]]\n"
     ]
    }
   ],
   "source": [
    "cm_h1n1 = confusion_matrix(y_test1, svm_pred_h1n1)\n",
    "print(cm_h1n1)"
   ]
  },
  {
   "cell_type": "code",
   "execution_count": 34,
   "metadata": {
    "colab": {
     "base_uri": "https://localhost:8080/"
    },
    "id": "1p1S9yh8vEpb",
    "outputId": "2d296244-b162-40d2-d6dd-c9b3f477e40d"
   },
   "outputs": [
    {
     "name": "stdout",
     "output_type": "stream",
     "text": [
      "              precision    recall  f1-score   support\n",
      "\n",
      "           0       0.86      0.96      0.91      4199\n",
      "           1       0.74      0.41      0.52      1143\n",
      "\n",
      "    accuracy                           0.84      5342\n",
      "   macro avg       0.80      0.68      0.71      5342\n",
      "weighted avg       0.83      0.84      0.82      5342\n",
      "\n"
     ]
    }
   ],
   "source": [
    "print(classification_report(y_test1, svm_pred_h1n1))"
   ]
  },
  {
   "cell_type": "code",
   "execution_count": null,
   "metadata": {
    "id": "_SbQk1LcvEy_"
   },
   "outputs": [],
   "source": []
  },
  {
   "cell_type": "code",
   "execution_count": 35,
   "metadata": {
    "colab": {
     "base_uri": "https://localhost:8080/"
    },
    "id": "izntqyOWvE1d",
    "outputId": "fb4a649b-16e6-4548-f9f8-9e1615f9ce57"
   },
   "outputs": [
    {
     "data": {
      "text/plain": [
       "0.8421939348558592"
      ]
     },
     "execution_count": 35,
     "metadata": {},
     "output_type": "execute_result"
    }
   ],
   "source": [
    "from sklearn.metrics import accuracy_score\n",
    "\n",
    "svm_acuuracy_h1n1 = accuracy_score(y_test1, svm_pred_h1n1)\n",
    "\n",
    "svm_acuuracy_h1n1"
   ]
  },
  {
   "cell_type": "code",
   "execution_count": 45,
   "metadata": {
    "colab": {
     "base_uri": "https://localhost:8080/"
    },
    "id": "eBqBGEDdvE6Z",
    "outputId": "c8bb16f3-b4c9-4e78-b586-2d2068bb5515"
   },
   "outputs": [
    {
     "name": "stdout",
     "output_type": "stream",
     "text": [
      "AUC-ROC score for tuned SVM H1n1 vaccine: 0.8412028694079351\n"
     ]
    }
   ],
   "source": [
    "from sklearn.metrics import roc_auc_score\n",
    "\n",
    "svm_decision_h1n1 = svm_h1n1.decision_function(scaled_X_test1)\n",
    "\n",
    "auc_roc_h1n1 = roc_auc_score(y_test1, svm_decision_h1n1)\n",
    "\n",
    "print('AUC-ROC score for tuned SVM H1n1 vaccine:', auc_roc_h1n1)"
   ]
  },
  {
   "cell_type": "code",
   "execution_count": null,
   "metadata": {
    "id": "7WzzuTLTvE8x"
   },
   "outputs": [],
   "source": []
  },
  {
   "cell_type": "code",
   "execution_count": null,
   "metadata": {
    "id": "z-BCv8AxvE_G"
   },
   "outputs": [],
   "source": []
  },
  {
   "cell_type": "code",
   "execution_count": 37,
   "metadata": {
    "id": "iArD0TU1vFBf"
   },
   "outputs": [],
   "source": [
    "X_train2, X_test2, y_train2, y_test2 = train_test_split(X, y2, test_size=0.2, random_state=101)"
   ]
  },
  {
   "cell_type": "code",
   "execution_count": null,
   "metadata": {
    "id": "UxRMB8SGvFEF"
   },
   "outputs": [],
   "source": []
  },
  {
   "cell_type": "code",
   "execution_count": 38,
   "metadata": {
    "id": "GvWZmZ2HvFGe"
   },
   "outputs": [],
   "source": [
    "scaler = StandardScaler()\n",
    "\n",
    "scaled_X_train2 = scaler.fit_transform(X_train2)\n",
    "scaled_X_test2 = scaler.transform(X_test2)"
   ]
  },
  {
   "cell_type": "code",
   "execution_count": null,
   "metadata": {
    "id": "717Etz50vFIu"
   },
   "outputs": [],
   "source": []
  },
  {
   "cell_type": "code",
   "execution_count": 39,
   "metadata": {
    "id": "B5R_10R5vFLe"
   },
   "outputs": [],
   "source": [
    "svm_seasonal = SVC()\n",
    "\n",
    "svm_seasonal.fit(scaled_X_train2, y_train2.values.ravel())\n",
    "\n",
    "\n",
    "svm_pred_seasonal = svm_seasonal.predict(scaled_X_test2)\n",
    "\n"
   ]
  },
  {
   "cell_type": "code",
   "execution_count": null,
   "metadata": {
    "id": "9Pw-UQp9y8D9"
   },
   "outputs": [],
   "source": []
  },
  {
   "cell_type": "code",
   "execution_count": 40,
   "metadata": {
    "colab": {
     "base_uri": "https://localhost:8080/"
    },
    "id": "OgqmOVIIy8J0",
    "outputId": "244da56c-93ea-4ce8-cbb9-fc8d9f069603"
   },
   "outputs": [
    {
     "name": "stdout",
     "output_type": "stream",
     "text": [
      "[[2321  502]\n",
      " [ 749 1770]]\n"
     ]
    }
   ],
   "source": [
    "cm2 = confusion_matrix(y_test2, svm_pred_seasonal)\n",
    "print(cm2)"
   ]
  },
  {
   "cell_type": "code",
   "execution_count": 41,
   "metadata": {
    "colab": {
     "base_uri": "https://localhost:8080/"
    },
    "id": "W7SLiiIGy8My",
    "outputId": "01c9e44a-d4c4-4c62-9171-74148b90c8d0"
   },
   "outputs": [
    {
     "name": "stdout",
     "output_type": "stream",
     "text": [
      "              precision    recall  f1-score   support\n",
      "\n",
      "           0       0.88      0.65      0.75      4199\n",
      "           1       0.35      0.69      0.46      1143\n",
      "\n",
      "    accuracy                           0.66      5342\n",
      "   macro avg       0.62      0.67      0.60      5342\n",
      "weighted avg       0.77      0.66      0.69      5342\n",
      "\n"
     ]
    }
   ],
   "source": [
    "print(classification_report(y_test1, svm_pred_seasonal))"
   ]
  },
  {
   "cell_type": "code",
   "execution_count": null,
   "metadata": {
    "id": "_mTKb6Nky8Py"
   },
   "outputs": [],
   "source": []
  },
  {
   "cell_type": "code",
   "execution_count": 42,
   "metadata": {
    "colab": {
     "base_uri": "https://localhost:8080/"
    },
    "id": "Ca-kJwcoy8Ss",
    "outputId": "8c008f7b-257c-45ab-f4dd-def100f4b2a1"
   },
   "outputs": [
    {
     "data": {
      "text/plain": [
       "0.7658180456757768"
      ]
     },
     "execution_count": 42,
     "metadata": {},
     "output_type": "execute_result"
    }
   ],
   "source": [
    "from sklearn.metrics import accuracy_score\n",
    "\n",
    "svm_acuuracy_seasonal = accuracy_score(y_test2, svm_pred_seasonal)\n",
    "\n",
    "svm_acuuracy_seasonal"
   ]
  },
  {
   "cell_type": "code",
   "execution_count": 44,
   "metadata": {
    "colab": {
     "base_uri": "https://localhost:8080/"
    },
    "id": "dPzSjDnny8Vo",
    "outputId": "83ac61f3-697a-41ff-feef-b4b8c6acec90"
   },
   "outputs": [
    {
     "name": "stdout",
     "output_type": "stream",
     "text": [
      "AUC-ROC score for tuned SVM seasonal vaccine: 0.8442526138928277\n"
     ]
    }
   ],
   "source": [
    "from sklearn.metrics import roc_auc_score\n",
    "\n",
    "svm_decision_seasonal = svm_seasonal.decision_function(scaled_X_test2)\n",
    "\n",
    "auc_roc_seasonal = roc_auc_score(y_test2, svm_decision_seasonal)\n",
    "\n",
    "print('AUC-ROC score for tuned SVM seasonal vaccine:', auc_roc_seasonal)"
   ]
  },
  {
   "cell_type": "code",
   "execution_count": null,
   "metadata": {
    "id": "x7YmToKBy8Yw"
   },
   "outputs": [],
   "source": []
  },
  {
   "cell_type": "code",
   "execution_count": 46,
   "metadata": {
    "colab": {
     "base_uri": "https://localhost:8080/",
     "height": 380
    },
    "id": "zB8rgGksvFNz",
    "outputId": "0f45b0e8-e7f0-43e3-c808-ebfa7e002556"
   },
   "outputs": [],
   "source": [
    "import joblib\n"
   ]
  },
  {
   "cell_type": "code",
   "execution_count": null,
   "metadata": {
    "id": "-loJsIgIz9Wd"
   },
   "outputs": [],
   "source": []
  },
  {
   "cell_type": "code",
   "execution_count": null,
   "metadata": {
    "id": "3XStgDclz9bq"
   },
   "outputs": [],
   "source": [
    "joblib.dump(svm_h1n1, 'svm_h1n1_minus.pkl')\n",
    "joblib.dump(svm_seasonal, 'svm_seasonal_minus.pkl')\n"
   ]
  },
  {
   "cell_type": "code",
   "execution_count": null,
   "metadata": {
    "id": "beCMjNCEz9g4"
   },
   "outputs": [],
   "source": []
  },
  {
   "cell_type": "code",
   "execution_count": null,
   "metadata": {
    "id": "wA6EdZYFz9qj"
   },
   "outputs": [],
   "source": []
  },
  {
   "cell_type": "code",
   "execution_count": null,
   "metadata": {
    "id": "Q6OZ-kylz9vw"
   },
   "outputs": [],
   "source": []
  },
  {
   "cell_type": "code",
   "execution_count": null,
   "metadata": {
    "id": "bz-rceYLz91D"
   },
   "outputs": [],
   "source": []
  },
  {
   "cell_type": "code",
   "execution_count": null,
   "metadata": {
    "id": "k4JHQoq-z96U"
   },
   "outputs": [],
   "source": []
  },
  {
   "cell_type": "code",
   "execution_count": null,
   "metadata": {
    "id": "tam2hG7Hz9_o"
   },
   "outputs": [],
   "source": []
  },
  {
   "cell_type": "code",
   "execution_count": null,
   "metadata": {
    "id": "ilGKYDnkz-FG"
   },
   "outputs": [],
   "source": []
  },
  {
   "cell_type": "code",
   "execution_count": null,
   "metadata": {
    "id": "eCRP1p_qz-Kf"
   },
   "outputs": [],
   "source": []
  },
  {
   "cell_type": "code",
   "execution_count": null,
   "metadata": {
    "id": "JHEwdyL1z-QA"
   },
   "outputs": [],
   "source": []
  },
  {
   "cell_type": "code",
   "execution_count": null,
   "metadata": {
    "id": "Zwc9wXMvz-Vf"
   },
   "outputs": [],
   "source": []
  },
  {
   "cell_type": "code",
   "execution_count": null,
   "metadata": {
    "id": "zRbV3_JKz-bs"
   },
   "outputs": [],
   "source": []
  }
 ],
 "metadata": {
  "accelerator": "GPU",
  "colab": {
   "gpuType": "T4",
   "provenance": []
  },
  "gpuClass": "standard",
  "kernelspec": {
   "display_name": "Python 3 (ipykernel)",
   "language": "python",
   "name": "python3"
  },
  "language_info": {
   "codemirror_mode": {
    "name": "ipython",
    "version": 3
   },
   "file_extension": ".py",
   "mimetype": "text/x-python",
   "name": "python",
   "nbconvert_exporter": "python",
   "pygments_lexer": "ipython3",
   "version": "3.10.9"
  }
 },
 "nbformat": 4,
 "nbformat_minor": 1
}
